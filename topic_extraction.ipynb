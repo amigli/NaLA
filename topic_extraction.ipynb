{
 "cells": [
  {
   "cell_type": "code",
   "execution_count": null,
   "id": "8kn4_QdZDoXV",
   "metadata": {
    "colab": {
     "base_uri": "https://localhost:8080/"
    },
    "executionInfo": {
     "elapsed": 12005,
     "status": "ok",
     "timestamp": 1748961597707,
     "user": {
      "displayName": "LUIGINA COSTANTE",
      "userId": "06957901702143706173"
     },
     "user_tz": -120
    },
    "id": "8kn4_QdZDoXV",
    "outputId": "ce910bbb-aead-4c4d-e8f6-786161e7f955"
   },
   "outputs": [],
   "source": [
    "from google.colab import drive\n",
    "drive.mount(\"/content/drive/\", force_remount=True)"
   ]
  },
  {
   "cell_type": "code",
   "execution_count": null,
   "id": "_luT67eUDw2W",
   "metadata": {
    "collapsed": true,
    "id": "_luT67eUDw2W",
    "jupyter": {
     "outputs_hidden": true
    }
   },
   "outputs": [],
   "source": [
    "!pip install bertopic==0.17.0\n",
    "!pip install transformers==4.52.4\n",
    "!pip install sentence-transformers==4.1.0\n",
    "!pip install wordcloud==1.9.4"
   ]
  },
  {
   "cell_type": "code",
   "execution_count": 1,
   "id": "initial_id",
   "metadata": {
    "ExecuteTime": {
     "end_time": "2025-06-03T20:24:44.012235Z",
     "start_time": "2025-06-03T20:24:43.594255Z"
    },
    "executionInfo": {
     "elapsed": 41,
     "status": "ok",
     "timestamp": 1748966723020,
     "user": {
      "displayName": "LUIGINA COSTANTE",
      "userId": "06957901702143706173"
     },
     "user_tz": -120
    },
    "id": "initial_id"
   },
   "outputs": [],
   "source": [
    "import numpy as np\n",
    "import matplotlib.pyplot as plt\n",
    "import pandas as pd\n",
    "\n",
    "from tqdm.auto import tqdm\n",
    "\n",
    "\n",
    "SEED = 42\n",
    "tqdm.pandas()"
   ]
  },
  {
   "cell_type": "code",
   "execution_count": 2,
   "id": "da51b1400c87a6ee",
   "metadata": {
    "ExecuteTime": {
     "end_time": "2025-06-03T20:06:59.993863Z",
     "start_time": "2025-06-03T20:06:58.369194Z"
    },
    "colab": {
     "base_uri": "https://localhost:8080/",
     "height": 206
    },
    "executionInfo": {
     "elapsed": 89908,
     "status": "ok",
     "timestamp": 1748961725090,
     "user": {
      "displayName": "LUIGINA COSTANTE",
      "userId": "06957901702143706173"
     },
     "user_tz": -120
    },
    "id": "da51b1400c87a6ee",
    "outputId": "ffea596e-1518-46d9-bf4b-b38c95453b18"
   },
   "outputs": [
    {
     "data": {
      "text/html": [
       "<div>\n",
       "<style scoped>\n",
       "    .dataframe tbody tr th:only-of-type {\n",
       "        vertical-align: middle;\n",
       "    }\n",
       "\n",
       "    .dataframe tbody tr th {\n",
       "        vertical-align: top;\n",
       "    }\n",
       "\n",
       "    .dataframe thead th {\n",
       "        text-align: right;\n",
       "    }\n",
       "</style>\n",
       "<table border=\"1\" class=\"dataframe\">\n",
       "  <thead>\n",
       "    <tr style=\"text-align: right;\">\n",
       "      <th></th>\n",
       "      <th>text</th>\n",
       "      <th>sentiment</th>\n",
       "    </tr>\n",
       "  </thead>\n",
       "  <tbody>\n",
       "    <tr>\n",
       "      <th>0</th>\n",
       "      <td>I posted this 100 years ago!</td>\n",
       "      <td>Very Positive</td>\n",
       "    </tr>\n",
       "    <tr>\n",
       "      <th>1</th>\n",
       "      <td>Nope</td>\n",
       "      <td>Very Negative</td>\n",
       "    </tr>\n",
       "    <tr>\n",
       "      <th>2</th>\n",
       "      <td>lmfao I can't believe this works</td>\n",
       "      <td>Very Negative</td>\n",
       "    </tr>\n",
       "    <tr>\n",
       "      <th>3</th>\n",
       "      <td>I had to beat an old lady with a stick to get ...</td>\n",
       "      <td>Very Negative</td>\n",
       "    </tr>\n",
       "    <tr>\n",
       "      <th>4</th>\n",
       "      <td>I had to beat an old lady with a stick to get ...</td>\n",
       "      <td>Very Negative</td>\n",
       "    </tr>\n",
       "  </tbody>\n",
       "</table>\n",
       "</div>"
      ],
      "text/plain": [
       "                                                text      sentiment\n",
       "0                       I posted this 100 years ago!  Very Positive\n",
       "1                                               Nope  Very Negative\n",
       "2                   lmfao I can't believe this works  Very Negative\n",
       "3  I had to beat an old lady with a stick to get ...  Very Negative\n",
       "4  I had to beat an old lady with a stick to get ...  Very Negative"
      ]
     },
     "execution_count": 2,
     "metadata": {},
     "output_type": "execute_result"
    }
   ],
   "source": [
    "dfs = []\n",
    "data_path = \"data/fullDataset.csv\"\n",
    "\n",
    "df = pd.read_csv(data_path)\n",
    "df.head()"
   ]
  },
  {
   "cell_type": "markdown",
   "id": "4ebc1115beb1e116",
   "metadata": {
    "id": "4ebc1115beb1e116"
   },
   "source": [
    "# Statistics"
   ]
  },
  {
   "cell_type": "code",
   "execution_count": 20,
   "id": "33069484ed03e6ac",
   "metadata": {
    "id": "33069484ed03e6ac"
   },
   "outputs": [],
   "source": [
    "from typing import List\n",
    "\n",
    "from scipy import stats\n",
    "from wordcloud import WordCloud\n",
    "\n",
    "\n",
    "def posts_length_statistics(posts: List[str]):\n",
    "    posts_len = [len(post) for post in posts]\n",
    "\n",
    "    median = np.median(posts_len)\n",
    "    mean = np.mean(posts_len)\n",
    "    std = np.std(posts_len)\n",
    "    max_pdf_value = stats.norm.pdf(mean, median, std) # peak of normal curve\n",
    "\n",
    "    plt.figure(figsize=(12, 7))\n",
    "    plt.hist(posts_len, bins=30, density=True, alpha=0.6, color='b', edgecolor='black', label='Real distribution')\n",
    "\n",
    "    # plot normal distribution curve\n",
    "    x = np.linspace(min(posts_len), max(posts_len), 1000)\n",
    "    pdf = stats.norm.pdf(x, mean, std)\n",
    "    plt.plot(x, pdf, 'r', linewidth=2, label='Normal distribution')\n",
    "\n",
    "    # highlight Gaussian curve peak\n",
    "    plt.scatter(mean, max_pdf_value, color='red', zorder=5, s=80,\n",
    "                label=f'Gaussian Peak: {max_pdf_value:.2f}')\n",
    "\n",
    "    # add vertical lines for statistics\n",
    "    plt.axvline(float(mean), color='green', linestyle='--', linewidth=1.5, alpha=0.7, label=f'Mean: {mean:.1f}')\n",
    "    plt.axvline(float(median), color='purple', linestyle='-.', linewidth=1.5, alpha=0.7, label=f'Median: {median:.1f}')\n",
    "\n",
    "    # add standard deviation boundaries\n",
    "    plt.axvline(mean + std, color='orange', linestyle=':', linewidth=1.5, alpha=0.7, label=f'+1σ: {mean + std:.1f}')\n",
    "    plt.axvline(mean - std, color='orange', linestyle=':', linewidth=1.5, alpha=0.7, label=f'-1σ: {mean - std:.1f}')\n",
    "\n",
    "    plt.xlabel('Sentence lengths')\n",
    "    plt.ylabel('Density')\n",
    "    plt.legend(loc='upper right', bbox_to_anchor=(1.3, 1))\n",
    "    plt.grid(True, alpha=0.3)\n",
    "    plt.show()\n",
    "\n",
    "def create_wordcloud(model, topic):\n",
    "    text = {word: value for word, value in model.get_topic(topic)}\n",
    "    wc = WordCloud(background_color=\"white\", max_words=1000)\n",
    "    wc.generate_from_frequencies(text)\n",
    "    plt.imshow(wc, interpolation=\"bilinear\")\n",
    "    plt.axis(\"off\")\n",
    "    plt.show()"
   ]
  },
  {
   "cell_type": "code",
   "execution_count": null,
   "id": "925c2921b4051630",
   "metadata": {
    "id": "925c2921b4051630",
    "outputId": "1e7023ed-c2ba-4b66-bd1a-9184001c4601"
   },
   "outputs": [],
   "source": [
    "posts_length_statistics(df.text)"
   ]
  },
  {
   "cell_type": "markdown",
   "id": "4ec8acadb48555d8",
   "metadata": {
    "id": "4ec8acadb48555d8"
   },
   "source": [
    "# Topic-Extraction"
   ]
  },
  {
   "cell_type": "code",
   "execution_count": null,
   "id": "cf0eef7be0fb1a00",
   "metadata": {
    "ExecuteTime": {
     "end_time": "2025-06-03T20:20:26.630777Z",
     "start_time": "2025-06-03T20:07:11.290804Z"
    },
    "colab": {
     "base_uri": "https://localhost:8080/",
     "height": 585,
     "referenced_widgets": [
      "41e4aa5caec446ce95b97145f5a66444",
      "a1bf0be6d623411983448fc773917e88",
      "042028962f0f424c929db2a84c8938e2",
      "d78f7f962bea47c2baa2afd97e526c09",
      "0fe671d8e2d5463e8537012ade1387dc",
      "e6aa66c25d8940669acb993bced776e9",
      "3255ecbd2dea45cabf6b03641b70023c",
      "940d307d61a941859d12979f67b7f24f",
      "c7e7f689cebf47a1bc7c688a3f26ab0f",
      "35e5afc723664f8f9581f7cb6d14ed23",
      "92fb2689ac2945c6b4aeb94994fac88b",
      "02aaa56beb9b4d41a4ca16f67bfbd266",
      "799b69a3b08a4191a3dab1f9e7201abe",
      "207567e2071e46b4950c2fb0cb1bab97",
      "5882a0c1affa45a48056a184544b8fca",
      "eb643642ff2f491791ef0be9c2b174d4",
      "f4d922da996b4a9aa2c24631f62d948c",
      "db0632b86e754cccb43e354545c13fc0",
      "16226df8f6c44159a6bd65e138781851",
      "eb9cc98bb2ff48f7accbd6277faea5ef",
      "db1f89c364b1402699dc89da54c036f5",
      "9badcc1ff0e9433aa6cecd5d0213bf85",
      "adcef86e25994816a807286b41c11240",
      "37a3517f864b40b58bb869ac707a7e25",
      "ad6af99c983940de8fa8dee2bf95bc92",
      "8c79f04fc57d472bb3dd4f637058ac8c",
      "3d4aafac7c534c1799fea1d83d5a7ad8",
      "ccbb2bbce81b401d8c1c06f8c9404530",
      "a954860ec2ec4846a97854040fbe3159",
      "d9113c117d2245e4aa7adb5a5afc837b",
      "73eade6fd2064faaab0d4a0cbb8b111e",
      "08f80ffca6044b24950d614168572672",
      "643dd452e2914b01b87e3e666f1f0cf4",
      "ffd768932fdf4dee97e02327cfa911bd",
      "6855dcc2eee44d8bb50a7c8a9e3d4252",
      "9de87f1869a84f63833aba505e5e2c01",
      "9639a8c5023c4ef4a62a39e5e698935c",
      "1066a895370f447d830dbc9203e0be1e",
      "f0e2c085226942ee8bbd0c7d9a08bd14",
      "ae2c722a955f4e5d86fbd0f70aea8ef4",
      "bee33be20ca641a480b5401b159762ec",
      "b689316d8652414fa16f3fe1655e6179",
      "69bbad9ef12b4e3188b433af01f6abfd",
      "ae7d3c2212a9497a8bed1b872d83ade6",
      "644388d0d8f2415fbc98c7621414d013",
      "e6867a81588541e598c13d2b4dd6dcb1",
      "38b1afbc63d8452c933da3f297cbd6d7",
      "cf1738a7bc9049ad907e470ee0e07999",
      "b73510d4f73241f983521f535f22f8b0",
      "9ce2b5af2e01464fb468e83bfc6a9e19",
      "8fb54cbdd12e4c459e8353aeecad3b93",
      "00425d31499b4c99aac41e49f63285b5",
      "d6514b9cc367485ca9974d37c797ee2a",
      "8e883c4a57d04cffa226539c92c175a2",
      "eb251e23fbff400a8795a9e07a250c85",
      "8c227f4acdf4401e8c6e77f95c19e08b",
      "c0fccc8bfbf44b529dc5765017644817",
      "5be248b31da6423fb7247873204a0635",
      "8418648b2e134533ac35d5d9d400ebcb",
      "43ecfeda1e4c40f09ae00c370211a4d1",
      "54f034453f314c51825c5a07ea0010a3",
      "cec286b9e85d491bbf3cae9e586977b3",
      "8cd3d08282994f8692e27c8cd6949bed",
      "70588e66b32842969a3020c0bf37a16c",
      "ddca5583f67b48cbbb909986a5104fa9",
      "aaa2c942a5cb4c8a886397b4bc6bd14b",
      "e13508f0e1514ff581496378a8dfba36",
      "dee9d9dfc7fa4dff8da3613b4b32dcf3",
      "341050932b86472d9a810acea01e2539",
      "5bdb70f1b32b479ab7469e8a72b064c0",
      "79a44623919443d3b15cdba113faf8c9",
      "b48d3ac11d3643068bbc69d3a8bc2a96",
      "e337129ebff24d65a029aae7a24a790c",
      "af2e6147d5334c7cb086a738044ab553",
      "32a1ec700c0d4205af780c79787d50fd",
      "260f7c37d8424824aa0d509e53dacb27",
      "6d07070d4fad43d7b0e579f62a1cc376",
      "b807d83b20c54d9596944e43891e8ab4",
      "769be25e39d349b1a521a4ba72329cd3",
      "33155295f4fc4b7aa8bd038898631aa9",
      "7127b66edfa34b25a90a8f717be3deb3",
      "df7d88153e0d4f96be6f65948c400ae1",
      "15286ea0f7924899b5f0386a663d2ca9",
      "89b788e43e55483e933631d1888c247b",
      "033a9bec0e67462382ac668768b298c8",
      "97201d69ff2b4f8b837ef08c517dea20",
      "72afaa0b821b4c61ba9bbff30c904103",
      "e140b9e50faa4bb1b5e0b7d77087742d",
      "8b0ff81fa032424b8a88b3002023130b",
      "3b00bd32562944a5815beba0d725823f",
      "e75b08ff26af4382805f6ee54d4b5ff7",
      "e67dc223ad5c40ea87e4eeed494cab78",
      "cd75c8057e0146bb99cfb8dcbe52b72c",
      "b27a2d137c20434f882d77d734bcbc36",
      "9b018b264678442e866bbada731bea00",
      "c068f814c5ec4d9786fceedd9907ff19",
      "9d0ff0bc0f7148f8a0dc16d2200bda09",
      "98e675173bf14a99af7f11d822078536",
      "2e6ead301a364c31b231308620305606",
      "ec22fd2806a64b25a759543298f29ad1",
      "f95e36f021d4484d960eb0fff411d1c0",
      "79be981b86954971b2e000887e3f0587",
      "1f3b7630a48d401e83e6f53fa7051ac6",
      "055fc1aab8d34d7783a382cd4a43c8dc",
      "920e32458bc3414c875b0a7ff8dac238",
      "e0df4b5dee25490b9d2e9299737e0611",
      "d91b44cdad2d48a794585d67abab3d29",
      "70513135a5c940e58c8c4750c681d359",
      "26923420776f414497df3f6b785af786",
      "bb66b4dfbe064abba6e2bd08570c91be",
      "f90189a0e293484999a5980837740e95",
      "a9c3ef8a456f49abbbab2ceeb175f452",
      "553d5be3efc3424895b9adfbc7caf9a7",
      "a8779b42dcab4897acd23b4961f6b366",
      "7d0de3c61db44099bcce9945b2a50577",
      "15595dac7d5f40708220320cee54fcb0",
      "87836c7f06364ee9acf320b2cc6e26e9",
      "df8c69351f774a7c8e5487240cc2cdca",
      "31b912eafda34e65b1ad719138331b54",
      "8a9cc498c13d4991aa60c58e9f0fbd44",
      "80e517eee3a242d090cf6e9f3c669995"
     ]
    },
    "executionInfo": {
     "elapsed": 1625251,
     "status": "ok",
     "timestamp": 1748963826641,
     "user": {
      "displayName": "LUIGINA COSTANTE",
      "userId": "06957901702143706173"
     },
     "user_tz": -120
    },
    "id": "cf0eef7be0fb1a00",
    "outputId": "bb02d0b1-3484-4cd9-fa23-d3bf0974a9e3"
   },
   "outputs": [],
   "source": [
    "import json\n",
    "\n",
    "from bertopic import BERTopic\n",
    "from bertopic.representation import MaximalMarginalRelevance, KeyBERTInspired\n",
    "from sklearn.feature_extraction.text import CountVectorizer\n",
    "from sentence_transformers import SentenceTransformer\n",
    "from hdbscan import HDBSCAN\n",
    "from cuml.manifold import UMAP\n",
    "\n",
    "with open (\"general_topics.json\") as f:\n",
    "  general_topics = json.load(f)\n",
    "\n",
    "# Maximize keywords diversity with respect to the document, i.e. # it selects\n",
    "# more unique keywords per post\n",
    "mmr = MaximalMarginalRelevance(diversity=0.3)\n",
    "keybert = KeyBERTInspired()\n",
    "representation_model = [keybert, mmr]\n",
    "umap = UMAP(n_neighbors=15, n_components=5, min_dist=0.0, metric=\"cosine\", random_state=SEED)\n",
    "# update min_cluster_size to increase the number of topics (it is not the maximum number of topics)\n",
    "# hdbscan_model = HDBSCAN(min_cluster_size=150, metric='euclidean', cluster_selection_method='eom', prediction_data=True)\n",
    "# remove stopwords AFTER topic extraction, ignore infrequent words (add min_df)\n",
    "# and consider only topic made up of >= 1 words\n",
    "vectorizer = CountVectorizer(stop_words=\"english\", ngram_range=(1, 2))\n",
    "# embedding_model = SentenceTransformer(\"all-mpnet-base-v2\")\n",
    "# embeddings = embedding_model.encode(df.text, show_progress=True)\n",
    "\n",
    "topic_model = BERTopic(top_n_words=30,\n",
    "                       embedding_model=\"thenlper/gte-small\",\n",
    "                       min_topic_size=15,\n",
    "                       zeroshot_topic_list=list(general_topics.keys()),\n",
    "                       zeroshot_min_similarity=0.7,\n",
    "                       representation_model=mmr,\n",
    "                       umap_model=umap,\n",
    "                       vectorizer_model=vectorizer,\n",
    "                       verbose=True)\n",
    "\n",
    "topics, probs = topic_model.fit_transform(df.text) # embeddings=embeddings)\n",
    "topics"
   ]
  },
  {
   "cell_type": "code",
   "execution_count": 10,
   "id": "bcf816c79058ede7",
   "metadata": {
    "colab": {
     "base_uri": "https://localhost:8080/",
     "height": 488
    },
    "executionInfo": {
     "elapsed": 45,
     "status": "ok",
     "timestamp": 1748963838249,
     "user": {
      "displayName": "LUIGINA COSTANTE",
      "userId": "06957901702143706173"
     },
     "user_tz": -120
    },
    "id": "bcf816c79058ede7",
    "outputId": "ecc4145c-5e30-4cb2-ce08-24a0da55892d"
   },
   "outputs": [],
   "source": [
    "topic_model.get_topic_info()"
   ]
  },
  {
   "cell_type": "code",
   "execution_count": null,
   "id": "916055c1a9c753b4",
   "metadata": {},
   "outputs": [],
   "source": [
    "topic_model.topic_labels_"
   ]
  },
  {
   "cell_type": "code",
   "execution_count": 13,
   "id": "60f8aa49d06f5f4c",
   "metadata": {},
   "outputs": [
    {
     "name": "stdout",
     "output_type": "stream",
     "text": [
      "40\n"
     ]
    },
    {
     "data": {
      "text/plain": [
       "True"
      ]
     },
     "execution_count": 13,
     "metadata": {},
     "output_type": "execute_result"
    }
   ],
   "source": [
    "general_topics_lower = {\n",
    "    topic: set(k.lower() for k in keywords)\n",
    "    for topic, keywords in general_topics.items()\n",
    "}\n",
    "\n",
    "topic_df = topic_model.get_topic_info()\n",
    "mapped_topics = {}\n",
    "\n",
    "# Map clustered topics to general topics based on the keyword matches\n",
    "for _, row in topic_df.iterrows():\n",
    "    topic_id = row[\"Topic\"]\n",
    "    topic_name = row[\"Name\"]\n",
    "\n",
    "    # Skip outliers and general topics\n",
    "    if topic_id == -1 or not topic_name[0].isdigit():\n",
    "        continue\n",
    "\n",
    "    # Extract topic keywords\n",
    "    topic_keywords = []\n",
    "    for keyword in row[\"Representation\"]:\n",
    "        words = keyword.replace(\"_\", \" \").split(\" \")\n",
    "        topic_keywords.extend(words)\n",
    "\n",
    "    # Match keywords to general topics\n",
    "    match_counts = {}\n",
    "    for general_topic, general_keywords in general_topics_lower.items():\n",
    "        curr_matches = sum(1 for kw in topic_keywords if kw in general_keywords)\n",
    "        if curr_matches > 0:\n",
    "            match_counts[general_topic] = curr_matches\n",
    "\n",
    "    # Assign to the best matching general topic\n",
    "    best_match = max(match_counts, key=match_counts.get) if match_counts else \"Outliers\"\n",
    "    mapped_topics[topic_id] = best_match\n",
    "    \n",
    "# Map general topic names to unique IDs\n",
    "general_topics_ids = {}\n",
    "max_id = 0\n",
    "\n",
    "for _, row in topic_df.iterrows():\n",
    "    topic_id = row[\"Topic\"]\n",
    "    topic_name = row[\"Name\"]\n",
    "\n",
    "    if topic_id == -1 or topic_name[0].isdigit():\n",
    "        continue\n",
    "\n",
    "    general_topics_ids[topic_name] = topic_id\n",
    "    max_id = max(max_id, topic_id)\n",
    "\n",
    "# Assign new IDs to unmapped general topics\n",
    "for clustered_topic, general_topic in mapped_topics.items():\n",
    "    if \"-1\" not in general_topic and general_topic not in general_topics_ids:\n",
    "        if general_topic == \"Outliers\":\n",
    "            general_topics_ids[general_topic] = -1\n",
    "        else:\n",
    "            general_topics_ids[general_topic] = max_id\n",
    "            max_id += 1\n",
    "            \n",
    "# Map clustered topics to final general topic IDs\n",
    "for clustered_topic_id, general_topic in mapped_topics.items():\n",
    "    mapped_topics[clustered_topic_id] = general_topics_ids[general_topic]\n",
    "\n",
    "updated_topics_labels = [k for k in sorted(general_topics_ids.keys(), key=general_topics_ids.get)]\n",
    "updated_topics = [\n",
    "    mapped_topics.get(topic_id, topic_id)\n",
    "    for topic_id in topics\n",
    "]\n",
    "\n",
    "print(len(updated_topics_labels))\n",
    "len(updated_topics_labels) == len(set(updated_topics))"
   ]
  },
  {
   "cell_type": "code",
   "execution_count": 14,
   "id": "zr1GqSgnfNeU",
   "metadata": {
    "executionInfo": {
     "elapsed": 3,
     "status": "ok",
     "timestamp": 1748967239063,
     "user": {
      "displayName": "LUIGINA COSTANTE",
      "userId": "06957901702143706173"
     },
     "user_tz": -120
    },
    "id": "zr1GqSgnfNeU"
   },
   "outputs": [
    {
     "name": "stderr",
     "output_type": "stream",
     "text": [
      "2025-06-03 22:43:45,108 - BERTopic - WARNING: Using a custom list of topic assignments may lead to errors if topic reduction techniques are used afterwards. Make sure that manually assigning topics is the last step in the pipeline.Note that topic embeddings will also be created through weightedc-TF-IDF embeddings instead of centroid embeddings.\n"
     ]
    },
    {
     "data": {
      "text/html": [
       "<div>\n",
       "<style scoped>\n",
       "    .dataframe tbody tr th:only-of-type {\n",
       "        vertical-align: middle;\n",
       "    }\n",
       "\n",
       "    .dataframe tbody tr th {\n",
       "        vertical-align: top;\n",
       "    }\n",
       "\n",
       "    .dataframe thead th {\n",
       "        text-align: right;\n",
       "    }\n",
       "</style>\n",
       "<table border=\"1\" class=\"dataframe\">\n",
       "  <thead>\n",
       "    <tr style=\"text-align: right;\">\n",
       "      <th></th>\n",
       "      <th>Topic</th>\n",
       "      <th>Count</th>\n",
       "      <th>Name</th>\n",
       "      <th>CustomName</th>\n",
       "      <th>Representation</th>\n",
       "      <th>Representative_Docs</th>\n",
       "    </tr>\n",
       "  </thead>\n",
       "  <tbody>\n",
       "    <tr>\n",
       "      <th>0</th>\n",
       "      <td>-1</td>\n",
       "      <td>105232</td>\n",
       "      <td>-1_the_of_to_and</td>\n",
       "      <td>Outliers</td>\n",
       "      <td>[the, of, to, and, he, is, in, that, you, for]</td>\n",
       "      <td>NaN</td>\n",
       "    </tr>\n",
       "    <tr>\n",
       "      <th>1</th>\n",
       "      <td>0</td>\n",
       "      <td>224046</td>\n",
       "      <td>0_social_bsky_you_to</td>\n",
       "      <td>Social Media</td>\n",
       "      <td>[social, bsky, you, to, it, the, and, of, my, me]</td>\n",
       "      <td>[@paradisefound67.bsky.social \\n\\nbsky.app/pro...</td>\n",
       "    </tr>\n",
       "    <tr>\n",
       "      <th>2</th>\n",
       "      <td>1</td>\n",
       "      <td>138541</td>\n",
       "      <td>1_the_to_of_and</td>\n",
       "      <td>Politics</td>\n",
       "      <td>[the, to, of, and, is, in, trump, that, for, he]</td>\n",
       "      <td>[the difference between trump voters in conser...</td>\n",
       "    </tr>\n",
       "    <tr>\n",
       "      <th>3</th>\n",
       "      <td>2</td>\n",
       "      <td>82030</td>\n",
       "      <td>2_game_the_games_to</td>\n",
       "      <td>Gaming</td>\n",
       "      <td>[game, the, games, to, it, and, play, of, in, ...</td>\n",
       "      <td>[If you gate-keep something just because you k...</td>\n",
       "    </tr>\n",
       "    <tr>\n",
       "      <th>4</th>\n",
       "      <td>3</td>\n",
       "      <td>68719</td>\n",
       "      <td>3_thanksgiving_happy_turkey_food</td>\n",
       "      <td>General Activities</td>\n",
       "      <td>[thanksgiving, happy, turkey, food, and, the, ...</td>\n",
       "      <td>[happy thanksgiving ^_^, Analysis and reportin...</td>\n",
       "    </tr>\n",
       "    <tr>\n",
       "      <th>5</th>\n",
       "      <td>4</td>\n",
       "      <td>53523</td>\n",
       "      <td>4_music_song_the_album</td>\n",
       "      <td>Music</td>\n",
       "      <td>[music, song, the, album, spotify, of, com, to...</td>\n",
       "      <td>[Happy Thanksgiving! 🫶🏾❤️, Happy thanksgiving ...</td>\n",
       "    </tr>\n",
       "    <tr>\n",
       "      <th>6</th>\n",
       "      <td>5</td>\n",
       "      <td>48296</td>\n",
       "      <td>5_to_the_in_and</td>\n",
       "      <td>Traveling</td>\n",
       "      <td>[to, the, in, and, it, you, my, on, of, for]</td>\n",
       "      <td>[Just saw him at the Macy's Thanksgiving Day P...</td>\n",
       "    </tr>\n",
       "    <tr>\n",
       "      <th>7</th>\n",
       "      <td>6</td>\n",
       "      <td>45161</td>\n",
       "      <td>6_thank_you_so_love</td>\n",
       "      <td>Fashion &amp; Style</td>\n",
       "      <td>[thank, you, so, love, cute, look, and, my, th...</td>\n",
       "      <td>[open.spotify.com/track/5FoffJ..., WA X RW X.....</td>\n",
       "    </tr>\n",
       "    <tr>\n",
       "      <th>8</th>\n",
       "      <td>7</td>\n",
       "      <td>54261</td>\n",
       "      <td>7_it_the_to_com</td>\n",
       "      <td>Gadgets &amp; Devices</td>\n",
       "      <td>[it, the, to, com, for, on, is, that, and, of]</td>\n",
       "      <td>[Happy Thanksgiving to everyone who celebrates...</td>\n",
       "    </tr>\n",
       "    <tr>\n",
       "      <th>9</th>\n",
       "      <td>8</td>\n",
       "      <td>41244</td>\n",
       "      <td>8_to_the_for_and</td>\n",
       "      <td>Programming</td>\n",
       "      <td>[to, the, for, and, it, in, you, this, is, on]</td>\n",
       "      <td>[Why thank you 💙💜, Thank you very much ❤️❤️❤️,...</td>\n",
       "    </tr>\n",
       "    <tr>\n",
       "      <th>10</th>\n",
       "      <td>9</td>\n",
       "      <td>65085</td>\n",
       "      <td>9_family_and_to_my</td>\n",
       "      <td>Relationships</td>\n",
       "      <td>[family, and, to, my, you, the, love, with, th...</td>\n",
       "      <td>[The latest TooManySecrets HQ News! https://pa...</td>\n",
       "    </tr>\n",
       "    <tr>\n",
       "      <th>11</th>\n",
       "      <td>10</td>\n",
       "      <td>28130</td>\n",
       "      <td>10_snow_weather_morning_the</td>\n",
       "      <td>Weather</td>\n",
       "      <td>[snow, weather, morning, the, cold, day, nov, ...</td>\n",
       "      <td>[#AskTOM Just answered: XML to JSON with neste...</td>\n",
       "    </tr>\n",
       "    <tr>\n",
       "      <th>12</th>\n",
       "      <td>11</td>\n",
       "      <td>27928</td>\n",
       "      <td>11_movie_watch_the_movies</td>\n",
       "      <td>Movies &amp; TV</td>\n",
       "      <td>[movie, watch, the, movies, it, film, watching...</td>\n",
       "      <td>[Love, leather, luck &amp; loathing: Winter's Knig...</td>\n",
       "    </tr>\n",
       "    <tr>\n",
       "      <th>13</th>\n",
       "      <td>12</td>\n",
       "      <td>23633</td>\n",
       "      <td>12_god_the_of_is</td>\n",
       "      <td>Religion</td>\n",
       "      <td>[god, the, of, is, and, to, in, that, you, it]</td>\n",
       "      <td>[From the past:  How great would it be if… htt...</td>\n",
       "    </tr>\n",
       "    <tr>\n",
       "      <th>14</th>\n",
       "      <td>13</td>\n",
       "      <td>20389</td>\n",
       "      <td>13_dog_cat_dogs_cats</td>\n",
       "      <td>Pets &amp; Animals</td>\n",
       "      <td>[dog, cat, dogs, cats, my, the, and, to, is, of]</td>\n",
       "      <td>[SGF issues Area Forecast Discussion (AFD) at ...</td>\n",
       "    </tr>\n",
       "    <tr>\n",
       "      <th>15</th>\n",
       "      <td>14</td>\n",
       "      <td>15676</td>\n",
       "      <td>14_news_the_media_of</td>\n",
       "      <td>Journalism</td>\n",
       "      <td>[news, the, media, of, to, is, and, in, that, it]</td>\n",
       "      <td>[They'd fight over how to!🤦‍♀️, Hello dear Dal...</td>\n",
       "    </tr>\n",
       "    <tr>\n",
       "      <th>16</th>\n",
       "      <td>15</td>\n",
       "      <td>12958</td>\n",
       "      <td>15_books_book_20_no</td>\n",
       "      <td>Books &amp; Literature</td>\n",
       "      <td>[books, book, 20, no, booksky, read, covers, i...</td>\n",
       "      <td>[I must watch it!, What movie is this?, I woul...</td>\n",
       "    </tr>\n",
       "    <tr>\n",
       "      <th>17</th>\n",
       "      <td>16</td>\n",
       "      <td>12524</td>\n",
       "      <td>16_fun_the_it_you</td>\n",
       "      <td>Trivia &amp; Fun Facts</td>\n",
       "      <td>[fun, the, it, you, of, that, was, and, is, pop]</td>\n",
       "      <td>[Jesus h Christ., Jesus Christ, Thank god for ...</td>\n",
       "    </tr>\n",
       "    <tr>\n",
       "      <th>18</th>\n",
       "      <td>17</td>\n",
       "      <td>12456</td>\n",
       "      <td>17_work_to_it_the</td>\n",
       "      <td>Self-Improvement</td>\n",
       "      <td>[work, to, it, the, and, of, time, my, is, that]</td>\n",
       "      <td>[🕒 Current times:\\nNew York: 17:16 EST, London...</td>\n",
       "    </tr>\n",
       "    <tr>\n",
       "      <th>19</th>\n",
       "      <td>18</td>\n",
       "      <td>11976</td>\n",
       "      <td>18_climate_change_the_of</td>\n",
       "      <td>Climate Change</td>\n",
       "      <td>[climate, change, the, of, to, in, com, we, is...</td>\n",
       "      <td>[here my dog (i have no cat), However… please ...</td>\n",
       "    </tr>\n",
       "    <tr>\n",
       "      <th>20</th>\n",
       "      <td>19</td>\n",
       "      <td>11249</td>\n",
       "      <td>19_immigration_the_to_immigrants</td>\n",
       "      <td>Immigration</td>\n",
       "      <td>[immigration, the, to, immigrants, in, of, and...</td>\n",
       "      <td>[Show me a picture on your phone that has your...</td>\n",
       "    </tr>\n",
       "    <tr>\n",
       "      <th>21</th>\n",
       "      <td>20</td>\n",
       "      <td>10895</td>\n",
       "      <td>20_city_life_in_the</td>\n",
       "      <td>Urban Life</td>\n",
       "      <td>[city, life, in, the, of, is, to, street, and,...</td>\n",
       "      <td>[Jan. 6 participant's defamation lawsuit again...</td>\n",
       "    </tr>\n",
       "    <tr>\n",
       "      <th>22</th>\n",
       "      <td>21</td>\n",
       "      <td>10887</td>\n",
       "      <td>21_mental_health_to_and</td>\n",
       "      <td>Mental Health</td>\n",
       "      <td>[mental, health, to, and, my, you, it, of, the...</td>\n",
       "      <td>[Happy Thanksgiving to you and your family!, F...</td>\n",
       "    </tr>\n",
       "    <tr>\n",
       "      <th>23</th>\n",
       "      <td>22</td>\n",
       "      <td>9430</td>\n",
       "      <td>22_turkey_the_farm_of</td>\n",
       "      <td>Agriculture</td>\n",
       "      <td>[turkey, the, farm, of, in, to, and, thanksgiv...</td>\n",
       "      <td>[ Choose 20 books that have stayed with you or...</td>\n",
       "    </tr>\n",
       "    <tr>\n",
       "      <th>24</th>\n",
       "      <td>23</td>\n",
       "      <td>9025</td>\n",
       "      <td>23_money_to_you_for</td>\n",
       "      <td>Personal Finance</td>\n",
       "      <td>[money, to, you, for, the, my, your, pay, of, ...</td>\n",
       "      <td>[#544 Funko Pop! Box &amp; Pop Concept: Kikimora (...</td>\n",
       "    </tr>\n",
       "    <tr>\n",
       "      <th>25</th>\n",
       "      <td>24</td>\n",
       "      <td>8642</td>\n",
       "      <td>24_nature_in_the_birds</td>\n",
       "      <td>Nature &amp; Outdoors</td>\n",
       "      <td>[nature, in, the, birds, of, tree, at, park, o...</td>\n",
       "      <td>[Me in my bed now that work is done for today:...</td>\n",
       "    </tr>\n",
       "    <tr>\n",
       "      <th>26</th>\n",
       "      <td>25</td>\n",
       "      <td>8261</td>\n",
       "      <td>25_to_the_of_is</td>\n",
       "      <td>Social Issues</td>\n",
       "      <td>[to, the, of, is, and, social, people, in, tha...</td>\n",
       "      <td>[repost with a selfie that makes you feel CONF...</td>\n",
       "    </tr>\n",
       "    <tr>\n",
       "      <th>27</th>\n",
       "      <td>26</td>\n",
       "      <td>6507</td>\n",
       "      <td>26_war_the_of_in</td>\n",
       "      <td>War &amp; Conflict</td>\n",
       "      <td>[war, the, of, in, and, to, ukraine, is, israe...</td>\n",
       "      <td>[Home sweet home for the next few days. 😁, Hap...</td>\n",
       "    </tr>\n",
       "    <tr>\n",
       "      <th>28</th>\n",
       "      <td>27</td>\n",
       "      <td>6470</td>\n",
       "      <td>27_sports_football_the_team</td>\n",
       "      <td>Sports &amp; Fitness</td>\n",
       "      <td>[sports, football, the, team, sport, to, ball,...</td>\n",
       "      <td>[Climate change is increasingly affecting the ...</td>\n",
       "    </tr>\n",
       "    <tr>\n",
       "      <th>29</th>\n",
       "      <td>28</td>\n",
       "      <td>5874</td>\n",
       "      <td>28_law_justice_the_legal</td>\n",
       "      <td>Law &amp; Justice</td>\n",
       "      <td>[law, justice, the, legal, of, court, and, to,...</td>\n",
       "      <td>[thanks, Thanks!, Linked in www.kode24.no: 'Te...</td>\n",
       "    </tr>\n",
       "    <tr>\n",
       "      <th>30</th>\n",
       "      <td>29</td>\n",
       "      <td>5852</td>\n",
       "      <td>29_thankful_for_happy_green</td>\n",
       "      <td>Sustainability</td>\n",
       "      <td>[thankful, for, happy, green, thanksgiving, we...</td>\n",
       "      <td>[5) American, 5. American, Very un-american of...</td>\n",
       "    </tr>\n",
       "    <tr>\n",
       "      <th>31</th>\n",
       "      <td>30</td>\n",
       "      <td>5582</td>\n",
       "      <td>30_food_eat_it_the</td>\n",
       "      <td>Organic Food</td>\n",
       "      <td>[food, eat, it, the, and, to, of, is, my, eating]</td>\n",
       "      <td>[I need this in my life…, Stories from the Cit...</td>\n",
       "    </tr>\n",
       "    <tr>\n",
       "      <th>32</th>\n",
       "      <td>31</td>\n",
       "      <td>8782</td>\n",
       "      <td>31_economy_the_market_of</td>\n",
       "      <td>Economy</td>\n",
       "      <td>[economy, the, market, of, in, to, tariffs, is...</td>\n",
       "      <td>[Lets normalize talking about mental health. I...</td>\n",
       "    </tr>\n",
       "    <tr>\n",
       "      <th>33</th>\n",
       "      <td>32</td>\n",
       "      <td>4492</td>\n",
       "      <td>32_ai_learning_the_and</td>\n",
       "      <td>AI &amp; Machine Learning</td>\n",
       "      <td>[ai, learning, the, and, to, of, data, machine...</td>\n",
       "      <td>[Portable Wireless Charger for $11.39, reg $26...</td>\n",
       "    </tr>\n",
       "    <tr>\n",
       "      <th>34</th>\n",
       "      <td>33</td>\n",
       "      <td>3736</td>\n",
       "      <td>33_rights_human_the_genocide</td>\n",
       "      <td>Human Rights</td>\n",
       "      <td>[rights, human, the, genocide, of, to, and, ri...</td>\n",
       "      <td>[Farmers’ Right to Participate in Decision-mak...</td>\n",
       "    </tr>\n",
       "    <tr>\n",
       "      <th>35</th>\n",
       "      <td>34</td>\n",
       "      <td>3685</td>\n",
       "      <td>34_gym_workout_and_you</td>\n",
       "      <td>Physical Health</td>\n",
       "      <td>[gym, workout, and, you, to, my, fitness, exer...</td>\n",
       "      <td>[Hello,‬\\n‪If you're truly in need of urgent h...</td>\n",
       "    </tr>\n",
       "    <tr>\n",
       "      <th>36</th>\n",
       "      <td>35</td>\n",
       "      <td>3320</td>\n",
       "      <td>35_school_education_schools_teacher</td>\n",
       "      <td>School &amp; Education</td>\n",
       "      <td>[school, education, schools, teacher, teachers...</td>\n",
       "      <td>[Getting ready to dive into the food later thi...</td>\n",
       "    </tr>\n",
       "    <tr>\n",
       "      <th>37</th>\n",
       "      <td>36</td>\n",
       "      <td>2520</td>\n",
       "      <td>36_bitcoin_crypto_btc_blockchain</td>\n",
       "      <td>Crypto &amp; Blockchain</td>\n",
       "      <td>[bitcoin, crypto, btc, blockchain, block, cryp...</td>\n",
       "      <td>[Fun facts: 2004 - 1st use of the word \"Podcas...</td>\n",
       "    </tr>\n",
       "    <tr>\n",
       "      <th>38</th>\n",
       "      <td>37</td>\n",
       "      <td>2074</td>\n",
       "      <td>37_business_startup_to_businesses</td>\n",
       "      <td>Business &amp; Startups</td>\n",
       "      <td>[business, startup, to, businesses, your, you,...</td>\n",
       "      <td>[The war on fentanyl will turn into the war on...</td>\n",
       "    </tr>\n",
       "    <tr>\n",
       "      <th>39</th>\n",
       "      <td>38</td>\n",
       "      <td>1734</td>\n",
       "      <td>38_vegan_diet_eat_meat</td>\n",
       "      <td>Veganism &amp; Diets</td>\n",
       "      <td>[vegan, diet, eat, meat, milk, vegetarian, eat...</td>\n",
       "      <td>[And sports (via The Athletic), American Footb...</td>\n",
       "    </tr>\n",
       "  </tbody>\n",
       "</table>\n",
       "</div>"
      ],
      "text/plain": [
       "    Topic   Count                                 Name             CustomName  \\\n",
       "0      -1  105232                     -1_the_of_to_and               Outliers   \n",
       "1       0  224046                 0_social_bsky_you_to           Social Media   \n",
       "2       1  138541                      1_the_to_of_and               Politics   \n",
       "3       2   82030                  2_game_the_games_to                 Gaming   \n",
       "4       3   68719     3_thanksgiving_happy_turkey_food     General Activities   \n",
       "5       4   53523               4_music_song_the_album                  Music   \n",
       "6       5   48296                      5_to_the_in_and              Traveling   \n",
       "7       6   45161                  6_thank_you_so_love        Fashion & Style   \n",
       "8       7   54261                      7_it_the_to_com      Gadgets & Devices   \n",
       "9       8   41244                     8_to_the_for_and            Programming   \n",
       "10      9   65085                   9_family_and_to_my          Relationships   \n",
       "11     10   28130          10_snow_weather_morning_the                Weather   \n",
       "12     11   27928            11_movie_watch_the_movies            Movies & TV   \n",
       "13     12   23633                     12_god_the_of_is               Religion   \n",
       "14     13   20389                 13_dog_cat_dogs_cats         Pets & Animals   \n",
       "15     14   15676                 14_news_the_media_of             Journalism   \n",
       "16     15   12958                  15_books_book_20_no     Books & Literature   \n",
       "17     16   12524                    16_fun_the_it_you     Trivia & Fun Facts   \n",
       "18     17   12456                    17_work_to_it_the       Self-Improvement   \n",
       "19     18   11976             18_climate_change_the_of         Climate Change   \n",
       "20     19   11249     19_immigration_the_to_immigrants            Immigration   \n",
       "21     20   10895                  20_city_life_in_the             Urban Life   \n",
       "22     21   10887              21_mental_health_to_and          Mental Health   \n",
       "23     22    9430                22_turkey_the_farm_of            Agriculture   \n",
       "24     23    9025                  23_money_to_you_for       Personal Finance   \n",
       "25     24    8642               24_nature_in_the_birds      Nature & Outdoors   \n",
       "26     25    8261                      25_to_the_of_is          Social Issues   \n",
       "27     26    6507                     26_war_the_of_in         War & Conflict   \n",
       "28     27    6470          27_sports_football_the_team       Sports & Fitness   \n",
       "29     28    5874             28_law_justice_the_legal          Law & Justice   \n",
       "30     29    5852          29_thankful_for_happy_green         Sustainability   \n",
       "31     30    5582                   30_food_eat_it_the           Organic Food   \n",
       "32     31    8782             31_economy_the_market_of                Economy   \n",
       "33     32    4492               32_ai_learning_the_and  AI & Machine Learning   \n",
       "34     33    3736         33_rights_human_the_genocide           Human Rights   \n",
       "35     34    3685               34_gym_workout_and_you        Physical Health   \n",
       "36     35    3320  35_school_education_schools_teacher     School & Education   \n",
       "37     36    2520     36_bitcoin_crypto_btc_blockchain    Crypto & Blockchain   \n",
       "38     37    2074    37_business_startup_to_businesses    Business & Startups   \n",
       "39     38    1734               38_vegan_diet_eat_meat       Veganism & Diets   \n",
       "\n",
       "                                       Representation  \\\n",
       "0      [the, of, to, and, he, is, in, that, you, for]   \n",
       "1   [social, bsky, you, to, it, the, and, of, my, me]   \n",
       "2    [the, to, of, and, is, in, trump, that, for, he]   \n",
       "3   [game, the, games, to, it, and, play, of, in, ...   \n",
       "4   [thanksgiving, happy, turkey, food, and, the, ...   \n",
       "5   [music, song, the, album, spotify, of, com, to...   \n",
       "6        [to, the, in, and, it, you, my, on, of, for]   \n",
       "7   [thank, you, so, love, cute, look, and, my, th...   \n",
       "8      [it, the, to, com, for, on, is, that, and, of]   \n",
       "9      [to, the, for, and, it, in, you, this, is, on]   \n",
       "10  [family, and, to, my, you, the, love, with, th...   \n",
       "11  [snow, weather, morning, the, cold, day, nov, ...   \n",
       "12  [movie, watch, the, movies, it, film, watching...   \n",
       "13     [god, the, of, is, and, to, in, that, you, it]   \n",
       "14   [dog, cat, dogs, cats, my, the, and, to, is, of]   \n",
       "15  [news, the, media, of, to, is, and, in, that, it]   \n",
       "16  [books, book, 20, no, booksky, read, covers, i...   \n",
       "17   [fun, the, it, you, of, that, was, and, is, pop]   \n",
       "18   [work, to, it, the, and, of, time, my, is, that]   \n",
       "19  [climate, change, the, of, to, in, com, we, is...   \n",
       "20  [immigration, the, to, immigrants, in, of, and...   \n",
       "21  [city, life, in, the, of, is, to, street, and,...   \n",
       "22  [mental, health, to, and, my, you, it, of, the...   \n",
       "23  [turkey, the, farm, of, in, to, and, thanksgiv...   \n",
       "24  [money, to, you, for, the, my, your, pay, of, ...   \n",
       "25  [nature, in, the, birds, of, tree, at, park, o...   \n",
       "26  [to, the, of, is, and, social, people, in, tha...   \n",
       "27  [war, the, of, in, and, to, ukraine, is, israe...   \n",
       "28  [sports, football, the, team, sport, to, ball,...   \n",
       "29  [law, justice, the, legal, of, court, and, to,...   \n",
       "30  [thankful, for, happy, green, thanksgiving, we...   \n",
       "31  [food, eat, it, the, and, to, of, is, my, eating]   \n",
       "32  [economy, the, market, of, in, to, tariffs, is...   \n",
       "33  [ai, learning, the, and, to, of, data, machine...   \n",
       "34  [rights, human, the, genocide, of, to, and, ri...   \n",
       "35  [gym, workout, and, you, to, my, fitness, exer...   \n",
       "36  [school, education, schools, teacher, teachers...   \n",
       "37  [bitcoin, crypto, btc, blockchain, block, cryp...   \n",
       "38  [business, startup, to, businesses, your, you,...   \n",
       "39  [vegan, diet, eat, meat, milk, vegetarian, eat...   \n",
       "\n",
       "                                  Representative_Docs  \n",
       "0                                                 NaN  \n",
       "1   [@paradisefound67.bsky.social \\n\\nbsky.app/pro...  \n",
       "2   [the difference between trump voters in conser...  \n",
       "3   [If you gate-keep something just because you k...  \n",
       "4   [happy thanksgiving ^_^, Analysis and reportin...  \n",
       "5   [Happy Thanksgiving! 🫶🏾❤️, Happy thanksgiving ...  \n",
       "6   [Just saw him at the Macy's Thanksgiving Day P...  \n",
       "7   [open.spotify.com/track/5FoffJ..., WA X RW X.....  \n",
       "8   [Happy Thanksgiving to everyone who celebrates...  \n",
       "9   [Why thank you 💙💜, Thank you very much ❤️❤️❤️,...  \n",
       "10  [The latest TooManySecrets HQ News! https://pa...  \n",
       "11  [#AskTOM Just answered: XML to JSON with neste...  \n",
       "12  [Love, leather, luck & loathing: Winter's Knig...  \n",
       "13  [From the past:  How great would it be if… htt...  \n",
       "14  [SGF issues Area Forecast Discussion (AFD) at ...  \n",
       "15  [They'd fight over how to!🤦‍♀️, Hello dear Dal...  \n",
       "16  [I must watch it!, What movie is this?, I woul...  \n",
       "17  [Jesus h Christ., Jesus Christ, Thank god for ...  \n",
       "18  [🕒 Current times:\\nNew York: 17:16 EST, London...  \n",
       "19  [here my dog (i have no cat), However… please ...  \n",
       "20  [Show me a picture on your phone that has your...  \n",
       "21  [Jan. 6 participant's defamation lawsuit again...  \n",
       "22  [Happy Thanksgiving to you and your family!, F...  \n",
       "23  [ Choose 20 books that have stayed with you or...  \n",
       "24  [#544 Funko Pop! Box & Pop Concept: Kikimora (...  \n",
       "25  [Me in my bed now that work is done for today:...  \n",
       "26  [repost with a selfie that makes you feel CONF...  \n",
       "27  [Home sweet home for the next few days. 😁, Hap...  \n",
       "28  [Climate change is increasingly affecting the ...  \n",
       "29  [thanks, Thanks!, Linked in www.kode24.no: 'Te...  \n",
       "30  [5) American, 5. American, Very un-american of...  \n",
       "31  [I need this in my life…, Stories from the Cit...  \n",
       "32  [Lets normalize talking about mental health. I...  \n",
       "33  [Portable Wireless Charger for $11.39, reg $26...  \n",
       "34  [Farmers’ Right to Participate in Decision-mak...  \n",
       "35  [Hello,‬\\n‪If you're truly in need of urgent h...  \n",
       "36  [Getting ready to dive into the food later thi...  \n",
       "37  [Fun facts: 2004 - 1st use of the word \"Podcas...  \n",
       "38  [The war on fentanyl will turn into the war on...  \n",
       "39  [And sports (via The Athletic), American Footb...  "
      ]
     },
     "execution_count": 14,
     "metadata": {},
     "output_type": "execute_result"
    }
   ],
   "source": [
    "topic_model.update_topics(df.text, topics=updated_topics)\n",
    "topic_model.set_topic_labels(updated_topics_labels)\n",
    "topic_model.get_topic_info()"
   ]
  },
  {
   "cell_type": "code",
   "execution_count": 15,
   "id": "3d9539d131bbb65d",
   "metadata": {
    "colab": {
     "base_uri": "https://localhost:8080/",
     "height": 817
    },
    "executionInfo": {
     "elapsed": 69,
     "status": "ok",
     "timestamp": 1748967252016,
     "user": {
      "displayName": "LUIGINA COSTANTE",
      "userId": "06957901702143706173"
     },
     "user_tz": -120
    },
    "id": "3d9539d131bbb65d",
    "outputId": "47762f51-f723-401a-a71e-908261fee3af"
   },
   "outputs": [
    {
     "data": {
      "application/vnd.plotly.v1+json": {
       "config": {
        "plotlyServerURL": "https://plot.ly"
       },
       "data": [
        {
         "coloraxis": "coloraxis",
         "hovertemplate": "x: %{x}<br>y: %{y}<br>Similarity Score: %{z}<extra></extra>",
         "name": "0",
         "type": "heatmap",
         "x": [
          "Social Media",
          "Politics",
          "Gaming",
          "General Activities",
          "Music",
          "Traveling",
          "Fashion & Style",
          "Gadgets & Devices",
          "Programming",
          "Relationships",
          "Weather",
          "Movies & TV",
          "Religion",
          "Pets & Animals",
          "Journalism",
          "Books & Literature",
          "Trivia & Fun Facts",
          "Self-Improvement",
          "Climate Change",
          "Immigration",
          "Urban Life",
          "Mental Health",
          "Agriculture",
          "Personal Finance",
          "Nature & Outdoors",
          "Social Issues",
          "War & Conflict",
          "Sports & Fitness",
          "Law & Justice",
          "Sustainability",
          "Organic Food",
          "Economy",
          "AI & Machine Learning",
          "Human Rights",
          "Physical Health",
          "School & Education",
          "Crypto & Blockchain",
          "Business & Startups",
          "Veganism & Diets"
         ],
         "xaxis": "x",
         "y": [
          "Social Media",
          "Politics",
          "Gaming",
          "General Activities",
          "Music",
          "Traveling",
          "Fashion & Style",
          "Gadgets & Devices",
          "Programming",
          "Relationships",
          "Weather",
          "Movies & TV",
          "Religion",
          "Pets & Animals",
          "Journalism",
          "Books & Literature",
          "Trivia & Fun Facts",
          "Self-Improvement",
          "Climate Change",
          "Immigration",
          "Urban Life",
          "Mental Health",
          "Agriculture",
          "Personal Finance",
          "Nature & Outdoors",
          "Social Issues",
          "War & Conflict",
          "Sports & Fitness",
          "Law & Justice",
          "Sustainability",
          "Organic Food",
          "Economy",
          "AI & Machine Learning",
          "Human Rights",
          "Physical Health",
          "School & Education",
          "Crypto & Blockchain",
          "Business & Startups",
          "Veganism & Diets"
         ],
         "yaxis": "y",
         "z": {
          "bdata": "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",
          "dtype": "f8",
          "shape": "39, 39"
         }
        }
       ],
       "layout": {
        "coloraxis": {
         "colorbar": {
          "title": {
           "text": "Similarity Score"
          }
         },
         "colorscale": [
          [
           0,
           "rgb(247,252,240)"
          ],
          [
           0.125,
           "rgb(224,243,219)"
          ],
          [
           0.25,
           "rgb(204,235,197)"
          ],
          [
           0.375,
           "rgb(168,221,181)"
          ],
          [
           0.5,
           "rgb(123,204,196)"
          ],
          [
           0.625,
           "rgb(78,179,211)"
          ],
          [
           0.75,
           "rgb(43,140,190)"
          ],
          [
           0.875,
           "rgb(8,104,172)"
          ],
          [
           1,
           "rgb(8,64,129)"
          ]
         ]
        },
        "height": 800,
        "hoverlabel": {
         "bgcolor": "white",
         "font": {
          "family": "Rockwell",
          "size": 16
         }
        },
        "legend": {
         "title": {
          "text": "Trend"
         }
        },
        "margin": {
         "t": 60
        },
        "showlegend": true,
        "template": {
         "data": {
          "bar": [
           {
            "error_x": {
             "color": "#2a3f5f"
            },
            "error_y": {
             "color": "#2a3f5f"
            },
            "marker": {
             "line": {
              "color": "#E5ECF6",
              "width": 0.5
             },
             "pattern": {
              "fillmode": "overlay",
              "size": 10,
              "solidity": 0.2
             }
            },
            "type": "bar"
           }
          ],
          "barpolar": [
           {
            "marker": {
             "line": {
              "color": "#E5ECF6",
              "width": 0.5
             },
             "pattern": {
              "fillmode": "overlay",
              "size": 10,
              "solidity": 0.2
             }
            },
            "type": "barpolar"
           }
          ],
          "carpet": [
           {
            "aaxis": {
             "endlinecolor": "#2a3f5f",
             "gridcolor": "white",
             "linecolor": "white",
             "minorgridcolor": "white",
             "startlinecolor": "#2a3f5f"
            },
            "baxis": {
             "endlinecolor": "#2a3f5f",
             "gridcolor": "white",
             "linecolor": "white",
             "minorgridcolor": "white",
             "startlinecolor": "#2a3f5f"
            },
            "type": "carpet"
           }
          ],
          "choropleth": [
           {
            "colorbar": {
             "outlinewidth": 0,
             "ticks": ""
            },
            "type": "choropleth"
           }
          ],
          "contour": [
           {
            "colorbar": {
             "outlinewidth": 0,
             "ticks": ""
            },
            "colorscale": [
             [
              0,
              "#0d0887"
             ],
             [
              0.1111111111111111,
              "#46039f"
             ],
             [
              0.2222222222222222,
              "#7201a8"
             ],
             [
              0.3333333333333333,
              "#9c179e"
             ],
             [
              0.4444444444444444,
              "#bd3786"
             ],
             [
              0.5555555555555556,
              "#d8576b"
             ],
             [
              0.6666666666666666,
              "#ed7953"
             ],
             [
              0.7777777777777778,
              "#fb9f3a"
             ],
             [
              0.8888888888888888,
              "#fdca26"
             ],
             [
              1,
              "#f0f921"
             ]
            ],
            "type": "contour"
           }
          ],
          "contourcarpet": [
           {
            "colorbar": {
             "outlinewidth": 0,
             "ticks": ""
            },
            "type": "contourcarpet"
           }
          ],
          "heatmap": [
           {
            "colorbar": {
             "outlinewidth": 0,
             "ticks": ""
            },
            "colorscale": [
             [
              0,
              "#0d0887"
             ],
             [
              0.1111111111111111,
              "#46039f"
             ],
             [
              0.2222222222222222,
              "#7201a8"
             ],
             [
              0.3333333333333333,
              "#9c179e"
             ],
             [
              0.4444444444444444,
              "#bd3786"
             ],
             [
              0.5555555555555556,
              "#d8576b"
             ],
             [
              0.6666666666666666,
              "#ed7953"
             ],
             [
              0.7777777777777778,
              "#fb9f3a"
             ],
             [
              0.8888888888888888,
              "#fdca26"
             ],
             [
              1,
              "#f0f921"
             ]
            ],
            "type": "heatmap"
           }
          ],
          "histogram": [
           {
            "marker": {
             "pattern": {
              "fillmode": "overlay",
              "size": 10,
              "solidity": 0.2
             }
            },
            "type": "histogram"
           }
          ],
          "histogram2d": [
           {
            "colorbar": {
             "outlinewidth": 0,
             "ticks": ""
            },
            "colorscale": [
             [
              0,
              "#0d0887"
             ],
             [
              0.1111111111111111,
              "#46039f"
             ],
             [
              0.2222222222222222,
              "#7201a8"
             ],
             [
              0.3333333333333333,
              "#9c179e"
             ],
             [
              0.4444444444444444,
              "#bd3786"
             ],
             [
              0.5555555555555556,
              "#d8576b"
             ],
             [
              0.6666666666666666,
              "#ed7953"
             ],
             [
              0.7777777777777778,
              "#fb9f3a"
             ],
             [
              0.8888888888888888,
              "#fdca26"
             ],
             [
              1,
              "#f0f921"
             ]
            ],
            "type": "histogram2d"
           }
          ],
          "histogram2dcontour": [
           {
            "colorbar": {
             "outlinewidth": 0,
             "ticks": ""
            },
            "colorscale": [
             [
              0,
              "#0d0887"
             ],
             [
              0.1111111111111111,
              "#46039f"
             ],
             [
              0.2222222222222222,
              "#7201a8"
             ],
             [
              0.3333333333333333,
              "#9c179e"
             ],
             [
              0.4444444444444444,
              "#bd3786"
             ],
             [
              0.5555555555555556,
              "#d8576b"
             ],
             [
              0.6666666666666666,
              "#ed7953"
             ],
             [
              0.7777777777777778,
              "#fb9f3a"
             ],
             [
              0.8888888888888888,
              "#fdca26"
             ],
             [
              1,
              "#f0f921"
             ]
            ],
            "type": "histogram2dcontour"
           }
          ],
          "mesh3d": [
           {
            "colorbar": {
             "outlinewidth": 0,
             "ticks": ""
            },
            "type": "mesh3d"
           }
          ],
          "parcoords": [
           {
            "line": {
             "colorbar": {
              "outlinewidth": 0,
              "ticks": ""
             }
            },
            "type": "parcoords"
           }
          ],
          "pie": [
           {
            "automargin": true,
            "type": "pie"
           }
          ],
          "scatter": [
           {
            "fillpattern": {
             "fillmode": "overlay",
             "size": 10,
             "solidity": 0.2
            },
            "type": "scatter"
           }
          ],
          "scatter3d": [
           {
            "line": {
             "colorbar": {
              "outlinewidth": 0,
              "ticks": ""
             }
            },
            "marker": {
             "colorbar": {
              "outlinewidth": 0,
              "ticks": ""
             }
            },
            "type": "scatter3d"
           }
          ],
          "scattercarpet": [
           {
            "marker": {
             "colorbar": {
              "outlinewidth": 0,
              "ticks": ""
             }
            },
            "type": "scattercarpet"
           }
          ],
          "scattergeo": [
           {
            "marker": {
             "colorbar": {
              "outlinewidth": 0,
              "ticks": ""
             }
            },
            "type": "scattergeo"
           }
          ],
          "scattergl": [
           {
            "marker": {
             "colorbar": {
              "outlinewidth": 0,
              "ticks": ""
             }
            },
            "type": "scattergl"
           }
          ],
          "scattermap": [
           {
            "marker": {
             "colorbar": {
              "outlinewidth": 0,
              "ticks": ""
             }
            },
            "type": "scattermap"
           }
          ],
          "scattermapbox": [
           {
            "marker": {
             "colorbar": {
              "outlinewidth": 0,
              "ticks": ""
             }
            },
            "type": "scattermapbox"
           }
          ],
          "scatterpolar": [
           {
            "marker": {
             "colorbar": {
              "outlinewidth": 0,
              "ticks": ""
             }
            },
            "type": "scatterpolar"
           }
          ],
          "scatterpolargl": [
           {
            "marker": {
             "colorbar": {
              "outlinewidth": 0,
              "ticks": ""
             }
            },
            "type": "scatterpolargl"
           }
          ],
          "scatterternary": [
           {
            "marker": {
             "colorbar": {
              "outlinewidth": 0,
              "ticks": ""
             }
            },
            "type": "scatterternary"
           }
          ],
          "surface": [
           {
            "colorbar": {
             "outlinewidth": 0,
             "ticks": ""
            },
            "colorscale": [
             [
              0,
              "#0d0887"
             ],
             [
              0.1111111111111111,
              "#46039f"
             ],
             [
              0.2222222222222222,
              "#7201a8"
             ],
             [
              0.3333333333333333,
              "#9c179e"
             ],
             [
              0.4444444444444444,
              "#bd3786"
             ],
             [
              0.5555555555555556,
              "#d8576b"
             ],
             [
              0.6666666666666666,
              "#ed7953"
             ],
             [
              0.7777777777777778,
              "#fb9f3a"
             ],
             [
              0.8888888888888888,
              "#fdca26"
             ],
             [
              1,
              "#f0f921"
             ]
            ],
            "type": "surface"
           }
          ],
          "table": [
           {
            "cells": {
             "fill": {
              "color": "#EBF0F8"
             },
             "line": {
              "color": "white"
             }
            },
            "header": {
             "fill": {
              "color": "#C8D4E3"
             },
             "line": {
              "color": "white"
             }
            },
            "type": "table"
           }
          ]
         },
         "layout": {
          "annotationdefaults": {
           "arrowcolor": "#2a3f5f",
           "arrowhead": 0,
           "arrowwidth": 1
          },
          "autotypenumbers": "strict",
          "coloraxis": {
           "colorbar": {
            "outlinewidth": 0,
            "ticks": ""
           }
          },
          "colorscale": {
           "diverging": [
            [
             0,
             "#8e0152"
            ],
            [
             0.1,
             "#c51b7d"
            ],
            [
             0.2,
             "#de77ae"
            ],
            [
             0.3,
             "#f1b6da"
            ],
            [
             0.4,
             "#fde0ef"
            ],
            [
             0.5,
             "#f7f7f7"
            ],
            [
             0.6,
             "#e6f5d0"
            ],
            [
             0.7,
             "#b8e186"
            ],
            [
             0.8,
             "#7fbc41"
            ],
            [
             0.9,
             "#4d9221"
            ],
            [
             1,
             "#276419"
            ]
           ],
           "sequential": [
            [
             0,
             "#0d0887"
            ],
            [
             0.1111111111111111,
             "#46039f"
            ],
            [
             0.2222222222222222,
             "#7201a8"
            ],
            [
             0.3333333333333333,
             "#9c179e"
            ],
            [
             0.4444444444444444,
             "#bd3786"
            ],
            [
             0.5555555555555556,
             "#d8576b"
            ],
            [
             0.6666666666666666,
             "#ed7953"
            ],
            [
             0.7777777777777778,
             "#fb9f3a"
            ],
            [
             0.8888888888888888,
             "#fdca26"
            ],
            [
             1,
             "#f0f921"
            ]
           ],
           "sequentialminus": [
            [
             0,
             "#0d0887"
            ],
            [
             0.1111111111111111,
             "#46039f"
            ],
            [
             0.2222222222222222,
             "#7201a8"
            ],
            [
             0.3333333333333333,
             "#9c179e"
            ],
            [
             0.4444444444444444,
             "#bd3786"
            ],
            [
             0.5555555555555556,
             "#d8576b"
            ],
            [
             0.6666666666666666,
             "#ed7953"
            ],
            [
             0.7777777777777778,
             "#fb9f3a"
            ],
            [
             0.8888888888888888,
             "#fdca26"
            ],
            [
             1,
             "#f0f921"
            ]
           ]
          },
          "colorway": [
           "#636efa",
           "#EF553B",
           "#00cc96",
           "#ab63fa",
           "#FFA15A",
           "#19d3f3",
           "#FF6692",
           "#B6E880",
           "#FF97FF",
           "#FECB52"
          ],
          "font": {
           "color": "#2a3f5f"
          },
          "geo": {
           "bgcolor": "white",
           "lakecolor": "white",
           "landcolor": "#E5ECF6",
           "showlakes": true,
           "showland": true,
           "subunitcolor": "white"
          },
          "hoverlabel": {
           "align": "left"
          },
          "hovermode": "closest",
          "mapbox": {
           "style": "light"
          },
          "paper_bgcolor": "white",
          "plot_bgcolor": "#E5ECF6",
          "polar": {
           "angularaxis": {
            "gridcolor": "white",
            "linecolor": "white",
            "ticks": ""
           },
           "bgcolor": "#E5ECF6",
           "radialaxis": {
            "gridcolor": "white",
            "linecolor": "white",
            "ticks": ""
           }
          },
          "scene": {
           "xaxis": {
            "backgroundcolor": "#E5ECF6",
            "gridcolor": "white",
            "gridwidth": 2,
            "linecolor": "white",
            "showbackground": true,
            "ticks": "",
            "zerolinecolor": "white"
           },
           "yaxis": {
            "backgroundcolor": "#E5ECF6",
            "gridcolor": "white",
            "gridwidth": 2,
            "linecolor": "white",
            "showbackground": true,
            "ticks": "",
            "zerolinecolor": "white"
           },
           "zaxis": {
            "backgroundcolor": "#E5ECF6",
            "gridcolor": "white",
            "gridwidth": 2,
            "linecolor": "white",
            "showbackground": true,
            "ticks": "",
            "zerolinecolor": "white"
           }
          },
          "shapedefaults": {
           "line": {
            "color": "#2a3f5f"
           }
          },
          "ternary": {
           "aaxis": {
            "gridcolor": "white",
            "linecolor": "white",
            "ticks": ""
           },
           "baxis": {
            "gridcolor": "white",
            "linecolor": "white",
            "ticks": ""
           },
           "bgcolor": "#E5ECF6",
           "caxis": {
            "gridcolor": "white",
            "linecolor": "white",
            "ticks": ""
           }
          },
          "title": {
           "x": 0.05
          },
          "xaxis": {
           "automargin": true,
           "gridcolor": "white",
           "linecolor": "white",
           "ticks": "",
           "title": {
            "standoff": 15
           },
           "zerolinecolor": "white",
           "zerolinewidth": 2
          },
          "yaxis": {
           "automargin": true,
           "gridcolor": "white",
           "linecolor": "white",
           "ticks": "",
           "title": {
            "standoff": 15
           },
           "zerolinecolor": "white",
           "zerolinewidth": 2
          }
         }
        },
        "title": {
         "font": {
          "color": "Black",
          "size": 22
         },
         "text": "<b>Similarity Matrix</b>",
         "x": 0.55,
         "xanchor": "center",
         "y": 0.95,
         "yanchor": "top"
        },
        "width": 800,
        "xaxis": {
         "anchor": "y",
         "constrain": "domain",
         "domain": [
          0,
          1
         ],
         "scaleanchor": "y"
        },
        "yaxis": {
         "anchor": "x",
         "autorange": "reversed",
         "constrain": "domain",
         "domain": [
          0,
          1
         ]
        }
       }
      },
      "image/png": "[encoded data removed]"
     },
     "metadata": {},
     "output_type": "display_data"
    }
   ],
   "source": [
    "topic_model.visualize_heatmap(custom_labels=True)"
   ]
  },
  {
   "cell_type": "code",
   "execution_count": 16,
   "id": "61a97e630992bbb6",
   "metadata": {
    "colab": {
     "base_uri": "https://localhost:8080/",
     "height": 427
    },
    "executionInfo": {
     "elapsed": 92,
     "status": "ok",
     "timestamp": 1748966785249,
     "user": {
      "displayName": "LUIGINA COSTANTE",
      "userId": "06957901702143706173"
     },
     "user_tz": -120
    },
    "id": "61a97e630992bbb6",
    "outputId": "6d577337-c709-499b-a934-47a3b1a45aaa"
   },
   "outputs": [
    {
     "data": {
      "application/vnd.plotly.v1+json": {
       "config": {
        "plotlyServerURL": "https://plot.ly"
       },
       "data": [
        {
         "hoverinfo": "text",
         "marker": {
          "color": "rgb(61,153,112)"
         },
         "mode": "lines",
         "type": "scatter",
         "x": {
          "bdata": "AAAAAAAAAABMc0FxucHnP0xzQXG5wec/AAAAAAAAAAA=",
          "dtype": "f8"
         },
         "xaxis": "x",
         "y": {
          "bdata": "AAAAAAAAFMAAAAAAAAAUwAAAAAAAAC7AAAAAAAAALsA=",
          "dtype": "f8"
         },
         "yaxis": "y"
        },
        {
         "hoverinfo": "text",
         "marker": {
          "color": "rgb(61,153,112)"
         },
         "mode": "lines",
         "type": "scatter",
         "x": {
          "bdata": "AAAAAAAAAABO4I9WVQXRP07gj1ZVBdE/AAAAAAAAAAA=",
          "dtype": "f8"
         },
         "xaxis": "x",
         "y": {
          "bdata": "AAAAAACAQcAAAAAAAIBBwAAAAAAAgEbAAAAAAACARsA=",
          "dtype": "f8"
         },
         "yaxis": "y"
        },
        {
         "hoverinfo": "text",
         "marker": {
          "color": "rgb(61,153,112)"
         },
         "mode": "lines",
         "type": "scatter",
         "x": {
          "bdata": "TuCPVlUF0T/cXy6gqQ/UP9xfLqCpD9Q/AAAAAAAAAAA=",
          "dtype": "f8"
         },
         "xaxis": "x",
         "y": {
          "bdata": "AAAAAAAARMAAAAAAAABEwAAAAAAAgEvAAAAAAACAS8A=",
          "dtype": "f8"
         },
         "yaxis": "y"
        },
        {
         "hoverinfo": "text",
         "marker": {
          "color": "rgb(61,153,112)"
         },
         "mode": "lines",
         "type": "scatter",
         "x": {
          "bdata": "AAAAAAAAAACSXH7eGm7hP5Jcft4abuE/3F8uoKkP1D8=",
          "dtype": "f8"
         },
         "xaxis": "x",
         "y": {
          "bdata": "AAAAAAAAOcAAAAAAAAA5wAAAAAAAwEfAAAAAAADAR8A=",
          "dtype": "f8"
         },
         "yaxis": "y"
        },
        {
         "hoverinfo": "text",
         "marker": {
          "color": "rgb(61,153,112)"
         },
         "mode": "lines",
         "type": "scatter",
         "x": {
          "bdata": "AAAAAAAAAAAKbZEiS8HbPwptkSJLwds/AAAAAAAAAAA=",
          "dtype": "f8"
         },
         "xaxis": "x",
         "y": {
          "bdata": "AAAAAABAUMAAAAAAAEBQwAAAAAAAwFLAAAAAAADAUsA=",
          "dtype": "f8"
         },
         "yaxis": "y"
        },
        {
         "hoverinfo": "text",
         "marker": {
          "color": "rgb(61,153,112)"
         },
         "mode": "lines",
         "type": "scatter",
         "x": {
          "bdata": "AAAAAAAAAAAuuDKeXIraPy64Mp5cito/AAAAAAAAAAA=",
          "dtype": "f8"
         },
         "xaxis": "x",
         "y": {
          "bdata": "AAAAAABAVcAAAAAAAEBVwAAAAAAAwFfAAAAAAADAV8A=",
          "dtype": "f8"
         },
         "yaxis": "y"
        },
        {
         "hoverinfo": "text",
         "marker": {
          "color": "rgb(61,153,112)"
         },
         "mode": "lines",
         "type": "scatter",
         "x": {
          "bdata": "Cm2RIkvB2z8YELNw/bPhPxgQs3D9s+E/LrgynlyK2j8=",
          "dtype": "f8"
         },
         "xaxis": "x",
         "y": {
          "bdata": "AAAAAACAUcAAAAAAAIBRwAAAAAAAgFbAAAAAAACAVsA=",
          "dtype": "f8"
         },
         "yaxis": "y"
        },
        {
         "hoverinfo": "text",
         "marker": {
          "color": "rgb(61,153,112)"
         },
         "mode": "lines",
         "type": "scatter",
         "x": {
          "bdata": "AAAAAAAAAABgKCGya9rBP2AoIbJr2sE/AAAAAAAAAAA=",
          "dtype": "f8"
         },
         "xaxis": "x",
         "y": {
          "bdata": "AAAAAAAgYsAAAAAAACBiwAAAAAAAYGPAAAAAAABgY8A=",
          "dtype": "f8"
         },
         "yaxis": "y"
        },
        {
         "hoverinfo": "text",
         "marker": {
          "color": "rgb(61,153,112)"
         },
         "mode": "lines",
         "type": "scatter",
         "x": {
          "bdata": "YCghsmvawT+zMUzzCJnEP7MxTPMImcQ/AAAAAAAAAAA=",
          "dtype": "f8"
         },
         "xaxis": "x",
         "y": {
          "bdata": "AAAAAADAYsAAAAAAAMBiwAAAAAAAoGTAAAAAAACgZMA=",
          "dtype": "f8"
         },
         "yaxis": "y"
        },
        {
         "hoverinfo": "text",
         "marker": {
          "color": "rgb(61,153,112)"
         },
         "mode": "lines",
         "type": "scatter",
         "x": {
          "bdata": "AAAAAAAAAAD90KVJZJPLP/3QpUlkk8s/szFM8wiZxD8=",
          "dtype": "f8"
         },
         "xaxis": "x",
         "y": {
          "bdata": "AAAAAADgYMAAAAAAAOBgwAAAAAAAsGPAAAAAAACwY8A=",
          "dtype": "f8"
         },
         "yaxis": "y"
        },
        {
         "hoverinfo": "text",
         "marker": {
          "color": "rgb(61,153,112)"
         },
         "mode": "lines",
         "type": "scatter",
         "x": {
          "bdata": "AAAAAAAAAADY682dinrCP9jrzZ2KesI/AAAAAAAAAAA=",
          "dtype": "f8"
         },
         "xaxis": "x",
         "y": {
          "bdata": "AAAAAADgZcAAAAAAAOBlwAAAAAAAIGfAAAAAAAAgZ8A=",
          "dtype": "f8"
         },
         "yaxis": "y"
        },
        {
         "hoverinfo": "text",
         "marker": {
          "color": "rgb(61,153,112)"
         },
         "mode": "lines",
         "type": "scatter",
         "x": {
          "bdata": "2OvNnYp6wj/wiFSAT8bNP/CIVIBPxs0/AAAAAAAAAAA=",
          "dtype": "f8"
         },
         "xaxis": "x",
         "y": {
          "bdata": "AAAAAACAZsAAAAAAAIBmwAAAAAAAYGjAAAAAAABgaMA=",
          "dtype": "f8"
         },
         "yaxis": "y"
        },
        {
         "hoverinfo": "text",
         "marker": {
          "color": "rgb(61,153,112)"
         },
         "mode": "lines",
         "type": "scatter",
         "x": {
          "bdata": "/dClSWSTyz9dEpF9d1LQP10SkX13UtA/8IhUgE/GzT8=",
          "dtype": "f8"
         },
         "xaxis": "x",
         "y": {
          "bdata": "AAAAAABIYsAAAAAAAEhiwAAAAAAAcGfAAAAAAABwZ8A=",
          "dtype": "f8"
         },
         "yaxis": "y"
        },
        {
         "hoverinfo": "text",
         "marker": {
          "color": "rgb(61,153,112)"
         },
         "mode": "lines",
         "type": "scatter",
         "x": {
          "bdata": "XRKRfXdS0D/ZDffxflbSP9kN9/F+VtI/AAAAAAAAAAA=",
          "dtype": "f8"
         },
         "xaxis": "x",
         "y": {
          "bdata": "AAAAAADcZMAAAAAAANxkwAAAAAAAoGnAAAAAAACgacA=",
          "dtype": "f8"
         },
         "yaxis": "y"
        },
        {
         "hoverinfo": "text",
         "marker": {
          "color": "rgb(61,153,112)"
         },
         "mode": "lines",
         "type": "scatter",
         "x": {
          "bdata": "AAAAAAAAAAAl8UweuDPUPyXxTB64M9Q/2Q338X5W0j8=",
          "dtype": "f8"
         },
         "xaxis": "x",
         "y": {
          "bdata": "AAAAAABAX8AAAAAAAEBfwAAAAAAAPmfAAAAAAAA+Z8A=",
          "dtype": "f8"
         },
         "yaxis": "y"
        },
        {
         "hoverinfo": "text",
         "marker": {
          "color": "rgb(61,153,112)"
         },
         "mode": "lines",
         "type": "scatter",
         "x": {
          "bdata": "JfFMHrgz1D85SCiE73vXPzlIKITve9c/AAAAAAAAAAA=",
          "dtype": "f8"
         },
         "xaxis": "x",
         "y": {
          "bdata": "AAAAAABvY8AAAAAAAG9jwAAAAAAA4GrAAAAAAADgasA=",
          "dtype": "f8"
         },
         "yaxis": "y"
        },
        {
         "hoverinfo": "text",
         "marker": {
          "color": "rgb(61,153,112)"
         },
         "mode": "lines",
         "type": "scatter",
         "x": {
          "bdata": "AAAAAAAAAADSp/YLE5zYP9Kn9gsTnNg/OUgohO971z8=",
          "dtype": "f8"
         },
         "xaxis": "x",
         "y": {
          "bdata": "AAAAAADAXMAAAAAAAMBcwAAAAACAJ2fAAAAAAIAnZ8A=",
          "dtype": "f8"
         },
         "yaxis": "y"
        },
        {
         "hoverinfo": "text",
         "marker": {
          "color": "rgb(61,153,112)"
         },
         "mode": "lines",
         "type": "scatter",
         "x": {
          "bdata": "AAAAAAAAAABafgl98wbWP1p+CX3zBtY/AAAAAAAAAAA=",
          "dtype": "f8"
         },
         "xaxis": "x",
         "y": {
          "bdata": "AAAAAAAgbMAAAAAAACBswAAAAAAAYG3AAAAAAABgbcA=",
          "dtype": "f8"
         },
         "yaxis": "y"
        },
        {
         "hoverinfo": "text",
         "marker": {
          "color": "rgb(61,153,112)"
         },
         "mode": "lines",
         "type": "scatter",
         "x": {
          "bdata": "0qf2CxOc2D8KVHBWPpDaPwpUcFY+kNo/Wn4JffMG1j8=",
          "dtype": "f8"
         },
         "xaxis": "x",
         "y": {
          "bdata": "AAAAAMDDYsAAAAAAwMNiwAAAAAAAwGzAAAAAAADAbMA=",
          "dtype": "f8"
         },
         "yaxis": "y"
        },
        {
         "hoverinfo": "text",
         "marker": {
          "color": "rgb(61,153,112)"
         },
         "mode": "lines",
         "type": "scatter",
         "x": {
          "bdata": "AAAAAAAAAACXXvork13bP5de+iuTXds/ClRwVj6Q2j8=",
          "dtype": "f8"
         },
         "xaxis": "x",
         "y": {
          "bdata": "AAAAAABAWsAAAAAAAEBawAAAAADgwWfAAAAAAODBZ8A=",
          "dtype": "f8"
         },
         "yaxis": "y"
        },
        {
         "hoverinfo": "text",
         "marker": {
          "color": "rgb(61,153,112)"
         },
         "mode": "lines",
         "type": "scatter",
         "x": {
          "bdata": "AAAAAAAAAACq6rvRFiXYP6rqu9EWJdg/AAAAAAAAAAA=",
          "dtype": "f8"
         },
         "xaxis": "x",
         "y": {
          "bdata": "AAAAAACgbsAAAAAAAKBuwAAAAAAA4G/AAAAAAADgb8A=",
          "dtype": "f8"
         },
         "yaxis": "y"
        },
        {
         "hoverinfo": "text",
         "marker": {
          "color": "rgb(61,153,112)"
         },
         "mode": "lines",
         "type": "scatter",
         "x": {
          "bdata": "l176K5Nd2z+WaBJn97zdP5ZoEmf3vN0/quq70RYl2D8=",
          "dtype": "f8"
         },
         "xaxis": "x",
         "y": {
          "bdata": "AAAAAPBwYsAAAAAA8HBiwAAAAAAAQG/AAAAAAABAb8A=",
          "dtype": "f8"
         },
         "yaxis": "y"
        },
        {
         "hoverinfo": "text",
         "marker": {
          "color": "rgb(61,153,112)"
         },
         "mode": "lines",
         "type": "scatter",
         "x": {
          "bdata": "GBCzcP2z4T9hnapkRPjjP2GdqmRE+OM/lmgSZ/e83T8=",
          "dtype": "f8"
         },
         "xaxis": "x",
         "y": {
          "bdata": "AAAAAAAAVMAAAAAAAABUwAAAAAB42GjAAAAAAHjYaMA=",
          "dtype": "f8"
         },
         "yaxis": "y"
        },
        {
         "hoverinfo": "text",
         "marker": {
          "color": "rgb(61,153,112)"
         },
         "mode": "lines",
         "type": "scatter",
         "x": {
          "bdata": "klx+3hpu4T+M59N4NyDnP4zn03g3IOc/YZ2qZET44z8=",
          "dtype": "f8"
         },
         "xaxis": "x",
         "y": {
          "bdata": "AAAAAAAgQsAAAAAAACBCwAAAAAA8bGHAAAAAADxsYcA=",
          "dtype": "f8"
         },
         "yaxis": "y"
        },
        {
         "hoverinfo": "text",
         "marker": {
          "color": "rgb(61,153,112)"
         },
         "mode": "lines",
         "type": "scatter",
         "x": {
          "bdata": "AAAAAAAAAAAK/Y8uf9bRPwr9jy5/1tE/AAAAAAAAAAA=",
          "dtype": "f8"
         },
         "xaxis": "x",
         "y": {
          "bdata": "AAAAAAAwccAAAAAAADBxwAAAAAAA0HHAAAAAAADQccA=",
          "dtype": "f8"
         },
         "yaxis": "y"
        },
        {
         "hoverinfo": "text",
         "marker": {
          "color": "rgb(61,153,112)"
         },
         "mode": "lines",
         "type": "scatter",
         "x": {
          "bdata": "AAAAAAAAAACoVqjfa7HDP6hWqN9rscM/AAAAAAAAAAA=",
          "dtype": "f8"
         },
         "xaxis": "x",
         "y": {
          "bdata": "AAAAAAAQc8AAAAAAABBzwAAAAAAAsHPAAAAAAACwc8A=",
          "dtype": "f8"
         },
         "yaxis": "y"
        },
        {
         "hoverinfo": "text",
         "marker": {
          "color": "rgb(61,153,112)"
         },
         "mode": "lines",
         "type": "scatter",
         "x": {
          "bdata": "qFao32uxwz/qIqKTARTJP+oiopMBFMk/AAAAAAAAAAA=",
          "dtype": "f8"
         },
         "xaxis": "x",
         "y": {
          "bdata": "AAAAAABgc8AAAAAAAGBzwAAAAAAAUHTAAAAAAABQdMA=",
          "dtype": "f8"
         },
         "yaxis": "y"
        },
        {
         "hoverinfo": "text",
         "marker": {
          "color": "rgb(61,153,112)"
         },
         "mode": "lines",
         "type": "scatter",
         "x": {
          "bdata": "AAAAAAAAAABM7mwxlpLMP0zubDGWksw/6iKikwEUyT8=",
          "dtype": "f8"
         },
         "xaxis": "x",
         "y": {
          "bdata": "AAAAAABwcsAAAAAAAHBywAAAAAAA2HPAAAAAAADYc8A=",
          "dtype": "f8"
         },
         "yaxis": "y"
        },
        {
         "hoverinfo": "text",
         "marker": {
          "color": "rgb(61,153,112)"
         },
         "mode": "lines",
         "type": "scatter",
         "x": {
          "bdata": "TO5sMZaSzD9jqReLca/RP2OpF4txr9E/AAAAAAAAAAA=",
          "dtype": "f8"
         },
         "xaxis": "x",
         "y": {
          "bdata": "AAAAAAAkc8AAAAAAACRzwAAAAAAA8HTAAAAAAADwdMA=",
          "dtype": "f8"
         },
         "yaxis": "y"
        },
        {
         "hoverinfo": "text",
         "marker": {
          "color": "rgb(61,153,112)"
         },
         "mode": "lines",
         "type": "scatter",
         "x": {
          "bdata": "Cv2PLn/W0T8ICbPtsbvXPwgJs+2xu9c/Y6kXi3Gv0T8=",
          "dtype": "f8"
         },
         "xaxis": "x",
         "y": {
          "bdata": "AAAAAACAccAAAAAAAIBxwAAAAAAACnTAAAAAAAAKdMA=",
          "dtype": "f8"
         },
         "yaxis": "y"
        },
        {
         "hoverinfo": "text",
         "marker": {
          "color": "rgb(61,153,112)"
         },
         "mode": "lines",
         "type": "scatter",
         "x": {
          "bdata": "CAmz7bG71z9btIXi3znaP1u0heLfOdo/AAAAAAAAAAA=",
          "dtype": "f8"
         },
         "xaxis": "x",
         "y": {
          "bdata": "AAAAAADFcsAAAAAAAMVywAAAAAAAkHXAAAAAAACQdcA=",
          "dtype": "f8"
         },
         "yaxis": "y"
        },
        {
         "hoverinfo": "text",
         "marker": {
          "color": "rgb(61,153,112)"
         },
         "mode": "lines",
         "type": "scatter",
         "x": {
          "bdata": "W7SF4t852j+W+YZA51XeP5b5hkDnVd4/AAAAAAAAAAA=",
          "dtype": "f8"
         },
         "xaxis": "x",
         "y": {
          "bdata": "AAAAAIAqdMAAAAAAgCp0wAAAAAAAMHbAAAAAAAAwdsA=",
          "dtype": "f8"
         },
         "yaxis": "y"
        },
        {
         "hoverinfo": "text",
         "marker": {
          "color": "rgb(61,153,112)"
         },
         "mode": "lines",
         "type": "scatter",
         "x": {
          "bdata": "AAAAAAAAAAAp+bs2S3fgPyn5uzZLd+A/lvmGQOdV3j8=",
          "dtype": "f8"
         },
         "xaxis": "x",
         "y": {
          "bdata": "AAAAAACQcMAAAAAAAJBwwAAAAABALXXAAAAAAEAtdcA=",
          "dtype": "f8"
         },
         "yaxis": "y"
        },
        {
         "hoverinfo": "text",
         "marker": {
          "color": "rgb(61,153,112)"
         },
         "mode": "lines",
         "type": "scatter",
         "x": {
          "bdata": "Kfm7Nkt34D8SqgUA+ALjPxKqBQD4AuM/AAAAAAAAAAA=",
          "dtype": "f8"
         },
         "xaxis": "x",
         "y": {
          "bdata": "AAAAAKDecsAAAAAAoN5ywAAAAAAA0HbAAAAAAADQdsA=",
          "dtype": "f8"
         },
         "yaxis": "y"
        },
        {
         "hoverinfo": "text",
         "marker": {
          "color": "rgb(61,153,112)"
         },
         "mode": "lines",
         "type": "scatter",
         "x": {
          "bdata": "EqoFAPgC4z9cgnuCqDnkP1yCe4KoOeQ/AAAAAAAAAAA=",
          "dtype": "f8"
         },
         "xaxis": "x",
         "y": {
          "bdata": "AAAAAFDXdMAAAAAAUNd0wAAAAAAAcHfAAAAAAABwd8A=",
          "dtype": "f8"
         },
         "yaxis": "y"
        },
        {
         "hoverinfo": "text",
         "marker": {
          "color": "rgb(61,153,112)"
         },
         "mode": "lines",
         "type": "scatter",
         "x": {
          "bdata": "jOfTeDcg5z+usnmhl9/oP66yeaGX3+g/XIJ7gqg55D8=",
          "dtype": "f8"
         },
         "xaxis": "x",
         "y": {
          "bdata": "AAAAADz0VcAAAAAAPPRVwAAAAACoI3bAAAAAAKgjdsA=",
          "dtype": "f8"
         },
         "yaxis": "y"
        },
        {
         "hoverinfo": "text",
         "marker": {
          "color": "rgb(61,153,112)"
         },
         "mode": "lines",
         "type": "scatter",
         "x": {
          "bdata": "rrJ5oZff6D9UuHYQJE/pP1S4dhAkT+k/AAAAAAAAAAA=",
          "dtype": "f8"
         },
         "xaxis": "x",
         "y": {
          "bdata": "AAAAALega8AAAAAAt6BrwAAAAAAAEHjAAAAAAAAQeMA=",
          "dtype": "f8"
         },
         "yaxis": "y"
        },
        {
         "hoverinfo": "text",
         "marker": {
          "color": "rgb(61,153,112)"
         },
         "mode": "lines",
         "type": "scatter",
         "x": {
          "bdata": "THNBcbnB5z/FV6t26J7rP8VXq3bonus/VLh2ECRP6T8=",
          "dtype": "f8"
         },
         "xaxis": "x",
         "y": {
          "bdata": "AAAAAAAAJMAAAAAAAAAkwAAAAMAt8HLAAAAAwC3wcsA=",
          "dtype": "f8"
         },
         "yaxis": "y"
        }
       ],
       "layout": {
        "autosize": false,
        "height": 785,
        "hoverlabel": {
         "bgcolor": "white",
         "font": {
          "family": "Rockwell",
          "size": 16
         }
        },
        "hovermode": "closest",
        "plot_bgcolor": "#ECEFF1",
        "showlegend": false,
        "template": {
         "data": {
          "bar": [
           {
            "error_x": {
             "color": "#2a3f5f"
            },
            "error_y": {
             "color": "#2a3f5f"
            },
            "marker": {
             "line": {
              "color": "white",
              "width": 0.5
             },
             "pattern": {
              "fillmode": "overlay",
              "size": 10,
              "solidity": 0.2
             }
            },
            "type": "bar"
           }
          ],
          "barpolar": [
           {
            "marker": {
             "line": {
              "color": "white",
              "width": 0.5
             },
             "pattern": {
              "fillmode": "overlay",
              "size": 10,
              "solidity": 0.2
             }
            },
            "type": "barpolar"
           }
          ],
          "carpet": [
           {
            "aaxis": {
             "endlinecolor": "#2a3f5f",
             "gridcolor": "#C8D4E3",
             "linecolor": "#C8D4E3",
             "minorgridcolor": "#C8D4E3",
             "startlinecolor": "#2a3f5f"
            },
            "baxis": {
             "endlinecolor": "#2a3f5f",
             "gridcolor": "#C8D4E3",
             "linecolor": "#C8D4E3",
             "minorgridcolor": "#C8D4E3",
             "startlinecolor": "#2a3f5f"
            },
            "type": "carpet"
           }
          ],
          "choropleth": [
           {
            "colorbar": {
             "outlinewidth": 0,
             "ticks": ""
            },
            "type": "choropleth"
           }
          ],
          "contour": [
           {
            "colorbar": {
             "outlinewidth": 0,
             "ticks": ""
            },
            "colorscale": [
             [
              0,
              "#0d0887"
             ],
             [
              0.1111111111111111,
              "#46039f"
             ],
             [
              0.2222222222222222,
              "#7201a8"
             ],
             [
              0.3333333333333333,
              "#9c179e"
             ],
             [
              0.4444444444444444,
              "#bd3786"
             ],
             [
              0.5555555555555556,
              "#d8576b"
             ],
             [
              0.6666666666666666,
              "#ed7953"
             ],
             [
              0.7777777777777778,
              "#fb9f3a"
             ],
             [
              0.8888888888888888,
              "#fdca26"
             ],
             [
              1,
              "#f0f921"
             ]
            ],
            "type": "contour"
           }
          ],
          "contourcarpet": [
           {
            "colorbar": {
             "outlinewidth": 0,
             "ticks": ""
            },
            "type": "contourcarpet"
           }
          ],
          "heatmap": [
           {
            "colorbar": {
             "outlinewidth": 0,
             "ticks": ""
            },
            "colorscale": [
             [
              0,
              "#0d0887"
             ],
             [
              0.1111111111111111,
              "#46039f"
             ],
             [
              0.2222222222222222,
              "#7201a8"
             ],
             [
              0.3333333333333333,
              "#9c179e"
             ],
             [
              0.4444444444444444,
              "#bd3786"
             ],
             [
              0.5555555555555556,
              "#d8576b"
             ],
             [
              0.6666666666666666,
              "#ed7953"
             ],
             [
              0.7777777777777778,
              "#fb9f3a"
             ],
             [
              0.8888888888888888,
              "#fdca26"
             ],
             [
              1,
              "#f0f921"
             ]
            ],
            "type": "heatmap"
           }
          ],
          "histogram": [
           {
            "marker": {
             "pattern": {
              "fillmode": "overlay",
              "size": 10,
              "solidity": 0.2
             }
            },
            "type": "histogram"
           }
          ],
          "histogram2d": [
           {
            "colorbar": {
             "outlinewidth": 0,
             "ticks": ""
            },
            "colorscale": [
             [
              0,
              "#0d0887"
             ],
             [
              0.1111111111111111,
              "#46039f"
             ],
             [
              0.2222222222222222,
              "#7201a8"
             ],
             [
              0.3333333333333333,
              "#9c179e"
             ],
             [
              0.4444444444444444,
              "#bd3786"
             ],
             [
              0.5555555555555556,
              "#d8576b"
             ],
             [
              0.6666666666666666,
              "#ed7953"
             ],
             [
              0.7777777777777778,
              "#fb9f3a"
             ],
             [
              0.8888888888888888,
              "#fdca26"
             ],
             [
              1,
              "#f0f921"
             ]
            ],
            "type": "histogram2d"
           }
          ],
          "histogram2dcontour": [
           {
            "colorbar": {
             "outlinewidth": 0,
             "ticks": ""
            },
            "colorscale": [
             [
              0,
              "#0d0887"
             ],
             [
              0.1111111111111111,
              "#46039f"
             ],
             [
              0.2222222222222222,
              "#7201a8"
             ],
             [
              0.3333333333333333,
              "#9c179e"
             ],
             [
              0.4444444444444444,
              "#bd3786"
             ],
             [
              0.5555555555555556,
              "#d8576b"
             ],
             [
              0.6666666666666666,
              "#ed7953"
             ],
             [
              0.7777777777777778,
              "#fb9f3a"
             ],
             [
              0.8888888888888888,
              "#fdca26"
             ],
             [
              1,
              "#f0f921"
             ]
            ],
            "type": "histogram2dcontour"
           }
          ],
          "mesh3d": [
           {
            "colorbar": {
             "outlinewidth": 0,
             "ticks": ""
            },
            "type": "mesh3d"
           }
          ],
          "parcoords": [
           {
            "line": {
             "colorbar": {
              "outlinewidth": 0,
              "ticks": ""
             }
            },
            "type": "parcoords"
           }
          ],
          "pie": [
           {
            "automargin": true,
            "type": "pie"
           }
          ],
          "scatter": [
           {
            "fillpattern": {
             "fillmode": "overlay",
             "size": 10,
             "solidity": 0.2
            },
            "type": "scatter"
           }
          ],
          "scatter3d": [
           {
            "line": {
             "colorbar": {
              "outlinewidth": 0,
              "ticks": ""
             }
            },
            "marker": {
             "colorbar": {
              "outlinewidth": 0,
              "ticks": ""
             }
            },
            "type": "scatter3d"
           }
          ],
          "scattercarpet": [
           {
            "marker": {
             "colorbar": {
              "outlinewidth": 0,
              "ticks": ""
             }
            },
            "type": "scattercarpet"
           }
          ],
          "scattergeo": [
           {
            "marker": {
             "colorbar": {
              "outlinewidth": 0,
              "ticks": ""
             }
            },
            "type": "scattergeo"
           }
          ],
          "scattergl": [
           {
            "marker": {
             "colorbar": {
              "outlinewidth": 0,
              "ticks": ""
             }
            },
            "type": "scattergl"
           }
          ],
          "scattermap": [
           {
            "marker": {
             "colorbar": {
              "outlinewidth": 0,
              "ticks": ""
             }
            },
            "type": "scattermap"
           }
          ],
          "scattermapbox": [
           {
            "marker": {
             "colorbar": {
              "outlinewidth": 0,
              "ticks": ""
             }
            },
            "type": "scattermapbox"
           }
          ],
          "scatterpolar": [
           {
            "marker": {
             "colorbar": {
              "outlinewidth": 0,
              "ticks": ""
             }
            },
            "type": "scatterpolar"
           }
          ],
          "scatterpolargl": [
           {
            "marker": {
             "colorbar": {
              "outlinewidth": 0,
              "ticks": ""
             }
            },
            "type": "scatterpolargl"
           }
          ],
          "scatterternary": [
           {
            "marker": {
             "colorbar": {
              "outlinewidth": 0,
              "ticks": ""
             }
            },
            "type": "scatterternary"
           }
          ],
          "surface": [
           {
            "colorbar": {
             "outlinewidth": 0,
             "ticks": ""
            },
            "colorscale": [
             [
              0,
              "#0d0887"
             ],
             [
              0.1111111111111111,
              "#46039f"
             ],
             [
              0.2222222222222222,
              "#7201a8"
             ],
             [
              0.3333333333333333,
              "#9c179e"
             ],
             [
              0.4444444444444444,
              "#bd3786"
             ],
             [
              0.5555555555555556,
              "#d8576b"
             ],
             [
              0.6666666666666666,
              "#ed7953"
             ],
             [
              0.7777777777777778,
              "#fb9f3a"
             ],
             [
              0.8888888888888888,
              "#fdca26"
             ],
             [
              1,
              "#f0f921"
             ]
            ],
            "type": "surface"
           }
          ],
          "table": [
           {
            "cells": {
             "fill": {
              "color": "#EBF0F8"
             },
             "line": {
              "color": "white"
             }
            },
            "header": {
             "fill": {
              "color": "#C8D4E3"
             },
             "line": {
              "color": "white"
             }
            },
            "type": "table"
           }
          ]
         },
         "layout": {
          "annotationdefaults": {
           "arrowcolor": "#2a3f5f",
           "arrowhead": 0,
           "arrowwidth": 1
          },
          "autotypenumbers": "strict",
          "coloraxis": {
           "colorbar": {
            "outlinewidth": 0,
            "ticks": ""
           }
          },
          "colorscale": {
           "diverging": [
            [
             0,
             "#8e0152"
            ],
            [
             0.1,
             "#c51b7d"
            ],
            [
             0.2,
             "#de77ae"
            ],
            [
             0.3,
             "#f1b6da"
            ],
            [
             0.4,
             "#fde0ef"
            ],
            [
             0.5,
             "#f7f7f7"
            ],
            [
             0.6,
             "#e6f5d0"
            ],
            [
             0.7,
             "#b8e186"
            ],
            [
             0.8,
             "#7fbc41"
            ],
            [
             0.9,
             "#4d9221"
            ],
            [
             1,
             "#276419"
            ]
           ],
           "sequential": [
            [
             0,
             "#0d0887"
            ],
            [
             0.1111111111111111,
             "#46039f"
            ],
            [
             0.2222222222222222,
             "#7201a8"
            ],
            [
             0.3333333333333333,
             "#9c179e"
            ],
            [
             0.4444444444444444,
             "#bd3786"
            ],
            [
             0.5555555555555556,
             "#d8576b"
            ],
            [
             0.6666666666666666,
             "#ed7953"
            ],
            [
             0.7777777777777778,
             "#fb9f3a"
            ],
            [
             0.8888888888888888,
             "#fdca26"
            ],
            [
             1,
             "#f0f921"
            ]
           ],
           "sequentialminus": [
            [
             0,
             "#0d0887"
            ],
            [
             0.1111111111111111,
             "#46039f"
            ],
            [
             0.2222222222222222,
             "#7201a8"
            ],
            [
             0.3333333333333333,
             "#9c179e"
            ],
            [
             0.4444444444444444,
             "#bd3786"
            ],
            [
             0.5555555555555556,
             "#d8576b"
            ],
            [
             0.6666666666666666,
             "#ed7953"
            ],
            [
             0.7777777777777778,
             "#fb9f3a"
            ],
            [
             0.8888888888888888,
             "#fdca26"
            ],
            [
             1,
             "#f0f921"
            ]
           ]
          },
          "colorway": [
           "#636efa",
           "#EF553B",
           "#00cc96",
           "#ab63fa",
           "#FFA15A",
           "#19d3f3",
           "#FF6692",
           "#B6E880",
           "#FF97FF",
           "#FECB52"
          ],
          "font": {
           "color": "#2a3f5f"
          },
          "geo": {
           "bgcolor": "white",
           "lakecolor": "white",
           "landcolor": "white",
           "showlakes": true,
           "showland": true,
           "subunitcolor": "#C8D4E3"
          },
          "hoverlabel": {
           "align": "left"
          },
          "hovermode": "closest",
          "mapbox": {
           "style": "light"
          },
          "paper_bgcolor": "white",
          "plot_bgcolor": "white",
          "polar": {
           "angularaxis": {
            "gridcolor": "#EBF0F8",
            "linecolor": "#EBF0F8",
            "ticks": ""
           },
           "bgcolor": "white",
           "radialaxis": {
            "gridcolor": "#EBF0F8",
            "linecolor": "#EBF0F8",
            "ticks": ""
           }
          },
          "scene": {
           "xaxis": {
            "backgroundcolor": "white",
            "gridcolor": "#DFE8F3",
            "gridwidth": 2,
            "linecolor": "#EBF0F8",
            "showbackground": true,
            "ticks": "",
            "zerolinecolor": "#EBF0F8"
           },
           "yaxis": {
            "backgroundcolor": "white",
            "gridcolor": "#DFE8F3",
            "gridwidth": 2,
            "linecolor": "#EBF0F8",
            "showbackground": true,
            "ticks": "",
            "zerolinecolor": "#EBF0F8"
           },
           "zaxis": {
            "backgroundcolor": "white",
            "gridcolor": "#DFE8F3",
            "gridwidth": 2,
            "linecolor": "#EBF0F8",
            "showbackground": true,
            "ticks": "",
            "zerolinecolor": "#EBF0F8"
           }
          },
          "shapedefaults": {
           "line": {
            "color": "#2a3f5f"
           }
          },
          "ternary": {
           "aaxis": {
            "gridcolor": "#DFE8F3",
            "linecolor": "#A2B1C6",
            "ticks": ""
           },
           "baxis": {
            "gridcolor": "#DFE8F3",
            "linecolor": "#A2B1C6",
            "ticks": ""
           },
           "bgcolor": "white",
           "caxis": {
            "gridcolor": "#DFE8F3",
            "linecolor": "#A2B1C6",
            "ticks": ""
           }
          },
          "title": {
           "x": 0.05
          },
          "xaxis": {
           "automargin": true,
           "gridcolor": "#EBF0F8",
           "linecolor": "#EBF0F8",
           "ticks": "",
           "title": {
            "standoff": 15
           },
           "zerolinecolor": "#EBF0F8",
           "zerolinewidth": 2
          },
          "yaxis": {
           "automargin": true,
           "gridcolor": "#EBF0F8",
           "linecolor": "#EBF0F8",
           "ticks": "",
           "title": {
            "standoff": 15
           },
           "zerolinecolor": "#EBF0F8",
           "zerolinewidth": 2
          }
         }
        },
        "title": {
         "font": {
          "color": "Black",
          "size": 22
         },
         "text": "<b>Hierarchical Clustering</b>",
         "x": 0.5,
         "xanchor": "center",
         "yanchor": "top"
        },
        "width": 1000,
        "xaxis": {
         "mirror": "allticks",
         "rangemode": "tozero",
         "showgrid": false,
         "showline": true,
         "showticklabels": true,
         "ticks": "outside",
         "type": "linear",
         "zeroline": false
        },
        "yaxis": {
         "mirror": "allticks",
         "range": [
          -390,
          0
         ],
         "rangemode": "tozero",
         "showgrid": false,
         "showline": true,
         "showticklabels": true,
         "tickmode": "array",
         "ticks": "outside",
         "ticktext": [
          "Crypto & Blockchain",
          "AI & Machine Learning",
          "Veganism & Diets",
          "General Activities",
          "Organic Food",
          "Agriculture",
          "Sustainability",
          "Climate Change",
          "Nature & Outdoors",
          "Weather",
          "Pets & Animals",
          "Urban Life",
          "Mental Health",
          "Self-Improvement",
          "Programming",
          "Gadgets & Devices",
          "Social Media",
          "Relationships",
          "Traveling",
          "Gaming",
          "Trivia & Fun Facts",
          "Fashion & Style",
          "Music",
          "Movies & TV",
          "Sports & Fitness",
          "Physical Health",
          "War & Conflict",
          "Personal Finance",
          "Economy",
          "Journalism",
          "Social Issues",
          "Politics",
          "Religion",
          "Immigration",
          "Law & Justice",
          "Human Rights",
          "Business & Startups",
          "School & Education",
          "Books & Literature"
         ],
         "tickvals": [
          -5,
          -15,
          -25,
          -35,
          -45,
          -55,
          -65,
          -75,
          -85,
          -95,
          -105,
          -115,
          -125,
          -135,
          -145,
          -155,
          -165,
          -175,
          -185,
          -195,
          -205,
          -215,
          -225,
          -235,
          -245,
          -255,
          -265,
          -275,
          -285,
          -295,
          -305,
          -315,
          -325,
          -335,
          -345,
          -355,
          -365,
          -375,
          -385
         ],
         "type": "linear",
         "zeroline": false
        }
       }
      },
      "image/png": "[encoded data removed]"
     },
     "metadata": {},
     "output_type": "display_data"
    }
   ],
   "source": [
    "topic_model.visualize_hierarchy(custom_labels=True)"
   ]
  },
  {
   "cell_type": "code",
   "execution_count": 17,
   "id": "GIDPJ9ESLISg",
   "metadata": {
    "colab": {
     "base_uri": "https://localhost:8080/",
     "height": 667
    },
    "executionInfo": {
     "elapsed": 518,
     "status": "ok",
     "timestamp": 1748641811622,
     "user": {
      "displayName": "ANGELO NAZZARO",
      "userId": "17012636126706741599"
     },
     "user_tz": -120
    },
    "id": "GIDPJ9ESLISg",
    "outputId": "b8285158-100e-422c-e207-0a236dc4c8fe"
   },
   "outputs": [
    {
     "data": {
      "application/vnd.plotly.v1+json": {
       "config": {
        "plotlyServerURL": "https://plot.ly"
       },
       "data": [
        {
         "customdata": [
          [
           0,
           "Social Media",
           224046
          ],
          [
           1,
           "Politics",
           138541
          ],
          [
           2,
           "Gaming",
           82030
          ],
          [
           3,
           "General Activities",
           68719
          ],
          [
           4,
           "Music",
           53523
          ],
          [
           5,
           "Traveling",
           48296
          ],
          [
           6,
           "Fashion & Style",
           45161
          ],
          [
           7,
           "Gadgets & Devices",
           54261
          ],
          [
           8,
           "Programming",
           41244
          ],
          [
           9,
           "Relationships",
           65085
          ],
          [
           10,
           "Weather",
           28130
          ],
          [
           11,
           "Movies & TV",
           27928
          ],
          [
           12,
           "Religion",
           23633
          ],
          [
           13,
           "Pets & Animals",
           20389
          ],
          [
           14,
           "Journalism",
           15676
          ],
          [
           15,
           "Books & Literature",
           12958
          ],
          [
           16,
           "Trivia & Fun Facts",
           12524
          ],
          [
           17,
           "Self-Improvement",
           12456
          ],
          [
           18,
           "Climate Change",
           11976
          ],
          [
           19,
           "Immigration",
           11249
          ],
          [
           20,
           "Urban Life",
           10895
          ],
          [
           21,
           "Mental Health",
           10887
          ],
          [
           22,
           "Agriculture",
           9430
          ],
          [
           23,
           "Personal Finance",
           9025
          ],
          [
           24,
           "Nature & Outdoors",
           8642
          ],
          [
           25,
           "Social Issues",
           8261
          ],
          [
           26,
           "War & Conflict",
           6507
          ],
          [
           27,
           "Sports & Fitness",
           6470
          ],
          [
           28,
           "Law & Justice",
           5874
          ],
          [
           29,
           "Sustainability",
           5852
          ],
          [
           30,
           "Organic Food",
           5582
          ],
          [
           31,
           "Economy",
           8782
          ],
          [
           32,
           "AI & Machine Learning",
           4492
          ],
          [
           33,
           "Human Rights",
           3736
          ],
          [
           34,
           "Physical Health",
           3685
          ],
          [
           35,
           "School & Education",
           3320
          ],
          [
           36,
           "Crypto & Blockchain",
           2520
          ],
          [
           37,
           "Business & Startups",
           2074
          ],
          [
           38,
           "Veganism & Diets",
           1734
          ]
         ],
         "hovertemplate": "<b>Topic %{customdata[0]}</b><br>%{customdata[1]}<br>Size: %{customdata[2]}",
         "legendgroup": "",
         "marker": {
          "color": "#B0BEC5",
          "line": {
           "color": "DarkSlateGrey",
           "width": 2
          },
          "size": {
           "bdata": "LmsDAC0dAgBuQAEAbwwBABPRAACovAAAabAAAPXTAAAcoQAAPf4AAOJtAAAYbQAAUVwAAKVPAAA8PQAAnjIAAOwwAACoMAAAyC4AAPErAACPKgAAhyoAANYkAABBIwAAwiEAAEUgAABrGQAARhkAAPIWAADcFgAAzhUAAE4iAACMEQAAmA4AAGUOAAD4DAAA2AkAABoIAADGBgAA",
           "dtype": "i4"
          },
          "sizemode": "area",
          "sizeref": 140.02875,
          "symbol": "circle"
         },
         "mode": "markers",
         "name": "",
         "orientation": "v",
         "showlegend": false,
         "type": "scatter",
         "x": {
          "bdata": "/ShyQaVBor3jACZAd1HHP1MDaEGy73NBk5V0QefFa0HRjXJBiBtxQXESHcDo6E7AP0EWQNyudEHeY0PA1zsSQL7JCEBCLfm/BPEXwKPXGsDyp3hBVsQhQNxMmz9Y02lB7aVzQU0ACMDBOB6+Rxg2QMFQlz17ktM/mdwbQEm5XcBNVPI/8FcVwLHGFkCAFX5Bt49oQV9WZUG1zBBA",
          "dtype": "f4"
         },
         "xaxis": "x",
         "y": {
          "bdata": "rhXlQMWcmEBnruZAlUM+QI61AkFCwuhAakLFQEDHAEFv0f5AaVTPQISHo0AjK2tA6SriQLWKEEGSo2tASJXOQJUN6EB5hY9AT2CeQLJvhEAJ1AhB4M3HQDODU0A/Z81A4SwRQRCfgkCn4ZRAjkPhQP2/kUAomjhA8Yu3QBEieEALCs1AZx2JQB/Lx0DKLghB3krKQJrmxkBWLa9A",
          "dtype": "f4"
         },
         "yaxis": "y"
        }
       ],
       "layout": {
        "annotations": [
         {
          "showarrow": false,
          "text": "D1",
          "x": -3.9840989112854004,
          "y": 6.443111419677734,
          "yshift": 10
         },
         {
          "showarrow": false,
          "text": "D2",
          "x": 7.139094352722168,
          "xshift": 10,
          "y": 10.43447494506836
         }
        ],
        "height": 650,
        "hoverlabel": {
         "bgcolor": "white",
         "font": {
          "family": "Rockwell",
          "size": 16
         }
        },
        "legend": {
         "itemsizing": "constant",
         "tracegroupgap": 0
        },
        "margin": {
         "t": 60
        },
        "shapes": [
         {
          "line": {
           "color": "#CFD8DC",
           "width": 2
          },
          "type": "line",
          "x0": 7.139094352722168,
          "x1": 7.139094352722168,
          "y0": 2.4517476558685303,
          "y1": 10.43447494506836
         },
         {
          "line": {
           "color": "#9E9E9E",
           "width": 2
          },
          "type": "line",
          "x0": -3.9840989112854004,
          "x1": 18.262287139892578,
          "y0": 6.443111419677734,
          "y1": 6.443111419677734
         }
        ],
        "sliders": [
         {
          "active": 0,
          "pad": {
           "t": 50
          },
          "steps": [
           {
            "args": [
             {
              "marker.color": [
               [
                "red",
                "#B0BEC5",
                "#B0BEC5",
                "#B0BEC5",
                "#B0BEC5",
                "#B0BEC5",
                "#B0BEC5",
                "#B0BEC5",
                "#B0BEC5",
                "#B0BEC5",
                "#B0BEC5",
                "#B0BEC5",
                "#B0BEC5",
                "#B0BEC5",
                "#B0BEC5",
                "#B0BEC5",
                "#B0BEC5",
                "#B0BEC5",
                "#B0BEC5",
                "#B0BEC5",
                "#B0BEC5",
                "#B0BEC5",
                "#B0BEC5",
                "#B0BEC5",
                "#B0BEC5",
                "#B0BEC5",
                "#B0BEC5",
                "#B0BEC5",
                "#B0BEC5",
                "#B0BEC5",
                "#B0BEC5",
                "#B0BEC5",
                "#B0BEC5",
                "#B0BEC5",
                "#B0BEC5",
                "#B0BEC5",
                "#B0BEC5",
                "#B0BEC5",
                "#B0BEC5"
               ]
              ]
             }
            ],
            "label": "Topic 0",
            "method": "update"
           },
           {
            "args": [
             {
              "marker.color": [
               [
                "#B0BEC5",
                "red",
                "#B0BEC5",
                "#B0BEC5",
                "#B0BEC5",
                "#B0BEC5",
                "#B0BEC5",
                "#B0BEC5",
                "#B0BEC5",
                "#B0BEC5",
                "#B0BEC5",
                "#B0BEC5",
                "#B0BEC5",
                "#B0BEC5",
                "#B0BEC5",
                "#B0BEC5",
                "#B0BEC5",
                "#B0BEC5",
                "#B0BEC5",
                "#B0BEC5",
                "#B0BEC5",
                "#B0BEC5",
                "#B0BEC5",
                "#B0BEC5",
                "#B0BEC5",
                "#B0BEC5",
                "#B0BEC5",
                "#B0BEC5",
                "#B0BEC5",
                "#B0BEC5",
                "#B0BEC5",
                "#B0BEC5",
                "#B0BEC5",
                "#B0BEC5",
                "#B0BEC5",
                "#B0BEC5",
                "#B0BEC5",
                "#B0BEC5",
                "#B0BEC5"
               ]
              ]
             }
            ],
            "label": "Topic 1",
            "method": "update"
           },
           {
            "args": [
             {
              "marker.color": [
               [
                "#B0BEC5",
                "#B0BEC5",
                "red",
                "#B0BEC5",
                "#B0BEC5",
                "#B0BEC5",
                "#B0BEC5",
                "#B0BEC5",
                "#B0BEC5",
                "#B0BEC5",
                "#B0BEC5",
                "#B0BEC5",
                "#B0BEC5",
                "#B0BEC5",
                "#B0BEC5",
                "#B0BEC5",
                "#B0BEC5",
                "#B0BEC5",
                "#B0BEC5",
                "#B0BEC5",
                "#B0BEC5",
                "#B0BEC5",
                "#B0BEC5",
                "#B0BEC5",
                "#B0BEC5",
                "#B0BEC5",
                "#B0BEC5",
                "#B0BEC5",
                "#B0BEC5",
                "#B0BEC5",
                "#B0BEC5",
                "#B0BEC5",
                "#B0BEC5",
                "#B0BEC5",
                "#B0BEC5",
                "#B0BEC5",
                "#B0BEC5",
                "#B0BEC5",
                "#B0BEC5"
               ]
              ]
             }
            ],
            "label": "Topic 2",
            "method": "update"
           },
           {
            "args": [
             {
              "marker.color": [
               [
                "#B0BEC5",
                "#B0BEC5",
                "#B0BEC5",
                "red",
                "#B0BEC5",
                "#B0BEC5",
                "#B0BEC5",
                "#B0BEC5",
                "#B0BEC5",
                "#B0BEC5",
                "#B0BEC5",
                "#B0BEC5",
                "#B0BEC5",
                "#B0BEC5",
                "#B0BEC5",
                "#B0BEC5",
                "#B0BEC5",
                "#B0BEC5",
                "#B0BEC5",
                "#B0BEC5",
                "#B0BEC5",
                "#B0BEC5",
                "#B0BEC5",
                "#B0BEC5",
                "#B0BEC5",
                "#B0BEC5",
                "#B0BEC5",
                "#B0BEC5",
                "#B0BEC5",
                "#B0BEC5",
                "#B0BEC5",
                "#B0BEC5",
                "#B0BEC5",
                "#B0BEC5",
                "#B0BEC5",
                "#B0BEC5",
                "#B0BEC5",
                "#B0BEC5",
                "#B0BEC5"
               ]
              ]
             }
            ],
            "label": "Topic 3",
            "method": "update"
           },
           {
            "args": [
             {
              "marker.color": [
               [
                "#B0BEC5",
                "#B0BEC5",
                "#B0BEC5",
                "#B0BEC5",
                "red",
                "#B0BEC5",
                "#B0BEC5",
                "#B0BEC5",
                "#B0BEC5",
                "#B0BEC5",
                "#B0BEC5",
                "#B0BEC5",
                "#B0BEC5",
                "#B0BEC5",
                "#B0BEC5",
                "#B0BEC5",
                "#B0BEC5",
                "#B0BEC5",
                "#B0BEC5",
                "#B0BEC5",
                "#B0BEC5",
                "#B0BEC5",
                "#B0BEC5",
                "#B0BEC5",
                "#B0BEC5",
                "#B0BEC5",
                "#B0BEC5",
                "#B0BEC5",
                "#B0BEC5",
                "#B0BEC5",
                "#B0BEC5",
                "#B0BEC5",
                "#B0BEC5",
                "#B0BEC5",
                "#B0BEC5",
                "#B0BEC5",
                "#B0BEC5",
                "#B0BEC5",
                "#B0BEC5"
               ]
              ]
             }
            ],
            "label": "Topic 4",
            "method": "update"
           },
           {
            "args": [
             {
              "marker.color": [
               [
                "#B0BEC5",
                "#B0BEC5",
                "#B0BEC5",
                "#B0BEC5",
                "#B0BEC5",
                "red",
                "#B0BEC5",
                "#B0BEC5",
                "#B0BEC5",
                "#B0BEC5",
                "#B0BEC5",
                "#B0BEC5",
                "#B0BEC5",
                "#B0BEC5",
                "#B0BEC5",
                "#B0BEC5",
                "#B0BEC5",
                "#B0BEC5",
                "#B0BEC5",
                "#B0BEC5",
                "#B0BEC5",
                "#B0BEC5",
                "#B0BEC5",
                "#B0BEC5",
                "#B0BEC5",
                "#B0BEC5",
                "#B0BEC5",
                "#B0BEC5",
                "#B0BEC5",
                "#B0BEC5",
                "#B0BEC5",
                "#B0BEC5",
                "#B0BEC5",
                "#B0BEC5",
                "#B0BEC5",
                "#B0BEC5",
                "#B0BEC5",
                "#B0BEC5",
                "#B0BEC5"
               ]
              ]
             }
            ],
            "label": "Topic 5",
            "method": "update"
           },
           {
            "args": [
             {
              "marker.color": [
               [
                "#B0BEC5",
                "#B0BEC5",
                "#B0BEC5",
                "#B0BEC5",
                "#B0BEC5",
                "#B0BEC5",
                "red",
                "#B0BEC5",
                "#B0BEC5",
                "#B0BEC5",
                "#B0BEC5",
                "#B0BEC5",
                "#B0BEC5",
                "#B0BEC5",
                "#B0BEC5",
                "#B0BEC5",
                "#B0BEC5",
                "#B0BEC5",
                "#B0BEC5",
                "#B0BEC5",
                "#B0BEC5",
                "#B0BEC5",
                "#B0BEC5",
                "#B0BEC5",
                "#B0BEC5",
                "#B0BEC5",
                "#B0BEC5",
                "#B0BEC5",
                "#B0BEC5",
                "#B0BEC5",
                "#B0BEC5",
                "#B0BEC5",
                "#B0BEC5",
                "#B0BEC5",
                "#B0BEC5",
                "#B0BEC5",
                "#B0BEC5",
                "#B0BEC5",
                "#B0BEC5"
               ]
              ]
             }
            ],
            "label": "Topic 6",
            "method": "update"
           },
           {
            "args": [
             {
              "marker.color": [
               [
                "#B0BEC5",
                "#B0BEC5",
                "#B0BEC5",
                "#B0BEC5",
                "#B0BEC5",
                "#B0BEC5",
                "#B0BEC5",
                "red",
                "#B0BEC5",
                "#B0BEC5",
                "#B0BEC5",
                "#B0BEC5",
                "#B0BEC5",
                "#B0BEC5",
                "#B0BEC5",
                "#B0BEC5",
                "#B0BEC5",
                "#B0BEC5",
                "#B0BEC5",
                "#B0BEC5",
                "#B0BEC5",
                "#B0BEC5",
                "#B0BEC5",
                "#B0BEC5",
                "#B0BEC5",
                "#B0BEC5",
                "#B0BEC5",
                "#B0BEC5",
                "#B0BEC5",
                "#B0BEC5",
                "#B0BEC5",
                "#B0BEC5",
                "#B0BEC5",
                "#B0BEC5",
                "#B0BEC5",
                "#B0BEC5",
                "#B0BEC5",
                "#B0BEC5",
                "#B0BEC5"
               ]
              ]
             }
            ],
            "label": "Topic 7",
            "method": "update"
           },
           {
            "args": [
             {
              "marker.color": [
               [
                "#B0BEC5",
                "#B0BEC5",
                "#B0BEC5",
                "#B0BEC5",
                "#B0BEC5",
                "#B0BEC5",
                "#B0BEC5",
                "#B0BEC5",
                "red",
                "#B0BEC5",
                "#B0BEC5",
                "#B0BEC5",
                "#B0BEC5",
                "#B0BEC5",
                "#B0BEC5",
                "#B0BEC5",
                "#B0BEC5",
                "#B0BEC5",
                "#B0BEC5",
                "#B0BEC5",
                "#B0BEC5",
                "#B0BEC5",
                "#B0BEC5",
                "#B0BEC5",
                "#B0BEC5",
                "#B0BEC5",
                "#B0BEC5",
                "#B0BEC5",
                "#B0BEC5",
                "#B0BEC5",
                "#B0BEC5",
                "#B0BEC5",
                "#B0BEC5",
                "#B0BEC5",
                "#B0BEC5",
                "#B0BEC5",
                "#B0BEC5",
                "#B0BEC5",
                "#B0BEC5"
               ]
              ]
             }
            ],
            "label": "Topic 8",
            "method": "update"
           },
           {
            "args": [
             {
              "marker.color": [
               [
                "#B0BEC5",
                "#B0BEC5",
                "#B0BEC5",
                "#B0BEC5",
                "#B0BEC5",
                "#B0BEC5",
                "#B0BEC5",
                "#B0BEC5",
                "#B0BEC5",
                "red",
                "#B0BEC5",
                "#B0BEC5",
                "#B0BEC5",
                "#B0BEC5",
                "#B0BEC5",
                "#B0BEC5",
                "#B0BEC5",
                "#B0BEC5",
                "#B0BEC5",
                "#B0BEC5",
                "#B0BEC5",
                "#B0BEC5",
                "#B0BEC5",
                "#B0BEC5",
                "#B0BEC5",
                "#B0BEC5",
                "#B0BEC5",
                "#B0BEC5",
                "#B0BEC5",
                "#B0BEC5",
                "#B0BEC5",
                "#B0BEC5",
                "#B0BEC5",
                "#B0BEC5",
                "#B0BEC5",
                "#B0BEC5",
                "#B0BEC5",
                "#B0BEC5",
                "#B0BEC5"
               ]
              ]
             }
            ],
            "label": "Topic 9",
            "method": "update"
           },
           {
            "args": [
             {
              "marker.color": [
               [
                "#B0BEC5",
                "#B0BEC5",
                "#B0BEC5",
                "#B0BEC5",
                "#B0BEC5",
                "#B0BEC5",
                "#B0BEC5",
                "#B0BEC5",
                "#B0BEC5",
                "#B0BEC5",
                "red",
                "#B0BEC5",
                "#B0BEC5",
                "#B0BEC5",
                "#B0BEC5",
                "#B0BEC5",
                "#B0BEC5",
                "#B0BEC5",
                "#B0BEC5",
                "#B0BEC5",
                "#B0BEC5",
                "#B0BEC5",
                "#B0BEC5",
                "#B0BEC5",
                "#B0BEC5",
                "#B0BEC5",
                "#B0BEC5",
                "#B0BEC5",
                "#B0BEC5",
                "#B0BEC5",
                "#B0BEC5",
                "#B0BEC5",
                "#B0BEC5",
                "#B0BEC5",
                "#B0BEC5",
                "#B0BEC5",
                "#B0BEC5",
                "#B0BEC5",
                "#B0BEC5"
               ]
              ]
             }
            ],
            "label": "Topic 10",
            "method": "update"
           },
           {
            "args": [
             {
              "marker.color": [
               [
                "#B0BEC5",
                "#B0BEC5",
                "#B0BEC5",
                "#B0BEC5",
                "#B0BEC5",
                "#B0BEC5",
                "#B0BEC5",
                "#B0BEC5",
                "#B0BEC5",
                "#B0BEC5",
                "#B0BEC5",
                "red",
                "#B0BEC5",
                "#B0BEC5",
                "#B0BEC5",
                "#B0BEC5",
                "#B0BEC5",
                "#B0BEC5",
                "#B0BEC5",
                "#B0BEC5",
                "#B0BEC5",
                "#B0BEC5",
                "#B0BEC5",
                "#B0BEC5",
                "#B0BEC5",
                "#B0BEC5",
                "#B0BEC5",
                "#B0BEC5",
                "#B0BEC5",
                "#B0BEC5",
                "#B0BEC5",
                "#B0BEC5",
                "#B0BEC5",
                "#B0BEC5",
                "#B0BEC5",
                "#B0BEC5",
                "#B0BEC5",
                "#B0BEC5",
                "#B0BEC5"
               ]
              ]
             }
            ],
            "label": "Topic 11",
            "method": "update"
           },
           {
            "args": [
             {
              "marker.color": [
               [
                "#B0BEC5",
                "#B0BEC5",
                "#B0BEC5",
                "#B0BEC5",
                "#B0BEC5",
                "#B0BEC5",
                "#B0BEC5",
                "#B0BEC5",
                "#B0BEC5",
                "#B0BEC5",
                "#B0BEC5",
                "#B0BEC5",
                "red",
                "#B0BEC5",
                "#B0BEC5",
                "#B0BEC5",
                "#B0BEC5",
                "#B0BEC5",
                "#B0BEC5",
                "#B0BEC5",
                "#B0BEC5",
                "#B0BEC5",
                "#B0BEC5",
                "#B0BEC5",
                "#B0BEC5",
                "#B0BEC5",
                "#B0BEC5",
                "#B0BEC5",
                "#B0BEC5",
                "#B0BEC5",
                "#B0BEC5",
                "#B0BEC5",
                "#B0BEC5",
                "#B0BEC5",
                "#B0BEC5",
                "#B0BEC5",
                "#B0BEC5",
                "#B0BEC5",
                "#B0BEC5"
               ]
              ]
             }
            ],
            "label": "Topic 12",
            "method": "update"
           },
           {
            "args": [
             {
              "marker.color": [
               [
                "#B0BEC5",
                "#B0BEC5",
                "#B0BEC5",
                "#B0BEC5",
                "#B0BEC5",
                "#B0BEC5",
                "#B0BEC5",
                "#B0BEC5",
                "#B0BEC5",
                "#B0BEC5",
                "#B0BEC5",
                "#B0BEC5",
                "#B0BEC5",
                "red",
                "#B0BEC5",
                "#B0BEC5",
                "#B0BEC5",
                "#B0BEC5",
                "#B0BEC5",
                "#B0BEC5",
                "#B0BEC5",
                "#B0BEC5",
                "#B0BEC5",
                "#B0BEC5",
                "#B0BEC5",
                "#B0BEC5",
                "#B0BEC5",
                "#B0BEC5",
                "#B0BEC5",
                "#B0BEC5",
                "#B0BEC5",
                "#B0BEC5",
                "#B0BEC5",
                "#B0BEC5",
                "#B0BEC5",
                "#B0BEC5",
                "#B0BEC5",
                "#B0BEC5",
                "#B0BEC5"
               ]
              ]
             }
            ],
            "label": "Topic 13",
            "method": "update"
           },
           {
            "args": [
             {
              "marker.color": [
               [
                "#B0BEC5",
                "#B0BEC5",
                "#B0BEC5",
                "#B0BEC5",
                "#B0BEC5",
                "#B0BEC5",
                "#B0BEC5",
                "#B0BEC5",
                "#B0BEC5",
                "#B0BEC5",
                "#B0BEC5",
                "#B0BEC5",
                "#B0BEC5",
                "#B0BEC5",
                "red",
                "#B0BEC5",
                "#B0BEC5",
                "#B0BEC5",
                "#B0BEC5",
                "#B0BEC5",
                "#B0BEC5",
                "#B0BEC5",
                "#B0BEC5",
                "#B0BEC5",
                "#B0BEC5",
                "#B0BEC5",
                "#B0BEC5",
                "#B0BEC5",
                "#B0BEC5",
                "#B0BEC5",
                "#B0BEC5",
                "#B0BEC5",
                "#B0BEC5",
                "#B0BEC5",
                "#B0BEC5",
                "#B0BEC5",
                "#B0BEC5",
                "#B0BEC5",
                "#B0BEC5"
               ]
              ]
             }
            ],
            "label": "Topic 14",
            "method": "update"
           },
           {
            "args": [
             {
              "marker.color": [
               [
                "#B0BEC5",
                "#B0BEC5",
                "#B0BEC5",
                "#B0BEC5",
                "#B0BEC5",
                "#B0BEC5",
                "#B0BEC5",
                "#B0BEC5",
                "#B0BEC5",
                "#B0BEC5",
                "#B0BEC5",
                "#B0BEC5",
                "#B0BEC5",
                "#B0BEC5",
                "#B0BEC5",
                "red",
                "#B0BEC5",
                "#B0BEC5",
                "#B0BEC5",
                "#B0BEC5",
                "#B0BEC5",
                "#B0BEC5",
                "#B0BEC5",
                "#B0BEC5",
                "#B0BEC5",
                "#B0BEC5",
                "#B0BEC5",
                "#B0BEC5",
                "#B0BEC5",
                "#B0BEC5",
                "#B0BEC5",
                "#B0BEC5",
                "#B0BEC5",
                "#B0BEC5",
                "#B0BEC5",
                "#B0BEC5",
                "#B0BEC5",
                "#B0BEC5",
                "#B0BEC5"
               ]
              ]
             }
            ],
            "label": "Topic 15",
            "method": "update"
           },
           {
            "args": [
             {
              "marker.color": [
               [
                "#B0BEC5",
                "#B0BEC5",
                "#B0BEC5",
                "#B0BEC5",
                "#B0BEC5",
                "#B0BEC5",
                "#B0BEC5",
                "#B0BEC5",
                "#B0BEC5",
                "#B0BEC5",
                "#B0BEC5",
                "#B0BEC5",
                "#B0BEC5",
                "#B0BEC5",
                "#B0BEC5",
                "#B0BEC5",
                "red",
                "#B0BEC5",
                "#B0BEC5",
                "#B0BEC5",
                "#B0BEC5",
                "#B0BEC5",
                "#B0BEC5",
                "#B0BEC5",
                "#B0BEC5",
                "#B0BEC5",
                "#B0BEC5",
                "#B0BEC5",
                "#B0BEC5",
                "#B0BEC5",
                "#B0BEC5",
                "#B0BEC5",
                "#B0BEC5",
                "#B0BEC5",
                "#B0BEC5",
                "#B0BEC5",
                "#B0BEC5",
                "#B0BEC5",
                "#B0BEC5"
               ]
              ]
             }
            ],
            "label": "Topic 16",
            "method": "update"
           },
           {
            "args": [
             {
              "marker.color": [
               [
                "#B0BEC5",
                "#B0BEC5",
                "#B0BEC5",
                "#B0BEC5",
                "#B0BEC5",
                "#B0BEC5",
                "#B0BEC5",
                "#B0BEC5",
                "#B0BEC5",
                "#B0BEC5",
                "#B0BEC5",
                "#B0BEC5",
                "#B0BEC5",
                "#B0BEC5",
                "#B0BEC5",
                "#B0BEC5",
                "#B0BEC5",
                "red",
                "#B0BEC5",
                "#B0BEC5",
                "#B0BEC5",
                "#B0BEC5",
                "#B0BEC5",
                "#B0BEC5",
                "#B0BEC5",
                "#B0BEC5",
                "#B0BEC5",
                "#B0BEC5",
                "#B0BEC5",
                "#B0BEC5",
                "#B0BEC5",
                "#B0BEC5",
                "#B0BEC5",
                "#B0BEC5",
                "#B0BEC5",
                "#B0BEC5",
                "#B0BEC5",
                "#B0BEC5",
                "#B0BEC5"
               ]
              ]
             }
            ],
            "label": "Topic 17",
            "method": "update"
           },
           {
            "args": [
             {
              "marker.color": [
               [
                "#B0BEC5",
                "#B0BEC5",
                "#B0BEC5",
                "#B0BEC5",
                "#B0BEC5",
                "#B0BEC5",
                "#B0BEC5",
                "#B0BEC5",
                "#B0BEC5",
                "#B0BEC5",
                "#B0BEC5",
                "#B0BEC5",
                "#B0BEC5",
                "#B0BEC5",
                "#B0BEC5",
                "#B0BEC5",
                "#B0BEC5",
                "#B0BEC5",
                "red",
                "#B0BEC5",
                "#B0BEC5",
                "#B0BEC5",
                "#B0BEC5",
                "#B0BEC5",
                "#B0BEC5",
                "#B0BEC5",
                "#B0BEC5",
                "#B0BEC5",
                "#B0BEC5",
                "#B0BEC5",
                "#B0BEC5",
                "#B0BEC5",
                "#B0BEC5",
                "#B0BEC5",
                "#B0BEC5",
                "#B0BEC5",
                "#B0BEC5",
                "#B0BEC5",
                "#B0BEC5"
               ]
              ]
             }
            ],
            "label": "Topic 18",
            "method": "update"
           },
           {
            "args": [
             {
              "marker.color": [
               [
                "#B0BEC5",
                "#B0BEC5",
                "#B0BEC5",
                "#B0BEC5",
                "#B0BEC5",
                "#B0BEC5",
                "#B0BEC5",
                "#B0BEC5",
                "#B0BEC5",
                "#B0BEC5",
                "#B0BEC5",
                "#B0BEC5",
                "#B0BEC5",
                "#B0BEC5",
                "#B0BEC5",
                "#B0BEC5",
                "#B0BEC5",
                "#B0BEC5",
                "#B0BEC5",
                "red",
                "#B0BEC5",
                "#B0BEC5",
                "#B0BEC5",
                "#B0BEC5",
                "#B0BEC5",
                "#B0BEC5",
                "#B0BEC5",
                "#B0BEC5",
                "#B0BEC5",
                "#B0BEC5",
                "#B0BEC5",
                "#B0BEC5",
                "#B0BEC5",
                "#B0BEC5",
                "#B0BEC5",
                "#B0BEC5",
                "#B0BEC5",
                "#B0BEC5",
                "#B0BEC5"
               ]
              ]
             }
            ],
            "label": "Topic 19",
            "method": "update"
           },
           {
            "args": [
             {
              "marker.color": [
               [
                "#B0BEC5",
                "#B0BEC5",
                "#B0BEC5",
                "#B0BEC5",
                "#B0BEC5",
                "#B0BEC5",
                "#B0BEC5",
                "#B0BEC5",
                "#B0BEC5",
                "#B0BEC5",
                "#B0BEC5",
                "#B0BEC5",
                "#B0BEC5",
                "#B0BEC5",
                "#B0BEC5",
                "#B0BEC5",
                "#B0BEC5",
                "#B0BEC5",
                "#B0BEC5",
                "#B0BEC5",
                "red",
                "#B0BEC5",
                "#B0BEC5",
                "#B0BEC5",
                "#B0BEC5",
                "#B0BEC5",
                "#B0BEC5",
                "#B0BEC5",
                "#B0BEC5",
                "#B0BEC5",
                "#B0BEC5",
                "#B0BEC5",
                "#B0BEC5",
                "#B0BEC5",
                "#B0BEC5",
                "#B0BEC5",
                "#B0BEC5",
                "#B0BEC5",
                "#B0BEC5"
               ]
              ]
             }
            ],
            "label": "Topic 20",
            "method": "update"
           },
           {
            "args": [
             {
              "marker.color": [
               [
                "#B0BEC5",
                "#B0BEC5",
                "#B0BEC5",
                "#B0BEC5",
                "#B0BEC5",
                "#B0BEC5",
                "#B0BEC5",
                "#B0BEC5",
                "#B0BEC5",
                "#B0BEC5",
                "#B0BEC5",
                "#B0BEC5",
                "#B0BEC5",
                "#B0BEC5",
                "#B0BEC5",
                "#B0BEC5",
                "#B0BEC5",
                "#B0BEC5",
                "#B0BEC5",
                "#B0BEC5",
                "#B0BEC5",
                "red",
                "#B0BEC5",
                "#B0BEC5",
                "#B0BEC5",
                "#B0BEC5",
                "#B0BEC5",
                "#B0BEC5",
                "#B0BEC5",
                "#B0BEC5",
                "#B0BEC5",
                "#B0BEC5",
                "#B0BEC5",
                "#B0BEC5",
                "#B0BEC5",
                "#B0BEC5",
                "#B0BEC5",
                "#B0BEC5",
                "#B0BEC5"
               ]
              ]
             }
            ],
            "label": "Topic 21",
            "method": "update"
           },
           {
            "args": [
             {
              "marker.color": [
               [
                "#B0BEC5",
                "#B0BEC5",
                "#B0BEC5",
                "#B0BEC5",
                "#B0BEC5",
                "#B0BEC5",
                "#B0BEC5",
                "#B0BEC5",
                "#B0BEC5",
                "#B0BEC5",
                "#B0BEC5",
                "#B0BEC5",
                "#B0BEC5",
                "#B0BEC5",
                "#B0BEC5",
                "#B0BEC5",
                "#B0BEC5",
                "#B0BEC5",
                "#B0BEC5",
                "#B0BEC5",
                "#B0BEC5",
                "#B0BEC5",
                "red",
                "#B0BEC5",
                "#B0BEC5",
                "#B0BEC5",
                "#B0BEC5",
                "#B0BEC5",
                "#B0BEC5",
                "#B0BEC5",
                "#B0BEC5",
                "#B0BEC5",
                "#B0BEC5",
                "#B0BEC5",
                "#B0BEC5",
                "#B0BEC5",
                "#B0BEC5",
                "#B0BEC5",
                "#B0BEC5"
               ]
              ]
             }
            ],
            "label": "Topic 22",
            "method": "update"
           },
           {
            "args": [
             {
              "marker.color": [
               [
                "#B0BEC5",
                "#B0BEC5",
                "#B0BEC5",
                "#B0BEC5",
                "#B0BEC5",
                "#B0BEC5",
                "#B0BEC5",
                "#B0BEC5",
                "#B0BEC5",
                "#B0BEC5",
                "#B0BEC5",
                "#B0BEC5",
                "#B0BEC5",
                "#B0BEC5",
                "#B0BEC5",
                "#B0BEC5",
                "#B0BEC5",
                "#B0BEC5",
                "#B0BEC5",
                "#B0BEC5",
                "#B0BEC5",
                "#B0BEC5",
                "#B0BEC5",
                "red",
                "#B0BEC5",
                "#B0BEC5",
                "#B0BEC5",
                "#B0BEC5",
                "#B0BEC5",
                "#B0BEC5",
                "#B0BEC5",
                "#B0BEC5",
                "#B0BEC5",
                "#B0BEC5",
                "#B0BEC5",
                "#B0BEC5",
                "#B0BEC5",
                "#B0BEC5",
                "#B0BEC5"
               ]
              ]
             }
            ],
            "label": "Topic 23",
            "method": "update"
           },
           {
            "args": [
             {
              "marker.color": [
               [
                "#B0BEC5",
                "#B0BEC5",
                "#B0BEC5",
                "#B0BEC5",
                "#B0BEC5",
                "#B0BEC5",
                "#B0BEC5",
                "#B0BEC5",
                "#B0BEC5",
                "#B0BEC5",
                "#B0BEC5",
                "#B0BEC5",
                "#B0BEC5",
                "#B0BEC5",
                "#B0BEC5",
                "#B0BEC5",
                "#B0BEC5",
                "#B0BEC5",
                "#B0BEC5",
                "#B0BEC5",
                "#B0BEC5",
                "#B0BEC5",
                "#B0BEC5",
                "#B0BEC5",
                "red",
                "#B0BEC5",
                "#B0BEC5",
                "#B0BEC5",
                "#B0BEC5",
                "#B0BEC5",
                "#B0BEC5",
                "#B0BEC5",
                "#B0BEC5",
                "#B0BEC5",
                "#B0BEC5",
                "#B0BEC5",
                "#B0BEC5",
                "#B0BEC5",
                "#B0BEC5"
               ]
              ]
             }
            ],
            "label": "Topic 24",
            "method": "update"
           },
           {
            "args": [
             {
              "marker.color": [
               [
                "#B0BEC5",
                "#B0BEC5",
                "#B0BEC5",
                "#B0BEC5",
                "#B0BEC5",
                "#B0BEC5",
                "#B0BEC5",
                "#B0BEC5",
                "#B0BEC5",
                "#B0BEC5",
                "#B0BEC5",
                "#B0BEC5",
                "#B0BEC5",
                "#B0BEC5",
                "#B0BEC5",
                "#B0BEC5",
                "#B0BEC5",
                "#B0BEC5",
                "#B0BEC5",
                "#B0BEC5",
                "#B0BEC5",
                "#B0BEC5",
                "#B0BEC5",
                "#B0BEC5",
                "#B0BEC5",
                "red",
                "#B0BEC5",
                "#B0BEC5",
                "#B0BEC5",
                "#B0BEC5",
                "#B0BEC5",
                "#B0BEC5",
                "#B0BEC5",
                "#B0BEC5",
                "#B0BEC5",
                "#B0BEC5",
                "#B0BEC5",
                "#B0BEC5",
                "#B0BEC5"
               ]
              ]
             }
            ],
            "label": "Topic 25",
            "method": "update"
           },
           {
            "args": [
             {
              "marker.color": [
               [
                "#B0BEC5",
                "#B0BEC5",
                "#B0BEC5",
                "#B0BEC5",
                "#B0BEC5",
                "#B0BEC5",
                "#B0BEC5",
                "#B0BEC5",
                "#B0BEC5",
                "#B0BEC5",
                "#B0BEC5",
                "#B0BEC5",
                "#B0BEC5",
                "#B0BEC5",
                "#B0BEC5",
                "#B0BEC5",
                "#B0BEC5",
                "#B0BEC5",
                "#B0BEC5",
                "#B0BEC5",
                "#B0BEC5",
                "#B0BEC5",
                "#B0BEC5",
                "#B0BEC5",
                "#B0BEC5",
                "#B0BEC5",
                "red",
                "#B0BEC5",
                "#B0BEC5",
                "#B0BEC5",
                "#B0BEC5",
                "#B0BEC5",
                "#B0BEC5",
                "#B0BEC5",
                "#B0BEC5",
                "#B0BEC5",
                "#B0BEC5",
                "#B0BEC5",
                "#B0BEC5"
               ]
              ]
             }
            ],
            "label": "Topic 26",
            "method": "update"
           },
           {
            "args": [
             {
              "marker.color": [
               [
                "#B0BEC5",
                "#B0BEC5",
                "#B0BEC5",
                "#B0BEC5",
                "#B0BEC5",
                "#B0BEC5",
                "#B0BEC5",
                "#B0BEC5",
                "#B0BEC5",
                "#B0BEC5",
                "#B0BEC5",
                "#B0BEC5",
                "#B0BEC5",
                "#B0BEC5",
                "#B0BEC5",
                "#B0BEC5",
                "#B0BEC5",
                "#B0BEC5",
                "#B0BEC5",
                "#B0BEC5",
                "#B0BEC5",
                "#B0BEC5",
                "#B0BEC5",
                "#B0BEC5",
                "#B0BEC5",
                "#B0BEC5",
                "#B0BEC5",
                "red",
                "#B0BEC5",
                "#B0BEC5",
                "#B0BEC5",
                "#B0BEC5",
                "#B0BEC5",
                "#B0BEC5",
                "#B0BEC5",
                "#B0BEC5",
                "#B0BEC5",
                "#B0BEC5",
                "#B0BEC5"
               ]
              ]
             }
            ],
            "label": "Topic 27",
            "method": "update"
           },
           {
            "args": [
             {
              "marker.color": [
               [
                "#B0BEC5",
                "#B0BEC5",
                "#B0BEC5",
                "#B0BEC5",
                "#B0BEC5",
                "#B0BEC5",
                "#B0BEC5",
                "#B0BEC5",
                "#B0BEC5",
                "#B0BEC5",
                "#B0BEC5",
                "#B0BEC5",
                "#B0BEC5",
                "#B0BEC5",
                "#B0BEC5",
                "#B0BEC5",
                "#B0BEC5",
                "#B0BEC5",
                "#B0BEC5",
                "#B0BEC5",
                "#B0BEC5",
                "#B0BEC5",
                "#B0BEC5",
                "#B0BEC5",
                "#B0BEC5",
                "#B0BEC5",
                "#B0BEC5",
                "#B0BEC5",
                "red",
                "#B0BEC5",
                "#B0BEC5",
                "#B0BEC5",
                "#B0BEC5",
                "#B0BEC5",
                "#B0BEC5",
                "#B0BEC5",
                "#B0BEC5",
                "#B0BEC5",
                "#B0BEC5"
               ]
              ]
             }
            ],
            "label": "Topic 28",
            "method": "update"
           },
           {
            "args": [
             {
              "marker.color": [
               [
                "#B0BEC5",
                "#B0BEC5",
                "#B0BEC5",
                "#B0BEC5",
                "#B0BEC5",
                "#B0BEC5",
                "#B0BEC5",
                "#B0BEC5",
                "#B0BEC5",
                "#B0BEC5",
                "#B0BEC5",
                "#B0BEC5",
                "#B0BEC5",
                "#B0BEC5",
                "#B0BEC5",
                "#B0BEC5",
                "#B0BEC5",
                "#B0BEC5",
                "#B0BEC5",
                "#B0BEC5",
                "#B0BEC5",
                "#B0BEC5",
                "#B0BEC5",
                "#B0BEC5",
                "#B0BEC5",
                "#B0BEC5",
                "#B0BEC5",
                "#B0BEC5",
                "#B0BEC5",
                "red",
                "#B0BEC5",
                "#B0BEC5",
                "#B0BEC5",
                "#B0BEC5",
                "#B0BEC5",
                "#B0BEC5",
                "#B0BEC5",
                "#B0BEC5",
                "#B0BEC5"
               ]
              ]
             }
            ],
            "label": "Topic 29",
            "method": "update"
           },
           {
            "args": [
             {
              "marker.color": [
               [
                "#B0BEC5",
                "#B0BEC5",
                "#B0BEC5",
                "#B0BEC5",
                "#B0BEC5",
                "#B0BEC5",
                "#B0BEC5",
                "#B0BEC5",
                "#B0BEC5",
                "#B0BEC5",
                "#B0BEC5",
                "#B0BEC5",
                "#B0BEC5",
                "#B0BEC5",
                "#B0BEC5",
                "#B0BEC5",
                "#B0BEC5",
                "#B0BEC5",
                "#B0BEC5",
                "#B0BEC5",
                "#B0BEC5",
                "#B0BEC5",
                "#B0BEC5",
                "#B0BEC5",
                "#B0BEC5",
                "#B0BEC5",
                "#B0BEC5",
                "#B0BEC5",
                "#B0BEC5",
                "#B0BEC5",
                "red",
                "#B0BEC5",
                "#B0BEC5",
                "#B0BEC5",
                "#B0BEC5",
                "#B0BEC5",
                "#B0BEC5",
                "#B0BEC5",
                "#B0BEC5"
               ]
              ]
             }
            ],
            "label": "Topic 30",
            "method": "update"
           },
           {
            "args": [
             {
              "marker.color": [
               [
                "#B0BEC5",
                "#B0BEC5",
                "#B0BEC5",
                "#B0BEC5",
                "#B0BEC5",
                "#B0BEC5",
                "#B0BEC5",
                "#B0BEC5",
                "#B0BEC5",
                "#B0BEC5",
                "#B0BEC5",
                "#B0BEC5",
                "#B0BEC5",
                "#B0BEC5",
                "#B0BEC5",
                "#B0BEC5",
                "#B0BEC5",
                "#B0BEC5",
                "#B0BEC5",
                "#B0BEC5",
                "#B0BEC5",
                "#B0BEC5",
                "#B0BEC5",
                "#B0BEC5",
                "#B0BEC5",
                "#B0BEC5",
                "#B0BEC5",
                "#B0BEC5",
                "#B0BEC5",
                "#B0BEC5",
                "#B0BEC5",
                "red",
                "#B0BEC5",
                "#B0BEC5",
                "#B0BEC5",
                "#B0BEC5",
                "#B0BEC5",
                "#B0BEC5",
                "#B0BEC5"
               ]
              ]
             }
            ],
            "label": "Topic 31",
            "method": "update"
           },
           {
            "args": [
             {
              "marker.color": [
               [
                "#B0BEC5",
                "#B0BEC5",
                "#B0BEC5",
                "#B0BEC5",
                "#B0BEC5",
                "#B0BEC5",
                "#B0BEC5",
                "#B0BEC5",
                "#B0BEC5",
                "#B0BEC5",
                "#B0BEC5",
                "#B0BEC5",
                "#B0BEC5",
                "#B0BEC5",
                "#B0BEC5",
                "#B0BEC5",
                "#B0BEC5",
                "#B0BEC5",
                "#B0BEC5",
                "#B0BEC5",
                "#B0BEC5",
                "#B0BEC5",
                "#B0BEC5",
                "#B0BEC5",
                "#B0BEC5",
                "#B0BEC5",
                "#B0BEC5",
                "#B0BEC5",
                "#B0BEC5",
                "#B0BEC5",
                "#B0BEC5",
                "#B0BEC5",
                "red",
                "#B0BEC5",
                "#B0BEC5",
                "#B0BEC5",
                "#B0BEC5",
                "#B0BEC5",
                "#B0BEC5"
               ]
              ]
             }
            ],
            "label": "Topic 32",
            "method": "update"
           },
           {
            "args": [
             {
              "marker.color": [
               [
                "#B0BEC5",
                "#B0BEC5",
                "#B0BEC5",
                "#B0BEC5",
                "#B0BEC5",
                "#B0BEC5",
                "#B0BEC5",
                "#B0BEC5",
                "#B0BEC5",
                "#B0BEC5",
                "#B0BEC5",
                "#B0BEC5",
                "#B0BEC5",
                "#B0BEC5",
                "#B0BEC5",
                "#B0BEC5",
                "#B0BEC5",
                "#B0BEC5",
                "#B0BEC5",
                "#B0BEC5",
                "#B0BEC5",
                "#B0BEC5",
                "#B0BEC5",
                "#B0BEC5",
                "#B0BEC5",
                "#B0BEC5",
                "#B0BEC5",
                "#B0BEC5",
                "#B0BEC5",
                "#B0BEC5",
                "#B0BEC5",
                "#B0BEC5",
                "#B0BEC5",
                "red",
                "#B0BEC5",
                "#B0BEC5",
                "#B0BEC5",
                "#B0BEC5",
                "#B0BEC5"
               ]
              ]
             }
            ],
            "label": "Topic 33",
            "method": "update"
           },
           {
            "args": [
             {
              "marker.color": [
               [
                "#B0BEC5",
                "#B0BEC5",
                "#B0BEC5",
                "#B0BEC5",
                "#B0BEC5",
                "#B0BEC5",
                "#B0BEC5",
                "#B0BEC5",
                "#B0BEC5",
                "#B0BEC5",
                "#B0BEC5",
                "#B0BEC5",
                "#B0BEC5",
                "#B0BEC5",
                "#B0BEC5",
                "#B0BEC5",
                "#B0BEC5",
                "#B0BEC5",
                "#B0BEC5",
                "#B0BEC5",
                "#B0BEC5",
                "#B0BEC5",
                "#B0BEC5",
                "#B0BEC5",
                "#B0BEC5",
                "#B0BEC5",
                "#B0BEC5",
                "#B0BEC5",
                "#B0BEC5",
                "#B0BEC5",
                "#B0BEC5",
                "#B0BEC5",
                "#B0BEC5",
                "#B0BEC5",
                "red",
                "#B0BEC5",
                "#B0BEC5",
                "#B0BEC5",
                "#B0BEC5"
               ]
              ]
             }
            ],
            "label": "Topic 34",
            "method": "update"
           },
           {
            "args": [
             {
              "marker.color": [
               [
                "#B0BEC5",
                "#B0BEC5",
                "#B0BEC5",
                "#B0BEC5",
                "#B0BEC5",
                "#B0BEC5",
                "#B0BEC5",
                "#B0BEC5",
                "#B0BEC5",
                "#B0BEC5",
                "#B0BEC5",
                "#B0BEC5",
                "#B0BEC5",
                "#B0BEC5",
                "#B0BEC5",
                "#B0BEC5",
                "#B0BEC5",
                "#B0BEC5",
                "#B0BEC5",
                "#B0BEC5",
                "#B0BEC5",
                "#B0BEC5",
                "#B0BEC5",
                "#B0BEC5",
                "#B0BEC5",
                "#B0BEC5",
                "#B0BEC5",
                "#B0BEC5",
                "#B0BEC5",
                "#B0BEC5",
                "#B0BEC5",
                "#B0BEC5",
                "#B0BEC5",
                "#B0BEC5",
                "#B0BEC5",
                "red",
                "#B0BEC5",
                "#B0BEC5",
                "#B0BEC5"
               ]
              ]
             }
            ],
            "label": "Topic 35",
            "method": "update"
           },
           {
            "args": [
             {
              "marker.color": [
               [
                "#B0BEC5",
                "#B0BEC5",
                "#B0BEC5",
                "#B0BEC5",
                "#B0BEC5",
                "#B0BEC5",
                "#B0BEC5",
                "#B0BEC5",
                "#B0BEC5",
                "#B0BEC5",
                "#B0BEC5",
                "#B0BEC5",
                "#B0BEC5",
                "#B0BEC5",
                "#B0BEC5",
                "#B0BEC5",
                "#B0BEC5",
                "#B0BEC5",
                "#B0BEC5",
                "#B0BEC5",
                "#B0BEC5",
                "#B0BEC5",
                "#B0BEC5",
                "#B0BEC5",
                "#B0BEC5",
                "#B0BEC5",
                "#B0BEC5",
                "#B0BEC5",
                "#B0BEC5",
                "#B0BEC5",
                "#B0BEC5",
                "#B0BEC5",
                "#B0BEC5",
                "#B0BEC5",
                "#B0BEC5",
                "#B0BEC5",
                "red",
                "#B0BEC5",
                "#B0BEC5"
               ]
              ]
             }
            ],
            "label": "Topic 36",
            "method": "update"
           },
           {
            "args": [
             {
              "marker.color": [
               [
                "#B0BEC5",
                "#B0BEC5",
                "#B0BEC5",
                "#B0BEC5",
                "#B0BEC5",
                "#B0BEC5",
                "#B0BEC5",
                "#B0BEC5",
                "#B0BEC5",
                "#B0BEC5",
                "#B0BEC5",
                "#B0BEC5",
                "#B0BEC5",
                "#B0BEC5",
                "#B0BEC5",
                "#B0BEC5",
                "#B0BEC5",
                "#B0BEC5",
                "#B0BEC5",
                "#B0BEC5",
                "#B0BEC5",
                "#B0BEC5",
                "#B0BEC5",
                "#B0BEC5",
                "#B0BEC5",
                "#B0BEC5",
                "#B0BEC5",
                "#B0BEC5",
                "#B0BEC5",
                "#B0BEC5",
                "#B0BEC5",
                "#B0BEC5",
                "#B0BEC5",
                "#B0BEC5",
                "#B0BEC5",
                "#B0BEC5",
                "#B0BEC5",
                "red",
                "#B0BEC5"
               ]
              ]
             }
            ],
            "label": "Topic 37",
            "method": "update"
           },
           {
            "args": [
             {
              "marker.color": [
               [
                "#B0BEC5",
                "#B0BEC5",
                "#B0BEC5",
                "#B0BEC5",
                "#B0BEC5",
                "#B0BEC5",
                "#B0BEC5",
                "#B0BEC5",
                "#B0BEC5",
                "#B0BEC5",
                "#B0BEC5",
                "#B0BEC5",
                "#B0BEC5",
                "#B0BEC5",
                "#B0BEC5",
                "#B0BEC5",
                "#B0BEC5",
                "#B0BEC5",
                "#B0BEC5",
                "#B0BEC5",
                "#B0BEC5",
                "#B0BEC5",
                "#B0BEC5",
                "#B0BEC5",
                "#B0BEC5",
                "#B0BEC5",
                "#B0BEC5",
                "#B0BEC5",
                "#B0BEC5",
                "#B0BEC5",
                "#B0BEC5",
                "#B0BEC5",
                "#B0BEC5",
                "#B0BEC5",
                "#B0BEC5",
                "#B0BEC5",
                "#B0BEC5",
                "#B0BEC5",
                "red"
               ]
              ]
             }
            ],
            "label": "Topic 38",
            "method": "update"
           }
          ]
         }
        ],
        "template": {
         "data": {
          "bar": [
           {
            "error_x": {
             "color": "rgb(36,36,36)"
            },
            "error_y": {
             "color": "rgb(36,36,36)"
            },
            "marker": {
             "line": {
              "color": "white",
              "width": 0.5
             },
             "pattern": {
              "fillmode": "overlay",
              "size": 10,
              "solidity": 0.2
             }
            },
            "type": "bar"
           }
          ],
          "barpolar": [
           {
            "marker": {
             "line": {
              "color": "white",
              "width": 0.5
             },
             "pattern": {
              "fillmode": "overlay",
              "size": 10,
              "solidity": 0.2
             }
            },
            "type": "barpolar"
           }
          ],
          "carpet": [
           {
            "aaxis": {
             "endlinecolor": "rgb(36,36,36)",
             "gridcolor": "white",
             "linecolor": "white",
             "minorgridcolor": "white",
             "startlinecolor": "rgb(36,36,36)"
            },
            "baxis": {
             "endlinecolor": "rgb(36,36,36)",
             "gridcolor": "white",
             "linecolor": "white",
             "minorgridcolor": "white",
             "startlinecolor": "rgb(36,36,36)"
            },
            "type": "carpet"
           }
          ],
          "choropleth": [
           {
            "colorbar": {
             "outlinewidth": 1,
             "tickcolor": "rgb(36,36,36)",
             "ticks": "outside"
            },
            "type": "choropleth"
           }
          ],
          "contour": [
           {
            "colorbar": {
             "outlinewidth": 1,
             "tickcolor": "rgb(36,36,36)",
             "ticks": "outside"
            },
            "colorscale": [
             [
              0,
              "#440154"
             ],
             [
              0.1111111111111111,
              "#482878"
             ],
             [
              0.2222222222222222,
              "#3e4989"
             ],
             [
              0.3333333333333333,
              "#31688e"
             ],
             [
              0.4444444444444444,
              "#26828e"
             ],
             [
              0.5555555555555556,
              "#1f9e89"
             ],
             [
              0.6666666666666666,
              "#35b779"
             ],
             [
              0.7777777777777778,
              "#6ece58"
             ],
             [
              0.8888888888888888,
              "#b5de2b"
             ],
             [
              1,
              "#fde725"
             ]
            ],
            "type": "contour"
           }
          ],
          "contourcarpet": [
           {
            "colorbar": {
             "outlinewidth": 1,
             "tickcolor": "rgb(36,36,36)",
             "ticks": "outside"
            },
            "type": "contourcarpet"
           }
          ],
          "heatmap": [
           {
            "colorbar": {
             "outlinewidth": 1,
             "tickcolor": "rgb(36,36,36)",
             "ticks": "outside"
            },
            "colorscale": [
             [
              0,
              "#440154"
             ],
             [
              0.1111111111111111,
              "#482878"
             ],
             [
              0.2222222222222222,
              "#3e4989"
             ],
             [
              0.3333333333333333,
              "#31688e"
             ],
             [
              0.4444444444444444,
              "#26828e"
             ],
             [
              0.5555555555555556,
              "#1f9e89"
             ],
             [
              0.6666666666666666,
              "#35b779"
             ],
             [
              0.7777777777777778,
              "#6ece58"
             ],
             [
              0.8888888888888888,
              "#b5de2b"
             ],
             [
              1,
              "#fde725"
             ]
            ],
            "type": "heatmap"
           }
          ],
          "histogram": [
           {
            "marker": {
             "line": {
              "color": "white",
              "width": 0.6
             }
            },
            "type": "histogram"
           }
          ],
          "histogram2d": [
           {
            "colorbar": {
             "outlinewidth": 1,
             "tickcolor": "rgb(36,36,36)",
             "ticks": "outside"
            },
            "colorscale": [
             [
              0,
              "#440154"
             ],
             [
              0.1111111111111111,
              "#482878"
             ],
             [
              0.2222222222222222,
              "#3e4989"
             ],
             [
              0.3333333333333333,
              "#31688e"
             ],
             [
              0.4444444444444444,
              "#26828e"
             ],
             [
              0.5555555555555556,
              "#1f9e89"
             ],
             [
              0.6666666666666666,
              "#35b779"
             ],
             [
              0.7777777777777778,
              "#6ece58"
             ],
             [
              0.8888888888888888,
              "#b5de2b"
             ],
             [
              1,
              "#fde725"
             ]
            ],
            "type": "histogram2d"
           }
          ],
          "histogram2dcontour": [
           {
            "colorbar": {
             "outlinewidth": 1,
             "tickcolor": "rgb(36,36,36)",
             "ticks": "outside"
            },
            "colorscale": [
             [
              0,
              "#440154"
             ],
             [
              0.1111111111111111,
              "#482878"
             ],
             [
              0.2222222222222222,
              "#3e4989"
             ],
             [
              0.3333333333333333,
              "#31688e"
             ],
             [
              0.4444444444444444,
              "#26828e"
             ],
             [
              0.5555555555555556,
              "#1f9e89"
             ],
             [
              0.6666666666666666,
              "#35b779"
             ],
             [
              0.7777777777777778,
              "#6ece58"
             ],
             [
              0.8888888888888888,
              "#b5de2b"
             ],
             [
              1,
              "#fde725"
             ]
            ],
            "type": "histogram2dcontour"
           }
          ],
          "mesh3d": [
           {
            "colorbar": {
             "outlinewidth": 1,
             "tickcolor": "rgb(36,36,36)",
             "ticks": "outside"
            },
            "type": "mesh3d"
           }
          ],
          "parcoords": [
           {
            "line": {
             "colorbar": {
              "outlinewidth": 1,
              "tickcolor": "rgb(36,36,36)",
              "ticks": "outside"
             }
            },
            "type": "parcoords"
           }
          ],
          "pie": [
           {
            "automargin": true,
            "type": "pie"
           }
          ],
          "scatter": [
           {
            "fillpattern": {
             "fillmode": "overlay",
             "size": 10,
             "solidity": 0.2
            },
            "type": "scatter"
           }
          ],
          "scatter3d": [
           {
            "line": {
             "colorbar": {
              "outlinewidth": 1,
              "tickcolor": "rgb(36,36,36)",
              "ticks": "outside"
             }
            },
            "marker": {
             "colorbar": {
              "outlinewidth": 1,
              "tickcolor": "rgb(36,36,36)",
              "ticks": "outside"
             }
            },
            "type": "scatter3d"
           }
          ],
          "scattercarpet": [
           {
            "marker": {
             "colorbar": {
              "outlinewidth": 1,
              "tickcolor": "rgb(36,36,36)",
              "ticks": "outside"
             }
            },
            "type": "scattercarpet"
           }
          ],
          "scattergeo": [
           {
            "marker": {
             "colorbar": {
              "outlinewidth": 1,
              "tickcolor": "rgb(36,36,36)",
              "ticks": "outside"
             }
            },
            "type": "scattergeo"
           }
          ],
          "scattergl": [
           {
            "marker": {
             "colorbar": {
              "outlinewidth": 1,
              "tickcolor": "rgb(36,36,36)",
              "ticks": "outside"
             }
            },
            "type": "scattergl"
           }
          ],
          "scattermap": [
           {
            "marker": {
             "colorbar": {
              "outlinewidth": 1,
              "tickcolor": "rgb(36,36,36)",
              "ticks": "outside"
             }
            },
            "type": "scattermap"
           }
          ],
          "scattermapbox": [
           {
            "marker": {
             "colorbar": {
              "outlinewidth": 1,
              "tickcolor": "rgb(36,36,36)",
              "ticks": "outside"
             }
            },
            "type": "scattermapbox"
           }
          ],
          "scatterpolar": [
           {
            "marker": {
             "colorbar": {
              "outlinewidth": 1,
              "tickcolor": "rgb(36,36,36)",
              "ticks": "outside"
             }
            },
            "type": "scatterpolar"
           }
          ],
          "scatterpolargl": [
           {
            "marker": {
             "colorbar": {
              "outlinewidth": 1,
              "tickcolor": "rgb(36,36,36)",
              "ticks": "outside"
             }
            },
            "type": "scatterpolargl"
           }
          ],
          "scatterternary": [
           {
            "marker": {
             "colorbar": {
              "outlinewidth": 1,
              "tickcolor": "rgb(36,36,36)",
              "ticks": "outside"
             }
            },
            "type": "scatterternary"
           }
          ],
          "surface": [
           {
            "colorbar": {
             "outlinewidth": 1,
             "tickcolor": "rgb(36,36,36)",
             "ticks": "outside"
            },
            "colorscale": [
             [
              0,
              "#440154"
             ],
             [
              0.1111111111111111,
              "#482878"
             ],
             [
              0.2222222222222222,
              "#3e4989"
             ],
             [
              0.3333333333333333,
              "#31688e"
             ],
             [
              0.4444444444444444,
              "#26828e"
             ],
             [
              0.5555555555555556,
              "#1f9e89"
             ],
             [
              0.6666666666666666,
              "#35b779"
             ],
             [
              0.7777777777777778,
              "#6ece58"
             ],
             [
              0.8888888888888888,
              "#b5de2b"
             ],
             [
              1,
              "#fde725"
             ]
            ],
            "type": "surface"
           }
          ],
          "table": [
           {
            "cells": {
             "fill": {
              "color": "rgb(237,237,237)"
             },
             "line": {
              "color": "white"
             }
            },
            "header": {
             "fill": {
              "color": "rgb(217,217,217)"
             },
             "line": {
              "color": "white"
             }
            },
            "type": "table"
           }
          ]
         },
         "layout": {
          "annotationdefaults": {
           "arrowhead": 0,
           "arrowwidth": 1
          },
          "autotypenumbers": "strict",
          "coloraxis": {
           "colorbar": {
            "outlinewidth": 1,
            "tickcolor": "rgb(36,36,36)",
            "ticks": "outside"
           }
          },
          "colorscale": {
           "diverging": [
            [
             0,
             "rgb(103,0,31)"
            ],
            [
             0.1,
             "rgb(178,24,43)"
            ],
            [
             0.2,
             "rgb(214,96,77)"
            ],
            [
             0.3,
             "rgb(244,165,130)"
            ],
            [
             0.4,
             "rgb(253,219,199)"
            ],
            [
             0.5,
             "rgb(247,247,247)"
            ],
            [
             0.6,
             "rgb(209,229,240)"
            ],
            [
             0.7,
             "rgb(146,197,222)"
            ],
            [
             0.8,
             "rgb(67,147,195)"
            ],
            [
             0.9,
             "rgb(33,102,172)"
            ],
            [
             1,
             "rgb(5,48,97)"
            ]
           ],
           "sequential": [
            [
             0,
             "#440154"
            ],
            [
             0.1111111111111111,
             "#482878"
            ],
            [
             0.2222222222222222,
             "#3e4989"
            ],
            [
             0.3333333333333333,
             "#31688e"
            ],
            [
             0.4444444444444444,
             "#26828e"
            ],
            [
             0.5555555555555556,
             "#1f9e89"
            ],
            [
             0.6666666666666666,
             "#35b779"
            ],
            [
             0.7777777777777778,
             "#6ece58"
            ],
            [
             0.8888888888888888,
             "#b5de2b"
            ],
            [
             1,
             "#fde725"
            ]
           ],
           "sequentialminus": [
            [
             0,
             "#440154"
            ],
            [
             0.1111111111111111,
             "#482878"
            ],
            [
             0.2222222222222222,
             "#3e4989"
            ],
            [
             0.3333333333333333,
             "#31688e"
            ],
            [
             0.4444444444444444,
             "#26828e"
            ],
            [
             0.5555555555555556,
             "#1f9e89"
            ],
            [
             0.6666666666666666,
             "#35b779"
            ],
            [
             0.7777777777777778,
             "#6ece58"
            ],
            [
             0.8888888888888888,
             "#b5de2b"
            ],
            [
             1,
             "#fde725"
            ]
           ]
          },
          "colorway": [
           "#1F77B4",
           "#FF7F0E",
           "#2CA02C",
           "#D62728",
           "#9467BD",
           "#8C564B",
           "#E377C2",
           "#7F7F7F",
           "#BCBD22",
           "#17BECF"
          ],
          "font": {
           "color": "rgb(36,36,36)"
          },
          "geo": {
           "bgcolor": "white",
           "lakecolor": "white",
           "landcolor": "white",
           "showlakes": true,
           "showland": true,
           "subunitcolor": "white"
          },
          "hoverlabel": {
           "align": "left"
          },
          "hovermode": "closest",
          "mapbox": {
           "style": "light"
          },
          "paper_bgcolor": "white",
          "plot_bgcolor": "white",
          "polar": {
           "angularaxis": {
            "gridcolor": "rgb(232,232,232)",
            "linecolor": "rgb(36,36,36)",
            "showgrid": false,
            "showline": true,
            "ticks": "outside"
           },
           "bgcolor": "white",
           "radialaxis": {
            "gridcolor": "rgb(232,232,232)",
            "linecolor": "rgb(36,36,36)",
            "showgrid": false,
            "showline": true,
            "ticks": "outside"
           }
          },
          "scene": {
           "xaxis": {
            "backgroundcolor": "white",
            "gridcolor": "rgb(232,232,232)",
            "gridwidth": 2,
            "linecolor": "rgb(36,36,36)",
            "showbackground": true,
            "showgrid": false,
            "showline": true,
            "ticks": "outside",
            "zeroline": false,
            "zerolinecolor": "rgb(36,36,36)"
           },
           "yaxis": {
            "backgroundcolor": "white",
            "gridcolor": "rgb(232,232,232)",
            "gridwidth": 2,
            "linecolor": "rgb(36,36,36)",
            "showbackground": true,
            "showgrid": false,
            "showline": true,
            "ticks": "outside",
            "zeroline": false,
            "zerolinecolor": "rgb(36,36,36)"
           },
           "zaxis": {
            "backgroundcolor": "white",
            "gridcolor": "rgb(232,232,232)",
            "gridwidth": 2,
            "linecolor": "rgb(36,36,36)",
            "showbackground": true,
            "showgrid": false,
            "showline": true,
            "ticks": "outside",
            "zeroline": false,
            "zerolinecolor": "rgb(36,36,36)"
           }
          },
          "shapedefaults": {
           "fillcolor": "black",
           "line": {
            "width": 0
           },
           "opacity": 0.3
          },
          "ternary": {
           "aaxis": {
            "gridcolor": "rgb(232,232,232)",
            "linecolor": "rgb(36,36,36)",
            "showgrid": false,
            "showline": true,
            "ticks": "outside"
           },
           "baxis": {
            "gridcolor": "rgb(232,232,232)",
            "linecolor": "rgb(36,36,36)",
            "showgrid": false,
            "showline": true,
            "ticks": "outside"
           },
           "bgcolor": "white",
           "caxis": {
            "gridcolor": "rgb(232,232,232)",
            "linecolor": "rgb(36,36,36)",
            "showgrid": false,
            "showline": true,
            "ticks": "outside"
           }
          },
          "title": {
           "x": 0.05
          },
          "xaxis": {
           "automargin": true,
           "gridcolor": "rgb(232,232,232)",
           "linecolor": "rgb(36,36,36)",
           "showgrid": false,
           "showline": true,
           "ticks": "outside",
           "title": {
            "standoff": 15
           },
           "zeroline": false,
           "zerolinecolor": "rgb(36,36,36)"
          },
          "yaxis": {
           "automargin": true,
           "gridcolor": "rgb(232,232,232)",
           "linecolor": "rgb(36,36,36)",
           "showgrid": false,
           "showline": true,
           "ticks": "outside",
           "title": {
            "standoff": 15
           },
           "zeroline": false,
           "zerolinecolor": "rgb(36,36,36)"
          }
         }
        },
        "title": {
         "font": {
          "color": "Black",
          "size": 22
         },
         "text": "<b>Intertopic Distance Map</b>",
         "x": 0.5,
         "xanchor": "center",
         "y": 0.95,
         "yanchor": "top"
        },
        "width": 650,
        "xaxis": {
         "anchor": "y",
         "domain": [
          0,
          1
         ],
         "range": [
          -3.9840989112854004,
          18.262287139892578
         ],
         "title": {
          "text": ""
         },
         "visible": false
        },
        "yaxis": {
         "anchor": "x",
         "domain": [
          0,
          1
         ],
         "range": [
          2.4517476558685303,
          10.43447494506836
         ],
         "title": {
          "text": ""
         },
         "visible": false
        }
       }
      },
      "image/png": "[encoded data removed]"
     },
     "metadata": {},
     "output_type": "display_data"
    }
   ],
   "source": [
    "topic_model.visualize_topics(custom_labels=True)"
   ]
  },
  {
   "cell_type": "code",
   "execution_count": 22,
   "id": "23b132cdf5a85774",
   "metadata": {
    "colab": {
     "base_uri": "https://localhost:8080/",
     "height": 285
    },
    "executionInfo": {
     "elapsed": 402,
     "status": "ok",
     "timestamp": 1748641701853,
     "user": {
      "displayName": "ANGELO NAZZARO",
      "userId": "17012636126706741599"
     },
     "user_tz": -120
    },
    "id": "23b132cdf5a85774",
    "outputId": "e562b9cc-d989-41a2-d79b-fa3a80994f16"
   },
   "outputs": [
    {
     "data": {
      "image/png": "[encoded data removed]",
      "text/plain": [
       "<Figure size 640x480 with 1 Axes>"
      ]
     },
     "metadata": {},
     "output_type": "display_data"
    }
   ],
   "source": [
    "create_wordcloud(topic_model, 30)"
   ]
  },
  {
   "cell_type": "code",
   "execution_count": 23,
   "id": "d632cb4f-d8f4-4032-b09c-70e23f80f5c8",
   "metadata": {},
   "outputs": [
    {
     "data": {
      "text/plain": [
       "{0: 'Social Media',\n",
       " 1: 'Politics',\n",
       " 2: 'Gaming',\n",
       " 3: 'General Activities',\n",
       " -1: 'Outliers',\n",
       " 4: 'Music',\n",
       " 5: 'Traveling',\n",
       " 6: 'Fashion & Style',\n",
       " 7: 'Gadgets & Devices',\n",
       " 8: 'Programming',\n",
       " 9: 'Relationships',\n",
       " 10: 'Weather',\n",
       " 11: 'Movies & TV',\n",
       " 12: 'Religion',\n",
       " 13: 'Pets & Animals',\n",
       " 14: 'Journalism',\n",
       " 15: 'Books & Literature',\n",
       " 16: 'Trivia & Fun Facts',\n",
       " 17: 'Self-Improvement',\n",
       " 18: 'Climate Change',\n",
       " 19: 'Immigration',\n",
       " 20: 'Urban Life',\n",
       " 21: 'Mental Health',\n",
       " 22: 'Agriculture',\n",
       " 23: 'Personal Finance',\n",
       " 24: 'Nature & Outdoors',\n",
       " 25: 'Social Issues',\n",
       " 26: 'War & Conflict',\n",
       " 27: 'Sports & Fitness',\n",
       " 28: 'Law & Justice',\n",
       " 29: 'Sustainability',\n",
       " 30: 'Organic Food',\n",
       " 31: 'Economy',\n",
       " 32: 'AI & Machine Learning',\n",
       " 33: 'Human Rights',\n",
       " 34: 'Physical Health',\n",
       " 35: 'School & Education',\n",
       " 36: 'Crypto & Blockchain',\n",
       " 37: 'Business & Startups',\n",
       " 38: 'Veganism & Diets'}"
      ]
     },
     "execution_count": 23,
     "metadata": {},
     "output_type": "execute_result"
    }
   ],
   "source": [
    "inv_general_topics_ids = {v: k for k, v in general_topics_ids.items()}\n",
    "inv_general_topics_ids"
   ]
  },
  {
   "cell_type": "code",
   "execution_count": 28,
   "id": "e5606707-7099-4c56-9b4d-9b4bd393a9c9",
   "metadata": {},
   "outputs": [
    {
     "data": {
      "application/vnd.jupyter.widget-view+json": {
       "model_id": "38199d59657945a0b8531e5ab7f1cb22",
       "version_major": 2,
       "version_minor": 0
      },
      "text/plain": [
       "Adding topic labels...: 0it [00:00, ?it/s]"
      ]
     },
     "metadata": {},
     "output_type": "display_data"
    },
    {
     "data": {
      "text/html": [
       "<div>\n",
       "<style scoped>\n",
       "    .dataframe tbody tr th:only-of-type {\n",
       "        vertical-align: middle;\n",
       "    }\n",
       "\n",
       "    .dataframe tbody tr th {\n",
       "        vertical-align: top;\n",
       "    }\n",
       "\n",
       "    .dataframe thead th {\n",
       "        text-align: right;\n",
       "    }\n",
       "</style>\n",
       "<table border=\"1\" class=\"dataframe\">\n",
       "  <thead>\n",
       "    <tr style=\"text-align: right;\">\n",
       "      <th></th>\n",
       "      <th>text</th>\n",
       "      <th>sentiment</th>\n",
       "      <th>Topic</th>\n",
       "    </tr>\n",
       "  </thead>\n",
       "  <tbody>\n",
       "    <tr>\n",
       "      <th>0</th>\n",
       "      <td>I posted this 100 years ago!</td>\n",
       "      <td>Very Positive</td>\n",
       "      <td>Social Media</td>\n",
       "    </tr>\n",
       "    <tr>\n",
       "      <th>1</th>\n",
       "      <td>Nope</td>\n",
       "      <td>Very Negative</td>\n",
       "      <td>Politics</td>\n",
       "    </tr>\n",
       "    <tr>\n",
       "      <th>2</th>\n",
       "      <td>lmfao I can't believe this works</td>\n",
       "      <td>Very Negative</td>\n",
       "      <td>Gadgets &amp; Devices</td>\n",
       "    </tr>\n",
       "    <tr>\n",
       "      <th>3</th>\n",
       "      <td>I had to beat an old lady with a stick to get ...</td>\n",
       "      <td>Very Negative</td>\n",
       "      <td>General Activities</td>\n",
       "    </tr>\n",
       "    <tr>\n",
       "      <th>4</th>\n",
       "      <td>I had to beat an old lady with a stick to get ...</td>\n",
       "      <td>Very Negative</td>\n",
       "      <td>General Activities</td>\n",
       "    </tr>\n",
       "  </tbody>\n",
       "</table>\n",
       "</div>"
      ],
      "text/plain": [
       "                                                text      sentiment  \\\n",
       "0                       I posted this 100 years ago!  Very Positive   \n",
       "1                                               Nope  Very Negative   \n",
       "2                   lmfao I can't believe this works  Very Negative   \n",
       "3  I had to beat an old lady with a stick to get ...  Very Negative   \n",
       "4  I had to beat an old lady with a stick to get ...  Very Negative   \n",
       "\n",
       "                Topic  \n",
       "0        Social Media  \n",
       "1            Politics  \n",
       "2   Gadgets & Devices  \n",
       "3  General Activities  \n",
       "4  General Activities  "
      ]
     },
     "execution_count": 28,
     "metadata": {},
     "output_type": "execute_result"
    }
   ],
   "source": [
    "# add topic label to dataset\n",
    "df[\"Topic\"] = \"\"\n",
    "\n",
    "for idx, row in tqdm(df.iterrows(), desc=\"Adding topic labels...\"):\n",
    "    df.at[idx, \"Topic\"] = inv_general_topics_ids[updated_topics[idx]]\n",
    "\n",
    "df.head()"
   ]
  },
  {
   "cell_type": "code",
   "execution_count": 29,
   "id": "adf6c26e-4ca3-4bd0-8baf-1333ce9403b9",
   "metadata": {},
   "outputs": [],
   "source": [
    "df.to_csv(\"data/fullDataset2.csv\", index=False)"
   ]
  }
 ],
 "metadata": {
  "accelerator": "GPU",
  "colab": {
   "collapsed_sections": [
    "4ebc1115beb1e116"
   ],
   "gpuType": "T4",
   "provenance": []
  },
  "kernelspec": {
   "display_name": "Python 3 (ipykernel)",
   "language": "python",
   "name": "python3"
  },
  "language_info": {
   "codemirror_mode": {
    "name": "ipython",
    "version": 3
   },
   "file_extension": ".py",
   "mimetype": "text/x-python",
   "name": "python",
   "nbconvert_exporter": "python",
   "pygments_lexer": "ipython3",
   "version": "3.10.16"
  },
  "widgets": {
   "application/vnd.jupyter.widget-state+json": {
    "00425d31499b4c99aac41e49f63285b5": {
     "model_module": "@jupyter-widgets/base",
     "model_module_version": "1.2.0",
     "model_name": "LayoutModel",
     "state": {
      "_model_module": "@jupyter-widgets/base",
      "_model_module_version": "1.2.0",
      "_model_name": "LayoutModel",
      "_view_count": null,
      "_view_module": "@jupyter-widgets/base",
      "_view_module_version": "1.2.0",
      "_view_name": "LayoutView",
      "align_content": null,
      "align_items": null,
      "align_self": null,
      "border": null,
      "bottom": null,
      "display": null,
      "flex": null,
      "flex_flow": null,
      "grid_area": null,
      "grid_auto_columns": null,
      "grid_auto_flow": null,
      "grid_auto_rows": null,
      "grid_column": null,
      "grid_gap": null,
      "grid_row": null,
      "grid_template_areas": null,
      "grid_template_columns": null,
      "grid_template_rows": null,
      "height": null,
      "justify_content": null,
      "justify_items": null,
      "left": null,
      "margin": null,
      "max_height": null,
      "max_width": null,
      "min_height": null,
      "min_width": null,
      "object_fit": null,
      "object_position": null,
      "order": null,
      "overflow": null,
      "overflow_x": null,
      "overflow_y": null,
      "padding": null,
      "right": null,
      "top": null,
      "visibility": null,
      "width": null
     }
    },
    "02aaa56beb9b4d41a4ca16f67bfbd266": {
     "model_module": "@jupyter-widgets/controls",
     "model_module_version": "1.5.0",
     "model_name": "HBoxModel",
     "state": {
      "_dom_classes": [],
      "_model_module": "@jupyter-widgets/controls",
      "_model_module_version": "1.5.0",
      "_model_name": "HBoxModel",
      "_view_count": null,
      "_view_module": "@jupyter-widgets/controls",
      "_view_module_version": "1.5.0",
      "_view_name": "HBoxView",
      "box_style": "",
      "children": [
       "IPY_MODEL_799b69a3b08a4191a3dab1f9e7201abe",
       "IPY_MODEL_207567e2071e46b4950c2fb0cb1bab97",
       "IPY_MODEL_5882a0c1affa45a48056a184544b8fca"
      ],
      "layout": "IPY_MODEL_eb643642ff2f491791ef0be9c2b174d4"
     }
    },
    "033a9bec0e67462382ac668768b298c8": {
     "model_module": "@jupyter-widgets/base",
     "model_module_version": "1.2.0",
     "model_name": "LayoutModel",
     "state": {
      "_model_module": "@jupyter-widgets/base",
      "_model_module_version": "1.2.0",
      "_model_name": "LayoutModel",
      "_view_count": null,
      "_view_module": "@jupyter-widgets/base",
      "_view_module_version": "1.2.0",
      "_view_name": "LayoutView",
      "align_content": null,
      "align_items": null,
      "align_self": null,
      "border": null,
      "bottom": null,
      "display": null,
      "flex": null,
      "flex_flow": null,
      "grid_area": null,
      "grid_auto_columns": null,
      "grid_auto_flow": null,
      "grid_auto_rows": null,
      "grid_column": null,
      "grid_gap": null,
      "grid_row": null,
      "grid_template_areas": null,
      "grid_template_columns": null,
      "grid_template_rows": null,
      "height": null,
      "justify_content": null,
      "justify_items": null,
      "left": null,
      "margin": null,
      "max_height": null,
      "max_width": null,
      "min_height": null,
      "min_width": null,
      "object_fit": null,
      "object_position": null,
      "order": null,
      "overflow": null,
      "overflow_x": null,
      "overflow_y": null,
      "padding": null,
      "right": null,
      "top": null,
      "visibility": null,
      "width": null
     }
    },
    "042028962f0f424c929db2a84c8938e2": {
     "model_module": "@jupyter-widgets/controls",
     "model_module_version": "1.5.0",
     "model_name": "FloatProgressModel",
     "state": {
      "_dom_classes": [],
      "_model_module": "@jupyter-widgets/controls",
      "_model_module_version": "1.5.0",
      "_model_name": "FloatProgressModel",
      "_view_count": null,
      "_view_module": "@jupyter-widgets/controls",
      "_view_module_version": "1.5.0",
      "_view_name": "ProgressView",
      "bar_style": "success",
      "description": "",
      "description_tooltip": null,
      "layout": "IPY_MODEL_940d307d61a941859d12979f67b7f24f",
      "max": 385,
      "min": 0,
      "orientation": "horizontal",
      "style": "IPY_MODEL_c7e7f689cebf47a1bc7c688a3f26ab0f",
      "value": 385
     }
    },
    "055fc1aab8d34d7783a382cd4a43c8dc": {
     "model_module": "@jupyter-widgets/base",
     "model_module_version": "1.2.0",
     "model_name": "LayoutModel",
     "state": {
      "_model_module": "@jupyter-widgets/base",
      "_model_module_version": "1.2.0",
      "_model_name": "LayoutModel",
      "_view_count": null,
      "_view_module": "@jupyter-widgets/base",
      "_view_module_version": "1.2.0",
      "_view_name": "LayoutView",
      "align_content": null,
      "align_items": null,
      "align_self": null,
      "border": null,
      "bottom": null,
      "display": null,
      "flex": null,
      "flex_flow": null,
      "grid_area": null,
      "grid_auto_columns": null,
      "grid_auto_flow": null,
      "grid_auto_rows": null,
      "grid_column": null,
      "grid_gap": null,
      "grid_row": null,
      "grid_template_areas": null,
      "grid_template_columns": null,
      "grid_template_rows": null,
      "height": null,
      "justify_content": null,
      "justify_items": null,
      "left": null,
      "margin": null,
      "max_height": null,
      "max_width": null,
      "min_height": null,
      "min_width": null,
      "object_fit": null,
      "object_position": null,
      "order": null,
      "overflow": null,
      "overflow_x": null,
      "overflow_y": null,
      "padding": null,
      "right": null,
      "top": null,
      "visibility": null,
      "width": null
     }
    },
    "08f80ffca6044b24950d614168572672": {
     "model_module": "@jupyter-widgets/base",
     "model_module_version": "1.2.0",
     "model_name": "LayoutModel",
     "state": {
      "_model_module": "@jupyter-widgets/base",
      "_model_module_version": "1.2.0",
      "_model_name": "LayoutModel",
      "_view_count": null,
      "_view_module": "@jupyter-widgets/base",
      "_view_module_version": "1.2.0",
      "_view_name": "LayoutView",
      "align_content": null,
      "align_items": null,
      "align_self": null,
      "border": null,
      "bottom": null,
      "display": null,
      "flex": null,
      "flex_flow": null,
      "grid_area": null,
      "grid_auto_columns": null,
      "grid_auto_flow": null,
      "grid_auto_rows": null,
      "grid_column": null,
      "grid_gap": null,
      "grid_row": null,
      "grid_template_areas": null,
      "grid_template_columns": null,
      "grid_template_rows": null,
      "height": null,
      "justify_content": null,
      "justify_items": null,
      "left": null,
      "margin": null,
      "max_height": null,
      "max_width": null,
      "min_height": null,
      "min_width": null,
      "object_fit": null,
      "object_position": null,
      "order": null,
      "overflow": null,
      "overflow_x": null,
      "overflow_y": null,
      "padding": null,
      "right": null,
      "top": null,
      "visibility": null,
      "width": null
     }
    },
    "0fe671d8e2d5463e8537012ade1387dc": {
     "model_module": "@jupyter-widgets/base",
     "model_module_version": "1.2.0",
     "model_name": "LayoutModel",
     "state": {
      "_model_module": "@jupyter-widgets/base",
      "_model_module_version": "1.2.0",
      "_model_name": "LayoutModel",
      "_view_count": null,
      "_view_module": "@jupyter-widgets/base",
      "_view_module_version": "1.2.0",
      "_view_name": "LayoutView",
      "align_content": null,
      "align_items": null,
      "align_self": null,
      "border": null,
      "bottom": null,
      "display": null,
      "flex": null,
      "flex_flow": null,
      "grid_area": null,
      "grid_auto_columns": null,
      "grid_auto_flow": null,
      "grid_auto_rows": null,
      "grid_column": null,
      "grid_gap": null,
      "grid_row": null,
      "grid_template_areas": null,
      "grid_template_columns": null,
      "grid_template_rows": null,
      "height": null,
      "justify_content": null,
      "justify_items": null,
      "left": null,
      "margin": null,
      "max_height": null,
      "max_width": null,
      "min_height": null,
      "min_width": null,
      "object_fit": null,
      "object_position": null,
      "order": null,
      "overflow": null,
      "overflow_x": null,
      "overflow_y": null,
      "padding": null,
      "right": null,
      "top": null,
      "visibility": null,
      "width": null
     }
    },
    "1066a895370f447d830dbc9203e0be1e": {
     "model_module": "@jupyter-widgets/base",
     "model_module_version": "1.2.0",
     "model_name": "LayoutModel",
     "state": {
      "_model_module": "@jupyter-widgets/base",
      "_model_module_version": "1.2.0",
      "_model_name": "LayoutModel",
      "_view_count": null,
      "_view_module": "@jupyter-widgets/base",
      "_view_module_version": "1.2.0",
      "_view_name": "LayoutView",
      "align_content": null,
      "align_items": null,
      "align_self": null,
      "border": null,
      "bottom": null,
      "display": null,
      "flex": null,
      "flex_flow": null,
      "grid_area": null,
      "grid_auto_columns": null,
      "grid_auto_flow": null,
      "grid_auto_rows": null,
      "grid_column": null,
      "grid_gap": null,
      "grid_row": null,
      "grid_template_areas": null,
      "grid_template_columns": null,
      "grid_template_rows": null,
      "height": null,
      "justify_content": null,
      "justify_items": null,
      "left": null,
      "margin": null,
      "max_height": null,
      "max_width": null,
      "min_height": null,
      "min_width": null,
      "object_fit": null,
      "object_position": null,
      "order": null,
      "overflow": null,
      "overflow_x": null,
      "overflow_y": null,
      "padding": null,
      "right": null,
      "top": null,
      "visibility": null,
      "width": null
     }
    },
    "15286ea0f7924899b5f0386a663d2ca9": {
     "model_module": "@jupyter-widgets/base",
     "model_module_version": "1.2.0",
     "model_name": "LayoutModel",
     "state": {
      "_model_module": "@jupyter-widgets/base",
      "_model_module_version": "1.2.0",
      "_model_name": "LayoutModel",
      "_view_count": null,
      "_view_module": "@jupyter-widgets/base",
      "_view_module_version": "1.2.0",
      "_view_name": "LayoutView",
      "align_content": null,
      "align_items": null,
      "align_self": null,
      "border": null,
      "bottom": null,
      "display": null,
      "flex": null,
      "flex_flow": null,
      "grid_area": null,
      "grid_auto_columns": null,
      "grid_auto_flow": null,
      "grid_auto_rows": null,
      "grid_column": null,
      "grid_gap": null,
      "grid_row": null,
      "grid_template_areas": null,
      "grid_template_columns": null,
      "grid_template_rows": null,
      "height": null,
      "justify_content": null,
      "justify_items": null,
      "left": null,
      "margin": null,
      "max_height": null,
      "max_width": null,
      "min_height": null,
      "min_width": null,
      "object_fit": null,
      "object_position": null,
      "order": null,
      "overflow": null,
      "overflow_x": null,
      "overflow_y": null,
      "padding": null,
      "right": null,
      "top": null,
      "visibility": null,
      "width": null
     }
    },
    "15595dac7d5f40708220320cee54fcb0": {
     "model_module": "@jupyter-widgets/base",
     "model_module_version": "1.2.0",
     "model_name": "LayoutModel",
     "state": {
      "_model_module": "@jupyter-widgets/base",
      "_model_module_version": "1.2.0",
      "_model_name": "LayoutModel",
      "_view_count": null,
      "_view_module": "@jupyter-widgets/base",
      "_view_module_version": "1.2.0",
      "_view_name": "LayoutView",
      "align_content": null,
      "align_items": null,
      "align_self": null,
      "border": null,
      "bottom": null,
      "display": null,
      "flex": null,
      "flex_flow": null,
      "grid_area": null,
      "grid_auto_columns": null,
      "grid_auto_flow": null,
      "grid_auto_rows": null,
      "grid_column": null,
      "grid_gap": null,
      "grid_row": null,
      "grid_template_areas": null,
      "grid_template_columns": null,
      "grid_template_rows": null,
      "height": null,
      "justify_content": null,
      "justify_items": null,
      "left": null,
      "margin": null,
      "max_height": null,
      "max_width": null,
      "min_height": null,
      "min_width": null,
      "object_fit": null,
      "object_position": null,
      "order": null,
      "overflow": null,
      "overflow_x": null,
      "overflow_y": null,
      "padding": null,
      "right": null,
      "top": null,
      "visibility": null,
      "width": null
     }
    },
    "16226df8f6c44159a6bd65e138781851": {
     "model_module": "@jupyter-widgets/base",
     "model_module_version": "1.2.0",
     "model_name": "LayoutModel",
     "state": {
      "_model_module": "@jupyter-widgets/base",
      "_model_module_version": "1.2.0",
      "_model_name": "LayoutModel",
      "_view_count": null,
      "_view_module": "@jupyter-widgets/base",
      "_view_module_version": "1.2.0",
      "_view_name": "LayoutView",
      "align_content": null,
      "align_items": null,
      "align_self": null,
      "border": null,
      "bottom": null,
      "display": null,
      "flex": null,
      "flex_flow": null,
      "grid_area": null,
      "grid_auto_columns": null,
      "grid_auto_flow": null,
      "grid_auto_rows": null,
      "grid_column": null,
      "grid_gap": null,
      "grid_row": null,
      "grid_template_areas": null,
      "grid_template_columns": null,
      "grid_template_rows": null,
      "height": null,
      "justify_content": null,
      "justify_items": null,
      "left": null,
      "margin": null,
      "max_height": null,
      "max_width": null,
      "min_height": null,
      "min_width": null,
      "object_fit": null,
      "object_position": null,
      "order": null,
      "overflow": null,
      "overflow_x": null,
      "overflow_y": null,
      "padding": null,
      "right": null,
      "top": null,
      "visibility": null,
      "width": null
     }
    },
    "1f3b7630a48d401e83e6f53fa7051ac6": {
     "model_module": "@jupyter-widgets/controls",
     "model_module_version": "1.5.0",
     "model_name": "HTMLModel",
     "state": {
      "_dom_classes": [],
      "_model_module": "@jupyter-widgets/controls",
      "_model_module_version": "1.5.0",
      "_model_name": "HTMLModel",
      "_view_count": null,
      "_view_module": "@jupyter-widgets/controls",
      "_view_module_version": "1.5.0",
      "_view_name": "HTMLView",
      "description": "",
      "description_tooltip": null,
      "layout": "IPY_MODEL_26923420776f414497df3f6b785af786",
      "placeholder": "​",
      "style": "IPY_MODEL_bb66b4dfbe064abba6e2bd08570c91be",
      "value": " 190/190 [00:00&lt;00:00, 27.9kB/s]"
     }
    },
    "207567e2071e46b4950c2fb0cb1bab97": {
     "model_module": "@jupyter-widgets/controls",
     "model_module_version": "1.5.0",
     "model_name": "FloatProgressModel",
     "state": {
      "_dom_classes": [],
      "_model_module": "@jupyter-widgets/controls",
      "_model_module_version": "1.5.0",
      "_model_name": "FloatProgressModel",
      "_view_count": null,
      "_view_module": "@jupyter-widgets/controls",
      "_view_module_version": "1.5.0",
      "_view_name": "ProgressView",
      "bar_style": "success",
      "description": "",
      "description_tooltip": null,
      "layout": "IPY_MODEL_16226df8f6c44159a6bd65e138781851",
      "max": 68084,
      "min": 0,
      "orientation": "horizontal",
      "style": "IPY_MODEL_eb9cc98bb2ff48f7accbd6277faea5ef",
      "value": 68084
     }
    },
    "260f7c37d8424824aa0d509e53dacb27": {
     "model_module": "@jupyter-widgets/base",
     "model_module_version": "1.2.0",
     "model_name": "LayoutModel",
     "state": {
      "_model_module": "@jupyter-widgets/base",
      "_model_module_version": "1.2.0",
      "_model_name": "LayoutModel",
      "_view_count": null,
      "_view_module": "@jupyter-widgets/base",
      "_view_module_version": "1.2.0",
      "_view_name": "LayoutView",
      "align_content": null,
      "align_items": null,
      "align_self": null,
      "border": null,
      "bottom": null,
      "display": null,
      "flex": null,
      "flex_flow": null,
      "grid_area": null,
      "grid_auto_columns": null,
      "grid_auto_flow": null,
      "grid_auto_rows": null,
      "grid_column": null,
      "grid_gap": null,
      "grid_row": null,
      "grid_template_areas": null,
      "grid_template_columns": null,
      "grid_template_rows": null,
      "height": null,
      "justify_content": null,
      "justify_items": null,
      "left": null,
      "margin": null,
      "max_height": null,
      "max_width": null,
      "min_height": null,
      "min_width": null,
      "object_fit": null,
      "object_position": null,
      "order": null,
      "overflow": null,
      "overflow_x": null,
      "overflow_y": null,
      "padding": null,
      "right": null,
      "top": null,
      "visibility": null,
      "width": null
     }
    },
    "26923420776f414497df3f6b785af786": {
     "model_module": "@jupyter-widgets/base",
     "model_module_version": "1.2.0",
     "model_name": "LayoutModel",
     "state": {
      "_model_module": "@jupyter-widgets/base",
      "_model_module_version": "1.2.0",
      "_model_name": "LayoutModel",
      "_view_count": null,
      "_view_module": "@jupyter-widgets/base",
      "_view_module_version": "1.2.0",
      "_view_name": "LayoutView",
      "align_content": null,
      "align_items": null,
      "align_self": null,
      "border": null,
      "bottom": null,
      "display": null,
      "flex": null,
      "flex_flow": null,
      "grid_area": null,
      "grid_auto_columns": null,
      "grid_auto_flow": null,
      "grid_auto_rows": null,
      "grid_column": null,
      "grid_gap": null,
      "grid_row": null,
      "grid_template_areas": null,
      "grid_template_columns": null,
      "grid_template_rows": null,
      "height": null,
      "justify_content": null,
      "justify_items": null,
      "left": null,
      "margin": null,
      "max_height": null,
      "max_width": null,
      "min_height": null,
      "min_width": null,
      "object_fit": null,
      "object_position": null,
      "order": null,
      "overflow": null,
      "overflow_x": null,
      "overflow_y": null,
      "padding": null,
      "right": null,
      "top": null,
      "visibility": null,
      "width": null
     }
    },
    "2e6ead301a364c31b231308620305606": {
     "model_module": "@jupyter-widgets/controls",
     "model_module_version": "1.5.0",
     "model_name": "DescriptionStyleModel",
     "state": {
      "_model_module": "@jupyter-widgets/controls",
      "_model_module_version": "1.5.0",
      "_model_name": "DescriptionStyleModel",
      "_view_count": null,
      "_view_module": "@jupyter-widgets/base",
      "_view_module_version": "1.2.0",
      "_view_name": "StyleView",
      "description_width": ""
     }
    },
    "31b912eafda34e65b1ad719138331b54": {
     "model_module": "@jupyter-widgets/controls",
     "model_module_version": "1.5.0",
     "model_name": "ProgressStyleModel",
     "state": {
      "_model_module": "@jupyter-widgets/controls",
      "_model_module_version": "1.5.0",
      "_model_name": "ProgressStyleModel",
      "_view_count": null,
      "_view_module": "@jupyter-widgets/base",
      "_view_module_version": "1.2.0",
      "_view_name": "StyleView",
      "bar_color": null,
      "description_width": ""
     }
    },
    "3255ecbd2dea45cabf6b03641b70023c": {
     "model_module": "@jupyter-widgets/controls",
     "model_module_version": "1.5.0",
     "model_name": "DescriptionStyleModel",
     "state": {
      "_model_module": "@jupyter-widgets/controls",
      "_model_module_version": "1.5.0",
      "_model_name": "DescriptionStyleModel",
      "_view_count": null,
      "_view_module": "@jupyter-widgets/base",
      "_view_module_version": "1.2.0",
      "_view_name": "StyleView",
      "description_width": ""
     }
    },
    "32a1ec700c0d4205af780c79787d50fd": {
     "model_module": "@jupyter-widgets/controls",
     "model_module_version": "1.5.0",
     "model_name": "ProgressStyleModel",
     "state": {
      "_model_module": "@jupyter-widgets/controls",
      "_model_module_version": "1.5.0",
      "_model_name": "ProgressStyleModel",
      "_view_count": null,
      "_view_module": "@jupyter-widgets/base",
      "_view_module_version": "1.2.0",
      "_view_name": "StyleView",
      "bar_color": null,
      "description_width": ""
     }
    },
    "33155295f4fc4b7aa8bd038898631aa9": {
     "model_module": "@jupyter-widgets/controls",
     "model_module_version": "1.5.0",
     "model_name": "FloatProgressModel",
     "state": {
      "_dom_classes": [],
      "_model_module": "@jupyter-widgets/controls",
      "_model_module_version": "1.5.0",
      "_model_name": "FloatProgressModel",
      "_view_count": null,
      "_view_module": "@jupyter-widgets/controls",
      "_view_module_version": "1.5.0",
      "_view_name": "ProgressView",
      "bar_style": "success",
      "description": "",
      "description_tooltip": null,
      "layout": "IPY_MODEL_033a9bec0e67462382ac668768b298c8",
      "max": 711661,
      "min": 0,
      "orientation": "horizontal",
      "style": "IPY_MODEL_97201d69ff2b4f8b837ef08c517dea20",
      "value": 711661
     }
    },
    "341050932b86472d9a810acea01e2539": {
     "model_module": "@jupyter-widgets/controls",
     "model_module_version": "1.5.0",
     "model_name": "FloatProgressModel",
     "state": {
      "_dom_classes": [],
      "_model_module": "@jupyter-widgets/controls",
      "_model_module_version": "1.5.0",
      "_model_name": "FloatProgressModel",
      "_view_count": null,
      "_view_module": "@jupyter-widgets/controls",
      "_view_module_version": "1.5.0",
      "_view_name": "ProgressView",
      "bar_style": "success",
      "description": "",
      "description_tooltip": null,
      "layout": "IPY_MODEL_af2e6147d5334c7cb086a738044ab553",
      "max": 231508,
      "min": 0,
      "orientation": "horizontal",
      "style": "IPY_MODEL_32a1ec700c0d4205af780c79787d50fd",
      "value": 231508
     }
    },
    "35e5afc723664f8f9581f7cb6d14ed23": {
     "model_module": "@jupyter-widgets/base",
     "model_module_version": "1.2.0",
     "model_name": "LayoutModel",
     "state": {
      "_model_module": "@jupyter-widgets/base",
      "_model_module_version": "1.2.0",
      "_model_name": "LayoutModel",
      "_view_count": null,
      "_view_module": "@jupyter-widgets/base",
      "_view_module_version": "1.2.0",
      "_view_name": "LayoutView",
      "align_content": null,
      "align_items": null,
      "align_self": null,
      "border": null,
      "bottom": null,
      "display": null,
      "flex": null,
      "flex_flow": null,
      "grid_area": null,
      "grid_auto_columns": null,
      "grid_auto_flow": null,
      "grid_auto_rows": null,
      "grid_column": null,
      "grid_gap": null,
      "grid_row": null,
      "grid_template_areas": null,
      "grid_template_columns": null,
      "grid_template_rows": null,
      "height": null,
      "justify_content": null,
      "justify_items": null,
      "left": null,
      "margin": null,
      "max_height": null,
      "max_width": null,
      "min_height": null,
      "min_width": null,
      "object_fit": null,
      "object_position": null,
      "order": null,
      "overflow": null,
      "overflow_x": null,
      "overflow_y": null,
      "padding": null,
      "right": null,
      "top": null,
      "visibility": null,
      "width": null
     }
    },
    "37a3517f864b40b58bb869ac707a7e25": {
     "model_module": "@jupyter-widgets/controls",
     "model_module_version": "1.5.0",
     "model_name": "HTMLModel",
     "state": {
      "_dom_classes": [],
      "_model_module": "@jupyter-widgets/controls",
      "_model_module_version": "1.5.0",
      "_model_name": "HTMLModel",
      "_view_count": null,
      "_view_module": "@jupyter-widgets/controls",
      "_view_module_version": "1.5.0",
      "_view_name": "HTMLView",
      "description": "",
      "description_tooltip": null,
      "layout": "IPY_MODEL_ccbb2bbce81b401d8c1c06f8c9404530",
      "placeholder": "​",
      "style": "IPY_MODEL_a954860ec2ec4846a97854040fbe3159",
      "value": "sentence_bert_config.json: 100%"
     }
    },
    "38b1afbc63d8452c933da3f297cbd6d7": {
     "model_module": "@jupyter-widgets/controls",
     "model_module_version": "1.5.0",
     "model_name": "FloatProgressModel",
     "state": {
      "_dom_classes": [],
      "_model_module": "@jupyter-widgets/controls",
      "_model_module_version": "1.5.0",
      "_model_name": "FloatProgressModel",
      "_view_count": null,
      "_view_module": "@jupyter-widgets/controls",
      "_view_module_version": "1.5.0",
      "_view_name": "ProgressView",
      "bar_style": "success",
      "description": "",
      "description_tooltip": null,
      "layout": "IPY_MODEL_00425d31499b4c99aac41e49f63285b5",
      "max": 66746168,
      "min": 0,
      "orientation": "horizontal",
      "style": "IPY_MODEL_d6514b9cc367485ca9974d37c797ee2a",
      "value": 66746168
     }
    },
    "3b00bd32562944a5815beba0d725823f": {
     "model_module": "@jupyter-widgets/controls",
     "model_module_version": "1.5.0",
     "model_name": "HTMLModel",
     "state": {
      "_dom_classes": [],
      "_model_module": "@jupyter-widgets/controls",
      "_model_module_version": "1.5.0",
      "_model_name": "HTMLModel",
      "_view_count": null,
      "_view_module": "@jupyter-widgets/controls",
      "_view_module_version": "1.5.0",
      "_view_name": "HTMLView",
      "description": "",
      "description_tooltip": null,
      "layout": "IPY_MODEL_b27a2d137c20434f882d77d734bcbc36",
      "placeholder": "​",
      "style": "IPY_MODEL_9b018b264678442e866bbada731bea00",
      "value": "special_tokens_map.json: 100%"
     }
    },
    "3d4aafac7c534c1799fea1d83d5a7ad8": {
     "model_module": "@jupyter-widgets/base",
     "model_module_version": "1.2.0",
     "model_name": "LayoutModel",
     "state": {
      "_model_module": "@jupyter-widgets/base",
      "_model_module_version": "1.2.0",
      "_model_name": "LayoutModel",
      "_view_count": null,
      "_view_module": "@jupyter-widgets/base",
      "_view_module_version": "1.2.0",
      "_view_name": "LayoutView",
      "align_content": null,
      "align_items": null,
      "align_self": null,
      "border": null,
      "bottom": null,
      "display": null,
      "flex": null,
      "flex_flow": null,
      "grid_area": null,
      "grid_auto_columns": null,
      "grid_auto_flow": null,
      "grid_auto_rows": null,
      "grid_column": null,
      "grid_gap": null,
      "grid_row": null,
      "grid_template_areas": null,
      "grid_template_columns": null,
      "grid_template_rows": null,
      "height": null,
      "justify_content": null,
      "justify_items": null,
      "left": null,
      "margin": null,
      "max_height": null,
      "max_width": null,
      "min_height": null,
      "min_width": null,
      "object_fit": null,
      "object_position": null,
      "order": null,
      "overflow": null,
      "overflow_x": null,
      "overflow_y": null,
      "padding": null,
      "right": null,
      "top": null,
      "visibility": null,
      "width": null
     }
    },
    "41e4aa5caec446ce95b97145f5a66444": {
     "model_module": "@jupyter-widgets/controls",
     "model_module_version": "1.5.0",
     "model_name": "HBoxModel",
     "state": {
      "_dom_classes": [],
      "_model_module": "@jupyter-widgets/controls",
      "_model_module_version": "1.5.0",
      "_model_name": "HBoxModel",
      "_view_count": null,
      "_view_module": "@jupyter-widgets/controls",
      "_view_module_version": "1.5.0",
      "_view_name": "HBoxView",
      "box_style": "",
      "children": [
       "IPY_MODEL_a1bf0be6d623411983448fc773917e88",
       "IPY_MODEL_042028962f0f424c929db2a84c8938e2",
       "IPY_MODEL_d78f7f962bea47c2baa2afd97e526c09"
      ],
      "layout": "IPY_MODEL_0fe671d8e2d5463e8537012ade1387dc"
     }
    },
    "43ecfeda1e4c40f09ae00c370211a4d1": {
     "model_module": "@jupyter-widgets/base",
     "model_module_version": "1.2.0",
     "model_name": "LayoutModel",
     "state": {
      "_model_module": "@jupyter-widgets/base",
      "_model_module_version": "1.2.0",
      "_model_name": "LayoutModel",
      "_view_count": null,
      "_view_module": "@jupyter-widgets/base",
      "_view_module_version": "1.2.0",
      "_view_name": "LayoutView",
      "align_content": null,
      "align_items": null,
      "align_self": null,
      "border": null,
      "bottom": null,
      "display": null,
      "flex": null,
      "flex_flow": null,
      "grid_area": null,
      "grid_auto_columns": null,
      "grid_auto_flow": null,
      "grid_auto_rows": null,
      "grid_column": null,
      "grid_gap": null,
      "grid_row": null,
      "grid_template_areas": null,
      "grid_template_columns": null,
      "grid_template_rows": null,
      "height": null,
      "justify_content": null,
      "justify_items": null,
      "left": null,
      "margin": null,
      "max_height": null,
      "max_width": null,
      "min_height": null,
      "min_width": null,
      "object_fit": null,
      "object_position": null,
      "order": null,
      "overflow": null,
      "overflow_x": null,
      "overflow_y": null,
      "padding": null,
      "right": null,
      "top": null,
      "visibility": null,
      "width": null
     }
    },
    "54f034453f314c51825c5a07ea0010a3": {
     "model_module": "@jupyter-widgets/base",
     "model_module_version": "1.2.0",
     "model_name": "LayoutModel",
     "state": {
      "_model_module": "@jupyter-widgets/base",
      "_model_module_version": "1.2.0",
      "_model_name": "LayoutModel",
      "_view_count": null,
      "_view_module": "@jupyter-widgets/base",
      "_view_module_version": "1.2.0",
      "_view_name": "LayoutView",
      "align_content": null,
      "align_items": null,
      "align_self": null,
      "border": null,
      "bottom": null,
      "display": null,
      "flex": null,
      "flex_flow": null,
      "grid_area": null,
      "grid_auto_columns": null,
      "grid_auto_flow": null,
      "grid_auto_rows": null,
      "grid_column": null,
      "grid_gap": null,
      "grid_row": null,
      "grid_template_areas": null,
      "grid_template_columns": null,
      "grid_template_rows": null,
      "height": null,
      "justify_content": null,
      "justify_items": null,
      "left": null,
      "margin": null,
      "max_height": null,
      "max_width": null,
      "min_height": null,
      "min_width": null,
      "object_fit": null,
      "object_position": null,
      "order": null,
      "overflow": null,
      "overflow_x": null,
      "overflow_y": null,
      "padding": null,
      "right": null,
      "top": null,
      "visibility": null,
      "width": null
     }
    },
    "553d5be3efc3424895b9adfbc7caf9a7": {
     "model_module": "@jupyter-widgets/controls",
     "model_module_version": "1.5.0",
     "model_name": "FloatProgressModel",
     "state": {
      "_dom_classes": [],
      "_model_module": "@jupyter-widgets/controls",
      "_model_module_version": "1.5.0",
      "_model_name": "FloatProgressModel",
      "_view_count": null,
      "_view_module": "@jupyter-widgets/controls",
      "_view_module_version": "1.5.0",
      "_view_name": "ProgressView",
      "bar_style": "success",
      "description": "",
      "description_tooltip": null,
      "layout": "IPY_MODEL_df8c69351f774a7c8e5487240cc2cdca",
      "max": 1,
      "min": 0,
      "orientation": "horizontal",
      "style": "IPY_MODEL_31b912eafda34e65b1ad719138331b54",
      "value": 1
     }
    },
    "5882a0c1affa45a48056a184544b8fca": {
     "model_module": "@jupyter-widgets/controls",
     "model_module_version": "1.5.0",
     "model_name": "HTMLModel",
     "state": {
      "_dom_classes": [],
      "_model_module": "@jupyter-widgets/controls",
      "_model_module_version": "1.5.0",
      "_model_name": "HTMLModel",
      "_view_count": null,
      "_view_module": "@jupyter-widgets/controls",
      "_view_module_version": "1.5.0",
      "_view_name": "HTMLView",
      "description": "",
      "description_tooltip": null,
      "layout": "IPY_MODEL_db1f89c364b1402699dc89da54c036f5",
      "placeholder": "​",
      "style": "IPY_MODEL_9badcc1ff0e9433aa6cecd5d0213bf85",
      "value": " 68.1k/68.1k [00:00&lt;00:00, 3.44MB/s]"
     }
    },
    "5bdb70f1b32b479ab7469e8a72b064c0": {
     "model_module": "@jupyter-widgets/controls",
     "model_module_version": "1.5.0",
     "model_name": "HTMLModel",
     "state": {
      "_dom_classes": [],
      "_model_module": "@jupyter-widgets/controls",
      "_model_module_version": "1.5.0",
      "_model_name": "HTMLModel",
      "_view_count": null,
      "_view_module": "@jupyter-widgets/controls",
      "_view_module_version": "1.5.0",
      "_view_name": "HTMLView",
      "description": "",
      "description_tooltip": null,
      "layout": "IPY_MODEL_260f7c37d8424824aa0d509e53dacb27",
      "placeholder": "​",
      "style": "IPY_MODEL_6d07070d4fad43d7b0e579f62a1cc376",
      "value": " 232k/232k [00:00&lt;00:00, 6.93MB/s]"
     }
    },
    "5be248b31da6423fb7247873204a0635": {
     "model_module": "@jupyter-widgets/controls",
     "model_module_version": "1.5.0",
     "model_name": "FloatProgressModel",
     "state": {
      "_dom_classes": [],
      "_model_module": "@jupyter-widgets/controls",
      "_model_module_version": "1.5.0",
      "_model_name": "FloatProgressModel",
      "_view_count": null,
      "_view_module": "@jupyter-widgets/controls",
      "_view_module_version": "1.5.0",
      "_view_name": "ProgressView",
      "bar_style": "success",
      "description": "",
      "description_tooltip": null,
      "layout": "IPY_MODEL_8cd3d08282994f8692e27c8cd6949bed",
      "max": 394,
      "min": 0,
      "orientation": "horizontal",
      "style": "IPY_MODEL_70588e66b32842969a3020c0bf37a16c",
      "value": 394
     }
    },
    "643dd452e2914b01b87e3e666f1f0cf4": {
     "model_module": "@jupyter-widgets/controls",
     "model_module_version": "1.5.0",
     "model_name": "DescriptionStyleModel",
     "state": {
      "_model_module": "@jupyter-widgets/controls",
      "_model_module_version": "1.5.0",
      "_model_name": "DescriptionStyleModel",
      "_view_count": null,
      "_view_module": "@jupyter-widgets/base",
      "_view_module_version": "1.2.0",
      "_view_name": "StyleView",
      "description_width": ""
     }
    },
    "644388d0d8f2415fbc98c7621414d013": {
     "model_module": "@jupyter-widgets/controls",
     "model_module_version": "1.5.0",
     "model_name": "HBoxModel",
     "state": {
      "_dom_classes": [],
      "_model_module": "@jupyter-widgets/controls",
      "_model_module_version": "1.5.0",
      "_model_name": "HBoxModel",
      "_view_count": null,
      "_view_module": "@jupyter-widgets/controls",
      "_view_module_version": "1.5.0",
      "_view_name": "HBoxView",
      "box_style": "",
      "children": [
       "IPY_MODEL_e6867a81588541e598c13d2b4dd6dcb1",
       "IPY_MODEL_38b1afbc63d8452c933da3f297cbd6d7",
       "IPY_MODEL_cf1738a7bc9049ad907e470ee0e07999"
      ],
      "layout": "IPY_MODEL_b73510d4f73241f983521f535f22f8b0"
     }
    },
    "6855dcc2eee44d8bb50a7c8a9e3d4252": {
     "model_module": "@jupyter-widgets/controls",
     "model_module_version": "1.5.0",
     "model_name": "HTMLModel",
     "state": {
      "_dom_classes": [],
      "_model_module": "@jupyter-widgets/controls",
      "_model_module_version": "1.5.0",
      "_model_name": "HTMLModel",
      "_view_count": null,
      "_view_module": "@jupyter-widgets/controls",
      "_view_module_version": "1.5.0",
      "_view_name": "HTMLView",
      "description": "",
      "description_tooltip": null,
      "layout": "IPY_MODEL_f0e2c085226942ee8bbd0c7d9a08bd14",
      "placeholder": "​",
      "style": "IPY_MODEL_ae2c722a955f4e5d86fbd0f70aea8ef4",
      "value": "config.json: 100%"
     }
    },
    "69bbad9ef12b4e3188b433af01f6abfd": {
     "model_module": "@jupyter-widgets/base",
     "model_module_version": "1.2.0",
     "model_name": "LayoutModel",
     "state": {
      "_model_module": "@jupyter-widgets/base",
      "_model_module_version": "1.2.0",
      "_model_name": "LayoutModel",
      "_view_count": null,
      "_view_module": "@jupyter-widgets/base",
      "_view_module_version": "1.2.0",
      "_view_name": "LayoutView",
      "align_content": null,
      "align_items": null,
      "align_self": null,
      "border": null,
      "bottom": null,
      "display": null,
      "flex": null,
      "flex_flow": null,
      "grid_area": null,
      "grid_auto_columns": null,
      "grid_auto_flow": null,
      "grid_auto_rows": null,
      "grid_column": null,
      "grid_gap": null,
      "grid_row": null,
      "grid_template_areas": null,
      "grid_template_columns": null,
      "grid_template_rows": null,
      "height": null,
      "justify_content": null,
      "justify_items": null,
      "left": null,
      "margin": null,
      "max_height": null,
      "max_width": null,
      "min_height": null,
      "min_width": null,
      "object_fit": null,
      "object_position": null,
      "order": null,
      "overflow": null,
      "overflow_x": null,
      "overflow_y": null,
      "padding": null,
      "right": null,
      "top": null,
      "visibility": null,
      "width": null
     }
    },
    "6d07070d4fad43d7b0e579f62a1cc376": {
     "model_module": "@jupyter-widgets/controls",
     "model_module_version": "1.5.0",
     "model_name": "DescriptionStyleModel",
     "state": {
      "_model_module": "@jupyter-widgets/controls",
      "_model_module_version": "1.5.0",
      "_model_name": "DescriptionStyleModel",
      "_view_count": null,
      "_view_module": "@jupyter-widgets/base",
      "_view_module_version": "1.2.0",
      "_view_name": "StyleView",
      "description_width": ""
     }
    },
    "70513135a5c940e58c8c4750c681d359": {
     "model_module": "@jupyter-widgets/controls",
     "model_module_version": "1.5.0",
     "model_name": "ProgressStyleModel",
     "state": {
      "_model_module": "@jupyter-widgets/controls",
      "_model_module_version": "1.5.0",
      "_model_name": "ProgressStyleModel",
      "_view_count": null,
      "_view_module": "@jupyter-widgets/base",
      "_view_module_version": "1.2.0",
      "_view_name": "StyleView",
      "bar_color": null,
      "description_width": ""
     }
    },
    "70588e66b32842969a3020c0bf37a16c": {
     "model_module": "@jupyter-widgets/controls",
     "model_module_version": "1.5.0",
     "model_name": "ProgressStyleModel",
     "state": {
      "_model_module": "@jupyter-widgets/controls",
      "_model_module_version": "1.5.0",
      "_model_name": "ProgressStyleModel",
      "_view_count": null,
      "_view_module": "@jupyter-widgets/base",
      "_view_module_version": "1.2.0",
      "_view_name": "StyleView",
      "bar_color": null,
      "description_width": ""
     }
    },
    "7127b66edfa34b25a90a8f717be3deb3": {
     "model_module": "@jupyter-widgets/controls",
     "model_module_version": "1.5.0",
     "model_name": "HTMLModel",
     "state": {
      "_dom_classes": [],
      "_model_module": "@jupyter-widgets/controls",
      "_model_module_version": "1.5.0",
      "_model_name": "HTMLModel",
      "_view_count": null,
      "_view_module": "@jupyter-widgets/controls",
      "_view_module_version": "1.5.0",
      "_view_name": "HTMLView",
      "description": "",
      "description_tooltip": null,
      "layout": "IPY_MODEL_72afaa0b821b4c61ba9bbff30c904103",
      "placeholder": "​",
      "style": "IPY_MODEL_e140b9e50faa4bb1b5e0b7d77087742d",
      "value": " 712k/712k [00:00&lt;00:00, 6.53MB/s]"
     }
    },
    "72afaa0b821b4c61ba9bbff30c904103": {
     "model_module": "@jupyter-widgets/base",
     "model_module_version": "1.2.0",
     "model_name": "LayoutModel",
     "state": {
      "_model_module": "@jupyter-widgets/base",
      "_model_module_version": "1.2.0",
      "_model_name": "LayoutModel",
      "_view_count": null,
      "_view_module": "@jupyter-widgets/base",
      "_view_module_version": "1.2.0",
      "_view_name": "LayoutView",
      "align_content": null,
      "align_items": null,
      "align_self": null,
      "border": null,
      "bottom": null,
      "display": null,
      "flex": null,
      "flex_flow": null,
      "grid_area": null,
      "grid_auto_columns": null,
      "grid_auto_flow": null,
      "grid_auto_rows": null,
      "grid_column": null,
      "grid_gap": null,
      "grid_row": null,
      "grid_template_areas": null,
      "grid_template_columns": null,
      "grid_template_rows": null,
      "height": null,
      "justify_content": null,
      "justify_items": null,
      "left": null,
      "margin": null,
      "max_height": null,
      "max_width": null,
      "min_height": null,
      "min_width": null,
      "object_fit": null,
      "object_position": null,
      "order": null,
      "overflow": null,
      "overflow_x": null,
      "overflow_y": null,
      "padding": null,
      "right": null,
      "top": null,
      "visibility": null,
      "width": null
     }
    },
    "73eade6fd2064faaab0d4a0cbb8b111e": {
     "model_module": "@jupyter-widgets/controls",
     "model_module_version": "1.5.0",
     "model_name": "ProgressStyleModel",
     "state": {
      "_model_module": "@jupyter-widgets/controls",
      "_model_module_version": "1.5.0",
      "_model_name": "ProgressStyleModel",
      "_view_count": null,
      "_view_module": "@jupyter-widgets/base",
      "_view_module_version": "1.2.0",
      "_view_name": "StyleView",
      "bar_color": null,
      "description_width": ""
     }
    },
    "769be25e39d349b1a521a4ba72329cd3": {
     "model_module": "@jupyter-widgets/controls",
     "model_module_version": "1.5.0",
     "model_name": "HTMLModel",
     "state": {
      "_dom_classes": [],
      "_model_module": "@jupyter-widgets/controls",
      "_model_module_version": "1.5.0",
      "_model_name": "HTMLModel",
      "_view_count": null,
      "_view_module": "@jupyter-widgets/controls",
      "_view_module_version": "1.5.0",
      "_view_name": "HTMLView",
      "description": "",
      "description_tooltip": null,
      "layout": "IPY_MODEL_15286ea0f7924899b5f0386a663d2ca9",
      "placeholder": "​",
      "style": "IPY_MODEL_89b788e43e55483e933631d1888c247b",
      "value": "tokenizer.json: 100%"
     }
    },
    "799b69a3b08a4191a3dab1f9e7201abe": {
     "model_module": "@jupyter-widgets/controls",
     "model_module_version": "1.5.0",
     "model_name": "HTMLModel",
     "state": {
      "_dom_classes": [],
      "_model_module": "@jupyter-widgets/controls",
      "_model_module_version": "1.5.0",
      "_model_name": "HTMLModel",
      "_view_count": null,
      "_view_module": "@jupyter-widgets/controls",
      "_view_module_version": "1.5.0",
      "_view_name": "HTMLView",
      "description": "",
      "description_tooltip": null,
      "layout": "IPY_MODEL_f4d922da996b4a9aa2c24631f62d948c",
      "placeholder": "​",
      "style": "IPY_MODEL_db0632b86e754cccb43e354545c13fc0",
      "value": "README.md: 100%"
     }
    },
    "79a44623919443d3b15cdba113faf8c9": {
     "model_module": "@jupyter-widgets/base",
     "model_module_version": "1.2.0",
     "model_name": "LayoutModel",
     "state": {
      "_model_module": "@jupyter-widgets/base",
      "_model_module_version": "1.2.0",
      "_model_name": "LayoutModel",
      "_view_count": null,
      "_view_module": "@jupyter-widgets/base",
      "_view_module_version": "1.2.0",
      "_view_name": "LayoutView",
      "align_content": null,
      "align_items": null,
      "align_self": null,
      "border": null,
      "bottom": null,
      "display": null,
      "flex": null,
      "flex_flow": null,
      "grid_area": null,
      "grid_auto_columns": null,
      "grid_auto_flow": null,
      "grid_auto_rows": null,
      "grid_column": null,
      "grid_gap": null,
      "grid_row": null,
      "grid_template_areas": null,
      "grid_template_columns": null,
      "grid_template_rows": null,
      "height": null,
      "justify_content": null,
      "justify_items": null,
      "left": null,
      "margin": null,
      "max_height": null,
      "max_width": null,
      "min_height": null,
      "min_width": null,
      "object_fit": null,
      "object_position": null,
      "order": null,
      "overflow": null,
      "overflow_x": null,
      "overflow_y": null,
      "padding": null,
      "right": null,
      "top": null,
      "visibility": null,
      "width": null
     }
    },
    "79be981b86954971b2e000887e3f0587": {
     "model_module": "@jupyter-widgets/controls",
     "model_module_version": "1.5.0",
     "model_name": "FloatProgressModel",
     "state": {
      "_dom_classes": [],
      "_model_module": "@jupyter-widgets/controls",
      "_model_module_version": "1.5.0",
      "_model_name": "FloatProgressModel",
      "_view_count": null,
      "_view_module": "@jupyter-widgets/controls",
      "_view_module_version": "1.5.0",
      "_view_name": "ProgressView",
      "bar_style": "success",
      "description": "",
      "description_tooltip": null,
      "layout": "IPY_MODEL_d91b44cdad2d48a794585d67abab3d29",
      "max": 190,
      "min": 0,
      "orientation": "horizontal",
      "style": "IPY_MODEL_70513135a5c940e58c8c4750c681d359",
      "value": 190
     }
    },
    "7d0de3c61db44099bcce9945b2a50577": {
     "model_module": "@jupyter-widgets/base",
     "model_module_version": "1.2.0",
     "model_name": "LayoutModel",
     "state": {
      "_model_module": "@jupyter-widgets/base",
      "_model_module_version": "1.2.0",
      "_model_name": "LayoutModel",
      "_view_count": null,
      "_view_module": "@jupyter-widgets/base",
      "_view_module_version": "1.2.0",
      "_view_name": "LayoutView",
      "align_content": null,
      "align_items": null,
      "align_self": null,
      "border": null,
      "bottom": null,
      "display": null,
      "flex": null,
      "flex_flow": null,
      "grid_area": null,
      "grid_auto_columns": null,
      "grid_auto_flow": null,
      "grid_auto_rows": null,
      "grid_column": null,
      "grid_gap": null,
      "grid_row": null,
      "grid_template_areas": null,
      "grid_template_columns": null,
      "grid_template_rows": null,
      "height": null,
      "justify_content": null,
      "justify_items": null,
      "left": null,
      "margin": null,
      "max_height": null,
      "max_width": null,
      "min_height": null,
      "min_width": null,
      "object_fit": null,
      "object_position": null,
      "order": null,
      "overflow": null,
      "overflow_x": null,
      "overflow_y": null,
      "padding": null,
      "right": null,
      "top": null,
      "visibility": null,
      "width": null
     }
    },
    "80e517eee3a242d090cf6e9f3c669995": {
     "model_module": "@jupyter-widgets/controls",
     "model_module_version": "1.5.0",
     "model_name": "DescriptionStyleModel",
     "state": {
      "_model_module": "@jupyter-widgets/controls",
      "_model_module_version": "1.5.0",
      "_model_name": "DescriptionStyleModel",
      "_view_count": null,
      "_view_module": "@jupyter-widgets/base",
      "_view_module_version": "1.2.0",
      "_view_name": "StyleView",
      "description_width": ""
     }
    },
    "8418648b2e134533ac35d5d9d400ebcb": {
     "model_module": "@jupyter-widgets/controls",
     "model_module_version": "1.5.0",
     "model_name": "HTMLModel",
     "state": {
      "_dom_classes": [],
      "_model_module": "@jupyter-widgets/controls",
      "_model_module_version": "1.5.0",
      "_model_name": "HTMLModel",
      "_view_count": null,
      "_view_module": "@jupyter-widgets/controls",
      "_view_module_version": "1.5.0",
      "_view_name": "HTMLView",
      "description": "",
      "description_tooltip": null,
      "layout": "IPY_MODEL_ddca5583f67b48cbbb909986a5104fa9",
      "placeholder": "​",
      "style": "IPY_MODEL_aaa2c942a5cb4c8a886397b4bc6bd14b",
      "value": " 394/394 [00:00&lt;00:00, 55.5kB/s]"
     }
    },
    "87836c7f06364ee9acf320b2cc6e26e9": {
     "model_module": "@jupyter-widgets/controls",
     "model_module_version": "1.5.0",
     "model_name": "DescriptionStyleModel",
     "state": {
      "_model_module": "@jupyter-widgets/controls",
      "_model_module_version": "1.5.0",
      "_model_name": "DescriptionStyleModel",
      "_view_count": null,
      "_view_module": "@jupyter-widgets/base",
      "_view_module_version": "1.2.0",
      "_view_name": "StyleView",
      "description_width": ""
     }
    },
    "89b788e43e55483e933631d1888c247b": {
     "model_module": "@jupyter-widgets/controls",
     "model_module_version": "1.5.0",
     "model_name": "DescriptionStyleModel",
     "state": {
      "_model_module": "@jupyter-widgets/controls",
      "_model_module_version": "1.5.0",
      "_model_name": "DescriptionStyleModel",
      "_view_count": null,
      "_view_module": "@jupyter-widgets/base",
      "_view_module_version": "1.2.0",
      "_view_name": "StyleView",
      "description_width": ""
     }
    },
    "8a9cc498c13d4991aa60c58e9f0fbd44": {
     "model_module": "@jupyter-widgets/base",
     "model_module_version": "1.2.0",
     "model_name": "LayoutModel",
     "state": {
      "_model_module": "@jupyter-widgets/base",
      "_model_module_version": "1.2.0",
      "_model_name": "LayoutModel",
      "_view_count": null,
      "_view_module": "@jupyter-widgets/base",
      "_view_module_version": "1.2.0",
      "_view_name": "LayoutView",
      "align_content": null,
      "align_items": null,
      "align_self": null,
      "border": null,
      "bottom": null,
      "display": null,
      "flex": null,
      "flex_flow": null,
      "grid_area": null,
      "grid_auto_columns": null,
      "grid_auto_flow": null,
      "grid_auto_rows": null,
      "grid_column": null,
      "grid_gap": null,
      "grid_row": null,
      "grid_template_areas": null,
      "grid_template_columns": null,
      "grid_template_rows": null,
      "height": null,
      "justify_content": null,
      "justify_items": null,
      "left": null,
      "margin": null,
      "max_height": null,
      "max_width": null,
      "min_height": null,
      "min_width": null,
      "object_fit": null,
      "object_position": null,
      "order": null,
      "overflow": null,
      "overflow_x": null,
      "overflow_y": null,
      "padding": null,
      "right": null,
      "top": null,
      "visibility": null,
      "width": null
     }
    },
    "8b0ff81fa032424b8a88b3002023130b": {
     "model_module": "@jupyter-widgets/controls",
     "model_module_version": "1.5.0",
     "model_name": "HBoxModel",
     "state": {
      "_dom_classes": [],
      "_model_module": "@jupyter-widgets/controls",
      "_model_module_version": "1.5.0",
      "_model_name": "HBoxModel",
      "_view_count": null,
      "_view_module": "@jupyter-widgets/controls",
      "_view_module_version": "1.5.0",
      "_view_name": "HBoxView",
      "box_style": "",
      "children": [
       "IPY_MODEL_3b00bd32562944a5815beba0d725823f",
       "IPY_MODEL_e75b08ff26af4382805f6ee54d4b5ff7",
       "IPY_MODEL_e67dc223ad5c40ea87e4eeed494cab78"
      ],
      "layout": "IPY_MODEL_cd75c8057e0146bb99cfb8dcbe52b72c"
     }
    },
    "8c227f4acdf4401e8c6e77f95c19e08b": {
     "model_module": "@jupyter-widgets/controls",
     "model_module_version": "1.5.0",
     "model_name": "HBoxModel",
     "state": {
      "_dom_classes": [],
      "_model_module": "@jupyter-widgets/controls",
      "_model_module_version": "1.5.0",
      "_model_name": "HBoxModel",
      "_view_count": null,
      "_view_module": "@jupyter-widgets/controls",
      "_view_module_version": "1.5.0",
      "_view_name": "HBoxView",
      "box_style": "",
      "children": [
       "IPY_MODEL_c0fccc8bfbf44b529dc5765017644817",
       "IPY_MODEL_5be248b31da6423fb7247873204a0635",
       "IPY_MODEL_8418648b2e134533ac35d5d9d400ebcb"
      ],
      "layout": "IPY_MODEL_43ecfeda1e4c40f09ae00c370211a4d1"
     }
    },
    "8c79f04fc57d472bb3dd4f637058ac8c": {
     "model_module": "@jupyter-widgets/controls",
     "model_module_version": "1.5.0",
     "model_name": "HTMLModel",
     "state": {
      "_dom_classes": [],
      "_model_module": "@jupyter-widgets/controls",
      "_model_module_version": "1.5.0",
      "_model_name": "HTMLModel",
      "_view_count": null,
      "_view_module": "@jupyter-widgets/controls",
      "_view_module_version": "1.5.0",
      "_view_name": "HTMLView",
      "description": "",
      "description_tooltip": null,
      "layout": "IPY_MODEL_08f80ffca6044b24950d614168572672",
      "placeholder": "​",
      "style": "IPY_MODEL_643dd452e2914b01b87e3e666f1f0cf4",
      "value": " 57.0/57.0 [00:00&lt;00:00, 7.55kB/s]"
     }
    },
    "8cd3d08282994f8692e27c8cd6949bed": {
     "model_module": "@jupyter-widgets/base",
     "model_module_version": "1.2.0",
     "model_name": "LayoutModel",
     "state": {
      "_model_module": "@jupyter-widgets/base",
      "_model_module_version": "1.2.0",
      "_model_name": "LayoutModel",
      "_view_count": null,
      "_view_module": "@jupyter-widgets/base",
      "_view_module_version": "1.2.0",
      "_view_name": "LayoutView",
      "align_content": null,
      "align_items": null,
      "align_self": null,
      "border": null,
      "bottom": null,
      "display": null,
      "flex": null,
      "flex_flow": null,
      "grid_area": null,
      "grid_auto_columns": null,
      "grid_auto_flow": null,
      "grid_auto_rows": null,
      "grid_column": null,
      "grid_gap": null,
      "grid_row": null,
      "grid_template_areas": null,
      "grid_template_columns": null,
      "grid_template_rows": null,
      "height": null,
      "justify_content": null,
      "justify_items": null,
      "left": null,
      "margin": null,
      "max_height": null,
      "max_width": null,
      "min_height": null,
      "min_width": null,
      "object_fit": null,
      "object_position": null,
      "order": null,
      "overflow": null,
      "overflow_x": null,
      "overflow_y": null,
      "padding": null,
      "right": null,
      "top": null,
      "visibility": null,
      "width": null
     }
    },
    "8e883c4a57d04cffa226539c92c175a2": {
     "model_module": "@jupyter-widgets/base",
     "model_module_version": "1.2.0",
     "model_name": "LayoutModel",
     "state": {
      "_model_module": "@jupyter-widgets/base",
      "_model_module_version": "1.2.0",
      "_model_name": "LayoutModel",
      "_view_count": null,
      "_view_module": "@jupyter-widgets/base",
      "_view_module_version": "1.2.0",
      "_view_name": "LayoutView",
      "align_content": null,
      "align_items": null,
      "align_self": null,
      "border": null,
      "bottom": null,
      "display": null,
      "flex": null,
      "flex_flow": null,
      "grid_area": null,
      "grid_auto_columns": null,
      "grid_auto_flow": null,
      "grid_auto_rows": null,
      "grid_column": null,
      "grid_gap": null,
      "grid_row": null,
      "grid_template_areas": null,
      "grid_template_columns": null,
      "grid_template_rows": null,
      "height": null,
      "justify_content": null,
      "justify_items": null,
      "left": null,
      "margin": null,
      "max_height": null,
      "max_width": null,
      "min_height": null,
      "min_width": null,
      "object_fit": null,
      "object_position": null,
      "order": null,
      "overflow": null,
      "overflow_x": null,
      "overflow_y": null,
      "padding": null,
      "right": null,
      "top": null,
      "visibility": null,
      "width": null
     }
    },
    "8fb54cbdd12e4c459e8353aeecad3b93": {
     "model_module": "@jupyter-widgets/controls",
     "model_module_version": "1.5.0",
     "model_name": "DescriptionStyleModel",
     "state": {
      "_model_module": "@jupyter-widgets/controls",
      "_model_module_version": "1.5.0",
      "_model_name": "DescriptionStyleModel",
      "_view_count": null,
      "_view_module": "@jupyter-widgets/base",
      "_view_module_version": "1.2.0",
      "_view_name": "StyleView",
      "description_width": ""
     }
    },
    "920e32458bc3414c875b0a7ff8dac238": {
     "model_module": "@jupyter-widgets/base",
     "model_module_version": "1.2.0",
     "model_name": "LayoutModel",
     "state": {
      "_model_module": "@jupyter-widgets/base",
      "_model_module_version": "1.2.0",
      "_model_name": "LayoutModel",
      "_view_count": null,
      "_view_module": "@jupyter-widgets/base",
      "_view_module_version": "1.2.0",
      "_view_name": "LayoutView",
      "align_content": null,
      "align_items": null,
      "align_self": null,
      "border": null,
      "bottom": null,
      "display": null,
      "flex": null,
      "flex_flow": null,
      "grid_area": null,
      "grid_auto_columns": null,
      "grid_auto_flow": null,
      "grid_auto_rows": null,
      "grid_column": null,
      "grid_gap": null,
      "grid_row": null,
      "grid_template_areas": null,
      "grid_template_columns": null,
      "grid_template_rows": null,
      "height": null,
      "justify_content": null,
      "justify_items": null,
      "left": null,
      "margin": null,
      "max_height": null,
      "max_width": null,
      "min_height": null,
      "min_width": null,
      "object_fit": null,
      "object_position": null,
      "order": null,
      "overflow": null,
      "overflow_x": null,
      "overflow_y": null,
      "padding": null,
      "right": null,
      "top": null,
      "visibility": null,
      "width": null
     }
    },
    "92fb2689ac2945c6b4aeb94994fac88b": {
     "model_module": "@jupyter-widgets/controls",
     "model_module_version": "1.5.0",
     "model_name": "DescriptionStyleModel",
     "state": {
      "_model_module": "@jupyter-widgets/controls",
      "_model_module_version": "1.5.0",
      "_model_name": "DescriptionStyleModel",
      "_view_count": null,
      "_view_module": "@jupyter-widgets/base",
      "_view_module_version": "1.2.0",
      "_view_name": "StyleView",
      "description_width": ""
     }
    },
    "940d307d61a941859d12979f67b7f24f": {
     "model_module": "@jupyter-widgets/base",
     "model_module_version": "1.2.0",
     "model_name": "LayoutModel",
     "state": {
      "_model_module": "@jupyter-widgets/base",
      "_model_module_version": "1.2.0",
      "_model_name": "LayoutModel",
      "_view_count": null,
      "_view_module": "@jupyter-widgets/base",
      "_view_module_version": "1.2.0",
      "_view_name": "LayoutView",
      "align_content": null,
      "align_items": null,
      "align_self": null,
      "border": null,
      "bottom": null,
      "display": null,
      "flex": null,
      "flex_flow": null,
      "grid_area": null,
      "grid_auto_columns": null,
      "grid_auto_flow": null,
      "grid_auto_rows": null,
      "grid_column": null,
      "grid_gap": null,
      "grid_row": null,
      "grid_template_areas": null,
      "grid_template_columns": null,
      "grid_template_rows": null,
      "height": null,
      "justify_content": null,
      "justify_items": null,
      "left": null,
      "margin": null,
      "max_height": null,
      "max_width": null,
      "min_height": null,
      "min_width": null,
      "object_fit": null,
      "object_position": null,
      "order": null,
      "overflow": null,
      "overflow_x": null,
      "overflow_y": null,
      "padding": null,
      "right": null,
      "top": null,
      "visibility": null,
      "width": null
     }
    },
    "9639a8c5023c4ef4a62a39e5e698935c": {
     "model_module": "@jupyter-widgets/controls",
     "model_module_version": "1.5.0",
     "model_name": "HTMLModel",
     "state": {
      "_dom_classes": [],
      "_model_module": "@jupyter-widgets/controls",
      "_model_module_version": "1.5.0",
      "_model_name": "HTMLModel",
      "_view_count": null,
      "_view_module": "@jupyter-widgets/controls",
      "_view_module_version": "1.5.0",
      "_view_name": "HTMLView",
      "description": "",
      "description_tooltip": null,
      "layout": "IPY_MODEL_69bbad9ef12b4e3188b433af01f6abfd",
      "placeholder": "​",
      "style": "IPY_MODEL_ae7d3c2212a9497a8bed1b872d83ade6",
      "value": " 583/583 [00:00&lt;00:00, 71.4kB/s]"
     }
    },
    "97201d69ff2b4f8b837ef08c517dea20": {
     "model_module": "@jupyter-widgets/controls",
     "model_module_version": "1.5.0",
     "model_name": "ProgressStyleModel",
     "state": {
      "_model_module": "@jupyter-widgets/controls",
      "_model_module_version": "1.5.0",
      "_model_name": "ProgressStyleModel",
      "_view_count": null,
      "_view_module": "@jupyter-widgets/base",
      "_view_module_version": "1.2.0",
      "_view_name": "StyleView",
      "bar_color": null,
      "description_width": ""
     }
    },
    "98e675173bf14a99af7f11d822078536": {
     "model_module": "@jupyter-widgets/base",
     "model_module_version": "1.2.0",
     "model_name": "LayoutModel",
     "state": {
      "_model_module": "@jupyter-widgets/base",
      "_model_module_version": "1.2.0",
      "_model_name": "LayoutModel",
      "_view_count": null,
      "_view_module": "@jupyter-widgets/base",
      "_view_module_version": "1.2.0",
      "_view_name": "LayoutView",
      "align_content": null,
      "align_items": null,
      "align_self": null,
      "border": null,
      "bottom": null,
      "display": null,
      "flex": null,
      "flex_flow": null,
      "grid_area": null,
      "grid_auto_columns": null,
      "grid_auto_flow": null,
      "grid_auto_rows": null,
      "grid_column": null,
      "grid_gap": null,
      "grid_row": null,
      "grid_template_areas": null,
      "grid_template_columns": null,
      "grid_template_rows": null,
      "height": null,
      "justify_content": null,
      "justify_items": null,
      "left": null,
      "margin": null,
      "max_height": null,
      "max_width": null,
      "min_height": null,
      "min_width": null,
      "object_fit": null,
      "object_position": null,
      "order": null,
      "overflow": null,
      "overflow_x": null,
      "overflow_y": null,
      "padding": null,
      "right": null,
      "top": null,
      "visibility": null,
      "width": null
     }
    },
    "9b018b264678442e866bbada731bea00": {
     "model_module": "@jupyter-widgets/controls",
     "model_module_version": "1.5.0",
     "model_name": "DescriptionStyleModel",
     "state": {
      "_model_module": "@jupyter-widgets/controls",
      "_model_module_version": "1.5.0",
      "_model_name": "DescriptionStyleModel",
      "_view_count": null,
      "_view_module": "@jupyter-widgets/base",
      "_view_module_version": "1.2.0",
      "_view_name": "StyleView",
      "description_width": ""
     }
    },
    "9badcc1ff0e9433aa6cecd5d0213bf85": {
     "model_module": "@jupyter-widgets/controls",
     "model_module_version": "1.5.0",
     "model_name": "DescriptionStyleModel",
     "state": {
      "_model_module": "@jupyter-widgets/controls",
      "_model_module_version": "1.5.0",
      "_model_name": "DescriptionStyleModel",
      "_view_count": null,
      "_view_module": "@jupyter-widgets/base",
      "_view_module_version": "1.2.0",
      "_view_name": "StyleView",
      "description_width": ""
     }
    },
    "9ce2b5af2e01464fb468e83bfc6a9e19": {
     "model_module": "@jupyter-widgets/base",
     "model_module_version": "1.2.0",
     "model_name": "LayoutModel",
     "state": {
      "_model_module": "@jupyter-widgets/base",
      "_model_module_version": "1.2.0",
      "_model_name": "LayoutModel",
      "_view_count": null,
      "_view_module": "@jupyter-widgets/base",
      "_view_module_version": "1.2.0",
      "_view_name": "LayoutView",
      "align_content": null,
      "align_items": null,
      "align_self": null,
      "border": null,
      "bottom": null,
      "display": null,
      "flex": null,
      "flex_flow": null,
      "grid_area": null,
      "grid_auto_columns": null,
      "grid_auto_flow": null,
      "grid_auto_rows": null,
      "grid_column": null,
      "grid_gap": null,
      "grid_row": null,
      "grid_template_areas": null,
      "grid_template_columns": null,
      "grid_template_rows": null,
      "height": null,
      "justify_content": null,
      "justify_items": null,
      "left": null,
      "margin": null,
      "max_height": null,
      "max_width": null,
      "min_height": null,
      "min_width": null,
      "object_fit": null,
      "object_position": null,
      "order": null,
      "overflow": null,
      "overflow_x": null,
      "overflow_y": null,
      "padding": null,
      "right": null,
      "top": null,
      "visibility": null,
      "width": null
     }
    },
    "9d0ff0bc0f7148f8a0dc16d2200bda09": {
     "model_module": "@jupyter-widgets/controls",
     "model_module_version": "1.5.0",
     "model_name": "ProgressStyleModel",
     "state": {
      "_model_module": "@jupyter-widgets/controls",
      "_model_module_version": "1.5.0",
      "_model_name": "ProgressStyleModel",
      "_view_count": null,
      "_view_module": "@jupyter-widgets/base",
      "_view_module_version": "1.2.0",
      "_view_name": "StyleView",
      "bar_color": null,
      "description_width": ""
     }
    },
    "9de87f1869a84f63833aba505e5e2c01": {
     "model_module": "@jupyter-widgets/controls",
     "model_module_version": "1.5.0",
     "model_name": "FloatProgressModel",
     "state": {
      "_dom_classes": [],
      "_model_module": "@jupyter-widgets/controls",
      "_model_module_version": "1.5.0",
      "_model_name": "FloatProgressModel",
      "_view_count": null,
      "_view_module": "@jupyter-widgets/controls",
      "_view_module_version": "1.5.0",
      "_view_name": "ProgressView",
      "bar_style": "success",
      "description": "",
      "description_tooltip": null,
      "layout": "IPY_MODEL_bee33be20ca641a480b5401b159762ec",
      "max": 583,
      "min": 0,
      "orientation": "horizontal",
      "style": "IPY_MODEL_b689316d8652414fa16f3fe1655e6179",
      "value": 583
     }
    },
    "a1bf0be6d623411983448fc773917e88": {
     "model_module": "@jupyter-widgets/controls",
     "model_module_version": "1.5.0",
     "model_name": "HTMLModel",
     "state": {
      "_dom_classes": [],
      "_model_module": "@jupyter-widgets/controls",
      "_model_module_version": "1.5.0",
      "_model_name": "HTMLModel",
      "_view_count": null,
      "_view_module": "@jupyter-widgets/controls",
      "_view_module_version": "1.5.0",
      "_view_name": "HTMLView",
      "description": "",
      "description_tooltip": null,
      "layout": "IPY_MODEL_e6aa66c25d8940669acb993bced776e9",
      "placeholder": "​",
      "style": "IPY_MODEL_3255ecbd2dea45cabf6b03641b70023c",
      "value": "modules.json: 100%"
     }
    },
    "a8779b42dcab4897acd23b4961f6b366": {
     "model_module": "@jupyter-widgets/controls",
     "model_module_version": "1.5.0",
     "model_name": "HTMLModel",
     "state": {
      "_dom_classes": [],
      "_model_module": "@jupyter-widgets/controls",
      "_model_module_version": "1.5.0",
      "_model_name": "HTMLModel",
      "_view_count": null,
      "_view_module": "@jupyter-widgets/controls",
      "_view_module_version": "1.5.0",
      "_view_name": "HTMLView",
      "description": "",
      "description_tooltip": null,
      "layout": "IPY_MODEL_8a9cc498c13d4991aa60c58e9f0fbd44",
      "placeholder": "​",
      "style": "IPY_MODEL_80e517eee3a242d090cf6e9f3c669995",
      "value": " 1/1 [00:01&lt;00:00,  1.63s/it]"
     }
    },
    "a954860ec2ec4846a97854040fbe3159": {
     "model_module": "@jupyter-widgets/controls",
     "model_module_version": "1.5.0",
     "model_name": "DescriptionStyleModel",
     "state": {
      "_model_module": "@jupyter-widgets/controls",
      "_model_module_version": "1.5.0",
      "_model_name": "DescriptionStyleModel",
      "_view_count": null,
      "_view_module": "@jupyter-widgets/base",
      "_view_module_version": "1.2.0",
      "_view_name": "StyleView",
      "description_width": ""
     }
    },
    "a9c3ef8a456f49abbbab2ceeb175f452": {
     "model_module": "@jupyter-widgets/controls",
     "model_module_version": "1.5.0",
     "model_name": "HTMLModel",
     "state": {
      "_dom_classes": [],
      "_model_module": "@jupyter-widgets/controls",
      "_model_module_version": "1.5.0",
      "_model_name": "HTMLModel",
      "_view_count": null,
      "_view_module": "@jupyter-widgets/controls",
      "_view_module_version": "1.5.0",
      "_view_name": "HTMLView",
      "description": "",
      "description_tooltip": null,
      "layout": "IPY_MODEL_15595dac7d5f40708220320cee54fcb0",
      "placeholder": "​",
      "style": "IPY_MODEL_87836c7f06364ee9acf320b2cc6e26e9",
      "value": "Batches: 100%"
     }
    },
    "aaa2c942a5cb4c8a886397b4bc6bd14b": {
     "model_module": "@jupyter-widgets/controls",
     "model_module_version": "1.5.0",
     "model_name": "DescriptionStyleModel",
     "state": {
      "_model_module": "@jupyter-widgets/controls",
      "_model_module_version": "1.5.0",
      "_model_name": "DescriptionStyleModel",
      "_view_count": null,
      "_view_module": "@jupyter-widgets/base",
      "_view_module_version": "1.2.0",
      "_view_name": "StyleView",
      "description_width": ""
     }
    },
    "ad6af99c983940de8fa8dee2bf95bc92": {
     "model_module": "@jupyter-widgets/controls",
     "model_module_version": "1.5.0",
     "model_name": "FloatProgressModel",
     "state": {
      "_dom_classes": [],
      "_model_module": "@jupyter-widgets/controls",
      "_model_module_version": "1.5.0",
      "_model_name": "FloatProgressModel",
      "_view_count": null,
      "_view_module": "@jupyter-widgets/controls",
      "_view_module_version": "1.5.0",
      "_view_name": "ProgressView",
      "bar_style": "success",
      "description": "",
      "description_tooltip": null,
      "layout": "IPY_MODEL_d9113c117d2245e4aa7adb5a5afc837b",
      "max": 57,
      "min": 0,
      "orientation": "horizontal",
      "style": "IPY_MODEL_73eade6fd2064faaab0d4a0cbb8b111e",
      "value": 57
     }
    },
    "adcef86e25994816a807286b41c11240": {
     "model_module": "@jupyter-widgets/controls",
     "model_module_version": "1.5.0",
     "model_name": "HBoxModel",
     "state": {
      "_dom_classes": [],
      "_model_module": "@jupyter-widgets/controls",
      "_model_module_version": "1.5.0",
      "_model_name": "HBoxModel",
      "_view_count": null,
      "_view_module": "@jupyter-widgets/controls",
      "_view_module_version": "1.5.0",
      "_view_name": "HBoxView",
      "box_style": "",
      "children": [
       "IPY_MODEL_37a3517f864b40b58bb869ac707a7e25",
       "IPY_MODEL_ad6af99c983940de8fa8dee2bf95bc92",
       "IPY_MODEL_8c79f04fc57d472bb3dd4f637058ac8c"
      ],
      "layout": "IPY_MODEL_3d4aafac7c534c1799fea1d83d5a7ad8"
     }
    },
    "ae2c722a955f4e5d86fbd0f70aea8ef4": {
     "model_module": "@jupyter-widgets/controls",
     "model_module_version": "1.5.0",
     "model_name": "DescriptionStyleModel",
     "state": {
      "_model_module": "@jupyter-widgets/controls",
      "_model_module_version": "1.5.0",
      "_model_name": "DescriptionStyleModel",
      "_view_count": null,
      "_view_module": "@jupyter-widgets/base",
      "_view_module_version": "1.2.0",
      "_view_name": "StyleView",
      "description_width": ""
     }
    },
    "ae7d3c2212a9497a8bed1b872d83ade6": {
     "model_module": "@jupyter-widgets/controls",
     "model_module_version": "1.5.0",
     "model_name": "DescriptionStyleModel",
     "state": {
      "_model_module": "@jupyter-widgets/controls",
      "_model_module_version": "1.5.0",
      "_model_name": "DescriptionStyleModel",
      "_view_count": null,
      "_view_module": "@jupyter-widgets/base",
      "_view_module_version": "1.2.0",
      "_view_name": "StyleView",
      "description_width": ""
     }
    },
    "af2e6147d5334c7cb086a738044ab553": {
     "model_module": "@jupyter-widgets/base",
     "model_module_version": "1.2.0",
     "model_name": "LayoutModel",
     "state": {
      "_model_module": "@jupyter-widgets/base",
      "_model_module_version": "1.2.0",
      "_model_name": "LayoutModel",
      "_view_count": null,
      "_view_module": "@jupyter-widgets/base",
      "_view_module_version": "1.2.0",
      "_view_name": "LayoutView",
      "align_content": null,
      "align_items": null,
      "align_self": null,
      "border": null,
      "bottom": null,
      "display": null,
      "flex": null,
      "flex_flow": null,
      "grid_area": null,
      "grid_auto_columns": null,
      "grid_auto_flow": null,
      "grid_auto_rows": null,
      "grid_column": null,
      "grid_gap": null,
      "grid_row": null,
      "grid_template_areas": null,
      "grid_template_columns": null,
      "grid_template_rows": null,
      "height": null,
      "justify_content": null,
      "justify_items": null,
      "left": null,
      "margin": null,
      "max_height": null,
      "max_width": null,
      "min_height": null,
      "min_width": null,
      "object_fit": null,
      "object_position": null,
      "order": null,
      "overflow": null,
      "overflow_x": null,
      "overflow_y": null,
      "padding": null,
      "right": null,
      "top": null,
      "visibility": null,
      "width": null
     }
    },
    "b27a2d137c20434f882d77d734bcbc36": {
     "model_module": "@jupyter-widgets/base",
     "model_module_version": "1.2.0",
     "model_name": "LayoutModel",
     "state": {
      "_model_module": "@jupyter-widgets/base",
      "_model_module_version": "1.2.0",
      "_model_name": "LayoutModel",
      "_view_count": null,
      "_view_module": "@jupyter-widgets/base",
      "_view_module_version": "1.2.0",
      "_view_name": "LayoutView",
      "align_content": null,
      "align_items": null,
      "align_self": null,
      "border": null,
      "bottom": null,
      "display": null,
      "flex": null,
      "flex_flow": null,
      "grid_area": null,
      "grid_auto_columns": null,
      "grid_auto_flow": null,
      "grid_auto_rows": null,
      "grid_column": null,
      "grid_gap": null,
      "grid_row": null,
      "grid_template_areas": null,
      "grid_template_columns": null,
      "grid_template_rows": null,
      "height": null,
      "justify_content": null,
      "justify_items": null,
      "left": null,
      "margin": null,
      "max_height": null,
      "max_width": null,
      "min_height": null,
      "min_width": null,
      "object_fit": null,
      "object_position": null,
      "order": null,
      "overflow": null,
      "overflow_x": null,
      "overflow_y": null,
      "padding": null,
      "right": null,
      "top": null,
      "visibility": null,
      "width": null
     }
    },
    "b48d3ac11d3643068bbc69d3a8bc2a96": {
     "model_module": "@jupyter-widgets/base",
     "model_module_version": "1.2.0",
     "model_name": "LayoutModel",
     "state": {
      "_model_module": "@jupyter-widgets/base",
      "_model_module_version": "1.2.0",
      "_model_name": "LayoutModel",
      "_view_count": null,
      "_view_module": "@jupyter-widgets/base",
      "_view_module_version": "1.2.0",
      "_view_name": "LayoutView",
      "align_content": null,
      "align_items": null,
      "align_self": null,
      "border": null,
      "bottom": null,
      "display": null,
      "flex": null,
      "flex_flow": null,
      "grid_area": null,
      "grid_auto_columns": null,
      "grid_auto_flow": null,
      "grid_auto_rows": null,
      "grid_column": null,
      "grid_gap": null,
      "grid_row": null,
      "grid_template_areas": null,
      "grid_template_columns": null,
      "grid_template_rows": null,
      "height": null,
      "justify_content": null,
      "justify_items": null,
      "left": null,
      "margin": null,
      "max_height": null,
      "max_width": null,
      "min_height": null,
      "min_width": null,
      "object_fit": null,
      "object_position": null,
      "order": null,
      "overflow": null,
      "overflow_x": null,
      "overflow_y": null,
      "padding": null,
      "right": null,
      "top": null,
      "visibility": null,
      "width": null
     }
    },
    "b689316d8652414fa16f3fe1655e6179": {
     "model_module": "@jupyter-widgets/controls",
     "model_module_version": "1.5.0",
     "model_name": "ProgressStyleModel",
     "state": {
      "_model_module": "@jupyter-widgets/controls",
      "_model_module_version": "1.5.0",
      "_model_name": "ProgressStyleModel",
      "_view_count": null,
      "_view_module": "@jupyter-widgets/base",
      "_view_module_version": "1.2.0",
      "_view_name": "StyleView",
      "bar_color": null,
      "description_width": ""
     }
    },
    "b73510d4f73241f983521f535f22f8b0": {
     "model_module": "@jupyter-widgets/base",
     "model_module_version": "1.2.0",
     "model_name": "LayoutModel",
     "state": {
      "_model_module": "@jupyter-widgets/base",
      "_model_module_version": "1.2.0",
      "_model_name": "LayoutModel",
      "_view_count": null,
      "_view_module": "@jupyter-widgets/base",
      "_view_module_version": "1.2.0",
      "_view_name": "LayoutView",
      "align_content": null,
      "align_items": null,
      "align_self": null,
      "border": null,
      "bottom": null,
      "display": null,
      "flex": null,
      "flex_flow": null,
      "grid_area": null,
      "grid_auto_columns": null,
      "grid_auto_flow": null,
      "grid_auto_rows": null,
      "grid_column": null,
      "grid_gap": null,
      "grid_row": null,
      "grid_template_areas": null,
      "grid_template_columns": null,
      "grid_template_rows": null,
      "height": null,
      "justify_content": null,
      "justify_items": null,
      "left": null,
      "margin": null,
      "max_height": null,
      "max_width": null,
      "min_height": null,
      "min_width": null,
      "object_fit": null,
      "object_position": null,
      "order": null,
      "overflow": null,
      "overflow_x": null,
      "overflow_y": null,
      "padding": null,
      "right": null,
      "top": null,
      "visibility": null,
      "width": null
     }
    },
    "b807d83b20c54d9596944e43891e8ab4": {
     "model_module": "@jupyter-widgets/controls",
     "model_module_version": "1.5.0",
     "model_name": "HBoxModel",
     "state": {
      "_dom_classes": [],
      "_model_module": "@jupyter-widgets/controls",
      "_model_module_version": "1.5.0",
      "_model_name": "HBoxModel",
      "_view_count": null,
      "_view_module": "@jupyter-widgets/controls",
      "_view_module_version": "1.5.0",
      "_view_name": "HBoxView",
      "box_style": "",
      "children": [
       "IPY_MODEL_769be25e39d349b1a521a4ba72329cd3",
       "IPY_MODEL_33155295f4fc4b7aa8bd038898631aa9",
       "IPY_MODEL_7127b66edfa34b25a90a8f717be3deb3"
      ],
      "layout": "IPY_MODEL_df7d88153e0d4f96be6f65948c400ae1"
     }
    },
    "bb66b4dfbe064abba6e2bd08570c91be": {
     "model_module": "@jupyter-widgets/controls",
     "model_module_version": "1.5.0",
     "model_name": "DescriptionStyleModel",
     "state": {
      "_model_module": "@jupyter-widgets/controls",
      "_model_module_version": "1.5.0",
      "_model_name": "DescriptionStyleModel",
      "_view_count": null,
      "_view_module": "@jupyter-widgets/base",
      "_view_module_version": "1.2.0",
      "_view_name": "StyleView",
      "description_width": ""
     }
    },
    "bee33be20ca641a480b5401b159762ec": {
     "model_module": "@jupyter-widgets/base",
     "model_module_version": "1.2.0",
     "model_name": "LayoutModel",
     "state": {
      "_model_module": "@jupyter-widgets/base",
      "_model_module_version": "1.2.0",
      "_model_name": "LayoutModel",
      "_view_count": null,
      "_view_module": "@jupyter-widgets/base",
      "_view_module_version": "1.2.0",
      "_view_name": "LayoutView",
      "align_content": null,
      "align_items": null,
      "align_self": null,
      "border": null,
      "bottom": null,
      "display": null,
      "flex": null,
      "flex_flow": null,
      "grid_area": null,
      "grid_auto_columns": null,
      "grid_auto_flow": null,
      "grid_auto_rows": null,
      "grid_column": null,
      "grid_gap": null,
      "grid_row": null,
      "grid_template_areas": null,
      "grid_template_columns": null,
      "grid_template_rows": null,
      "height": null,
      "justify_content": null,
      "justify_items": null,
      "left": null,
      "margin": null,
      "max_height": null,
      "max_width": null,
      "min_height": null,
      "min_width": null,
      "object_fit": null,
      "object_position": null,
      "order": null,
      "overflow": null,
      "overflow_x": null,
      "overflow_y": null,
      "padding": null,
      "right": null,
      "top": null,
      "visibility": null,
      "width": null
     }
    },
    "c068f814c5ec4d9786fceedd9907ff19": {
     "model_module": "@jupyter-widgets/base",
     "model_module_version": "1.2.0",
     "model_name": "LayoutModel",
     "state": {
      "_model_module": "@jupyter-widgets/base",
      "_model_module_version": "1.2.0",
      "_model_name": "LayoutModel",
      "_view_count": null,
      "_view_module": "@jupyter-widgets/base",
      "_view_module_version": "1.2.0",
      "_view_name": "LayoutView",
      "align_content": null,
      "align_items": null,
      "align_self": null,
      "border": null,
      "bottom": null,
      "display": null,
      "flex": null,
      "flex_flow": null,
      "grid_area": null,
      "grid_auto_columns": null,
      "grid_auto_flow": null,
      "grid_auto_rows": null,
      "grid_column": null,
      "grid_gap": null,
      "grid_row": null,
      "grid_template_areas": null,
      "grid_template_columns": null,
      "grid_template_rows": null,
      "height": null,
      "justify_content": null,
      "justify_items": null,
      "left": null,
      "margin": null,
      "max_height": null,
      "max_width": null,
      "min_height": null,
      "min_width": null,
      "object_fit": null,
      "object_position": null,
      "order": null,
      "overflow": null,
      "overflow_x": null,
      "overflow_y": null,
      "padding": null,
      "right": null,
      "top": null,
      "visibility": null,
      "width": null
     }
    },
    "c0fccc8bfbf44b529dc5765017644817": {
     "model_module": "@jupyter-widgets/controls",
     "model_module_version": "1.5.0",
     "model_name": "HTMLModel",
     "state": {
      "_dom_classes": [],
      "_model_module": "@jupyter-widgets/controls",
      "_model_module_version": "1.5.0",
      "_model_name": "HTMLModel",
      "_view_count": null,
      "_view_module": "@jupyter-widgets/controls",
      "_view_module_version": "1.5.0",
      "_view_name": "HTMLView",
      "description": "",
      "description_tooltip": null,
      "layout": "IPY_MODEL_54f034453f314c51825c5a07ea0010a3",
      "placeholder": "​",
      "style": "IPY_MODEL_cec286b9e85d491bbf3cae9e586977b3",
      "value": "tokenizer_config.json: 100%"
     }
    },
    "c7e7f689cebf47a1bc7c688a3f26ab0f": {
     "model_module": "@jupyter-widgets/controls",
     "model_module_version": "1.5.0",
     "model_name": "ProgressStyleModel",
     "state": {
      "_model_module": "@jupyter-widgets/controls",
      "_model_module_version": "1.5.0",
      "_model_name": "ProgressStyleModel",
      "_view_count": null,
      "_view_module": "@jupyter-widgets/base",
      "_view_module_version": "1.2.0",
      "_view_name": "StyleView",
      "bar_color": null,
      "description_width": ""
     }
    },
    "ccbb2bbce81b401d8c1c06f8c9404530": {
     "model_module": "@jupyter-widgets/base",
     "model_module_version": "1.2.0",
     "model_name": "LayoutModel",
     "state": {
      "_model_module": "@jupyter-widgets/base",
      "_model_module_version": "1.2.0",
      "_model_name": "LayoutModel",
      "_view_count": null,
      "_view_module": "@jupyter-widgets/base",
      "_view_module_version": "1.2.0",
      "_view_name": "LayoutView",
      "align_content": null,
      "align_items": null,
      "align_self": null,
      "border": null,
      "bottom": null,
      "display": null,
      "flex": null,
      "flex_flow": null,
      "grid_area": null,
      "grid_auto_columns": null,
      "grid_auto_flow": null,
      "grid_auto_rows": null,
      "grid_column": null,
      "grid_gap": null,
      "grid_row": null,
      "grid_template_areas": null,
      "grid_template_columns": null,
      "grid_template_rows": null,
      "height": null,
      "justify_content": null,
      "justify_items": null,
      "left": null,
      "margin": null,
      "max_height": null,
      "max_width": null,
      "min_height": null,
      "min_width": null,
      "object_fit": null,
      "object_position": null,
      "order": null,
      "overflow": null,
      "overflow_x": null,
      "overflow_y": null,
      "padding": null,
      "right": null,
      "top": null,
      "visibility": null,
      "width": null
     }
    },
    "cd75c8057e0146bb99cfb8dcbe52b72c": {
     "model_module": "@jupyter-widgets/base",
     "model_module_version": "1.2.0",
     "model_name": "LayoutModel",
     "state": {
      "_model_module": "@jupyter-widgets/base",
      "_model_module_version": "1.2.0",
      "_model_name": "LayoutModel",
      "_view_count": null,
      "_view_module": "@jupyter-widgets/base",
      "_view_module_version": "1.2.0",
      "_view_name": "LayoutView",
      "align_content": null,
      "align_items": null,
      "align_self": null,
      "border": null,
      "bottom": null,
      "display": null,
      "flex": null,
      "flex_flow": null,
      "grid_area": null,
      "grid_auto_columns": null,
      "grid_auto_flow": null,
      "grid_auto_rows": null,
      "grid_column": null,
      "grid_gap": null,
      "grid_row": null,
      "grid_template_areas": null,
      "grid_template_columns": null,
      "grid_template_rows": null,
      "height": null,
      "justify_content": null,
      "justify_items": null,
      "left": null,
      "margin": null,
      "max_height": null,
      "max_width": null,
      "min_height": null,
      "min_width": null,
      "object_fit": null,
      "object_position": null,
      "order": null,
      "overflow": null,
      "overflow_x": null,
      "overflow_y": null,
      "padding": null,
      "right": null,
      "top": null,
      "visibility": null,
      "width": null
     }
    },
    "cec286b9e85d491bbf3cae9e586977b3": {
     "model_module": "@jupyter-widgets/controls",
     "model_module_version": "1.5.0",
     "model_name": "DescriptionStyleModel",
     "state": {
      "_model_module": "@jupyter-widgets/controls",
      "_model_module_version": "1.5.0",
      "_model_name": "DescriptionStyleModel",
      "_view_count": null,
      "_view_module": "@jupyter-widgets/base",
      "_view_module_version": "1.2.0",
      "_view_name": "StyleView",
      "description_width": ""
     }
    },
    "cf1738a7bc9049ad907e470ee0e07999": {
     "model_module": "@jupyter-widgets/controls",
     "model_module_version": "1.5.0",
     "model_name": "HTMLModel",
     "state": {
      "_dom_classes": [],
      "_model_module": "@jupyter-widgets/controls",
      "_model_module_version": "1.5.0",
      "_model_name": "HTMLModel",
      "_view_count": null,
      "_view_module": "@jupyter-widgets/controls",
      "_view_module_version": "1.5.0",
      "_view_name": "HTMLView",
      "description": "",
      "description_tooltip": null,
      "layout": "IPY_MODEL_8e883c4a57d04cffa226539c92c175a2",
      "placeholder": "​",
      "style": "IPY_MODEL_eb251e23fbff400a8795a9e07a250c85",
      "value": " 66.7M/66.7M [00:00&lt;00:00, 125MB/s]"
     }
    },
    "d6514b9cc367485ca9974d37c797ee2a": {
     "model_module": "@jupyter-widgets/controls",
     "model_module_version": "1.5.0",
     "model_name": "ProgressStyleModel",
     "state": {
      "_model_module": "@jupyter-widgets/controls",
      "_model_module_version": "1.5.0",
      "_model_name": "ProgressStyleModel",
      "_view_count": null,
      "_view_module": "@jupyter-widgets/base",
      "_view_module_version": "1.2.0",
      "_view_name": "StyleView",
      "bar_color": null,
      "description_width": ""
     }
    },
    "d78f7f962bea47c2baa2afd97e526c09": {
     "model_module": "@jupyter-widgets/controls",
     "model_module_version": "1.5.0",
     "model_name": "HTMLModel",
     "state": {
      "_dom_classes": [],
      "_model_module": "@jupyter-widgets/controls",
      "_model_module_version": "1.5.0",
      "_model_name": "HTMLModel",
      "_view_count": null,
      "_view_module": "@jupyter-widgets/controls",
      "_view_module_version": "1.5.0",
      "_view_name": "HTMLView",
      "description": "",
      "description_tooltip": null,
      "layout": "IPY_MODEL_35e5afc723664f8f9581f7cb6d14ed23",
      "placeholder": "​",
      "style": "IPY_MODEL_92fb2689ac2945c6b4aeb94994fac88b",
      "value": " 385/385 [00:00&lt;00:00, 45.8kB/s]"
     }
    },
    "d9113c117d2245e4aa7adb5a5afc837b": {
     "model_module": "@jupyter-widgets/base",
     "model_module_version": "1.2.0",
     "model_name": "LayoutModel",
     "state": {
      "_model_module": "@jupyter-widgets/base",
      "_model_module_version": "1.2.0",
      "_model_name": "LayoutModel",
      "_view_count": null,
      "_view_module": "@jupyter-widgets/base",
      "_view_module_version": "1.2.0",
      "_view_name": "LayoutView",
      "align_content": null,
      "align_items": null,
      "align_self": null,
      "border": null,
      "bottom": null,
      "display": null,
      "flex": null,
      "flex_flow": null,
      "grid_area": null,
      "grid_auto_columns": null,
      "grid_auto_flow": null,
      "grid_auto_rows": null,
      "grid_column": null,
      "grid_gap": null,
      "grid_row": null,
      "grid_template_areas": null,
      "grid_template_columns": null,
      "grid_template_rows": null,
      "height": null,
      "justify_content": null,
      "justify_items": null,
      "left": null,
      "margin": null,
      "max_height": null,
      "max_width": null,
      "min_height": null,
      "min_width": null,
      "object_fit": null,
      "object_position": null,
      "order": null,
      "overflow": null,
      "overflow_x": null,
      "overflow_y": null,
      "padding": null,
      "right": null,
      "top": null,
      "visibility": null,
      "width": null
     }
    },
    "d91b44cdad2d48a794585d67abab3d29": {
     "model_module": "@jupyter-widgets/base",
     "model_module_version": "1.2.0",
     "model_name": "LayoutModel",
     "state": {
      "_model_module": "@jupyter-widgets/base",
      "_model_module_version": "1.2.0",
      "_model_name": "LayoutModel",
      "_view_count": null,
      "_view_module": "@jupyter-widgets/base",
      "_view_module_version": "1.2.0",
      "_view_name": "LayoutView",
      "align_content": null,
      "align_items": null,
      "align_self": null,
      "border": null,
      "bottom": null,
      "display": null,
      "flex": null,
      "flex_flow": null,
      "grid_area": null,
      "grid_auto_columns": null,
      "grid_auto_flow": null,
      "grid_auto_rows": null,
      "grid_column": null,
      "grid_gap": null,
      "grid_row": null,
      "grid_template_areas": null,
      "grid_template_columns": null,
      "grid_template_rows": null,
      "height": null,
      "justify_content": null,
      "justify_items": null,
      "left": null,
      "margin": null,
      "max_height": null,
      "max_width": null,
      "min_height": null,
      "min_width": null,
      "object_fit": null,
      "object_position": null,
      "order": null,
      "overflow": null,
      "overflow_x": null,
      "overflow_y": null,
      "padding": null,
      "right": null,
      "top": null,
      "visibility": null,
      "width": null
     }
    },
    "db0632b86e754cccb43e354545c13fc0": {
     "model_module": "@jupyter-widgets/controls",
     "model_module_version": "1.5.0",
     "model_name": "DescriptionStyleModel",
     "state": {
      "_model_module": "@jupyter-widgets/controls",
      "_model_module_version": "1.5.0",
      "_model_name": "DescriptionStyleModel",
      "_view_count": null,
      "_view_module": "@jupyter-widgets/base",
      "_view_module_version": "1.2.0",
      "_view_name": "StyleView",
      "description_width": ""
     }
    },
    "db1f89c364b1402699dc89da54c036f5": {
     "model_module": "@jupyter-widgets/base",
     "model_module_version": "1.2.0",
     "model_name": "LayoutModel",
     "state": {
      "_model_module": "@jupyter-widgets/base",
      "_model_module_version": "1.2.0",
      "_model_name": "LayoutModel",
      "_view_count": null,
      "_view_module": "@jupyter-widgets/base",
      "_view_module_version": "1.2.0",
      "_view_name": "LayoutView",
      "align_content": null,
      "align_items": null,
      "align_self": null,
      "border": null,
      "bottom": null,
      "display": null,
      "flex": null,
      "flex_flow": null,
      "grid_area": null,
      "grid_auto_columns": null,
      "grid_auto_flow": null,
      "grid_auto_rows": null,
      "grid_column": null,
      "grid_gap": null,
      "grid_row": null,
      "grid_template_areas": null,
      "grid_template_columns": null,
      "grid_template_rows": null,
      "height": null,
      "justify_content": null,
      "justify_items": null,
      "left": null,
      "margin": null,
      "max_height": null,
      "max_width": null,
      "min_height": null,
      "min_width": null,
      "object_fit": null,
      "object_position": null,
      "order": null,
      "overflow": null,
      "overflow_x": null,
      "overflow_y": null,
      "padding": null,
      "right": null,
      "top": null,
      "visibility": null,
      "width": null
     }
    },
    "ddca5583f67b48cbbb909986a5104fa9": {
     "model_module": "@jupyter-widgets/base",
     "model_module_version": "1.2.0",
     "model_name": "LayoutModel",
     "state": {
      "_model_module": "@jupyter-widgets/base",
      "_model_module_version": "1.2.0",
      "_model_name": "LayoutModel",
      "_view_count": null,
      "_view_module": "@jupyter-widgets/base",
      "_view_module_version": "1.2.0",
      "_view_name": "LayoutView",
      "align_content": null,
      "align_items": null,
      "align_self": null,
      "border": null,
      "bottom": null,
      "display": null,
      "flex": null,
      "flex_flow": null,
      "grid_area": null,
      "grid_auto_columns": null,
      "grid_auto_flow": null,
      "grid_auto_rows": null,
      "grid_column": null,
      "grid_gap": null,
      "grid_row": null,
      "grid_template_areas": null,
      "grid_template_columns": null,
      "grid_template_rows": null,
      "height": null,
      "justify_content": null,
      "justify_items": null,
      "left": null,
      "margin": null,
      "max_height": null,
      "max_width": null,
      "min_height": null,
      "min_width": null,
      "object_fit": null,
      "object_position": null,
      "order": null,
      "overflow": null,
      "overflow_x": null,
      "overflow_y": null,
      "padding": null,
      "right": null,
      "top": null,
      "visibility": null,
      "width": null
     }
    },
    "dee9d9dfc7fa4dff8da3613b4b32dcf3": {
     "model_module": "@jupyter-widgets/controls",
     "model_module_version": "1.5.0",
     "model_name": "HTMLModel",
     "state": {
      "_dom_classes": [],
      "_model_module": "@jupyter-widgets/controls",
      "_model_module_version": "1.5.0",
      "_model_name": "HTMLModel",
      "_view_count": null,
      "_view_module": "@jupyter-widgets/controls",
      "_view_module_version": "1.5.0",
      "_view_name": "HTMLView",
      "description": "",
      "description_tooltip": null,
      "layout": "IPY_MODEL_b48d3ac11d3643068bbc69d3a8bc2a96",
      "placeholder": "​",
      "style": "IPY_MODEL_e337129ebff24d65a029aae7a24a790c",
      "value": "vocab.txt: 100%"
     }
    },
    "df7d88153e0d4f96be6f65948c400ae1": {
     "model_module": "@jupyter-widgets/base",
     "model_module_version": "1.2.0",
     "model_name": "LayoutModel",
     "state": {
      "_model_module": "@jupyter-widgets/base",
      "_model_module_version": "1.2.0",
      "_model_name": "LayoutModel",
      "_view_count": null,
      "_view_module": "@jupyter-widgets/base",
      "_view_module_version": "1.2.0",
      "_view_name": "LayoutView",
      "align_content": null,
      "align_items": null,
      "align_self": null,
      "border": null,
      "bottom": null,
      "display": null,
      "flex": null,
      "flex_flow": null,
      "grid_area": null,
      "grid_auto_columns": null,
      "grid_auto_flow": null,
      "grid_auto_rows": null,
      "grid_column": null,
      "grid_gap": null,
      "grid_row": null,
      "grid_template_areas": null,
      "grid_template_columns": null,
      "grid_template_rows": null,
      "height": null,
      "justify_content": null,
      "justify_items": null,
      "left": null,
      "margin": null,
      "max_height": null,
      "max_width": null,
      "min_height": null,
      "min_width": null,
      "object_fit": null,
      "object_position": null,
      "order": null,
      "overflow": null,
      "overflow_x": null,
      "overflow_y": null,
      "padding": null,
      "right": null,
      "top": null,
      "visibility": null,
      "width": null
     }
    },
    "df8c69351f774a7c8e5487240cc2cdca": {
     "model_module": "@jupyter-widgets/base",
     "model_module_version": "1.2.0",
     "model_name": "LayoutModel",
     "state": {
      "_model_module": "@jupyter-widgets/base",
      "_model_module_version": "1.2.0",
      "_model_name": "LayoutModel",
      "_view_count": null,
      "_view_module": "@jupyter-widgets/base",
      "_view_module_version": "1.2.0",
      "_view_name": "LayoutView",
      "align_content": null,
      "align_items": null,
      "align_self": null,
      "border": null,
      "bottom": null,
      "display": null,
      "flex": null,
      "flex_flow": null,
      "grid_area": null,
      "grid_auto_columns": null,
      "grid_auto_flow": null,
      "grid_auto_rows": null,
      "grid_column": null,
      "grid_gap": null,
      "grid_row": null,
      "grid_template_areas": null,
      "grid_template_columns": null,
      "grid_template_rows": null,
      "height": null,
      "justify_content": null,
      "justify_items": null,
      "left": null,
      "margin": null,
      "max_height": null,
      "max_width": null,
      "min_height": null,
      "min_width": null,
      "object_fit": null,
      "object_position": null,
      "order": null,
      "overflow": null,
      "overflow_x": null,
      "overflow_y": null,
      "padding": null,
      "right": null,
      "top": null,
      "visibility": null,
      "width": null
     }
    },
    "e0df4b5dee25490b9d2e9299737e0611": {
     "model_module": "@jupyter-widgets/controls",
     "model_module_version": "1.5.0",
     "model_name": "DescriptionStyleModel",
     "state": {
      "_model_module": "@jupyter-widgets/controls",
      "_model_module_version": "1.5.0",
      "_model_name": "DescriptionStyleModel",
      "_view_count": null,
      "_view_module": "@jupyter-widgets/base",
      "_view_module_version": "1.2.0",
      "_view_name": "StyleView",
      "description_width": ""
     }
    },
    "e13508f0e1514ff581496378a8dfba36": {
     "model_module": "@jupyter-widgets/controls",
     "model_module_version": "1.5.0",
     "model_name": "HBoxModel",
     "state": {
      "_dom_classes": [],
      "_model_module": "@jupyter-widgets/controls",
      "_model_module_version": "1.5.0",
      "_model_name": "HBoxModel",
      "_view_count": null,
      "_view_module": "@jupyter-widgets/controls",
      "_view_module_version": "1.5.0",
      "_view_name": "HBoxView",
      "box_style": "",
      "children": [
       "IPY_MODEL_dee9d9dfc7fa4dff8da3613b4b32dcf3",
       "IPY_MODEL_341050932b86472d9a810acea01e2539",
       "IPY_MODEL_5bdb70f1b32b479ab7469e8a72b064c0"
      ],
      "layout": "IPY_MODEL_79a44623919443d3b15cdba113faf8c9"
     }
    },
    "e140b9e50faa4bb1b5e0b7d77087742d": {
     "model_module": "@jupyter-widgets/controls",
     "model_module_version": "1.5.0",
     "model_name": "DescriptionStyleModel",
     "state": {
      "_model_module": "@jupyter-widgets/controls",
      "_model_module_version": "1.5.0",
      "_model_name": "DescriptionStyleModel",
      "_view_count": null,
      "_view_module": "@jupyter-widgets/base",
      "_view_module_version": "1.2.0",
      "_view_name": "StyleView",
      "description_width": ""
     }
    },
    "e337129ebff24d65a029aae7a24a790c": {
     "model_module": "@jupyter-widgets/controls",
     "model_module_version": "1.5.0",
     "model_name": "DescriptionStyleModel",
     "state": {
      "_model_module": "@jupyter-widgets/controls",
      "_model_module_version": "1.5.0",
      "_model_name": "DescriptionStyleModel",
      "_view_count": null,
      "_view_module": "@jupyter-widgets/base",
      "_view_module_version": "1.2.0",
      "_view_name": "StyleView",
      "description_width": ""
     }
    },
    "e67dc223ad5c40ea87e4eeed494cab78": {
     "model_module": "@jupyter-widgets/controls",
     "model_module_version": "1.5.0",
     "model_name": "HTMLModel",
     "state": {
      "_dom_classes": [],
      "_model_module": "@jupyter-widgets/controls",
      "_model_module_version": "1.5.0",
      "_model_name": "HTMLModel",
      "_view_count": null,
      "_view_module": "@jupyter-widgets/controls",
      "_view_module_version": "1.5.0",
      "_view_name": "HTMLView",
      "description": "",
      "description_tooltip": null,
      "layout": "IPY_MODEL_98e675173bf14a99af7f11d822078536",
      "placeholder": "​",
      "style": "IPY_MODEL_2e6ead301a364c31b231308620305606",
      "value": " 125/125 [00:00&lt;00:00, 12.9kB/s]"
     }
    },
    "e6867a81588541e598c13d2b4dd6dcb1": {
     "model_module": "@jupyter-widgets/controls",
     "model_module_version": "1.5.0",
     "model_name": "HTMLModel",
     "state": {
      "_dom_classes": [],
      "_model_module": "@jupyter-widgets/controls",
      "_model_module_version": "1.5.0",
      "_model_name": "HTMLModel",
      "_view_count": null,
      "_view_module": "@jupyter-widgets/controls",
      "_view_module_version": "1.5.0",
      "_view_name": "HTMLView",
      "description": "",
      "description_tooltip": null,
      "layout": "IPY_MODEL_9ce2b5af2e01464fb468e83bfc6a9e19",
      "placeholder": "​",
      "style": "IPY_MODEL_8fb54cbdd12e4c459e8353aeecad3b93",
      "value": "model.safetensors: 100%"
     }
    },
    "e6aa66c25d8940669acb993bced776e9": {
     "model_module": "@jupyter-widgets/base",
     "model_module_version": "1.2.0",
     "model_name": "LayoutModel",
     "state": {
      "_model_module": "@jupyter-widgets/base",
      "_model_module_version": "1.2.0",
      "_model_name": "LayoutModel",
      "_view_count": null,
      "_view_module": "@jupyter-widgets/base",
      "_view_module_version": "1.2.0",
      "_view_name": "LayoutView",
      "align_content": null,
      "align_items": null,
      "align_self": null,
      "border": null,
      "bottom": null,
      "display": null,
      "flex": null,
      "flex_flow": null,
      "grid_area": null,
      "grid_auto_columns": null,
      "grid_auto_flow": null,
      "grid_auto_rows": null,
      "grid_column": null,
      "grid_gap": null,
      "grid_row": null,
      "grid_template_areas": null,
      "grid_template_columns": null,
      "grid_template_rows": null,
      "height": null,
      "justify_content": null,
      "justify_items": null,
      "left": null,
      "margin": null,
      "max_height": null,
      "max_width": null,
      "min_height": null,
      "min_width": null,
      "object_fit": null,
      "object_position": null,
      "order": null,
      "overflow": null,
      "overflow_x": null,
      "overflow_y": null,
      "padding": null,
      "right": null,
      "top": null,
      "visibility": null,
      "width": null
     }
    },
    "e75b08ff26af4382805f6ee54d4b5ff7": {
     "model_module": "@jupyter-widgets/controls",
     "model_module_version": "1.5.0",
     "model_name": "FloatProgressModel",
     "state": {
      "_dom_classes": [],
      "_model_module": "@jupyter-widgets/controls",
      "_model_module_version": "1.5.0",
      "_model_name": "FloatProgressModel",
      "_view_count": null,
      "_view_module": "@jupyter-widgets/controls",
      "_view_module_version": "1.5.0",
      "_view_name": "ProgressView",
      "bar_style": "success",
      "description": "",
      "description_tooltip": null,
      "layout": "IPY_MODEL_c068f814c5ec4d9786fceedd9907ff19",
      "max": 125,
      "min": 0,
      "orientation": "horizontal",
      "style": "IPY_MODEL_9d0ff0bc0f7148f8a0dc16d2200bda09",
      "value": 125
     }
    },
    "eb251e23fbff400a8795a9e07a250c85": {
     "model_module": "@jupyter-widgets/controls",
     "model_module_version": "1.5.0",
     "model_name": "DescriptionStyleModel",
     "state": {
      "_model_module": "@jupyter-widgets/controls",
      "_model_module_version": "1.5.0",
      "_model_name": "DescriptionStyleModel",
      "_view_count": null,
      "_view_module": "@jupyter-widgets/base",
      "_view_module_version": "1.2.0",
      "_view_name": "StyleView",
      "description_width": ""
     }
    },
    "eb643642ff2f491791ef0be9c2b174d4": {
     "model_module": "@jupyter-widgets/base",
     "model_module_version": "1.2.0",
     "model_name": "LayoutModel",
     "state": {
      "_model_module": "@jupyter-widgets/base",
      "_model_module_version": "1.2.0",
      "_model_name": "LayoutModel",
      "_view_count": null,
      "_view_module": "@jupyter-widgets/base",
      "_view_module_version": "1.2.0",
      "_view_name": "LayoutView",
      "align_content": null,
      "align_items": null,
      "align_self": null,
      "border": null,
      "bottom": null,
      "display": null,
      "flex": null,
      "flex_flow": null,
      "grid_area": null,
      "grid_auto_columns": null,
      "grid_auto_flow": null,
      "grid_auto_rows": null,
      "grid_column": null,
      "grid_gap": null,
      "grid_row": null,
      "grid_template_areas": null,
      "grid_template_columns": null,
      "grid_template_rows": null,
      "height": null,
      "justify_content": null,
      "justify_items": null,
      "left": null,
      "margin": null,
      "max_height": null,
      "max_width": null,
      "min_height": null,
      "min_width": null,
      "object_fit": null,
      "object_position": null,
      "order": null,
      "overflow": null,
      "overflow_x": null,
      "overflow_y": null,
      "padding": null,
      "right": null,
      "top": null,
      "visibility": null,
      "width": null
     }
    },
    "eb9cc98bb2ff48f7accbd6277faea5ef": {
     "model_module": "@jupyter-widgets/controls",
     "model_module_version": "1.5.0",
     "model_name": "ProgressStyleModel",
     "state": {
      "_model_module": "@jupyter-widgets/controls",
      "_model_module_version": "1.5.0",
      "_model_name": "ProgressStyleModel",
      "_view_count": null,
      "_view_module": "@jupyter-widgets/base",
      "_view_module_version": "1.2.0",
      "_view_name": "StyleView",
      "bar_color": null,
      "description_width": ""
     }
    },
    "ec22fd2806a64b25a759543298f29ad1": {
     "model_module": "@jupyter-widgets/controls",
     "model_module_version": "1.5.0",
     "model_name": "HBoxModel",
     "state": {
      "_dom_classes": [],
      "_model_module": "@jupyter-widgets/controls",
      "_model_module_version": "1.5.0",
      "_model_name": "HBoxModel",
      "_view_count": null,
      "_view_module": "@jupyter-widgets/controls",
      "_view_module_version": "1.5.0",
      "_view_name": "HBoxView",
      "box_style": "",
      "children": [
       "IPY_MODEL_f95e36f021d4484d960eb0fff411d1c0",
       "IPY_MODEL_79be981b86954971b2e000887e3f0587",
       "IPY_MODEL_1f3b7630a48d401e83e6f53fa7051ac6"
      ],
      "layout": "IPY_MODEL_055fc1aab8d34d7783a382cd4a43c8dc"
     }
    },
    "f0e2c085226942ee8bbd0c7d9a08bd14": {
     "model_module": "@jupyter-widgets/base",
     "model_module_version": "1.2.0",
     "model_name": "LayoutModel",
     "state": {
      "_model_module": "@jupyter-widgets/base",
      "_model_module_version": "1.2.0",
      "_model_name": "LayoutModel",
      "_view_count": null,
      "_view_module": "@jupyter-widgets/base",
      "_view_module_version": "1.2.0",
      "_view_name": "LayoutView",
      "align_content": null,
      "align_items": null,
      "align_self": null,
      "border": null,
      "bottom": null,
      "display": null,
      "flex": null,
      "flex_flow": null,
      "grid_area": null,
      "grid_auto_columns": null,
      "grid_auto_flow": null,
      "grid_auto_rows": null,
      "grid_column": null,
      "grid_gap": null,
      "grid_row": null,
      "grid_template_areas": null,
      "grid_template_columns": null,
      "grid_template_rows": null,
      "height": null,
      "justify_content": null,
      "justify_items": null,
      "left": null,
      "margin": null,
      "max_height": null,
      "max_width": null,
      "min_height": null,
      "min_width": null,
      "object_fit": null,
      "object_position": null,
      "order": null,
      "overflow": null,
      "overflow_x": null,
      "overflow_y": null,
      "padding": null,
      "right": null,
      "top": null,
      "visibility": null,
      "width": null
     }
    },
    "f4d922da996b4a9aa2c24631f62d948c": {
     "model_module": "@jupyter-widgets/base",
     "model_module_version": "1.2.0",
     "model_name": "LayoutModel",
     "state": {
      "_model_module": "@jupyter-widgets/base",
      "_model_module_version": "1.2.0",
      "_model_name": "LayoutModel",
      "_view_count": null,
      "_view_module": "@jupyter-widgets/base",
      "_view_module_version": "1.2.0",
      "_view_name": "LayoutView",
      "align_content": null,
      "align_items": null,
      "align_self": null,
      "border": null,
      "bottom": null,
      "display": null,
      "flex": null,
      "flex_flow": null,
      "grid_area": null,
      "grid_auto_columns": null,
      "grid_auto_flow": null,
      "grid_auto_rows": null,
      "grid_column": null,
      "grid_gap": null,
      "grid_row": null,
      "grid_template_areas": null,
      "grid_template_columns": null,
      "grid_template_rows": null,
      "height": null,
      "justify_content": null,
      "justify_items": null,
      "left": null,
      "margin": null,
      "max_height": null,
      "max_width": null,
      "min_height": null,
      "min_width": null,
      "object_fit": null,
      "object_position": null,
      "order": null,
      "overflow": null,
      "overflow_x": null,
      "overflow_y": null,
      "padding": null,
      "right": null,
      "top": null,
      "visibility": null,
      "width": null
     }
    },
    "f90189a0e293484999a5980837740e95": {
     "model_module": "@jupyter-widgets/controls",
     "model_module_version": "1.5.0",
     "model_name": "HBoxModel",
     "state": {
      "_dom_classes": [],
      "_model_module": "@jupyter-widgets/controls",
      "_model_module_version": "1.5.0",
      "_model_name": "HBoxModel",
      "_view_count": null,
      "_view_module": "@jupyter-widgets/controls",
      "_view_module_version": "1.5.0",
      "_view_name": "HBoxView",
      "box_style": "",
      "children": [
       "IPY_MODEL_a9c3ef8a456f49abbbab2ceeb175f452",
       "IPY_MODEL_553d5be3efc3424895b9adfbc7caf9a7",
       "IPY_MODEL_a8779b42dcab4897acd23b4961f6b366"
      ],
      "layout": "IPY_MODEL_7d0de3c61db44099bcce9945b2a50577"
     }
    },
    "f95e36f021d4484d960eb0fff411d1c0": {
     "model_module": "@jupyter-widgets/controls",
     "model_module_version": "1.5.0",
     "model_name": "HTMLModel",
     "state": {
      "_dom_classes": [],
      "_model_module": "@jupyter-widgets/controls",
      "_model_module_version": "1.5.0",
      "_model_name": "HTMLModel",
      "_view_count": null,
      "_view_module": "@jupyter-widgets/controls",
      "_view_module_version": "1.5.0",
      "_view_name": "HTMLView",
      "description": "",
      "description_tooltip": null,
      "layout": "IPY_MODEL_920e32458bc3414c875b0a7ff8dac238",
      "placeholder": "​",
      "style": "IPY_MODEL_e0df4b5dee25490b9d2e9299737e0611",
      "value": "config.json: 100%"
     }
    },
    "ffd768932fdf4dee97e02327cfa911bd": {
     "model_module": "@jupyter-widgets/controls",
     "model_module_version": "1.5.0",
     "model_name": "HBoxModel",
     "state": {
      "_dom_classes": [],
      "_model_module": "@jupyter-widgets/controls",
      "_model_module_version": "1.5.0",
      "_model_name": "HBoxModel",
      "_view_count": null,
      "_view_module": "@jupyter-widgets/controls",
      "_view_module_version": "1.5.0",
      "_view_name": "HBoxView",
      "box_style": "",
      "children": [
       "IPY_MODEL_6855dcc2eee44d8bb50a7c8a9e3d4252",
       "IPY_MODEL_9de87f1869a84f63833aba505e5e2c01",
       "IPY_MODEL_9639a8c5023c4ef4a62a39e5e698935c"
      ],
      "layout": "IPY_MODEL_1066a895370f447d830dbc9203e0be1e"
     }
    }
   }
  }
 },
 "nbformat": 4,
 "nbformat_minor": 5
}
