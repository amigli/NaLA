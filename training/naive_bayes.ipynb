{
 "cells": [
  {
   "cell_type": "code",
   "execution_count": 1,
   "id": "initial_id",
   "metadata": {
    "ExecuteTime": {
     "end_time": "2025-06-12T19:21:24.739754Z",
     "start_time": "2025-06-12T19:21:23.018648Z"
    },
    "collapsed": true,
    "jupyter": {
     "outputs_hidden": true
    }
   },
   "outputs": [],
   "source": [
    "import pandas as pd\n",
    "from tqdm import tqdm\n",
    "\n",
    "tqdm.pandas()\n",
    "\n",
    "train_df = pd.read_csv('data/train.csv', lineterminator=\"\\n\")\n",
    "val_df = pd.read_csv('data/validation.csv', lineterminator=\"\\n\")\n",
    "test_df = pd.read_csv('data/test.csv', lineterminator=\"\\n\")"
   ]
  },
  {
   "cell_type": "code",
   "execution_count": 2,
   "id": "820fa418095d9b92",
   "metadata": {
    "ExecuteTime": {
     "end_time": "2025-06-12T19:21:25.373201Z",
     "start_time": "2025-06-12T19:21:24.740923Z"
    }
   },
   "outputs": [
    {
     "name": "stderr",
     "output_type": "stream",
     "text": [
      "[nltk_data] Downloading package stopwords to\n",
      "[nltk_data]     /Users/angelonazzaro/nltk_data...\n",
      "[nltk_data]   Package stopwords is already up-to-date!\n",
      "[nltk_data] Downloading package punkt_tab to\n",
      "[nltk_data]     /Users/angelonazzaro/nltk_data...\n",
      "[nltk_data]   Package punkt_tab is already up-to-date!\n",
      "[nltk_data] Downloading package wordnet to\n",
      "[nltk_data]     /Users/angelonazzaro/nltk_data...\n",
      "[nltk_data]   Package wordnet is already up-to-date!\n"
     ]
    }
   ],
   "source": [
    "import string\n",
    "import nltk\n",
    "\n",
    "from nltk.corpus import stopwords\n",
    "from nltk.stem.wordnet import WordNetLemmatizer\n",
    "\n",
    "nltk.download('stopwords')\n",
    "nltk.download('punkt_tab')\n",
    "nltk.download('wordnet')\n",
    "\n",
    "STOPWORDS_EN = set(stopwords.words('english'))\n",
    "NEGATION_WORDS = {\"n't\", \"not\", \"no\", \"never\"}\n",
    "PUNCTUATION = set(string.punctuation)\n",
    "LEMMATIZER = WordNetLemmatizer()"
   ]
  },
  {
   "cell_type": "code",
   "execution_count": 3,
   "id": "f610b2d25b1dac46",
   "metadata": {
    "ExecuteTime": {
     "end_time": "2025-06-12T19:23:30.369141Z",
     "start_time": "2025-06-12T19:21:25.374067Z"
    }
   },
   "outputs": [
    {
     "name": "stderr",
     "output_type": "stream",
     "text": [
      "100%|██████████| 854577/854577 [01:40<00:00, 8495.64it/s]\n",
      "100%|██████████| 183124/183124 [00:21<00:00, 8380.20it/s]\n",
      "100%|██████████| 183124/183124 [00:00<00:00, 430565.80it/s]\n"
     ]
    }
   ],
   "source": [
    "from utils.pre_processing import normalize_text\n",
    "\n",
    "train_df.text = train_df.text.progress_apply(lambda x: normalize_text(x, LEMMATIZER, \"lemmatize\", NEGATION_WORDS, PUNCTUATION, STOPWORDS_EN))\n",
    "test_df.text = test_df.text.progress_apply(lambda x: normalize_text(x, LEMMATIZER, \"lemmatize\", NEGATION_WORDS, PUNCTUATION, STOPWORDS_EN))\n",
    "\n",
    "# remove unknown words that do not appear in the train set\n",
    "train_vocab = set(word for doc in train_df.text for word in doc)\n",
    "test_df.text = test_df.text.progress_apply(lambda tokens: [token for token in tokens if token in train_vocab])"
   ]
  },
  {
   "cell_type": "code",
   "execution_count": 4,
   "id": "484748da75196552",
   "metadata": {
    "ExecuteTime": {
     "end_time": "2025-06-12T19:23:30.675164Z",
     "start_time": "2025-06-12T19:23:30.370226Z"
    }
   },
   "outputs": [],
   "source": [
    "from utils import stratified_downsample\n",
    "\n",
    "# Downsample to about 50% of the instances for computational limits\n",
    "train_df = stratified_downsample(train_df, \"sentiment\", frac=0.5)\n",
    "test_df = stratified_downsample(test_df, \"sentiment\", frac=0.5)\n",
    "\n",
    "y_train = train_df[\"sentiment\"]\n",
    "y_test = test_df[\"sentiment\"]"
   ]
  },
  {
   "cell_type": "code",
   "execution_count": 5,
   "id": "b8ad5be7e9ee8415",
   "metadata": {
    "ExecuteTime": {
     "end_time": "2025-06-12T19:23:43.874193Z",
     "start_time": "2025-06-12T19:23:30.676432Z"
    }
   },
   "outputs": [
    {
     "name": "stderr",
     "output_type": "stream",
     "text": [
      "Counting words for class Negative: 100%|██████████| 106950/106950 [00:02<00:00, 46584.26it/s]\n",
      "Counting words for class Neutral: 100%|██████████| 155808/155808 [00:03<00:00, 44008.29it/s]\n",
      "Counting words for class Positive: 100%|██████████| 164530/164530 [00:03<00:00, 45566.15it/s]\n",
      "Computing log-likelihood: 100%|██████████| 3/3 [00:00<00:00,  6.29it/s]\n",
      "Testing Naive Bayes: 100%|██████████| 91562/91562 [00:03<00:00, 29098.21it/s]\n"
     ]
    }
   ],
   "source": [
    "from utils.constants import SENTIMENT_LABELS\n",
    "from models.naive_bayes import train_naive_bayes, test_naive_bayes\n",
    "\n",
    "classes = [x.capitalize() for x in SENTIMENT_LABELS]\n",
    "\n",
    "log_prior, log_likelihood, V = train_naive_bayes(train_df, classes)\n",
    "predictions = test_naive_bayes(test_df, log_prior, log_likelihood, V, classes)"
   ]
  },
  {
   "cell_type": "code",
   "execution_count": 7,
   "id": "814c1017c253b144",
   "metadata": {
    "ExecuteTime": {
     "end_time": "2025-06-12T19:24:02.705923Z",
     "start_time": "2025-06-12T19:24:02.471324Z"
    }
   },
   "outputs": [
    {
     "name": "stdout",
     "output_type": "stream",
     "text": [
      "              precision    recall  f1-score   support\n",
      "\n",
      "    Negative       0.58      0.54      0.56     22918\n",
      "     Neutral       0.62      0.58      0.60     33388\n",
      "    Positive       0.67      0.75      0.71     35256\n",
      "\n",
      "    accuracy                           0.64     91562\n",
      "   macro avg       0.63      0.62      0.62     91562\n",
      "weighted avg       0.63      0.64      0.63     91562\n",
      "\n"
     ]
    },
    {
     "data": {
      "text/plain": [
       "<sklearn.metrics._plot.confusion_matrix.ConfusionMatrixDisplay at 0x10fdd73d0>"
      ]
     },
     "execution_count": 7,
     "metadata": {},
     "output_type": "execute_result"
    },
    {
     "data": {
      "image/png": "[encoded data removed]",
      "text/plain": [
       "<Figure size 640x480 with 2 Axes>"
      ]
     },
     "metadata": {},
     "output_type": "display_data"
    }
   ],
   "source": [
    "from sklearn.metrics import classification_report, ConfusionMatrixDisplay\n",
    "\n",
    "# convert true and predicated labels to indices\n",
    "label_map = {\"Negative\": 0, \"Neutral\": 1, \"Positive\": 2}\n",
    "labels = list(label_map.keys())\n",
    "y_test_indices = [label_map[label] for label in y_test]\n",
    "y_pred = [label_map[label] for label in predictions]\n",
    "\n",
    "print(classification_report(y_true=y_test_indices, y_pred=y_pred, target_names=labels))\n",
    "\n",
    "ConfusionMatrixDisplay.from_predictions(y_true=y_test, y_pred=predictions, display_labels=labels, cmap='Blues')"
   ]
  }
 ],
 "metadata": {
  "kernelspec": {
   "display_name": "Python 3 (ipykernel)",
   "language": "python",
   "name": "python3"
  },
  "language_info": {
   "codemirror_mode": {
    "name": "ipython",
    "version": 3
   },
   "file_extension": ".py",
   "mimetype": "text/x-python",
   "name": "python",
   "nbconvert_exporter": "python",
   "pygments_lexer": "ipython3",
   "version": "3.10.18"
  }
 },
 "nbformat": 4,
 "nbformat_minor": 5
}
