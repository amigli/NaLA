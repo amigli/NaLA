{
 "cells": [
  {
   "metadata": {
    "ExecuteTime": {
     "end_time": "2025-06-13T07:55:14.820679Z",
     "start_time": "2025-06-13T07:55:13.767544Z"
    }
   },
   "cell_type": "code",
   "source": [
    "import os\n",
    "import random\n",
    "import numpy as np\n",
    "\n",
    "import torch\n",
    "import torch.nn as nn\n",
    "\n",
    "from utils.constants import MAX_LEN, SEED\n",
    "\n",
    "\n",
    "BATCH_SIZE = 16\n",
    "NUM_EPOCHS = 10\n",
    "PATIENCE = 5\n",
    "VAL_EVERY_N_EPOCHS = 1\n",
    "\n",
    "EMBEDDING_SIZE = 768\n",
    "HIDDEN_SIZE = 256\n",
    "NUM_LAYERS = 4\n",
    "INPUT_SIZE = 768\n",
    "BIDIRECTIONAL = True\n",
    "\n",
    "NUM_CLASSES = 3  # 0 - Positive, 1 - Negative, 2 - Neutral\n",
    "\n",
    "CHECKPOINT_DIR = 'checkpoints'\n",
    "LR = 1e-5\n",
    "\n",
    "os.makedirs(CHECKPOINT_DIR, exist_ok=True)\n",
    "\n",
    "criterion = nn.CrossEntropyLoss()\n",
    "\n",
    "torch.manual_seed(SEED)\n",
    "random.seed(SEED)\n",
    "np.random.seed(SEED)"
   ],
   "id": "ff76a8a0d1e8cf27",
   "outputs": [],
   "execution_count": 1
  },
  {
   "metadata": {
    "ExecuteTime": {
     "end_time": "2025-06-13T07:55:17.356880Z",
     "start_time": "2025-06-13T07:55:15.382366Z"
    }
   },
   "cell_type": "code",
   "source": [
    "import pandas as pd\n",
    "from utils import stratified_downsample\n",
    "\n",
    "train_df = pd.read_csv(\"./data/train.csv\", lineterminator=\"\\n\")\n",
    "train_df = stratified_downsample(train_df, \"sentiment\")\n",
    "\n",
    "val_df = pd.read_csv(\"./data/validation.csv\", lineterminator=\"\\n\")\n",
    "val_df = stratified_downsample(val_df, \"sentiment\")\n",
    "\n",
    "test_df = pd.read_csv(\"./data/test.csv\", lineterminator=\"\\n\")\n",
    "test_df = stratified_downsample(test_df, \"sentiment\")"
   ],
   "id": "d065dcf08a6df22f",
   "outputs": [],
   "execution_count": 2
  },
  {
   "metadata": {
    "ExecuteTime": {
     "end_time": "2025-06-13T07:56:10.141127Z",
     "start_time": "2025-06-13T07:55:18.306622Z"
    }
   },
   "cell_type": "code",
   "source": [
    "import string\n",
    "import nltk\n",
    "from nltk.corpus import stopwords\n",
    "from nltk.stem.wordnet import WordNetLemmatizer\n",
    "\n",
    "from utils import build_vocab\n",
    "\n",
    "LEMMATIZER = WordNetLemmatizer()\n",
    "\n",
    "nltk.download('stopwords')\n",
    "nltk.download('punkt_tab')\n",
    "nltk.download('wordnet')\n",
    "\n",
    "STOPWORDS_EN = set(stopwords.words('english'))\n",
    "NEGATION_WORDS = {\"n't\", \"not\", \"no\", \"never\"}\n",
    "PUNCTUATION = set(string.punctuation)\n",
    "\n",
    "VOCAB = build_vocab(train_df.text, lemmatizer=LEMMATIZER, lemmatizer_func=\"lemmatize\", negation_words=NEGATION_WORDS, punctuation=PUNCTUATION, stop_words=STOPWORDS_EN, k=20_000)\n",
    "VOCAB_SIZE = len(list(VOCAB.keys()))"
   ],
   "id": "9ebab1f483ebbd75",
   "outputs": [
    {
     "name": "stderr",
     "output_type": "stream",
     "text": [
      "[nltk_data] Downloading package stopwords to\n",
      "[nltk_data]     /Users/angelonazzaro/nltk_data...\n",
      "[nltk_data]   Package stopwords is already up-to-date!\n",
      "[nltk_data] Downloading package punkt_tab to\n",
      "[nltk_data]     /Users/angelonazzaro/nltk_data...\n",
      "[nltk_data]   Package punkt_tab is already up-to-date!\n",
      "[nltk_data] Downloading package wordnet to\n",
      "[nltk_data]     /Users/angelonazzaro/nltk_data...\n",
      "[nltk_data]   Package wordnet is already up-to-date!\n"
     ]
    },
    {
     "name": "stdout",
     "output_type": "stream",
     "text": [
      "🔍 Building vocabulary...\n"
     ]
    },
    {
     "name": "stderr",
     "output_type": "stream",
     "text": [
      "Tokenizing texts: 100%|██████████| 427288/427288 [00:51<00:00, 8279.47it/s]"
     ]
    },
    {
     "name": "stdout",
     "output_type": "stream",
     "text": [
      "✅ Vocab built with 20002 tokens (including specials)\n"
     ]
    },
    {
     "name": "stderr",
     "output_type": "stream",
     "text": [
      "\n"
     ]
    }
   ],
   "execution_count": 3
  },
  {
   "metadata": {
    "ExecuteTime": {
     "end_time": "2025-06-13T07:56:21.690050Z",
     "start_time": "2025-06-13T07:56:20.850511Z"
    }
   },
   "cell_type": "code",
   "source": [
    "%reload_ext autoreload\n",
    "%autoreload 2\n",
    "\n",
    "from torch.utils.data import DataLoader\n",
    "\n",
    "from dataset.bluesky_dataset import BlueSkyDataset\n",
    "from models.rnn import RNNTextClassifier\n",
    "\n",
    "from utils import get_device\n",
    "\n",
    "train_dataset = BlueSkyDataset(vocab=VOCAB, posts=train_df, max_len=MAX_LEN, lemmatizer=LEMMATIZER, lemmatizer_func=\"lemmatize\")\n",
    "train_dataloader = DataLoader(train_dataset, batch_size=BATCH_SIZE, shuffle=True)\n",
    "\n",
    "val_dataset = BlueSkyDataset(vocab=VOCAB, posts=val_df, max_len=MAX_LEN, lemmatizer=LEMMATIZER, lemmatizer_func=\"lemmatize\")\n",
    "val_dataloader = DataLoader(val_dataset, batch_size=BATCH_SIZE, shuffle=False)\n",
    "\n",
    "test_dataset = BlueSkyDataset(vocab=VOCAB, posts=test_df, max_len=MAX_LEN, lemmatizer=LEMMATIZER, lemmatizer_func=\"lemmatize\")\n",
    "test_dataloader = DataLoader(test_dataset, batch_size=BATCH_SIZE, shuffle=False)\n",
    "\n",
    "device = get_device()\n",
    "\n",
    "model = RNNTextClassifier(vocab_size=VOCAB_SIZE, embed_dim=EMBEDDING_SIZE,\n",
    "                          input_size=INPUT_SIZE, hidden_size=HIDDEN_SIZE,\n",
    "                          num_layers=NUM_LAYERS,\n",
    "                          bidirectional=BIDIRECTIONAL, num_classes=NUM_CLASSES)\n",
    "\n",
    "optimizer = torch.optim.AdamW(model.parameters(), lr=LR)"
   ],
   "id": "eae0d007de2580e2",
   "outputs": [],
   "execution_count": 5
  },
  {
   "metadata": {
    "ExecuteTime": {
     "end_time": "2025-06-13T08:02:05.412776Z",
     "start_time": "2025-06-13T07:59:01.842359Z"
    }
   },
   "cell_type": "code",
   "source": [
    "from tqdm import tqdm\n",
    "import matplotlib.pyplot as plt\n",
    "\n",
    "train_losses = []\n",
    "val_losses = []\n",
    "train_accuracies = []\n",
    "val_accuracies = []\n",
    "\n",
    "print(\n",
    "    f\"DATASET\\n\\t- Batch size: {BATCH_SIZE}\\n\\t- Train dataset size: {len(train_dataset)}\\n\\t- Validation dataset size: {len(val_dataset)}\\n\\t- Test dataset size: {len(test_dataset)}\")\n",
    "print(\"=\" * 50)\n",
    "print(\n",
    "    f\"MODEL\\n\\t- EPOCHS: {NUM_EPOCHS}\\n\\t- LEARNING RATE: {LR}\\n\\t- HIDDEN SIZE: {HIDDEN_SIZE}\\n\\t- NUM_LAYERS: {NUM_LAYERS}\\n\\t- BIDIRECTIONAL: {BIDIRECTIONAL}\\n\\t- VOCAB SIZE: {VOCAB_SIZE}\\n\\t- EMBEDDING SIZE: {EMBEDDING_SIZE}\")\n",
    "\n",
    "model = model.to(device)\n",
    "model.train()\n",
    "\n",
    "torch.autograd.set_detect_anomaly(True)\n",
    "\n",
    "best_val_loss = float(\"inf\")\n",
    "curr_patience = 0\n",
    "\n",
    "print(\"=\" * 50)\n",
    "print(\"Starting training...\")\n",
    "print(\"=\" * 50)\n",
    "\n",
    "for epoch in range(NUM_EPOCHS):\n",
    "    if curr_patience >= PATIENCE:\n",
    "        print(f\"Patience reached after {PATIENCE} epochs. Stopping training...\")\n",
    "        break\n",
    "\n",
    "    model.train()\n",
    "    total_loss = 0\n",
    "    total_correct = 0\n",
    "    total_samples = 0\n",
    "\n",
    "    progress_bar = tqdm(train_dataloader, desc=f\"Epoch {epoch + 1}/{NUM_EPOCHS}\", leave=False)\n",
    "    for x_batch, y_batch in progress_bar:\n",
    "        x_batch = x_batch.to(device)\n",
    "        y_batch = y_batch.to(device)\n",
    "\n",
    "        optimizer.zero_grad()\n",
    "        outputs = model(x_batch)\n",
    "        loss = criterion(outputs, y_batch)\n",
    "        loss.backward()\n",
    "        optimizer.step()\n",
    "\n",
    "        total_loss += loss.item() * x_batch.size(0)  # multiply by batch size to sum loss over samples\n",
    "        preds = outputs.argmax(dim=1)\n",
    "        total_correct += (preds == y_batch).sum().item()\n",
    "        total_samples += y_batch.size(0)\n",
    "\n",
    "        accuracy = total_correct / total_samples\n",
    "        avg_loss = total_loss / total_samples\n",
    "\n",
    "        progress_bar.set_postfix({\"train_loss_step\": loss.item(), \"train_accuracy_step\": accuracy})\n",
    "\n",
    "    epoch_loss = total_loss / total_samples\n",
    "    epoch_accuracy = total_correct / total_samples\n",
    "    train_losses.append(epoch_loss)\n",
    "    train_accuracies.append(epoch_accuracy)\n",
    "    print(f\"✅ Epoch {epoch + 1}/{NUM_EPOCHS} | Loss: {epoch_loss:.4f} | Accuracy: {epoch_accuracy:.4f}\")\n",
    "\n",
    "    if epoch % VAL_EVERY_N_EPOCHS == 0:\n",
    "        model.eval()\n",
    "        val_loss = 0\n",
    "        val_correct = 0\n",
    "        val_samples = 0\n",
    "\n",
    "        progress_bar = tqdm(val_dataloader, desc=f\"Validation step {epoch + 1}/{NUM_EPOCHS}\", leave=False)\n",
    "        with torch.no_grad():\n",
    "            for x_val, y_val in progress_bar:\n",
    "                x_val = x_val.to(device)\n",
    "                y_val = y_val.to(device)\n",
    "\n",
    "                outputs = model(x_val)\n",
    "                loss = criterion(outputs, y_val)\n",
    "\n",
    "                val_loss += loss.item() * x_val.size(0)\n",
    "                preds = outputs.argmax(dim=1)\n",
    "                val_correct += (preds == y_val).sum().item()\n",
    "                val_samples += y_val.size(0)\n",
    "\n",
    "                val_accuracy_step = (preds == y_val).float().mean().item()\n",
    "                progress_bar.set_postfix({\"val_loss_step\": loss.item(), \"val_accuracy_step\": val_accuracy_step})\n",
    "\n",
    "        val_loss /= val_samples\n",
    "        val_accuracy = val_correct / val_samples\n",
    "        val_losses.append(val_loss)\n",
    "        val_accuracies.append(val_accuracy)\n",
    "        print(f\"🔍 Validation | Loss: {val_loss:.4f} | Accuracy: {val_accuracy:.4f}\\n\")\n",
    "\n",
    "        if val_loss < best_val_loss:\n",
    "            print(\"=\" * 50)\n",
    "            print(f\"New best score reached. Validation loss improved from {best_val_loss:.4f} to {val_loss:.4f}\")\n",
    "            checkpoint_path = os.path.join(CHECKPOINT_DIR, f\"rnn_val_loss_{val_loss:.4f}_epoch_{epoch + 1}.pt\")\n",
    "            print(f\"Saving checkpoint to {checkpoint_path}\")\n",
    "            print(\"=\" * 50)\n",
    "            torch.save(model.state_dict(), checkpoint_path)\n",
    "            best_val_loss = val_loss\n",
    "            curr_patience = 0\n",
    "        else:\n",
    "            curr_patience += 1\n",
    "\n",
    "print(\"=\" * 50)\n",
    "print(f\"Training finished. Best val loss reached: {best_val_loss:.4f} - Checkpoints saved at {checkpoint_path}\")"
   ],
   "id": "ef2b49cb02cdfd38",
   "outputs": [
    {
     "name": "stdout",
     "output_type": "stream",
     "text": [
      "DATASET\n",
      "\t- Batch size: 16\n",
      "\t- Train dataset size: 427288\n",
      "\t- Validation dataset size: 91562\n",
      "\t- Test dataset size: 91562\n",
      "==================================================\n",
      "MODEL\n",
      "\t- EPOCHS: 10\n",
      "\t- LEARNING RATE: 1e-05\n",
      "\t- HIDDEN SIZE: 256\n",
      "\t- NUM_LAYERS: 4\n",
      "\t- BIDIRECTIONAL: True\n",
      "\t- VOCAB SIZE: 20002\n",
      "\t- EMBEDDING SIZE: 768\n",
      "==================================================\n",
      "Starting training...\n",
      "==================================================\n"
     ]
    },
    {
     "name": "stderr",
     "output_type": "stream",
     "text": [
      "                                                     \r"
     ]
    },
    {
     "ename": "KeyboardInterrupt",
     "evalue": "",
     "output_type": "error",
     "traceback": [
      "\u001B[0;31m---------------------------------------------------------------------------\u001B[0m",
      "\u001B[0;31mKeyboardInterrupt\u001B[0m                         Traceback (most recent call last)",
      "Cell \u001B[0;32mIn[7], line 43\u001B[0m\n\u001B[1;32m     40\u001B[0m y_batch \u001B[38;5;241m=\u001B[39m y_batch\u001B[38;5;241m.\u001B[39mto(device)\n\u001B[1;32m     42\u001B[0m optimizer\u001B[38;5;241m.\u001B[39mzero_grad()\n\u001B[0;32m---> 43\u001B[0m outputs \u001B[38;5;241m=\u001B[39m \u001B[43mmodel\u001B[49m\u001B[43m(\u001B[49m\u001B[43mx_batch\u001B[49m\u001B[43m)\u001B[49m\n\u001B[1;32m     44\u001B[0m loss \u001B[38;5;241m=\u001B[39m criterion(outputs, y_batch)\n\u001B[1;32m     45\u001B[0m loss\u001B[38;5;241m.\u001B[39mbackward()\n",
      "File \u001B[0;32m~/work/nlp/.venv/lib/python3.10/site-packages/torch/nn/modules/module.py:1751\u001B[0m, in \u001B[0;36mModule._wrapped_call_impl\u001B[0;34m(self, *args, **kwargs)\u001B[0m\n\u001B[1;32m   1749\u001B[0m     \u001B[38;5;28;01mreturn\u001B[39;00m \u001B[38;5;28mself\u001B[39m\u001B[38;5;241m.\u001B[39m_compiled_call_impl(\u001B[38;5;241m*\u001B[39margs, \u001B[38;5;241m*\u001B[39m\u001B[38;5;241m*\u001B[39mkwargs)  \u001B[38;5;66;03m# type: ignore[misc]\u001B[39;00m\n\u001B[1;32m   1750\u001B[0m \u001B[38;5;28;01melse\u001B[39;00m:\n\u001B[0;32m-> 1751\u001B[0m     \u001B[38;5;28;01mreturn\u001B[39;00m \u001B[38;5;28;43mself\u001B[39;49m\u001B[38;5;241;43m.\u001B[39;49m\u001B[43m_call_impl\u001B[49m\u001B[43m(\u001B[49m\u001B[38;5;241;43m*\u001B[39;49m\u001B[43margs\u001B[49m\u001B[43m,\u001B[49m\u001B[43m \u001B[49m\u001B[38;5;241;43m*\u001B[39;49m\u001B[38;5;241;43m*\u001B[39;49m\u001B[43mkwargs\u001B[49m\u001B[43m)\u001B[49m\n",
      "File \u001B[0;32m~/work/nlp/.venv/lib/python3.10/site-packages/torch/nn/modules/module.py:1762\u001B[0m, in \u001B[0;36mModule._call_impl\u001B[0;34m(self, *args, **kwargs)\u001B[0m\n\u001B[1;32m   1757\u001B[0m \u001B[38;5;66;03m# If we don't have any hooks, we want to skip the rest of the logic in\u001B[39;00m\n\u001B[1;32m   1758\u001B[0m \u001B[38;5;66;03m# this function, and just call forward.\u001B[39;00m\n\u001B[1;32m   1759\u001B[0m \u001B[38;5;28;01mif\u001B[39;00m \u001B[38;5;129;01mnot\u001B[39;00m (\u001B[38;5;28mself\u001B[39m\u001B[38;5;241m.\u001B[39m_backward_hooks \u001B[38;5;129;01mor\u001B[39;00m \u001B[38;5;28mself\u001B[39m\u001B[38;5;241m.\u001B[39m_backward_pre_hooks \u001B[38;5;129;01mor\u001B[39;00m \u001B[38;5;28mself\u001B[39m\u001B[38;5;241m.\u001B[39m_forward_hooks \u001B[38;5;129;01mor\u001B[39;00m \u001B[38;5;28mself\u001B[39m\u001B[38;5;241m.\u001B[39m_forward_pre_hooks\n\u001B[1;32m   1760\u001B[0m         \u001B[38;5;129;01mor\u001B[39;00m _global_backward_pre_hooks \u001B[38;5;129;01mor\u001B[39;00m _global_backward_hooks\n\u001B[1;32m   1761\u001B[0m         \u001B[38;5;129;01mor\u001B[39;00m _global_forward_hooks \u001B[38;5;129;01mor\u001B[39;00m _global_forward_pre_hooks):\n\u001B[0;32m-> 1762\u001B[0m     \u001B[38;5;28;01mreturn\u001B[39;00m \u001B[43mforward_call\u001B[49m\u001B[43m(\u001B[49m\u001B[38;5;241;43m*\u001B[39;49m\u001B[43margs\u001B[49m\u001B[43m,\u001B[49m\u001B[43m \u001B[49m\u001B[38;5;241;43m*\u001B[39;49m\u001B[38;5;241;43m*\u001B[39;49m\u001B[43mkwargs\u001B[49m\u001B[43m)\u001B[49m\n\u001B[1;32m   1764\u001B[0m result \u001B[38;5;241m=\u001B[39m \u001B[38;5;28;01mNone\u001B[39;00m\n\u001B[1;32m   1765\u001B[0m called_always_called_hooks \u001B[38;5;241m=\u001B[39m \u001B[38;5;28mset\u001B[39m()\n",
      "File \u001B[0;32m~/work/nlp/models/rnn.py:77\u001B[0m, in \u001B[0;36mRNNTextClassifier.forward\u001B[0;34m(self, x, hx)\u001B[0m\n\u001B[1;32m     76\u001B[0m \u001B[38;5;28;01mdef\u001B[39;00m\u001B[38;5;250m \u001B[39m\u001B[38;5;21mforward\u001B[39m(\u001B[38;5;28mself\u001B[39m, x: torch\u001B[38;5;241m.\u001B[39mTensor, hx: Optional[torch\u001B[38;5;241m.\u001B[39mTensor] \u001B[38;5;241m=\u001B[39m \u001B[38;5;28;01mNone\u001B[39;00m) \u001B[38;5;241m-\u001B[39m\u001B[38;5;241m>\u001B[39m torch\u001B[38;5;241m.\u001B[39mTensor:\n\u001B[0;32m---> 77\u001B[0m     x \u001B[38;5;241m=\u001B[39m \u001B[38;5;28;43mself\u001B[39;49m\u001B[38;5;241m.\u001B[39mword_embeds(x)\n\u001B[1;32m     79\u001B[0m     h_t \u001B[38;5;241m=\u001B[39m \u001B[38;5;28mself\u001B[39m\u001B[38;5;241m.\u001B[39ml2r_rnn(x, hx)\n\u001B[1;32m     81\u001B[0m     \u001B[38;5;28;01mif\u001B[39;00m \u001B[38;5;28mself\u001B[39m\u001B[38;5;241m.\u001B[39mr2l_rnn \u001B[38;5;129;01mis\u001B[39;00m \u001B[38;5;129;01mnot\u001B[39;00m \u001B[38;5;28;01mNone\u001B[39;00m:\n",
      "File \u001B[0;32m~/work/nlp/models/rnn.py:77\u001B[0m, in \u001B[0;36mRNNTextClassifier.forward\u001B[0;34m(self, x, hx)\u001B[0m\n\u001B[1;32m     76\u001B[0m \u001B[38;5;28;01mdef\u001B[39;00m\u001B[38;5;250m \u001B[39m\u001B[38;5;21mforward\u001B[39m(\u001B[38;5;28mself\u001B[39m, x: torch\u001B[38;5;241m.\u001B[39mTensor, hx: Optional[torch\u001B[38;5;241m.\u001B[39mTensor] \u001B[38;5;241m=\u001B[39m \u001B[38;5;28;01mNone\u001B[39;00m) \u001B[38;5;241m-\u001B[39m\u001B[38;5;241m>\u001B[39m torch\u001B[38;5;241m.\u001B[39mTensor:\n\u001B[0;32m---> 77\u001B[0m     x \u001B[38;5;241m=\u001B[39m \u001B[38;5;28;43mself\u001B[39;49m\u001B[38;5;241m.\u001B[39mword_embeds(x)\n\u001B[1;32m     79\u001B[0m     h_t \u001B[38;5;241m=\u001B[39m \u001B[38;5;28mself\u001B[39m\u001B[38;5;241m.\u001B[39ml2r_rnn(x, hx)\n\u001B[1;32m     81\u001B[0m     \u001B[38;5;28;01mif\u001B[39;00m \u001B[38;5;28mself\u001B[39m\u001B[38;5;241m.\u001B[39mr2l_rnn \u001B[38;5;129;01mis\u001B[39;00m \u001B[38;5;129;01mnot\u001B[39;00m \u001B[38;5;28;01mNone\u001B[39;00m:\n",
      "File \u001B[0;32m_pydevd_bundle/pydevd_cython_darwin_310_64.pyx:1187\u001B[0m, in \u001B[0;36m_pydevd_bundle.pydevd_cython_darwin_310_64.SafeCallWrapper.__call__\u001B[0;34m()\u001B[0m\n",
      "File \u001B[0;32m_pydevd_bundle/pydevd_cython_darwin_310_64.pyx:627\u001B[0m, in \u001B[0;36m_pydevd_bundle.pydevd_cython_darwin_310_64.PyDBFrame.trace_dispatch\u001B[0;34m()\u001B[0m\n",
      "File \u001B[0;32m_pydevd_bundle/pydevd_cython_darwin_310_64.pyx:937\u001B[0m, in \u001B[0;36m_pydevd_bundle.pydevd_cython_darwin_310_64.PyDBFrame.trace_dispatch\u001B[0;34m()\u001B[0m\n",
      "File \u001B[0;32m_pydevd_bundle/pydevd_cython_darwin_310_64.pyx:928\u001B[0m, in \u001B[0;36m_pydevd_bundle.pydevd_cython_darwin_310_64.PyDBFrame.trace_dispatch\u001B[0;34m()\u001B[0m\n",
      "File \u001B[0;32m_pydevd_bundle/pydevd_cython_darwin_310_64.pyx:585\u001B[0m, in \u001B[0;36m_pydevd_bundle.pydevd_cython_darwin_310_64.PyDBFrame.do_wait_suspend\u001B[0;34m()\u001B[0m\n",
      "File \u001B[0;32m/Applications/PyCharm.app/Contents/plugins/python/helpers/pydev/pydevd.py:1196\u001B[0m, in \u001B[0;36mPyDB.do_wait_suspend\u001B[0;34m(self, thread, frame, event, arg, send_suspend_message, is_unhandled_exception)\u001B[0m\n\u001B[1;32m   1193\u001B[0m         from_this_thread\u001B[38;5;241m.\u001B[39mappend(frame_id)\n\u001B[1;32m   1195\u001B[0m \u001B[38;5;28;01mwith\u001B[39;00m \u001B[38;5;28mself\u001B[39m\u001B[38;5;241m.\u001B[39m_threads_suspended_single_notification\u001B[38;5;241m.\u001B[39mnotify_thread_suspended(thread_id, stop_reason):\n\u001B[0;32m-> 1196\u001B[0m     \u001B[38;5;28;43mself\u001B[39;49m\u001B[38;5;241;43m.\u001B[39;49m\u001B[43m_do_wait_suspend\u001B[49m\u001B[43m(\u001B[49m\u001B[43mthread\u001B[49m\u001B[43m,\u001B[49m\u001B[43m \u001B[49m\u001B[43mframe\u001B[49m\u001B[43m,\u001B[49m\u001B[43m \u001B[49m\u001B[43mevent\u001B[49m\u001B[43m,\u001B[49m\u001B[43m \u001B[49m\u001B[43marg\u001B[49m\u001B[43m,\u001B[49m\u001B[43m \u001B[49m\u001B[43msuspend_type\u001B[49m\u001B[43m,\u001B[49m\u001B[43m \u001B[49m\u001B[43mfrom_this_thread\u001B[49m\u001B[43m)\u001B[49m\n",
      "File \u001B[0;32m/Applications/PyCharm.app/Contents/plugins/python/helpers/pydev/pydevd.py:1211\u001B[0m, in \u001B[0;36mPyDB._do_wait_suspend\u001B[0;34m(self, thread, frame, event, arg, suspend_type, from_this_thread)\u001B[0m\n\u001B[1;32m   1208\u001B[0m             \u001B[38;5;28mself\u001B[39m\u001B[38;5;241m.\u001B[39m_call_mpl_hook()\n\u001B[1;32m   1210\u001B[0m         \u001B[38;5;28mself\u001B[39m\u001B[38;5;241m.\u001B[39mprocess_internal_commands()\n\u001B[0;32m-> 1211\u001B[0m         \u001B[43mtime\u001B[49m\u001B[38;5;241;43m.\u001B[39;49m\u001B[43msleep\u001B[49m\u001B[43m(\u001B[49m\u001B[38;5;241;43m0.01\u001B[39;49m\u001B[43m)\u001B[49m\n\u001B[1;32m   1213\u001B[0m \u001B[38;5;28mself\u001B[39m\u001B[38;5;241m.\u001B[39mcancel_async_evaluation(get_current_thread_id(thread), \u001B[38;5;28mstr\u001B[39m(\u001B[38;5;28mid\u001B[39m(frame)))\n\u001B[1;32m   1215\u001B[0m \u001B[38;5;66;03m# process any stepping instructions\u001B[39;00m\n",
      "\u001B[0;31mKeyboardInterrupt\u001B[0m: "
     ]
    }
   ],
   "execution_count": 14
  },
  {
   "metadata": {
    "ExecuteTime": {
     "end_time": "2025-06-13T07:54:17.078145Z",
     "start_time": "2025-06-13T07:54:16.679812Z"
    }
   },
   "cell_type": "code",
   "source": [
    "plt.figure(figsize=(12, 5))\n",
    "\n",
    "# Loss Plot\n",
    "plt.subplot(1, 2, 1)\n",
    "plt.plot(train_losses, label='Train Loss')\n",
    "plt.plot(val_losses, label='Val Loss')\n",
    "plt.xlabel('Epoch')\n",
    "plt.ylabel('Loss')\n",
    "plt.title('Loss over Epochs')\n",
    "plt.legend()\n",
    "\n",
    "# Accuracy Plot\n",
    "plt.subplot(1, 2, 2)\n",
    "plt.plot(train_accuracies, label='Train Accuracy')\n",
    "plt.plot(val_accuracies, label='Val Accuracy')\n",
    "plt.xlabel('Epoch')\n",
    "plt.ylabel('Accuracy')\n",
    "plt.title('Accuracy over Epochs')\n",
    "plt.legend()\n",
    "\n",
    "plt.tight_layout()\n",
    "plt.show()"
   ],
   "id": "769691fcd7d46132",
   "outputs": [
    {
     "data": {
      "text/plain": [
       "<Figure size 1200x500 with 2 Axes>"
      ],
      "image/png": "[encoded data removed]"
     },
     "metadata": {},
     "output_type": "display_data"
    }
   ],
   "execution_count": 12
  },
  {
   "metadata": {
    "ExecuteTime": {
     "end_time": "2025-06-12T07:39:57.533254Z",
     "start_time": "2025-06-12T07:38:56.440766Z"
    }
   },
   "cell_type": "code",
   "source": [
    "from sklearn.metrics import classification_report, ConfusionMatrixDisplay\n",
    "import torch\n",
    "from tqdm import tqdm\n",
    "\n",
    "# device = torch.device(\"cuda\" if torch.cuda.is_available() else \"cpu\")\n",
    "state_dict = torch.load(\"checkpoints/rnn_val_loss_0.9408_epoch_10.pt\", map_location=device)\n",
    "model = model.to(device)\n",
    "model.load_state_dict(state_dict)\n",
    "\n",
    "y_preds = []\n",
    "y_true = []\n",
    "\n",
    "progress_bar = tqdm(test_dataloader, desc=\"Testing\", leave=False)\n",
    "\n",
    "for x_batch, y_batch in progress_bar:\n",
    "    x_batch = x_batch.to(device)\n",
    "    y_batch = y_batch.to(device)\n",
    "    \n",
    "    with torch.no_grad():\n",
    "        outputs = model(x_batch)\n",
    "        predictions = torch.argmax(outputs, dim=1)\n",
    "    \n",
    "    y_preds.append(predictions.cpu())\n",
    "    y_true.append(y_batch.cpu())\n",
    "\n",
    "y_preds = torch.cat(y_preds).numpy()\n",
    "y_true = torch.cat(y_true).numpy()\n",
    "\n",
    "label_map = {0: \"Negative\", 1: \"Neutral\", 2: \"Positive\"}\n",
    "labels = [label_map[i] for i in sorted(label_map.keys())]\n",
    "\n",
    "# Report\n",
    "print(classification_report(y_true, y_preds, target_names=labels))\n",
    "\n",
    "ConfusionMatrixDisplay.from_predictions(y_true, y_preds, display_labels=labels, cmap='Blues')"
   ],
   "id": "f56210aee62ece30",
   "outputs": [
    {
     "name": "stderr",
     "output_type": "stream",
     "text": [
      "                                                        "
     ]
    },
    {
     "name": "stdout",
     "output_type": "stream",
     "text": [
      "              precision    recall  f1-score   support\n",
      "\n",
      "    Negative       0.27      0.31      0.29     22918\n",
      "     Neutral       0.37      0.41      0.39     33388\n",
      "    Positive       0.47      0.37      0.42     35256\n",
      "\n",
      "    accuracy                           0.37     91562\n",
      "   macro avg       0.37      0.36      0.36     91562\n",
      "weighted avg       0.38      0.37      0.37     91562\n",
      "\n"
     ]
    },
    {
     "name": "stderr",
     "output_type": "stream",
     "text": [
      "\r"
     ]
    },
    {
     "data": {
      "text/plain": [
       "<sklearn.metrics._plot.confusion_matrix.ConfusionMatrixDisplay at 0x17b27e0b0>"
      ]
     },
     "execution_count": 6,
     "metadata": {},
     "output_type": "execute_result"
    },
    {
     "data": {
      "text/plain": [
       "<Figure size 640x480 with 2 Axes>"
      ],
      "image/png": "[encoded data removed]"
     },
     "metadata": {},
     "output_type": "display_data"
    }
   ],
   "execution_count": 6
  },
  {
   "metadata": {},
   "cell_type": "code",
   "outputs": [],
   "execution_count": null,
   "source": "",
   "id": "abaad7960f0d12ca"
  }
 ],
 "metadata": {
  "kernelspec": {
   "display_name": "Python 3",
   "language": "python",
   "name": "python3"
  },
  "language_info": {
   "codemirror_mode": {
    "name": "ipython",
    "version": 2
   },
   "file_extension": ".py",
   "mimetype": "text/x-python",
   "name": "python",
   "nbconvert_exporter": "python",
   "pygments_lexer": "ipython2",
   "version": "2.7.6"
  }
 },
 "nbformat": 4,
 "nbformat_minor": 5
}
