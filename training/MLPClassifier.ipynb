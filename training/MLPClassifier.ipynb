{
 "cells": [
  {
   "cell_type": "markdown",
   "metadata": {
    "id": "AqclA3HtZRjm"
   },
   "source": [
    "<h1>MLPClassifier</h1>"
   ]
  },
  {
   "cell_type": "markdown",
   "metadata": {
    "id": "fH2cGhseZWL5"
   },
   "source": [
    "##Import + Montaggio cartella Google Drive"
   ]
  },
  {
   "cell_type": "code",
   "execution_count": 2,
   "metadata": {
    "ExecuteTime": {
     "end_time": "2025-06-10T12:04:44.788425Z",
     "start_time": "2025-06-10T12:04:44.779839Z"
    },
    "colab": {
     "base_uri": "https://localhost:8080/"
    },
    "executionInfo": {
     "elapsed": 30151,
     "status": "ok",
     "timestamp": 1749550582002,
     "user": {
      "displayName": "LUIGINA COSTANTE",
      "userId": "06957901702143706173"
     },
     "user_tz": -120
    },
    "id": "J1rO1r25ZCMy",
    "outputId": "8319e5cb-00d2-4386-8cf1-529c906cf058"
   },
   "outputs": [
    {
     "ename": "ModuleNotFoundError",
     "evalue": "No module named 'google'",
     "output_type": "error",
     "traceback": [
      "\u001b[0;31m---------------------------------------------------------------------------\u001b[0m",
      "\u001b[0;31mModuleNotFoundError\u001b[0m                       Traceback (most recent call last)",
      "Cell \u001b[0;32mIn[2], line 1\u001b[0m\n\u001b[0;32m----> 1\u001b[0m \u001b[38;5;28;01mfrom\u001b[39;00m\u001b[38;5;250m \u001b[39m\u001b[38;5;21;01mgoogle\u001b[39;00m\u001b[38;5;21;01m.\u001b[39;00m\u001b[38;5;21;01mcolab\u001b[39;00m\u001b[38;5;250m \u001b[39m\u001b[38;5;28;01mimport\u001b[39;00m drive\n\u001b[1;32m      2\u001b[0m drive\u001b[38;5;241m.\u001b[39mmount(\u001b[38;5;124m'\u001b[39m\u001b[38;5;124m/content/drive\u001b[39m\u001b[38;5;124m'\u001b[39m)\n",
      "\u001b[0;31mModuleNotFoundError\u001b[0m: No module named 'google'"
     ]
    }
   ],
   "source": [
    "from google.colab import drive\n",
    "drive.mount('/content/drive')"
   ]
  },
  {
   "cell_type": "code",
   "execution_count": 3,
   "metadata": {
    "ExecuteTime": {
     "end_time": "2025-06-10T12:04:45.823451Z",
     "start_time": "2025-06-10T12:04:44.865164Z"
    },
    "colab": {
     "base_uri": "https://localhost:8080/"
    },
    "collapsed": true,
    "executionInfo": {
     "elapsed": 1561,
     "status": "ok",
     "timestamp": 1749550583570,
     "user": {
      "displayName": "LUIGINA COSTANTE",
      "userId": "06957901702143706173"
     },
     "user_tz": -120
    },
    "id": "haoyDDSSdGqv",
    "jupyter": {
     "outputs_hidden": true
    },
    "outputId": "23a50b2d-908b-4d98-d3f9-4dc5fdbf2d6e"
   },
   "outputs": [
    {
     "name": "stdout",
     "output_type": "stream",
     "text": [
      "Requirement already satisfied: tqdm_joblib in /Users/angelonazzaro/work/nlp/.venv/lib/python3.10/site-packages (0.0.4)\r\n",
      "Requirement already satisfied: tqdm in /Users/angelonazzaro/work/nlp/.venv/lib/python3.10/site-packages (from tqdm_joblib) (4.67.1)\r\n"
     ]
    }
   ],
   "source": [
    "!pip install tqdm_joblib"
   ]
  },
  {
   "cell_type": "code",
   "execution_count": 4,
   "metadata": {
    "ExecuteTime": {
     "end_time": "2025-06-10T12:04:47.601290Z",
     "start_time": "2025-06-10T12:04:45.829419Z"
    },
    "colab": {
     "base_uri": "https://localhost:8080/"
    },
    "collapsed": true,
    "executionInfo": {
     "elapsed": 6634,
     "status": "ok",
     "timestamp": 1749550590219,
     "user": {
      "displayName": "LUIGINA COSTANTE",
      "userId": "06957901702143706173"
     },
     "user_tz": -120
    },
    "id": "Z3_rZ7-6abBT",
    "jupyter": {
     "outputs_hidden": true
    },
    "outputId": "04a73694-2236-477d-db1d-5ff912ac63b2"
   },
   "outputs": [
    {
     "name": "stderr",
     "output_type": "stream",
     "text": [
      "/Users/angelonazzaro/work/nlp/.venv/lib/python3.10/site-packages/tqdm_joblib/__init__.py:4: TqdmExperimentalWarning: Using `tqdm.autonotebook.tqdm` in notebook mode. Use `tqdm.tqdm` instead to force console mode (e.g. in jupyter console)\n",
      "  from tqdm.autonotebook import tqdm\n",
      "[nltk_data] Downloading package stopwords to\n",
      "[nltk_data]     /Users/angelonazzaro/nltk_data...\n",
      "[nltk_data]   Package stopwords is already up-to-date!\n",
      "[nltk_data] Downloading package punkt to\n",
      "[nltk_data]     /Users/angelonazzaro/nltk_data...\n",
      "[nltk_data]   Package punkt is already up-to-date!\n",
      "[nltk_data] Downloading package punkt_tab to\n",
      "[nltk_data]     /Users/angelonazzaro/nltk_data...\n",
      "[nltk_data]   Package punkt_tab is already up-to-date!\n",
      "[nltk_data] Downloading package wordnet to\n",
      "[nltk_data]     /Users/angelonazzaro/nltk_data...\n",
      "[nltk_data]   Package wordnet is already up-to-date!\n"
     ]
    },
    {
     "data": {
      "text/plain": [
       "True"
      ]
     },
     "execution_count": 4,
     "metadata": {},
     "output_type": "execute_result"
    }
   ],
   "source": [
    "import pandas as pd\n",
    "\n",
    "from sklearn.model_selection import train_test_split\n",
    "from sklearn.pipeline import Pipeline\n",
    "from sklearn.neural_network import MLPClassifier\n",
    "from sklearn.model_selection import cross_val_score\n",
    "\n",
    "from sklearn.model_selection import GridSearchCV, PredefinedSplit, ParameterGrid\n",
    "from sklearn.metrics import accuracy_score, classification_report, confusion_matrix\n",
    "import matplotlib.pyplot as plt\n",
    "import seaborn as sns\n",
    "import numpy as np\n",
    "import joblib\n",
    "from tqdm_joblib import tqdm_joblib\n",
    "from tqdm.autonotebook import tqdm\n",
    "from joblib import parallel_backend\n",
    "from tqdm import tqdm\n",
    "tqdm.pandas()\n",
    "\n",
    "import string\n",
    "import nltk\n",
    "\n",
    "from nltk.corpus import stopwords\n",
    "from nltk.stem.wordnet import WordNetLemmatizer\n",
    "from nltk.tokenize import word_tokenize\n",
    "from sklearn.preprocessing import LabelEncoder\n",
    "from sklearn.compose import ColumnTransformer\n",
    "from sklearn.model_selection import PredefinedSplit\n",
    "from sklearn.preprocessing import StandardScaler, OneHotEncoder\n",
    "from sklearn.feature_extraction.text import CountVectorizer\n",
    "\n",
    "nltk.download('stopwords')\n",
    "nltk.download('punkt')\n",
    "nltk.download('punkt_tab')\n",
    "nltk.download('wordnet')"
   ]
  },
  {
   "cell_type": "markdown",
   "metadata": {
    "id": "dvJk8W5eZiK9"
   },
   "source": [
    "## Caricamento del dataset"
   ]
  },
  {
   "cell_type": "code",
   "execution_count": 5,
   "metadata": {
    "ExecuteTime": {
     "end_time": "2025-06-10T12:05:20.490196Z",
     "start_time": "2025-06-10T12:04:47.602303Z"
    },
    "colab": {
     "base_uri": "https://localhost:8080/",
     "height": 412
    },
    "collapsed": true,
    "executionInfo": {
     "elapsed": 167762,
     "status": "ok",
     "timestamp": 1749550757983,
     "user": {
      "displayName": "LUIGINA COSTANTE",
      "userId": "06957901702143706173"
     },
     "user_tz": -120
    },
    "id": "1n4U1rwzZheY",
    "jupyter": {
     "outputs_hidden": true
    },
    "outputId": "c3e705c0-c72a-4397-d6c6-992ec456bb2f"
   },
   "outputs": [
    {
     "data": {
      "text/html": [
       "<div>\n",
       "<style scoped>\n",
       "    .dataframe tbody tr th:only-of-type {\n",
       "        vertical-align: middle;\n",
       "    }\n",
       "\n",
       "    .dataframe tbody tr th {\n",
       "        vertical-align: top;\n",
       "    }\n",
       "\n",
       "    .dataframe thead th {\n",
       "        text-align: right;\n",
       "    }\n",
       "</style>\n",
       "<table border=\"1\" class=\"dataframe\">\n",
       "  <thead>\n",
       "    <tr style=\"text-align: right;\">\n",
       "      <th></th>\n",
       "      <th>text</th>\n",
       "      <th>topic</th>\n",
       "      <th>sentiment</th>\n",
       "      <th>length</th>\n",
       "      <th>topicWords</th>\n",
       "      <th>topicWordsCount</th>\n",
       "      <th>positiveCount</th>\n",
       "      <th>negativeCount</th>\n",
       "      <th>hasNo</th>\n",
       "      <th>embed_0</th>\n",
       "      <th>...</th>\n",
       "      <th>embed_374</th>\n",
       "      <th>embed_375</th>\n",
       "      <th>embed_376</th>\n",
       "      <th>embed_377</th>\n",
       "      <th>embed_378</th>\n",
       "      <th>embed_379</th>\n",
       "      <th>embed_380</th>\n",
       "      <th>embed_381</th>\n",
       "      <th>embed_382</th>\n",
       "      <th>embed_383</th>\n",
       "    </tr>\n",
       "  </thead>\n",
       "  <tbody>\n",
       "    <tr>\n",
       "      <th>0</th>\n",
       "      <td>Good Afternoon from a rather cool and damp Ess...</td>\n",
       "      <td>Books &amp; Literature</td>\n",
       "      <td>Positive</td>\n",
       "      <td>44</td>\n",
       "      <td>['author']</td>\n",
       "      <td>1</td>\n",
       "      <td>3</td>\n",
       "      <td>0</td>\n",
       "      <td>0</td>\n",
       "      <td>-0.009258</td>\n",
       "      <td>...</td>\n",
       "      <td>-0.011806</td>\n",
       "      <td>-0.040050</td>\n",
       "      <td>-0.028320</td>\n",
       "      <td>-0.032246</td>\n",
       "      <td>0.013747</td>\n",
       "      <td>0.054467</td>\n",
       "      <td>0.060302</td>\n",
       "      <td>0.093453</td>\n",
       "      <td>-0.090176</td>\n",
       "      <td>0.011050</td>\n",
       "    </tr>\n",
       "    <tr>\n",
       "      <th>1</th>\n",
       "      <td>2) My favorite fictional spice is melange. My ...</td>\n",
       "      <td>General Activities</td>\n",
       "      <td>Neutral</td>\n",
       "      <td>16</td>\n",
       "      <td>[]</td>\n",
       "      <td>0</td>\n",
       "      <td>2</td>\n",
       "      <td>1</td>\n",
       "      <td>0</td>\n",
       "      <td>-0.066764</td>\n",
       "      <td>...</td>\n",
       "      <td>-0.044040</td>\n",
       "      <td>-0.040336</td>\n",
       "      <td>-0.050697</td>\n",
       "      <td>0.083287</td>\n",
       "      <td>0.021824</td>\n",
       "      <td>-0.114995</td>\n",
       "      <td>0.034062</td>\n",
       "      <td>0.049423</td>\n",
       "      <td>-0.062629</td>\n",
       "      <td>-0.008898</td>\n",
       "    </tr>\n",
       "    <tr>\n",
       "      <th>2</th>\n",
       "      <td>Guess the German utensil! https://https://t.co...</td>\n",
       "      <td>Trivia &amp; Fun Facts</td>\n",
       "      <td>Positive</td>\n",
       "      <td>9</td>\n",
       "      <td>[]</td>\n",
       "      <td>0</td>\n",
       "      <td>0</td>\n",
       "      <td>0</td>\n",
       "      <td>0</td>\n",
       "      <td>-0.067560</td>\n",
       "      <td>...</td>\n",
       "      <td>0.006027</td>\n",
       "      <td>0.038677</td>\n",
       "      <td>0.040306</td>\n",
       "      <td>-0.042645</td>\n",
       "      <td>0.012359</td>\n",
       "      <td>0.042093</td>\n",
       "      <td>0.029526</td>\n",
       "      <td>-0.007695</td>\n",
       "      <td>-0.031263</td>\n",
       "      <td>0.125133</td>\n",
       "    </tr>\n",
       "    <tr>\n",
       "      <th>3</th>\n",
       "      <td>I am quite tempted to spend the entirety of th...</td>\n",
       "      <td>Fashion &amp; Style</td>\n",
       "      <td>Negative</td>\n",
       "      <td>21</td>\n",
       "      <td>[]</td>\n",
       "      <td>0</td>\n",
       "      <td>0</td>\n",
       "      <td>0</td>\n",
       "      <td>0</td>\n",
       "      <td>-0.060903</td>\n",
       "      <td>...</td>\n",
       "      <td>0.008680</td>\n",
       "      <td>0.094215</td>\n",
       "      <td>0.019267</td>\n",
       "      <td>-0.033533</td>\n",
       "      <td>-0.053666</td>\n",
       "      <td>-0.031781</td>\n",
       "      <td>-0.021230</td>\n",
       "      <td>-0.114671</td>\n",
       "      <td>-0.090589</td>\n",
       "      <td>0.035798</td>\n",
       "    </tr>\n",
       "    <tr>\n",
       "      <th>4</th>\n",
       "      <td>I heard different on cnn</td>\n",
       "      <td>Journalism</td>\n",
       "      <td>Neutral</td>\n",
       "      <td>5</td>\n",
       "      <td>[]</td>\n",
       "      <td>0</td>\n",
       "      <td>0</td>\n",
       "      <td>0</td>\n",
       "      <td>0</td>\n",
       "      <td>0.040691</td>\n",
       "      <td>...</td>\n",
       "      <td>0.099750</td>\n",
       "      <td>0.041532</td>\n",
       "      <td>-0.033229</td>\n",
       "      <td>-0.098661</td>\n",
       "      <td>0.032493</td>\n",
       "      <td>-0.044346</td>\n",
       "      <td>-0.008297</td>\n",
       "      <td>-0.068045</td>\n",
       "      <td>0.078471</td>\n",
       "      <td>-0.020324</td>\n",
       "    </tr>\n",
       "  </tbody>\n",
       "</table>\n",
       "<p>5 rows × 393 columns</p>\n",
       "</div>"
      ],
      "text/plain": [
       "                                                text               topic  \\\n",
       "0  Good Afternoon from a rather cool and damp Ess...  Books & Literature   \n",
       "1  2) My favorite fictional spice is melange. My ...  General Activities   \n",
       "2  Guess the German utensil! https://https://t.co...  Trivia & Fun Facts   \n",
       "3  I am quite tempted to spend the entirety of th...     Fashion & Style   \n",
       "4                           I heard different on cnn          Journalism   \n",
       "\n",
       "  sentiment  length  topicWords  topicWordsCount  positiveCount  \\\n",
       "0  Positive      44  ['author']                1              3   \n",
       "1   Neutral      16          []                0              2   \n",
       "2  Positive       9          []                0              0   \n",
       "3  Negative      21          []                0              0   \n",
       "4   Neutral       5          []                0              0   \n",
       "\n",
       "   negativeCount  hasNo   embed_0  ...  embed_374  embed_375  embed_376  \\\n",
       "0              0      0 -0.009258  ...  -0.011806  -0.040050  -0.028320   \n",
       "1              1      0 -0.066764  ...  -0.044040  -0.040336  -0.050697   \n",
       "2              0      0 -0.067560  ...   0.006027   0.038677   0.040306   \n",
       "3              0      0 -0.060903  ...   0.008680   0.094215   0.019267   \n",
       "4              0      0  0.040691  ...   0.099750   0.041532  -0.033229   \n",
       "\n",
       "   embed_377  embed_378  embed_379  embed_380  embed_381  embed_382  embed_383  \n",
       "0  -0.032246   0.013747   0.054467   0.060302   0.093453  -0.090176   0.011050  \n",
       "1   0.083287   0.021824  -0.114995   0.034062   0.049423  -0.062629  -0.008898  \n",
       "2  -0.042645   0.012359   0.042093   0.029526  -0.007695  -0.031263   0.125133  \n",
       "3  -0.033533  -0.053666  -0.031781  -0.021230  -0.114671  -0.090589   0.035798  \n",
       "4  -0.098661   0.032493  -0.044346  -0.008297  -0.068045   0.078471  -0.020324  \n",
       "\n",
       "[5 rows x 393 columns]"
      ]
     },
     "execution_count": 5,
     "metadata": {},
     "output_type": "execute_result"
    }
   ],
   "source": [
    "df = pd.read_csv('../data/trainWithFeaturesAndEmbeddings.csv')\n",
    "df.head()"
   ]
  },
  {
   "cell_type": "code",
   "execution_count": 6,
   "metadata": {
    "ExecuteTime": {
     "end_time": "2025-06-10T12:05:24.477724Z",
     "start_time": "2025-06-10T12:05:20.492067Z"
    },
    "executionInfo": {
     "elapsed": 4778,
     "status": "ok",
     "timestamp": 1749550762767,
     "user": {
      "displayName": "LUIGINA COSTANTE",
      "userId": "06957901702143706173"
     },
     "user_tz": -120
    },
    "id": "2IfwrYPKCVnF"
   },
   "outputs": [],
   "source": [
    "# Campionamento stratificato\n",
    "df.dropna(subset=['sentiment'], inplace=True)\n",
    "df, _ = train_test_split(\n",
    "  df,\n",
    "  train_size=100_000,\n",
    "  stratify=df['sentiment'],\n",
    "  random_state=42\n",
    ")"
   ]
  },
  {
   "cell_type": "code",
   "execution_count": 7,
   "metadata": {
    "ExecuteTime": {
     "end_time": "2025-06-10T12:05:31.836394Z",
     "start_time": "2025-06-10T12:05:24.479090Z"
    },
    "colab": {
     "base_uri": "https://localhost:8080/",
     "height": 481
    },
    "collapsed": true,
    "executionInfo": {
     "elapsed": 18907,
     "status": "ok",
     "timestamp": 1749550781681,
     "user": {
      "displayName": "LUIGINA COSTANTE",
      "userId": "06957901702143706173"
     },
     "user_tz": -120
    },
    "id": "aM4iEQhtwz_k",
    "jupyter": {
     "outputs_hidden": true
    },
    "outputId": "96a641bf-8614-483f-b63e-34ed81fe415a"
   },
   "outputs": [
    {
     "data": {
      "text/html": [
       "<div>\n",
       "<style scoped>\n",
       "    .dataframe tbody tr th:only-of-type {\n",
       "        vertical-align: middle;\n",
       "    }\n",
       "\n",
       "    .dataframe tbody tr th {\n",
       "        vertical-align: top;\n",
       "    }\n",
       "\n",
       "    .dataframe thead th {\n",
       "        text-align: right;\n",
       "    }\n",
       "</style>\n",
       "<table border=\"1\" class=\"dataframe\">\n",
       "  <thead>\n",
       "    <tr style=\"text-align: right;\">\n",
       "      <th></th>\n",
       "      <th>text</th>\n",
       "      <th>topic</th>\n",
       "      <th>sentiment</th>\n",
       "      <th>length</th>\n",
       "      <th>topicWords</th>\n",
       "      <th>topicWordsCount</th>\n",
       "      <th>positiveCount</th>\n",
       "      <th>negativeCount</th>\n",
       "      <th>hasNo</th>\n",
       "      <th>embed_0</th>\n",
       "      <th>...</th>\n",
       "      <th>embed_374</th>\n",
       "      <th>embed_375</th>\n",
       "      <th>embed_376</th>\n",
       "      <th>embed_377</th>\n",
       "      <th>embed_378</th>\n",
       "      <th>embed_379</th>\n",
       "      <th>embed_380</th>\n",
       "      <th>embed_381</th>\n",
       "      <th>embed_382</th>\n",
       "      <th>embed_383</th>\n",
       "    </tr>\n",
       "  </thead>\n",
       "  <tbody>\n",
       "    <tr>\n",
       "      <th>0</th>\n",
       "      <td>thank you! 🥹❤️❤️</td>\n",
       "      <td>Fashion &amp; Style</td>\n",
       "      <td>Positive</td>\n",
       "      <td>8</td>\n",
       "      <td>[]</td>\n",
       "      <td>0</td>\n",
       "      <td>1</td>\n",
       "      <td>0</td>\n",
       "      <td>0</td>\n",
       "      <td>-0.025975</td>\n",
       "      <td>...</td>\n",
       "      <td>-0.019321</td>\n",
       "      <td>0.040424</td>\n",
       "      <td>-0.014585</td>\n",
       "      <td>0.038854</td>\n",
       "      <td>0.056717</td>\n",
       "      <td>0.119614</td>\n",
       "      <td>0.014514</td>\n",
       "      <td>0.120229</td>\n",
       "      <td>-0.027037</td>\n",
       "      <td>0.030239</td>\n",
       "    </tr>\n",
       "    <tr>\n",
       "      <th>1</th>\n",
       "      <td>The Next Chapter for NativeScript: nStudio by ...</td>\n",
       "      <td>Programming</td>\n",
       "      <td>Neutral</td>\n",
       "      <td>17</td>\n",
       "      <td>['javascript']</td>\n",
       "      <td>1</td>\n",
       "      <td>0</td>\n",
       "      <td>0</td>\n",
       "      <td>0</td>\n",
       "      <td>-0.068502</td>\n",
       "      <td>...</td>\n",
       "      <td>0.022137</td>\n",
       "      <td>-0.038811</td>\n",
       "      <td>-0.070492</td>\n",
       "      <td>-0.030029</td>\n",
       "      <td>-0.046116</td>\n",
       "      <td>0.002696</td>\n",
       "      <td>-0.022367</td>\n",
       "      <td>0.102057</td>\n",
       "      <td>0.002136</td>\n",
       "      <td>0.029075</td>\n",
       "    </tr>\n",
       "    <tr>\n",
       "      <th>2</th>\n",
       "      <td>lwj doesn't speak for longer than he would've ...</td>\n",
       "      <td>Social Media</td>\n",
       "      <td>Negative</td>\n",
       "      <td>63</td>\n",
       "      <td>[]</td>\n",
       "      <td>0</td>\n",
       "      <td>1</td>\n",
       "      <td>0</td>\n",
       "      <td>0</td>\n",
       "      <td>-0.005183</td>\n",
       "      <td>...</td>\n",
       "      <td>-0.002973</td>\n",
       "      <td>0.010910</td>\n",
       "      <td>0.036041</td>\n",
       "      <td>0.007441</td>\n",
       "      <td>-0.064407</td>\n",
       "      <td>-0.065380</td>\n",
       "      <td>0.042773</td>\n",
       "      <td>0.007973</td>\n",
       "      <td>-0.001446</td>\n",
       "      <td>0.040114</td>\n",
       "    </tr>\n",
       "    <tr>\n",
       "      <th>3</th>\n",
       "      <td>The truth is \"a liberal reassurance narrative?\"</td>\n",
       "      <td>Journalism</td>\n",
       "      <td>Neutral</td>\n",
       "      <td>10</td>\n",
       "      <td>[]</td>\n",
       "      <td>0</td>\n",
       "      <td>1</td>\n",
       "      <td>0</td>\n",
       "      <td>0</td>\n",
       "      <td>0.068206</td>\n",
       "      <td>...</td>\n",
       "      <td>0.040749</td>\n",
       "      <td>-0.037523</td>\n",
       "      <td>-0.047591</td>\n",
       "      <td>-0.059627</td>\n",
       "      <td>-0.055182</td>\n",
       "      <td>-0.004068</td>\n",
       "      <td>-0.040202</td>\n",
       "      <td>0.042814</td>\n",
       "      <td>0.081529</td>\n",
       "      <td>-0.051749</td>\n",
       "    </tr>\n",
       "    <tr>\n",
       "      <th>4</th>\n",
       "      <td>Such a great film.</td>\n",
       "      <td>Movies &amp; TV</td>\n",
       "      <td>Positive</td>\n",
       "      <td>5</td>\n",
       "      <td>['film']</td>\n",
       "      <td>1</td>\n",
       "      <td>1</td>\n",
       "      <td>0</td>\n",
       "      <td>0</td>\n",
       "      <td>-0.059131</td>\n",
       "      <td>...</td>\n",
       "      <td>0.067459</td>\n",
       "      <td>0.010276</td>\n",
       "      <td>0.016515</td>\n",
       "      <td>-0.057109</td>\n",
       "      <td>-0.004752</td>\n",
       "      <td>0.025960</td>\n",
       "      <td>0.032027</td>\n",
       "      <td>-0.006660</td>\n",
       "      <td>0.000614</td>\n",
       "      <td>0.001283</td>\n",
       "    </tr>\n",
       "  </tbody>\n",
       "</table>\n",
       "<p>5 rows × 393 columns</p>\n",
       "</div>"
      ],
      "text/plain": [
       "                                                text            topic  \\\n",
       "0                                   thank you! 🥹❤️❤️  Fashion & Style   \n",
       "1  The Next Chapter for NativeScript: nStudio by ...      Programming   \n",
       "2  lwj doesn't speak for longer than he would've ...     Social Media   \n",
       "3    The truth is \"a liberal reassurance narrative?\"       Journalism   \n",
       "4                                 Such a great film.      Movies & TV   \n",
       "\n",
       "  sentiment  length      topicWords  topicWordsCount  positiveCount  \\\n",
       "0  Positive       8              []                0              1   \n",
       "1   Neutral      17  ['javascript']                1              0   \n",
       "2  Negative      63              []                0              1   \n",
       "3   Neutral      10              []                0              1   \n",
       "4  Positive       5        ['film']                1              1   \n",
       "\n",
       "   negativeCount  hasNo   embed_0  ...  embed_374  embed_375  embed_376  \\\n",
       "0              0      0 -0.025975  ...  -0.019321   0.040424  -0.014585   \n",
       "1              0      0 -0.068502  ...   0.022137  -0.038811  -0.070492   \n",
       "2              0      0 -0.005183  ...  -0.002973   0.010910   0.036041   \n",
       "3              0      0  0.068206  ...   0.040749  -0.037523  -0.047591   \n",
       "4              0      0 -0.059131  ...   0.067459   0.010276   0.016515   \n",
       "\n",
       "   embed_377  embed_378  embed_379  embed_380  embed_381  embed_382  embed_383  \n",
       "0   0.038854   0.056717   0.119614   0.014514   0.120229  -0.027037   0.030239  \n",
       "1  -0.030029  -0.046116   0.002696  -0.022367   0.102057   0.002136   0.029075  \n",
       "2   0.007441  -0.064407  -0.065380   0.042773   0.007973  -0.001446   0.040114  \n",
       "3  -0.059627  -0.055182  -0.004068  -0.040202   0.042814   0.081529  -0.051749  \n",
       "4  -0.057109  -0.004752   0.025960   0.032027  -0.006660   0.000614   0.001283  \n",
       "\n",
       "[5 rows x 393 columns]"
      ]
     },
     "execution_count": 7,
     "metadata": {},
     "output_type": "execute_result"
    }
   ],
   "source": [
    "df_test = pd.read_csv('../data/testWithFeaturesAndEmbeddings.csv')\n",
    "df_test.head()"
   ]
  },
  {
   "cell_type": "code",
   "execution_count": 8,
   "metadata": {
    "ExecuteTime": {
     "end_time": "2025-06-10T12:05:33.110938Z",
     "start_time": "2025-06-10T12:05:31.837303Z"
    },
    "executionInfo": {
     "elapsed": 845,
     "status": "ok",
     "timestamp": 1749550782529,
     "user": {
      "displayName": "LUIGINA COSTANTE",
      "userId": "06957901702143706173"
     },
     "user_tz": -120
    },
    "id": "xqqwDtXkCeTD"
   },
   "outputs": [],
   "source": [
    "# Campionamento stratificato\n",
    "df_test.dropna(subset=['sentiment'], inplace=True)\n",
    "df_test, _ = train_test_split(\n",
    "  df_test,\n",
    "  train_size=20_000,\n",
    "  stratify=df_test['sentiment'],\n",
    "  random_state=42\n",
    ")"
   ]
  },
  {
   "cell_type": "code",
   "execution_count": 9,
   "metadata": {
    "ExecuteTime": {
     "end_time": "2025-06-10T12:05:40.644718Z",
     "start_time": "2025-06-10T12:05:33.112219Z"
    },
    "colab": {
     "base_uri": "https://localhost:8080/",
     "height": 325
    },
    "collapsed": true,
    "executionInfo": {
     "elapsed": 17266,
     "status": "ok",
     "timestamp": 1749481304515,
     "user": {
      "displayName": "LUIGINA COSTANTE",
      "userId": "06957901702143706173"
     },
     "user_tz": -120
    },
    "id": "N_L5OLSRxMWJ",
    "jupyter": {
     "outputs_hidden": true
    },
    "outputId": "85f81702-1cc6-4c3a-ff7c-4f44887321fa"
   },
   "outputs": [
    {
     "data": {
      "text/html": [
       "<div>\n",
       "<style scoped>\n",
       "    .dataframe tbody tr th:only-of-type {\n",
       "        vertical-align: middle;\n",
       "    }\n",
       "\n",
       "    .dataframe tbody tr th {\n",
       "        vertical-align: top;\n",
       "    }\n",
       "\n",
       "    .dataframe thead th {\n",
       "        text-align: right;\n",
       "    }\n",
       "</style>\n",
       "<table border=\"1\" class=\"dataframe\">\n",
       "  <thead>\n",
       "    <tr style=\"text-align: right;\">\n",
       "      <th></th>\n",
       "      <th>text</th>\n",
       "      <th>topic</th>\n",
       "      <th>sentiment</th>\n",
       "      <th>length</th>\n",
       "      <th>topicWords</th>\n",
       "      <th>topicWordsCount</th>\n",
       "      <th>positiveCount</th>\n",
       "      <th>negativeCount</th>\n",
       "      <th>hasNo</th>\n",
       "      <th>embed_0</th>\n",
       "      <th>...</th>\n",
       "      <th>embed_374</th>\n",
       "      <th>embed_375</th>\n",
       "      <th>embed_376</th>\n",
       "      <th>embed_377</th>\n",
       "      <th>embed_378</th>\n",
       "      <th>embed_379</th>\n",
       "      <th>embed_380</th>\n",
       "      <th>embed_381</th>\n",
       "      <th>embed_382</th>\n",
       "      <th>embed_383</th>\n",
       "    </tr>\n",
       "  </thead>\n",
       "  <tbody>\n",
       "    <tr>\n",
       "      <th>0</th>\n",
       "      <td>Quick plug on this new platform for some of my...</td>\n",
       "      <td>Social Media</td>\n",
       "      <td>Neutral</td>\n",
       "      <td>52</td>\n",
       "      <td>[]</td>\n",
       "      <td>0</td>\n",
       "      <td>1</td>\n",
       "      <td>2</td>\n",
       "      <td>0</td>\n",
       "      <td>-0.065827</td>\n",
       "      <td>...</td>\n",
       "      <td>-0.004585</td>\n",
       "      <td>-0.058114</td>\n",
       "      <td>0.033320</td>\n",
       "      <td>0.102114</td>\n",
       "      <td>-0.053937</td>\n",
       "      <td>0.087153</td>\n",
       "      <td>0.105939</td>\n",
       "      <td>-0.026751</td>\n",
       "      <td>-0.048552</td>\n",
       "      <td>0.044566</td>\n",
       "    </tr>\n",
       "    <tr>\n",
       "      <th>1</th>\n",
       "      <td>ok whatthefuck</td>\n",
       "      <td>Gaming</td>\n",
       "      <td>Neutral</td>\n",
       "      <td>2</td>\n",
       "      <td>[]</td>\n",
       "      <td>0</td>\n",
       "      <td>0</td>\n",
       "      <td>0</td>\n",
       "      <td>0</td>\n",
       "      <td>0.001517</td>\n",
       "      <td>...</td>\n",
       "      <td>0.112817</td>\n",
       "      <td>-0.007861</td>\n",
       "      <td>0.016383</td>\n",
       "      <td>0.031305</td>\n",
       "      <td>-0.021063</td>\n",
       "      <td>0.024053</td>\n",
       "      <td>-0.002595</td>\n",
       "      <td>0.020050</td>\n",
       "      <td>0.092061</td>\n",
       "      <td>-0.033776</td>\n",
       "    </tr>\n",
       "    <tr>\n",
       "      <th>2</th>\n",
       "      <td>Paketocas https://twitter.com/324cat/status/16...</td>\n",
       "      <td>Social Media</td>\n",
       "      <td>Neutral</td>\n",
       "      <td>2</td>\n",
       "      <td>[]</td>\n",
       "      <td>0</td>\n",
       "      <td>0</td>\n",
       "      <td>0</td>\n",
       "      <td>0</td>\n",
       "      <td>-0.062472</td>\n",
       "      <td>...</td>\n",
       "      <td>0.017665</td>\n",
       "      <td>0.009573</td>\n",
       "      <td>-0.017845</td>\n",
       "      <td>-0.084442</td>\n",
       "      <td>0.014240</td>\n",
       "      <td>-0.030893</td>\n",
       "      <td>0.067415</td>\n",
       "      <td>0.004409</td>\n",
       "      <td>0.036922</td>\n",
       "      <td>-0.007215</td>\n",
       "    </tr>\n",
       "    <tr>\n",
       "      <th>3</th>\n",
       "      <td>All that dreaming 😴 of food has exhausted her ...</td>\n",
       "      <td>General Activities</td>\n",
       "      <td>Positive</td>\n",
       "      <td>17</td>\n",
       "      <td>[]</td>\n",
       "      <td>0</td>\n",
       "      <td>0</td>\n",
       "      <td>1</td>\n",
       "      <td>0</td>\n",
       "      <td>0.047092</td>\n",
       "      <td>...</td>\n",
       "      <td>0.013538</td>\n",
       "      <td>-0.036066</td>\n",
       "      <td>0.028027</td>\n",
       "      <td>-0.020379</td>\n",
       "      <td>-0.030251</td>\n",
       "      <td>0.096698</td>\n",
       "      <td>0.068467</td>\n",
       "      <td>0.015141</td>\n",
       "      <td>-0.089595</td>\n",
       "      <td>0.007898</td>\n",
       "    </tr>\n",
       "    <tr>\n",
       "      <th>4</th>\n",
       "      <td>this is def the Mental Illness™ talking but i ...</td>\n",
       "      <td>Mental Health</td>\n",
       "      <td>Neutral</td>\n",
       "      <td>20</td>\n",
       "      <td>[]</td>\n",
       "      <td>0</td>\n",
       "      <td>2</td>\n",
       "      <td>1</td>\n",
       "      <td>0</td>\n",
       "      <td>-0.024350</td>\n",
       "      <td>...</td>\n",
       "      <td>0.058399</td>\n",
       "      <td>0.049774</td>\n",
       "      <td>0.031252</td>\n",
       "      <td>0.007518</td>\n",
       "      <td>-0.061681</td>\n",
       "      <td>0.016520</td>\n",
       "      <td>0.101300</td>\n",
       "      <td>0.105141</td>\n",
       "      <td>0.010822</td>\n",
       "      <td>-0.024825</td>\n",
       "    </tr>\n",
       "  </tbody>\n",
       "</table>\n",
       "<p>5 rows × 393 columns</p>\n",
       "</div>"
      ],
      "text/plain": [
       "                                                text               topic  \\\n",
       "0  Quick plug on this new platform for some of my...        Social Media   \n",
       "1                                     ok whatthefuck              Gaming   \n",
       "2  Paketocas https://twitter.com/324cat/status/16...        Social Media   \n",
       "3  All that dreaming 😴 of food has exhausted her ...  General Activities   \n",
       "4  this is def the Mental Illness™ talking but i ...       Mental Health   \n",
       "\n",
       "  sentiment  length topicWords  topicWordsCount  positiveCount  negativeCount  \\\n",
       "0   Neutral      52         []                0              1              2   \n",
       "1   Neutral       2         []                0              0              0   \n",
       "2   Neutral       2         []                0              0              0   \n",
       "3  Positive      17         []                0              0              1   \n",
       "4   Neutral      20         []                0              2              1   \n",
       "\n",
       "   hasNo   embed_0  ...  embed_374  embed_375  embed_376  embed_377  \\\n",
       "0      0 -0.065827  ...  -0.004585  -0.058114   0.033320   0.102114   \n",
       "1      0  0.001517  ...   0.112817  -0.007861   0.016383   0.031305   \n",
       "2      0 -0.062472  ...   0.017665   0.009573  -0.017845  -0.084442   \n",
       "3      0  0.047092  ...   0.013538  -0.036066   0.028027  -0.020379   \n",
       "4      0 -0.024350  ...   0.058399   0.049774   0.031252   0.007518   \n",
       "\n",
       "   embed_378  embed_379  embed_380  embed_381  embed_382  embed_383  \n",
       "0  -0.053937   0.087153   0.105939  -0.026751  -0.048552   0.044566  \n",
       "1  -0.021063   0.024053  -0.002595   0.020050   0.092061  -0.033776  \n",
       "2   0.014240  -0.030893   0.067415   0.004409   0.036922  -0.007215  \n",
       "3  -0.030251   0.096698   0.068467   0.015141  -0.089595   0.007898  \n",
       "4  -0.061681   0.016520   0.101300   0.105141   0.010822  -0.024825  \n",
       "\n",
       "[5 rows x 393 columns]"
      ]
     },
     "execution_count": 9,
     "metadata": {},
     "output_type": "execute_result"
    }
   ],
   "source": [
    "df_val = pd.read_csv('../data/validationWithFeaturesAndEmbeddings.csv')\n",
    "df_val.head()"
   ]
  },
  {
   "cell_type": "code",
   "execution_count": 10,
   "metadata": {
    "ExecuteTime": {
     "end_time": "2025-06-10T12:05:41.241895Z",
     "start_time": "2025-06-10T12:05:40.645699Z"
    },
    "id": "xZE0Rx7BG-ah"
   },
   "outputs": [],
   "source": [
    "# Campionamento stratificato\n",
    "df_val.dropna(subset=['sentiment'], inplace=True)\n",
    "df_val, _ = train_test_split(\n",
    "  df_val,\n",
    "  train_size=20_000,\n",
    "  stratify=df_val['sentiment'],\n",
    "  random_state=42\n",
    ")"
   ]
  },
  {
   "cell_type": "markdown",
   "metadata": {
    "id": "YqgGIyN3aMJk"
   },
   "source": [
    "##Preprocessing"
   ]
  },
  {
   "cell_type": "code",
   "execution_count": 11,
   "metadata": {
    "ExecuteTime": {
     "end_time": "2025-06-10T12:05:41.349609Z",
     "start_time": "2025-06-10T12:05:41.265202Z"
    },
    "colab": {
     "base_uri": "https://localhost:8080/",
     "height": 430
    },
    "executionInfo": {
     "elapsed": 123,
     "status": "ok",
     "timestamp": 1749306475357,
     "user": {
      "displayName": "LUIGINA COSTANTE",
      "userId": "06957901702143706173"
     },
     "user_tz": -120
    },
    "id": "m_lSe_2vyiIX",
    "outputId": "5361097e-85ae-4fc6-f612-d31764505a04"
   },
   "outputs": [
    {
     "data": {
      "image/png": "[encoded data removed]",
      "text/plain": [
       "<Figure size 640x480 with 1 Axes>"
      ]
     },
     "metadata": {},
     "output_type": "display_data"
    }
   ],
   "source": [
    "df.groupby('sentiment').size().plot(kind='barh', color=sns.palettes.mpl_palette('Dark2'))\n",
    "plt.gca().spines[['top', 'right',]].set_visible(False)"
   ]
  },
  {
   "cell_type": "code",
   "execution_count": 12,
   "metadata": {
    "ExecuteTime": {
     "end_time": "2025-06-10T12:05:41.361412Z",
     "start_time": "2025-06-10T12:05:41.352055Z"
    },
    "collapsed": true,
    "id": "SYDI4Jh4x3eV",
    "jupyter": {
     "outputs_hidden": true
    }
   },
   "outputs": [
    {
     "name": "stdout",
     "output_type": "stream",
     "text": [
      "<class 'pandas.core.frame.DataFrame'>\n",
      "Index: 100000 entries, 307652 to 97330\n",
      "Columns: 393 entries, text to embed_383\n",
      "dtypes: float64(384), int64(5), object(4)\n",
      "memory usage: 300.6+ MB\n"
     ]
    }
   ],
   "source": [
    "df.info()"
   ]
  },
  {
   "cell_type": "code",
   "execution_count": 13,
   "metadata": {
    "ExecuteTime": {
     "end_time": "2025-06-10T12:05:41.366197Z",
     "start_time": "2025-06-10T12:05:41.362506Z"
    },
    "colab": {
     "base_uri": "https://localhost:8080/"
    },
    "collapsed": true,
    "executionInfo": {
     "elapsed": 12,
     "status": "ok",
     "timestamp": 1749306684501,
     "user": {
      "displayName": "LUIGINA COSTANTE",
      "userId": "06957901702143706173"
     },
     "user_tz": -120
    },
    "id": "TKW3HB5TaObu",
    "jupyter": {
     "outputs_hidden": true
    },
    "outputId": "e38060a6-3a65-4d35-e46d-d93628a36f66"
   },
   "outputs": [
    {
     "data": {
      "text/plain": [
       "Index(['text', 'topic', 'sentiment', 'length', 'topicWords', 'topicWordsCount',\n",
       "       'positiveCount', 'negativeCount', 'hasNo', 'embed_0',\n",
       "       ...\n",
       "       'embed_374', 'embed_375', 'embed_376', 'embed_377', 'embed_378',\n",
       "       'embed_379', 'embed_380', 'embed_381', 'embed_382', 'embed_383'],\n",
       "      dtype='object', length=393)"
      ]
     },
     "execution_count": 13,
     "metadata": {},
     "output_type": "execute_result"
    }
   ],
   "source": [
    "df.keys()"
   ]
  },
  {
   "cell_type": "code",
   "execution_count": 14,
   "metadata": {
    "ExecuteTime": {
     "end_time": "2025-06-10T12:05:41.492323Z",
     "start_time": "2025-06-10T12:05:41.366923Z"
    },
    "colab": {
     "base_uri": "https://localhost:8080/"
    },
    "collapsed": true,
    "executionInfo": {
     "elapsed": 215,
     "status": "ok",
     "timestamp": 1749553270855,
     "user": {
      "displayName": "LUIGINA COSTANTE",
      "userId": "06957901702143706173"
     },
     "user_tz": -120
    },
    "id": "B2ajtoECyE_O",
    "jupyter": {
     "outputs_hidden": true
    },
    "outputId": "afc26314-274a-4a79-92de-ec20641969d8"
   },
   "outputs": [
    {
     "name": "stdout",
     "output_type": "stream",
     "text": [
      "<class 'pandas.core.frame.DataFrame'>\n",
      "Index: 100000 entries, 307652 to 97330\n",
      "Columns: 393 entries, text to embed_383\n",
      "dtypes: float64(384), int64(5), object(4)\n",
      "memory usage: 300.6+ MB\n"
     ]
    }
   ],
   "source": [
    "df = df.dropna(subset=['text', 'topic', 'sentiment', 'length', 'topicWords', 'topicWordsCount', 'positiveCount', 'negativeCount', 'hasNo'])\n",
    "df.info()"
   ]
  },
  {
   "cell_type": "code",
   "execution_count": 15,
   "metadata": {
    "ExecuteTime": {
     "end_time": "2025-06-10T12:05:41.523180Z",
     "start_time": "2025-06-10T12:05:41.493196Z"
    },
    "executionInfo": {
     "elapsed": 31,
     "status": "ok",
     "timestamp": 1749553275955,
     "user": {
      "displayName": "LUIGINA COSTANTE",
      "userId": "06957901702143706173"
     },
     "user_tz": -120
    },
    "id": "vQ8NuD3P2Vac"
   },
   "outputs": [],
   "source": [
    "# df_val = df_val.dropna(subset=['text', 'topic', 'sentiment', 'length', 'topicWords', 'topicWordsCount', 'positiveCount', 'negativeCount', 'hasNo'])\n",
    "df_test = df_test.dropna(subset=['text', 'topic', 'sentiment', 'length', 'topicWords', 'topicWordsCount', 'positiveCount', 'negativeCount', 'hasNo'])"
   ]
  },
  {
   "cell_type": "code",
   "execution_count": 16,
   "metadata": {
    "ExecuteTime": {
     "end_time": "2025-06-10T12:05:41.528458Z",
     "start_time": "2025-06-10T12:05:41.523983Z"
    },
    "executionInfo": {
     "elapsed": 3,
     "status": "ok",
     "timestamp": 1749553277568,
     "user": {
      "displayName": "LUIGINA COSTANTE",
      "userId": "06957901702143706173"
     },
     "user_tz": -120
    },
    "id": "CbwZ9GiF01sl"
   },
   "outputs": [],
   "source": [
    "STOPWORDS_EN    = set(stopwords.words('english'))\n",
    "NEGATION_WORDS = {\"n't\", \"not\", \"no\", \"never\"}\n",
    "PUNCTUATION    = set(string.punctuation)\n",
    "LEMMATIZER     = WordNetLemmatizer()"
   ]
  },
  {
   "cell_type": "code",
   "execution_count": 17,
   "metadata": {
    "ExecuteTime": {
     "end_time": "2025-06-10T12:05:41.532223Z",
     "start_time": "2025-06-10T12:05:41.529706Z"
    },
    "executionInfo": {
     "elapsed": 4,
     "status": "ok",
     "timestamp": 1749553278707,
     "user": {
      "displayName": "LUIGINA COSTANTE",
      "userId": "06957901702143706173"
     },
     "user_tz": -120
    },
    "id": "qUxrL_Dn069O"
   },
   "outputs": [],
   "source": [
    "def normalize_text(text, lemmatizer, lemmatizer_func=\"lemmatize\"):\n",
    "  text = text.lower()\n",
    "  tokens = word_tokenize(text)\n",
    "  lemmatize = getattr(lemmatizer, lemmatizer_func)\n",
    "  normalized = []\n",
    "\n",
    "  prefix_NOT = False\n",
    "  for token in tokens:\n",
    "    if token in NEGATION_WORDS:\n",
    "      prefix_NOT = True\n",
    "      normalized.append(token)\n",
    "      continue\n",
    "\n",
    "    if token in PUNCTUATION:\n",
    "      prefix_NOT = False\n",
    "      normalized.append(token)\n",
    "      continue\n",
    "\n",
    "    if token in STOPWORDS_EN:\n",
    "      continue\n",
    "\n",
    "    token = lemmatize(token)\n",
    "    if prefix_NOT:\n",
    "      token = f\"NOT_{token}\"\n",
    "    normalized.append(token)\n",
    "\n",
    "  return normalized"
   ]
  },
  {
   "cell_type": "code",
   "execution_count": 18,
   "metadata": {
    "ExecuteTime": {
     "end_time": "2025-06-10T12:05:55.373872Z",
     "start_time": "2025-06-10T12:05:41.533072Z"
    },
    "colab": {
     "base_uri": "https://localhost:8080/"
    },
    "executionInfo": {
     "elapsed": 22359,
     "status": "ok",
     "timestamp": 1749553305013,
     "user": {
      "displayName": "LUIGINA COSTANTE",
      "userId": "06957901702143706173"
     },
     "user_tz": -120
    },
    "id": "aTWjz1iq1EP4",
    "outputId": "d787ef7c-03c5-42db-c616-25314b4e1ea5"
   },
   "outputs": [
    {
     "name": "stderr",
     "output_type": "stream",
     "text": [
      "100%|██████████| 100000/100000 [00:13<00:00, 7329.51it/s]\n"
     ]
    }
   ],
   "source": [
    "df['text_tokens'] = df['text'].progress_apply(lambda x: normalize_text(x, LEMMATIZER, \"lemmatize\"))\n",
    "\n",
    "df = df[df['text_tokens'].apply(lambda tokens: len(tokens) > 0)].copy()\n",
    "df.reset_index(drop=True, inplace=True)"
   ]
  },
  {
   "cell_type": "code",
   "execution_count": 19,
   "metadata": {
    "ExecuteTime": {
     "end_time": "2025-06-10T12:05:57.702695Z",
     "start_time": "2025-06-10T12:05:55.374761Z"
    },
    "colab": {
     "base_uri": "https://localhost:8080/"
    },
    "executionInfo": {
     "elapsed": 4306,
     "status": "ok",
     "timestamp": 1749553309323,
     "user": {
      "displayName": "LUIGINA COSTANTE",
      "userId": "06957901702143706173"
     },
     "user_tz": -120
    },
    "id": "Dlmy9dkA1oX3",
    "outputId": "994c7bf6-5233-44d7-f3ce-291846c1d3c2"
   },
   "outputs": [
    {
     "name": "stderr",
     "output_type": "stream",
     "text": [
      "100%|██████████| 19999/19999 [00:02<00:00, 8606.53it/s]\n"
     ]
    }
   ],
   "source": [
    "# df_val['text_tokens'] = df_val['text'].progress_apply(lambda x: normalize_text(x, LEMMATIZER, \"lemmatize\"))\n",
    "df_test['text_tokens']= df_test['text'].progress_apply(lambda x: normalize_text(x, LEMMATIZER, \"lemmatize\"))"
   ]
  },
  {
   "cell_type": "code",
   "execution_count": 20,
   "metadata": {
    "ExecuteTime": {
     "end_time": "2025-06-10T12:05:57.706209Z",
     "start_time": "2025-06-10T12:05:57.703580Z"
    },
    "executionInfo": {
     "elapsed": 5,
     "status": "ok",
     "timestamp": 1749553409397,
     "user": {
      "displayName": "LUIGINA COSTANTE",
      "userId": "06957901702143706173"
     },
     "user_tz": -120
    },
    "id": "o3G5ACLD1XNa"
   },
   "outputs": [],
   "source": [
    "numeric_features = ['length', 'topicWordsCount', 'positiveCount', 'negativeCount', 'hasNo'] \n",
    "numeric_transformer = StandardScaler()\n",
    "\n",
    "categorical_features = ['topic']\n",
    "categorical_transformer = OneHotEncoder(handle_unknown='ignore')\n",
    "\n",
    "text_features = 'text_tokens'\n",
    "text_transformer = CountVectorizer(\n",
    "  analyzer=lambda tokens: tokens,\n",
    "  lowercase=False,\n",
    "  token_pattern=None\n",
    ")\n",
    "\n",
    "preprocessor = ColumnTransformer(\n",
    "  transformers=[\n",
    "      ('num', numeric_transformer, numeric_features),\n",
    "      ('cat', categorical_transformer, categorical_features),\n",
    "      ('txt', text_transformer, text_features),\n",
    "  ],\n",
    "  remainder='drop',\n",
    "  sparse_threshold=0\n",
    ")"
   ]
  },
  {
   "cell_type": "markdown",
   "metadata": {
    "id": "GgGFZ8p1aO15"
   },
   "source": [
    "##Train/Validation/Test split\n",
    "\n"
   ]
  },
  {
   "cell_type": "code",
   "execution_count": 21,
   "metadata": {
    "ExecuteTime": {
     "end_time": "2025-06-10T12:05:57.801788Z",
     "start_time": "2025-06-10T12:05:57.706974Z"
    },
    "executionInfo": {
     "elapsed": 144,
     "status": "ok",
     "timestamp": 1749553419627,
     "user": {
      "displayName": "LUIGINA COSTANTE",
      "userId": "06957901702143706173"
     },
     "user_tz": -120
    },
    "id": "4eZ-z3WeaU0Q"
   },
   "outputs": [
    {
     "name": "stdout",
     "output_type": "stream",
     "text": [
      "Shape X_train: (99929, 393), Shape X_val: (20000, 392),  Shape X_test: (19999, 393)\n"
     ]
    }
   ],
   "source": [
    "X_train = df.drop(columns=\"sentiment\")\n",
    "y_train = df[\"sentiment\"]\n",
    "\n",
    "X_val = df_val.drop(columns=\"sentiment\")\n",
    "y_val = df_val[\"sentiment\"]\n",
    "\n",
    "X_test = df_test.drop(columns=\"sentiment\")\n",
    "y_test = df_test[\"sentiment\"]\n",
    "\n",
    "print(f\"Shape X_train: {X_train.shape}, Shape X_val: {X_val.shape},  Shape X_test: {X_test.shape}\")"
   ]
  },
  {
   "cell_type": "code",
   "execution_count": 22,
   "metadata": {
    "ExecuteTime": {
     "end_time": "2025-06-10T12:05:57.816446Z",
     "start_time": "2025-06-10T12:05:57.802621Z"
    },
    "executionInfo": {
     "elapsed": 18,
     "status": "ok",
     "timestamp": 1749553424767,
     "user": {
      "displayName": "LUIGINA COSTANTE",
      "userId": "06957901702143706173"
     },
     "user_tz": -120
    },
    "id": "B5wL0HWQMLBQ"
   },
   "outputs": [],
   "source": [
    "label_encoder = LabelEncoder()\n",
    "y_train_encoded = label_encoder.fit_transform(y_train)\n",
    "# y_val_encoded = label_encoder.transform(y_val)\n",
    "y_test_encoded = label_encoder.transform(y_test)"
   ]
  },
  {
   "cell_type": "markdown",
   "metadata": {
    "id": "IYO2jhuvaz6S"
   },
   "source": [
    "## Definizione MLPClassifier"
   ]
  },
  {
   "cell_type": "code",
   "execution_count": 23,
   "metadata": {
    "ExecuteTime": {
     "end_time": "2025-06-10T12:05:57.819714Z",
     "start_time": "2025-06-10T12:05:57.817397Z"
    },
    "executionInfo": {
     "elapsed": 6,
     "status": "ok",
     "timestamp": 1749553427100,
     "user": {
      "displayName": "LUIGINA COSTANTE",
      "userId": "06957901702143706173"
     },
     "user_tz": -120
    },
    "id": "VMvzYz5la3bY"
   },
   "outputs": [],
   "source": [
    "mlp_base = MLPClassifier(\n",
    "  hidden_layer_sizes=(50,),\n",
    "  activation='relu',\n",
    "  solver='adam',\n",
    "  alpha=1e-4,\n",
    "  learning_rate='adaptive',\n",
    "  learning_rate_init=1e-3,\n",
    "  max_iter=100,\n",
    "  early_stopping=True,\n",
    "  n_iter_no_change=10,\n",
    "  random_state=42,\n",
    "  verbose=False\n",
    ")\n",
    "\n",
    "pipeline = Pipeline([\n",
    "  ('preprocessor', preprocessor),\n",
    "  ('classifier', mlp_base)\n",
    "])"
   ]
  },
  {
   "cell_type": "markdown",
   "metadata": {
    "id": "R3TJ59T_B6NU"
   },
   "source": [
    "###Addestramento base"
   ]
  },
  {
   "cell_type": "code",
   "execution_count": null,
   "metadata": {
    "ExecuteTime": {
     "start_time": "2025-06-10T12:05:57.820504Z"
    },
    "id": "6byuQlJOBXtU",
    "jupyter": {
     "is_executing": true
    }
   },
   "outputs": [],
   "source": [
    "pipeline.fit(X_train, y_train_encoded)"
   ]
  },
  {
   "cell_type": "code",
   "execution_count": null,
   "metadata": {
    "id": "TwihTTNiBtzx",
    "jupyter": {
     "is_executing": true
    }
   },
   "outputs": [],
   "source": [
    "y_pred_test = pipeline.predict(X_test)\n",
    "acc_test = accuracy_score(y_test, y_pred_test)\n",
    "print(f\"Accuracy su TEST: {acc_test:.4f}\\n\")\n",
    "\n",
    "print(\"Classification report (TEST):\")\n",
    "print(classification_report(y_test, y_pred_test))"
   ]
  },
  {
   "cell_type": "code",
   "execution_count": null,
   "metadata": {
    "id": "GtbyrAEGB4Q0",
    "jupyter": {
     "is_executing": true
    }
   },
   "outputs": [],
   "source": [
    "# MATRICE DI CONFUSIONE\n",
    "cm_test = confusion_matrix(y_test, y_pred_test)\n",
    "plt.figure(figsize=(6,5))\n",
    "plt.imshow(cm_test, cmap='Blues')\n",
    "plt.colorbar()\n",
    "labels = pipeline.named_steps['classifier'].classes_\n",
    "plt.xticks(range(len(labels)), labels, rotation=45, ha='right')\n",
    "plt.yticks(range(len(labels)), labels)\n",
    "plt.title(\"Matrice di confusione - TEST\")\n",
    "for i in range(len(labels)):\n",
    "  for j in range(len(labels)):\n",
    "    plt.text(j, i, cm_test[i, j], ha='center', va='center',\n",
    "            color='white' if cm_test[i, j] > cm_test.max()/2 else 'black')\n",
    "plt.xlabel(\"Predetto\")\n",
    "plt.ylabel(\"Vero\")\n",
    "plt.tight_layout()\n",
    "plt.show()"
   ]
  },
  {
   "cell_type": "markdown",
   "metadata": {
    "id": "dnz8WZolAmNV"
   },
   "source": [
    "###Grid search"
   ]
  },
  {
   "cell_type": "code",
   "execution_count": null,
   "metadata": {
    "id": "2QdVPebI3tDO",
    "jupyter": {
     "is_executing": true
    }
   },
   "outputs": [],
   "source": [
    "X_train_val = pd.concat([X_train, X_val], axis=0).reset_index(drop=True)\n",
    "y_train_val = pd.concat([y_train, y_val], axis=0).reset_index(drop=True)\n",
    "\n",
    "n_train = X_train.shape[0]\n",
    "n_val   = X_val.shape[0]\n",
    "\n",
    "test_fold = np.concatenate([\n",
    "  -1 * np.ones(n_train, dtype=int),\n",
    "    0 * np.ones(n_val,   dtype=int)\n",
    "])\n",
    "\n",
    "ps = PredefinedSplit(test_fold=test_fold)"
   ]
  },
  {
   "cell_type": "code",
   "execution_count": null,
   "metadata": {
    "id": "YkN_Q1cm3-Aw",
    "jupyter": {
     "is_executing": true
    }
   },
   "outputs": [],
   "source": [
    "print(\"Shape X_train_val:\", X_train_val.shape)\n",
    "print(\"Shape y_train_val:\", y_train_val.shape)\n",
    "print(\"Lunghezza test_fold:\", len(test_fold))\n",
    "print(\"Numero di -1 in test_fold:\", np.sum(test_fold == -1)) # n_train\n",
    "print(\"Numero di  0 in test_fold:\", np.sum(test_fold == 0)) # n_val"
   ]
  },
  {
   "cell_type": "code",
   "execution_count": null,
   "metadata": {
    "id": "-37vcrxqcwK0",
    "jupyter": {
     "is_executing": true
    }
   },
   "outputs": [],
   "source": [
    "param_grid = {\n",
    "  'classifier__hidden_layer_sizes': [(50,), (100,)],\n",
    "  'classifier__alpha': [1e-4, 1e-3, 1e-2],\n",
    "  'classifier__learning_rate_init': [1e-3, 1e-4]\n",
    "}"
   ]
  },
  {
   "cell_type": "code",
   "execution_count": null,
   "metadata": {
    "id": "X3hke6yh7jI4",
    "jupyter": {
     "is_executing": true
    }
   },
   "outputs": [],
   "source": [
    "n_candidates = len(list(ParameterGrid(param_grid)))\n",
    "n_splits = PredefinedSplit(test_fold).get_n_splits()\n",
    "total_iter = n_candidates * n_splits"
   ]
  },
  {
   "cell_type": "code",
   "execution_count": null,
   "metadata": {
    "id": "X3nRJ_JCdpmM",
    "jupyter": {
     "is_executing": true
    }
   },
   "outputs": [],
   "source": [
    "grid_search = GridSearchCV(\n",
    "  estimator=pipeline,\n",
    "  param_grid=param_grid,\n",
    "  cv=ps,\n",
    "  scoring='accuracy',\n",
    "  n_jobs=-1,\n",
    "  verbose=2\n",
    ")"
   ]
  },
  {
   "cell_type": "code",
   "execution_count": null,
   "metadata": {
    "id": "x8H7tqxW4gje",
    "jupyter": {
     "is_executing": true
    }
   },
   "outputs": [],
   "source": [
    "#with tqdm_joblib(tqdm(desc=\"GridSearch Progress\", total=total_iter)) as progress_bar:\n",
    "grid_search.fit(X_train_val, y_train_val)"
   ]
  },
  {
   "cell_type": "code",
   "execution_count": null,
   "metadata": {
    "id": "aTDGntBl4kag",
    "jupyter": {
     "is_executing": true
    }
   },
   "outputs": [],
   "source": [
    "print(\"Migliori iperparametri (param_grid):\")\n",
    "for k, v in grid_search.best_params_.items():\n",
    "  print(f\"  {k} = {v}\")\n",
    "\n",
    "print(f\"\\nBest score (accuracy su X_val): {grid_search.best_score_:.4f}\")"
   ]
  },
  {
   "cell_type": "code",
   "execution_count": null,
   "metadata": {
    "id": "qGH4_qtK4ogb",
    "jupyter": {
     "is_executing": true
    }
   },
   "outputs": [],
   "source": [
    "best_pipeline = grid_search.best_estimator_\n",
    "y_pred_test = best_pipeline.predict(X_test)  # valutazione del modello migliore sul test set"
   ]
  },
  {
   "cell_type": "code",
   "execution_count": null,
   "metadata": {
    "id": "HY7Wy4FJ8MfR",
    "jupyter": {
     "is_executing": true
    }
   },
   "outputs": [],
   "source": [
    "acc_test = accuracy_score(y_test, y_pred_test)\n",
    "print(f\"Accuracy finale su TEST: {acc_test:.4f}\\n\")\n",
    "\n",
    "print(classification_report(y_test, y_pred_test))\n",
    "\n",
    "cm = confusion_matrix(y_test, y_pred_test)\n",
    "plt.figure(figsize=(6,5))\n",
    "plt.imshow(cm, cmap='Blues')\n",
    "plt.colorbar()\n",
    "labels = best_pipeline.named_steps['classifier'].classes_\n",
    "plt.xticks(range(len(labels)), labels, rotation=45, ha='right')\n",
    "plt.yticks(range(len(labels)), labels)\n",
    "plt.title(\"Matrice di confusione - TEST\")\n",
    "for i in range(len(labels)):\n",
    "  for j in range(len(labels)):\n",
    "    plt.text(j, i, cm[i, j], ha='center', va='center',\n",
    "              color='white' if cm[i,j] > cm.max()/2 else 'black')\n",
    "plt.xlabel(\"Predetto\")\n",
    "plt.ylabel(\"Vero\")\n",
    "plt.tight_layout()\n",
    "plt.show()"
   ]
  },
  {
   "cell_type": "code",
   "execution_count": null,
   "metadata": {
    "id": "nI7U-7zq4vAI",
    "jupyter": {
     "is_executing": true
    }
   },
   "outputs": [],
   "source": [
    "joblib.dump(best_pipeline, '/content/drive/MyDrive/Progetto_NLP/modelli/grid_search/mlp_sentiment_pipeline_gridsearch.joblib')\n",
    "# loaded_pipeline = joblib.load('/content/drive/MyDrive/mlp_sentiment_pipeline_gridsearch.joblib')"
   ]
  }
 ],
 "metadata": {
  "accelerator": "TPU",
  "colab": {
   "authorship_tag": "ABX9TyNyADiIpDn0rCctEEvE09Ox",
   "collapsed_sections": [
    "fH2cGhseZWL5"
   ],
   "gpuType": "V28",
   "provenance": []
  },
  "kernelspec": {
   "display_name": "Python 3 (ipykernel)",
   "language": "python",
   "name": "python3"
  },
  "language_info": {
   "codemirror_mode": {
    "name": "ipython",
    "version": 3
   },
   "file_extension": ".py",
   "mimetype": "text/x-python",
   "name": "python",
   "nbconvert_exporter": "python",
   "pygments_lexer": "ipython3",
   "version": "3.10.18"
  }
 },
 "nbformat": 4,
 "nbformat_minor": 4
}
