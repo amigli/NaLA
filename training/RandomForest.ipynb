{
 "nbformat": 4,
 "nbformat_minor": 0,
 "metadata": {
  "colab": {
   "provenance": [],
   "collapsed_sections": [
    "fH2cGhseZWL5",
    "dvJk8W5eZiK9",
    "GgGFZ8p1aO15"
   ],
   "machine_shape": "hm",
   "gpuType": "A100"
  },
  "kernelspec": {
   "name": "python3",
   "display_name": "Python 3"
  },
  "language_info": {
   "name": "python"
  },
  "accelerator": "GPU"
 },
 "cells": [
  {
   "cell_type": "markdown",
   "source": [
    "<h1>Random Forest</h1>"
   ],
   "metadata": {
    "id": "AqclA3HtZRjm"
   }
  },
  {
   "cell_type": "markdown",
   "source": [
    "##Import + Montaggio cartella Google Drive"
   ],
   "metadata": {
    "id": "fH2cGhseZWL5"
   }
  },
  {
   "cell_type": "code",
   "execution_count": 1,
   "metadata": {
    "id": "J1rO1r25ZCMy",
    "colab": {
     "base_uri": "https://localhost:8080/"
    },
    "executionInfo": {
     "status": "ok",
     "timestamp": 1749482401000,
     "user_tz": -120,
     "elapsed": 2538,
     "user": {
      "displayName": "Annalaura Miglino",
      "userId": "03808724092990969006"
     }
    },
    "outputId": "2d425a0e-3c49-45af-aa0f-71899348a400"
   },
   "outputs": [
    {
     "output_type": "stream",
     "name": "stdout",
     "text": [
      "Drive already mounted at /content/drive; to attempt to forcibly remount, call drive.mount(\"/content/drive\", force_remount=True).\n"
     ]
    }
   ],
   "source": [
    "from google.colab import drive\n",
    "drive.mount('/content/drive')"
   ]
  },
  {
   "cell_type": "code",
   "source": [
    "!pip install joblib"
   ],
   "metadata": {
    "colab": {
     "base_uri": "https://localhost:8080/"
    },
    "id": "6PFLWkTNxBtu",
    "executionInfo": {
     "status": "ok",
     "timestamp": 1749482403411,
     "user_tz": -120,
     "elapsed": 2415,
     "user": {
      "displayName": "Annalaura Miglino",
      "userId": "03808724092990969006"
     }
    },
    "outputId": "77292f49-c621-4be1-cd4d-4b6b5d5d7df8"
   },
   "execution_count": 2,
   "outputs": [
    {
     "output_type": "stream",
     "name": "stdout",
     "text": [
      "Requirement already satisfied: joblib in /usr/local/lib/python3.11/dist-packages (1.5.1)\n"
     ]
    }
   ]
  },
  {
   "cell_type": "code",
   "source": [
    "!pip install tqdm_joblib"
   ],
   "metadata": {
    "colab": {
     "base_uri": "https://localhost:8080/"
    },
    "id": "Bzr9ezcnx95V",
    "executionInfo": {
     "status": "ok",
     "timestamp": 1749482405753,
     "user_tz": -120,
     "elapsed": 2340,
     "user": {
      "displayName": "Annalaura Miglino",
      "userId": "03808724092990969006"
     }
    },
    "outputId": "bb4a4f05-0a5c-4ac7-95e2-1a48dc6472a3"
   },
   "execution_count": 3,
   "outputs": [
    {
     "output_type": "stream",
     "name": "stdout",
     "text": [
      "Requirement already satisfied: tqdm_joblib in /usr/local/lib/python3.11/dist-packages (0.0.4)\n",
      "Requirement already satisfied: tqdm in /usr/local/lib/python3.11/dist-packages (from tqdm_joblib) (4.67.1)\n"
     ]
    }
   ]
  },
  {
   "cell_type": "code",
   "source": [
    "import pandas as pd\n",
    "import numpy as np\n",
    "from sklearn.model_selection import train_test_split, StratifiedKFold\n",
    "from sklearn.metrics import accuracy_score, precision_score, recall_score, f1_score, confusion_matrix, ConfusionMatrixDisplay\n",
    "from sklearn.ensemble import RandomForestClassifier\n",
    "from tqdm.notebook import tqdm\n",
    "import matplotlib.pyplot as plt\n",
    "import seaborn as sns\n",
    "import joblib\n",
    "from tqdm_joblib import tqdm_joblib\n",
    "from tqdm import tqdm\n",
    "tqdm.pandas()\n",
    "import string\n",
    "import nltk\n",
    "from nltk.corpus import stopwords\n",
    "from nltk.tokenize import word_tokenize\n",
    "from nltk.stem import WordNetLemmatizer\n",
    "from sklearn.compose import ColumnTransformer\n",
    "from sklearn.preprocessing import OneHotEncoder, StandardScaler\n",
    "from sklearn.feature_extraction.text import CountVectorizer\n",
    "\n",
    "nltk.download('stopwords')\n",
    "nltk.download('punkt')\n",
    "nltk.download('punkt_tab')\n",
    "nltk.download('wordnet')"
   ],
   "metadata": {
    "colab": {
     "base_uri": "https://localhost:8080/"
    },
    "id": "EAezH0ogxm26",
    "executionInfo": {
     "status": "ok",
     "timestamp": 1749482407155,
     "user_tz": -120,
     "elapsed": 1363,
     "user": {
      "displayName": "Annalaura Miglino",
      "userId": "03808724092990969006"
     }
    },
    "outputId": "d69592b1-f517-4271-d2c4-51dd91ece05b"
   },
   "execution_count": 4,
   "outputs": [
    {
     "output_type": "stream",
     "name": "stderr",
     "text": [
      "/usr/local/lib/python3.11/dist-packages/tqdm_joblib/__init__.py:4: TqdmExperimentalWarning: Using `tqdm.autonotebook.tqdm` in notebook mode. Use `tqdm.tqdm` instead to force console mode (e.g. in jupyter console)\n",
      "  from tqdm.autonotebook import tqdm\n",
      "[nltk_data] Downloading package stopwords to /root/nltk_data...\n",
      "[nltk_data]   Package stopwords is already up-to-date!\n",
      "[nltk_data] Downloading package punkt to /root/nltk_data...\n",
      "[nltk_data]   Package punkt is already up-to-date!\n",
      "[nltk_data] Downloading package punkt_tab to /root/nltk_data...\n",
      "[nltk_data]   Package punkt_tab is already up-to-date!\n",
      "[nltk_data] Downloading package wordnet to /root/nltk_data...\n",
      "[nltk_data]   Package wordnet is already up-to-date!\n"
     ]
    },
    {
     "output_type": "execute_result",
     "data": {
      "text/plain": [
       "True"
      ]
     },
     "metadata": {},
     "execution_count": 4
    }
   ]
  },
  {
   "cell_type": "markdown",
   "source": [
    "## Caricamento del dataset"
   ],
   "metadata": {
    "id": "dvJk8W5eZiK9"
   }
  },
  {
   "cell_type": "code",
   "source": [
    "df = pd.read_csv('/content/drive/MyDrive/Progetto_NLP/Dataset_label/trainWithFeaturesAndEmbeddings.csv')\n",
    "df.head()"
   ],
   "metadata": {
    "id": "1n4U1rwzZheY",
    "colab": {
     "base_uri": "https://localhost:8080/",
     "height": 0
    },
    "executionInfo": {
     "status": "ok",
     "timestamp": 1749482489216,
     "user_tz": -120,
     "elapsed": 82057,
     "user": {
      "displayName": "Annalaura Miglino",
      "userId": "03808724092990969006"
     }
    },
    "outputId": "d16b86a8-9d69-4e07-f404-5c4a78382645",
    "collapsed": true
   },
   "execution_count": 5,
   "outputs": [
    {
     "output_type": "execute_result",
     "data": {
      "text/plain": [
       "                                                text               topic  \\\n",
       "0  Good Afternoon from a rather cool and damp Ess...  Books & Literature   \n",
       "1  2) My favorite fictional spice is melange. My ...  General Activities   \n",
       "2  Guess the German utensil! https://https://t.co...  Trivia & Fun Facts   \n",
       "3  I am quite tempted to spend the entirety of th...     Fashion & Style   \n",
       "4                           I heard different on cnn          Journalism   \n",
       "\n",
       "  sentiment  length  topicWords  topicWordsCount  positiveCount  \\\n",
       "0  Positive      44  ['author']                1              3   \n",
       "1   Neutral      16          []                0              2   \n",
       "2  Positive       9          []                0              0   \n",
       "3  Negative      21          []                0              0   \n",
       "4   Neutral       5          []                0              0   \n",
       "\n",
       "   negativeCount  hasNo   embed_0  ...  embed_374  embed_375  embed_376  \\\n",
       "0              0      0 -0.009258  ...  -0.011806  -0.040050  -0.028320   \n",
       "1              1      0 -0.066764  ...  -0.044040  -0.040336  -0.050697   \n",
       "2              0      0 -0.067560  ...   0.006027   0.038677   0.040306   \n",
       "3              0      0 -0.060903  ...   0.008680   0.094215   0.019267   \n",
       "4              0      0  0.040691  ...   0.099750   0.041532  -0.033229   \n",
       "\n",
       "   embed_377  embed_378  embed_379  embed_380  embed_381  embed_382  embed_383  \n",
       "0  -0.032246   0.013747   0.054467   0.060302   0.093453  -0.090176   0.011050  \n",
       "1   0.083287   0.021824  -0.114995   0.034062   0.049423  -0.062629  -0.008898  \n",
       "2  -0.042645   0.012359   0.042093   0.029526  -0.007695  -0.031263   0.125133  \n",
       "3  -0.033533  -0.053666  -0.031781  -0.021230  -0.114671  -0.090589   0.035798  \n",
       "4  -0.098661   0.032493  -0.044346  -0.008297  -0.068045   0.078471  -0.020324  \n",
       "\n",
       "[5 rows x 393 columns]"
      ],
      "text/html": [
       "\n",
       "  <div id=\"df-f04c0c59-5fbd-446c-8b95-c317af169f30\" class=\"colab-df-container\">\n",
       "    <div>\n",
       "<style scoped>\n",
       "    .dataframe tbody tr th:only-of-type {\n",
       "        vertical-align: middle;\n",
       "    }\n",
       "\n",
       "    .dataframe tbody tr th {\n",
       "        vertical-align: top;\n",
       "    }\n",
       "\n",
       "    .dataframe thead th {\n",
       "        text-align: right;\n",
       "    }\n",
       "</style>\n",
       "<table border=\"1\" class=\"dataframe\">\n",
       "  <thead>\n",
       "    <tr style=\"text-align: right;\">\n",
       "      <th></th>\n",
       "      <th>text</th>\n",
       "      <th>topic</th>\n",
       "      <th>sentiment</th>\n",
       "      <th>length</th>\n",
       "      <th>topicWords</th>\n",
       "      <th>topicWordsCount</th>\n",
       "      <th>positiveCount</th>\n",
       "      <th>negativeCount</th>\n",
       "      <th>hasNo</th>\n",
       "      <th>embed_0</th>\n",
       "      <th>...</th>\n",
       "      <th>embed_374</th>\n",
       "      <th>embed_375</th>\n",
       "      <th>embed_376</th>\n",
       "      <th>embed_377</th>\n",
       "      <th>embed_378</th>\n",
       "      <th>embed_379</th>\n",
       "      <th>embed_380</th>\n",
       "      <th>embed_381</th>\n",
       "      <th>embed_382</th>\n",
       "      <th>embed_383</th>\n",
       "    </tr>\n",
       "  </thead>\n",
       "  <tbody>\n",
       "    <tr>\n",
       "      <th>0</th>\n",
       "      <td>Good Afternoon from a rather cool and damp Ess...</td>\n",
       "      <td>Books &amp; Literature</td>\n",
       "      <td>Positive</td>\n",
       "      <td>44</td>\n",
       "      <td>['author']</td>\n",
       "      <td>1</td>\n",
       "      <td>3</td>\n",
       "      <td>0</td>\n",
       "      <td>0</td>\n",
       "      <td>-0.009258</td>\n",
       "      <td>...</td>\n",
       "      <td>-0.011806</td>\n",
       "      <td>-0.040050</td>\n",
       "      <td>-0.028320</td>\n",
       "      <td>-0.032246</td>\n",
       "      <td>0.013747</td>\n",
       "      <td>0.054467</td>\n",
       "      <td>0.060302</td>\n",
       "      <td>0.093453</td>\n",
       "      <td>-0.090176</td>\n",
       "      <td>0.011050</td>\n",
       "    </tr>\n",
       "    <tr>\n",
       "      <th>1</th>\n",
       "      <td>2) My favorite fictional spice is melange. My ...</td>\n",
       "      <td>General Activities</td>\n",
       "      <td>Neutral</td>\n",
       "      <td>16</td>\n",
       "      <td>[]</td>\n",
       "      <td>0</td>\n",
       "      <td>2</td>\n",
       "      <td>1</td>\n",
       "      <td>0</td>\n",
       "      <td>-0.066764</td>\n",
       "      <td>...</td>\n",
       "      <td>-0.044040</td>\n",
       "      <td>-0.040336</td>\n",
       "      <td>-0.050697</td>\n",
       "      <td>0.083287</td>\n",
       "      <td>0.021824</td>\n",
       "      <td>-0.114995</td>\n",
       "      <td>0.034062</td>\n",
       "      <td>0.049423</td>\n",
       "      <td>-0.062629</td>\n",
       "      <td>-0.008898</td>\n",
       "    </tr>\n",
       "    <tr>\n",
       "      <th>2</th>\n",
       "      <td>Guess the German utensil! https://https://t.co...</td>\n",
       "      <td>Trivia &amp; Fun Facts</td>\n",
       "      <td>Positive</td>\n",
       "      <td>9</td>\n",
       "      <td>[]</td>\n",
       "      <td>0</td>\n",
       "      <td>0</td>\n",
       "      <td>0</td>\n",
       "      <td>0</td>\n",
       "      <td>-0.067560</td>\n",
       "      <td>...</td>\n",
       "      <td>0.006027</td>\n",
       "      <td>0.038677</td>\n",
       "      <td>0.040306</td>\n",
       "      <td>-0.042645</td>\n",
       "      <td>0.012359</td>\n",
       "      <td>0.042093</td>\n",
       "      <td>0.029526</td>\n",
       "      <td>-0.007695</td>\n",
       "      <td>-0.031263</td>\n",
       "      <td>0.125133</td>\n",
       "    </tr>\n",
       "    <tr>\n",
       "      <th>3</th>\n",
       "      <td>I am quite tempted to spend the entirety of th...</td>\n",
       "      <td>Fashion &amp; Style</td>\n",
       "      <td>Negative</td>\n",
       "      <td>21</td>\n",
       "      <td>[]</td>\n",
       "      <td>0</td>\n",
       "      <td>0</td>\n",
       "      <td>0</td>\n",
       "      <td>0</td>\n",
       "      <td>-0.060903</td>\n",
       "      <td>...</td>\n",
       "      <td>0.008680</td>\n",
       "      <td>0.094215</td>\n",
       "      <td>0.019267</td>\n",
       "      <td>-0.033533</td>\n",
       "      <td>-0.053666</td>\n",
       "      <td>-0.031781</td>\n",
       "      <td>-0.021230</td>\n",
       "      <td>-0.114671</td>\n",
       "      <td>-0.090589</td>\n",
       "      <td>0.035798</td>\n",
       "    </tr>\n",
       "    <tr>\n",
       "      <th>4</th>\n",
       "      <td>I heard different on cnn</td>\n",
       "      <td>Journalism</td>\n",
       "      <td>Neutral</td>\n",
       "      <td>5</td>\n",
       "      <td>[]</td>\n",
       "      <td>0</td>\n",
       "      <td>0</td>\n",
       "      <td>0</td>\n",
       "      <td>0</td>\n",
       "      <td>0.040691</td>\n",
       "      <td>...</td>\n",
       "      <td>0.099750</td>\n",
       "      <td>0.041532</td>\n",
       "      <td>-0.033229</td>\n",
       "      <td>-0.098661</td>\n",
       "      <td>0.032493</td>\n",
       "      <td>-0.044346</td>\n",
       "      <td>-0.008297</td>\n",
       "      <td>-0.068045</td>\n",
       "      <td>0.078471</td>\n",
       "      <td>-0.020324</td>\n",
       "    </tr>\n",
       "  </tbody>\n",
       "</table>\n",
       "<p>5 rows × 393 columns</p>\n",
       "</div>\n",
       "    <div class=\"colab-df-buttons\">\n",
       "\n",
       "  <div class=\"colab-df-container\">\n",
       "    <button class=\"colab-df-convert\" onclick=\"convertToInteractive('df-f04c0c59-5fbd-446c-8b95-c317af169f30')\"\n",
       "            title=\"Convert this dataframe to an interactive table.\"\n",
       "            style=\"display:none;\">\n",
       "\n",
       "  <svg xmlns=\"http://www.w3.org/2000/svg\" height=\"24px\" viewBox=\"0 -960 960 960\">\n",
       "    <path d=\"M120-120v-720h720v720H120Zm60-500h600v-160H180v160Zm220 220h160v-160H400v160Zm0 220h160v-160H400v160ZM180-400h160v-160H180v160Zm440 0h160v-160H620v160ZM180-180h160v-160H180v160Zm440 0h160v-160H620v160Z\"/>\n",
       "  </svg>\n",
       "    </button>\n",
       "\n",
       "  <style>\n",
       "    .colab-df-container {\n",
       "      display:flex;\n",
       "      gap: 12px;\n",
       "    }\n",
       "\n",
       "    .colab-df-convert {\n",
       "      background-color: #E8F0FE;\n",
       "      border: none;\n",
       "      border-radius: 50%;\n",
       "      cursor: pointer;\n",
       "      display: none;\n",
       "      fill: #1967D2;\n",
       "      height: 32px;\n",
       "      padding: 0 0 0 0;\n",
       "      width: 32px;\n",
       "    }\n",
       "\n",
       "    .colab-df-convert:hover {\n",
       "      background-color: #E2EBFA;\n",
       "      box-shadow: 0px 1px 2px rgba(60, 64, 67, 0.3), 0px 1px 3px 1px rgba(60, 64, 67, 0.15);\n",
       "      fill: #174EA6;\n",
       "    }\n",
       "\n",
       "    .colab-df-buttons div {\n",
       "      margin-bottom: 4px;\n",
       "    }\n",
       "\n",
       "    [theme=dark] .colab-df-convert {\n",
       "      background-color: #3B4455;\n",
       "      fill: #D2E3FC;\n",
       "    }\n",
       "\n",
       "    [theme=dark] .colab-df-convert:hover {\n",
       "      background-color: #434B5C;\n",
       "      box-shadow: 0px 1px 3px 1px rgba(0, 0, 0, 0.15);\n",
       "      filter: drop-shadow(0px 1px 2px rgba(0, 0, 0, 0.3));\n",
       "      fill: #FFFFFF;\n",
       "    }\n",
       "  </style>\n",
       "\n",
       "    <script>\n",
       "      const buttonEl =\n",
       "        document.querySelector('#df-f04c0c59-5fbd-446c-8b95-c317af169f30 button.colab-df-convert');\n",
       "      buttonEl.style.display =\n",
       "        google.colab.kernel.accessAllowed ? 'block' : 'none';\n",
       "\n",
       "      async function convertToInteractive(key) {\n",
       "        const element = document.querySelector('#df-f04c0c59-5fbd-446c-8b95-c317af169f30');\n",
       "        const dataTable =\n",
       "          await google.colab.kernel.invokeFunction('convertToInteractive',\n",
       "                                                    [key], {});\n",
       "        if (!dataTable) return;\n",
       "\n",
       "        const docLinkHtml = 'Like what you see? Visit the ' +\n",
       "          '<a target=\"_blank\" href=https://colab.research.google.com/notebooks/data_table.ipynb>data table notebook</a>'\n",
       "          + ' to learn more about interactive tables.';\n",
       "        element.innerHTML = '';\n",
       "        dataTable['output_type'] = 'display_data';\n",
       "        await google.colab.output.renderOutput(dataTable, element);\n",
       "        const docLink = document.createElement('div');\n",
       "        docLink.innerHTML = docLinkHtml;\n",
       "        element.appendChild(docLink);\n",
       "      }\n",
       "    </script>\n",
       "  </div>\n",
       "\n",
       "\n",
       "    <div id=\"df-b0077117-e220-4dad-8f95-bca44409a6f1\">\n",
       "      <button class=\"colab-df-quickchart\" onclick=\"quickchart('df-b0077117-e220-4dad-8f95-bca44409a6f1')\"\n",
       "                title=\"Suggest charts\"\n",
       "                style=\"display:none;\">\n",
       "\n",
       "<svg xmlns=\"http://www.w3.org/2000/svg\" height=\"24px\"viewBox=\"0 0 24 24\"\n",
       "     width=\"24px\">\n",
       "    <g>\n",
       "        <path d=\"M19 3H5c-1.1 0-2 .9-2 2v14c0 1.1.9 2 2 2h14c1.1 0 2-.9 2-2V5c0-1.1-.9-2-2-2zM9 17H7v-7h2v7zm4 0h-2V7h2v10zm4 0h-2v-4h2v4z\"/>\n",
       "    </g>\n",
       "</svg>\n",
       "      </button>\n",
       "\n",
       "<style>\n",
       "  .colab-df-quickchart {\n",
       "      --bg-color: #E8F0FE;\n",
       "      --fill-color: #1967D2;\n",
       "      --hover-bg-color: #E2EBFA;\n",
       "      --hover-fill-color: #174EA6;\n",
       "      --disabled-fill-color: #AAA;\n",
       "      --disabled-bg-color: #DDD;\n",
       "  }\n",
       "\n",
       "  [theme=dark] .colab-df-quickchart {\n",
       "      --bg-color: #3B4455;\n",
       "      --fill-color: #D2E3FC;\n",
       "      --hover-bg-color: #434B5C;\n",
       "      --hover-fill-color: #FFFFFF;\n",
       "      --disabled-bg-color: #3B4455;\n",
       "      --disabled-fill-color: #666;\n",
       "  }\n",
       "\n",
       "  .colab-df-quickchart {\n",
       "    background-color: var(--bg-color);\n",
       "    border: none;\n",
       "    border-radius: 50%;\n",
       "    cursor: pointer;\n",
       "    display: none;\n",
       "    fill: var(--fill-color);\n",
       "    height: 32px;\n",
       "    padding: 0;\n",
       "    width: 32px;\n",
       "  }\n",
       "\n",
       "  .colab-df-quickchart:hover {\n",
       "    background-color: var(--hover-bg-color);\n",
       "    box-shadow: 0 1px 2px rgba(60, 64, 67, 0.3), 0 1px 3px 1px rgba(60, 64, 67, 0.15);\n",
       "    fill: var(--button-hover-fill-color);\n",
       "  }\n",
       "\n",
       "  .colab-df-quickchart-complete:disabled,\n",
       "  .colab-df-quickchart-complete:disabled:hover {\n",
       "    background-color: var(--disabled-bg-color);\n",
       "    fill: var(--disabled-fill-color);\n",
       "    box-shadow: none;\n",
       "  }\n",
       "\n",
       "  .colab-df-spinner {\n",
       "    border: 2px solid var(--fill-color);\n",
       "    border-color: transparent;\n",
       "    border-bottom-color: var(--fill-color);\n",
       "    animation:\n",
       "      spin 1s steps(1) infinite;\n",
       "  }\n",
       "\n",
       "  @keyframes spin {\n",
       "    0% {\n",
       "      border-color: transparent;\n",
       "      border-bottom-color: var(--fill-color);\n",
       "      border-left-color: var(--fill-color);\n",
       "    }\n",
       "    20% {\n",
       "      border-color: transparent;\n",
       "      border-left-color: var(--fill-color);\n",
       "      border-top-color: var(--fill-color);\n",
       "    }\n",
       "    30% {\n",
       "      border-color: transparent;\n",
       "      border-left-color: var(--fill-color);\n",
       "      border-top-color: var(--fill-color);\n",
       "      border-right-color: var(--fill-color);\n",
       "    }\n",
       "    40% {\n",
       "      border-color: transparent;\n",
       "      border-right-color: var(--fill-color);\n",
       "      border-top-color: var(--fill-color);\n",
       "    }\n",
       "    60% {\n",
       "      border-color: transparent;\n",
       "      border-right-color: var(--fill-color);\n",
       "    }\n",
       "    80% {\n",
       "      border-color: transparent;\n",
       "      border-right-color: var(--fill-color);\n",
       "      border-bottom-color: var(--fill-color);\n",
       "    }\n",
       "    90% {\n",
       "      border-color: transparent;\n",
       "      border-bottom-color: var(--fill-color);\n",
       "    }\n",
       "  }\n",
       "</style>\n",
       "\n",
       "      <script>\n",
       "        async function quickchart(key) {\n",
       "          const quickchartButtonEl =\n",
       "            document.querySelector('#' + key + ' button');\n",
       "          quickchartButtonEl.disabled = true;  // To prevent multiple clicks.\n",
       "          quickchartButtonEl.classList.add('colab-df-spinner');\n",
       "          try {\n",
       "            const charts = await google.colab.kernel.invokeFunction(\n",
       "                'suggestCharts', [key], {});\n",
       "          } catch (error) {\n",
       "            console.error('Error during call to suggestCharts:', error);\n",
       "          }\n",
       "          quickchartButtonEl.classList.remove('colab-df-spinner');\n",
       "          quickchartButtonEl.classList.add('colab-df-quickchart-complete');\n",
       "        }\n",
       "        (() => {\n",
       "          let quickchartButtonEl =\n",
       "            document.querySelector('#df-b0077117-e220-4dad-8f95-bca44409a6f1 button');\n",
       "          quickchartButtonEl.style.display =\n",
       "            google.colab.kernel.accessAllowed ? 'block' : 'none';\n",
       "        })();\n",
       "      </script>\n",
       "    </div>\n",
       "\n",
       "    </div>\n",
       "  </div>\n"
      ],
      "application/vnd.google.colaboratory.intrinsic+json": {
       "type": "dataframe",
       "variable_name": "df"
      }
     },
     "metadata": {},
     "execution_count": 5
    }
   ]
  },
  {
   "cell_type": "code",
   "source": [
    "df_test = pd.read_csv('/content/drive/MyDrive/Progetto_NLP/Dataset_label/testWithFeaturesAndEmbeddings.csv')\n",
    "df_test.head()"
   ],
   "metadata": {
    "colab": {
     "base_uri": "https://localhost:8080/",
     "height": 0
    },
    "id": "aM4iEQhtwz_k",
    "executionInfo": {
     "status": "ok",
     "timestamp": 1749482506596,
     "user_tz": -120,
     "elapsed": 17381,
     "user": {
      "displayName": "Annalaura Miglino",
      "userId": "03808724092990969006"
     }
    },
    "outputId": "555acbf7-fc1d-4e39-d255-ae59be8c8086"
   },
   "execution_count": 6,
   "outputs": [
    {
     "output_type": "execute_result",
     "data": {
      "text/plain": [
       "                                                text            topic  \\\n",
       "0                                   thank you! 🥹❤️❤️  Fashion & Style   \n",
       "1  The Next Chapter for NativeScript: nStudio by ...      Programming   \n",
       "2  lwj doesn't speak for longer than he would've ...     Social Media   \n",
       "3    The truth is \"a liberal reassurance narrative?\"       Journalism   \n",
       "4                                 Such a great film.      Movies & TV   \n",
       "\n",
       "  sentiment  length      topicWords  topicWordsCount  positiveCount  \\\n",
       "0  Positive       8              []                0              1   \n",
       "1   Neutral      17  ['javascript']                1              0   \n",
       "2  Negative      63              []                0              1   \n",
       "3   Neutral      10              []                0              1   \n",
       "4  Positive       5        ['film']                1              1   \n",
       "\n",
       "   negativeCount  hasNo   embed_0  ...  embed_374  embed_375  embed_376  \\\n",
       "0              0      0 -0.025975  ...  -0.019321   0.040424  -0.014585   \n",
       "1              0      0 -0.068502  ...   0.022137  -0.038811  -0.070492   \n",
       "2              0      0 -0.005183  ...  -0.002973   0.010910   0.036041   \n",
       "3              0      0  0.068206  ...   0.040749  -0.037523  -0.047591   \n",
       "4              0      0 -0.059131  ...   0.067459   0.010276   0.016515   \n",
       "\n",
       "   embed_377  embed_378  embed_379  embed_380  embed_381  embed_382  embed_383  \n",
       "0   0.038854   0.056717   0.119614   0.014514   0.120229  -0.027037   0.030239  \n",
       "1  -0.030029  -0.046116   0.002696  -0.022367   0.102057   0.002136   0.029075  \n",
       "2   0.007441  -0.064407  -0.065380   0.042773   0.007973  -0.001446   0.040114  \n",
       "3  -0.059627  -0.055182  -0.004068  -0.040202   0.042814   0.081529  -0.051749  \n",
       "4  -0.057109  -0.004752   0.025960   0.032027  -0.006660   0.000614   0.001283  \n",
       "\n",
       "[5 rows x 393 columns]"
      ],
      "text/html": [
       "\n",
       "  <div id=\"df-a6ea7162-424b-4ce7-b7a6-6d1f2ed6eccc\" class=\"colab-df-container\">\n",
       "    <div>\n",
       "<style scoped>\n",
       "    .dataframe tbody tr th:only-of-type {\n",
       "        vertical-align: middle;\n",
       "    }\n",
       "\n",
       "    .dataframe tbody tr th {\n",
       "        vertical-align: top;\n",
       "    }\n",
       "\n",
       "    .dataframe thead th {\n",
       "        text-align: right;\n",
       "    }\n",
       "</style>\n",
       "<table border=\"1\" class=\"dataframe\">\n",
       "  <thead>\n",
       "    <tr style=\"text-align: right;\">\n",
       "      <th></th>\n",
       "      <th>text</th>\n",
       "      <th>topic</th>\n",
       "      <th>sentiment</th>\n",
       "      <th>length</th>\n",
       "      <th>topicWords</th>\n",
       "      <th>topicWordsCount</th>\n",
       "      <th>positiveCount</th>\n",
       "      <th>negativeCount</th>\n",
       "      <th>hasNo</th>\n",
       "      <th>embed_0</th>\n",
       "      <th>...</th>\n",
       "      <th>embed_374</th>\n",
       "      <th>embed_375</th>\n",
       "      <th>embed_376</th>\n",
       "      <th>embed_377</th>\n",
       "      <th>embed_378</th>\n",
       "      <th>embed_379</th>\n",
       "      <th>embed_380</th>\n",
       "      <th>embed_381</th>\n",
       "      <th>embed_382</th>\n",
       "      <th>embed_383</th>\n",
       "    </tr>\n",
       "  </thead>\n",
       "  <tbody>\n",
       "    <tr>\n",
       "      <th>0</th>\n",
       "      <td>thank you! 🥹❤️❤️</td>\n",
       "      <td>Fashion &amp; Style</td>\n",
       "      <td>Positive</td>\n",
       "      <td>8</td>\n",
       "      <td>[]</td>\n",
       "      <td>0</td>\n",
       "      <td>1</td>\n",
       "      <td>0</td>\n",
       "      <td>0</td>\n",
       "      <td>-0.025975</td>\n",
       "      <td>...</td>\n",
       "      <td>-0.019321</td>\n",
       "      <td>0.040424</td>\n",
       "      <td>-0.014585</td>\n",
       "      <td>0.038854</td>\n",
       "      <td>0.056717</td>\n",
       "      <td>0.119614</td>\n",
       "      <td>0.014514</td>\n",
       "      <td>0.120229</td>\n",
       "      <td>-0.027037</td>\n",
       "      <td>0.030239</td>\n",
       "    </tr>\n",
       "    <tr>\n",
       "      <th>1</th>\n",
       "      <td>The Next Chapter for NativeScript: nStudio by ...</td>\n",
       "      <td>Programming</td>\n",
       "      <td>Neutral</td>\n",
       "      <td>17</td>\n",
       "      <td>['javascript']</td>\n",
       "      <td>1</td>\n",
       "      <td>0</td>\n",
       "      <td>0</td>\n",
       "      <td>0</td>\n",
       "      <td>-0.068502</td>\n",
       "      <td>...</td>\n",
       "      <td>0.022137</td>\n",
       "      <td>-0.038811</td>\n",
       "      <td>-0.070492</td>\n",
       "      <td>-0.030029</td>\n",
       "      <td>-0.046116</td>\n",
       "      <td>0.002696</td>\n",
       "      <td>-0.022367</td>\n",
       "      <td>0.102057</td>\n",
       "      <td>0.002136</td>\n",
       "      <td>0.029075</td>\n",
       "    </tr>\n",
       "    <tr>\n",
       "      <th>2</th>\n",
       "      <td>lwj doesn't speak for longer than he would've ...</td>\n",
       "      <td>Social Media</td>\n",
       "      <td>Negative</td>\n",
       "      <td>63</td>\n",
       "      <td>[]</td>\n",
       "      <td>0</td>\n",
       "      <td>1</td>\n",
       "      <td>0</td>\n",
       "      <td>0</td>\n",
       "      <td>-0.005183</td>\n",
       "      <td>...</td>\n",
       "      <td>-0.002973</td>\n",
       "      <td>0.010910</td>\n",
       "      <td>0.036041</td>\n",
       "      <td>0.007441</td>\n",
       "      <td>-0.064407</td>\n",
       "      <td>-0.065380</td>\n",
       "      <td>0.042773</td>\n",
       "      <td>0.007973</td>\n",
       "      <td>-0.001446</td>\n",
       "      <td>0.040114</td>\n",
       "    </tr>\n",
       "    <tr>\n",
       "      <th>3</th>\n",
       "      <td>The truth is \"a liberal reassurance narrative?\"</td>\n",
       "      <td>Journalism</td>\n",
       "      <td>Neutral</td>\n",
       "      <td>10</td>\n",
       "      <td>[]</td>\n",
       "      <td>0</td>\n",
       "      <td>1</td>\n",
       "      <td>0</td>\n",
       "      <td>0</td>\n",
       "      <td>0.068206</td>\n",
       "      <td>...</td>\n",
       "      <td>0.040749</td>\n",
       "      <td>-0.037523</td>\n",
       "      <td>-0.047591</td>\n",
       "      <td>-0.059627</td>\n",
       "      <td>-0.055182</td>\n",
       "      <td>-0.004068</td>\n",
       "      <td>-0.040202</td>\n",
       "      <td>0.042814</td>\n",
       "      <td>0.081529</td>\n",
       "      <td>-0.051749</td>\n",
       "    </tr>\n",
       "    <tr>\n",
       "      <th>4</th>\n",
       "      <td>Such a great film.</td>\n",
       "      <td>Movies &amp; TV</td>\n",
       "      <td>Positive</td>\n",
       "      <td>5</td>\n",
       "      <td>['film']</td>\n",
       "      <td>1</td>\n",
       "      <td>1</td>\n",
       "      <td>0</td>\n",
       "      <td>0</td>\n",
       "      <td>-0.059131</td>\n",
       "      <td>...</td>\n",
       "      <td>0.067459</td>\n",
       "      <td>0.010276</td>\n",
       "      <td>0.016515</td>\n",
       "      <td>-0.057109</td>\n",
       "      <td>-0.004752</td>\n",
       "      <td>0.025960</td>\n",
       "      <td>0.032027</td>\n",
       "      <td>-0.006660</td>\n",
       "      <td>0.000614</td>\n",
       "      <td>0.001283</td>\n",
       "    </tr>\n",
       "  </tbody>\n",
       "</table>\n",
       "<p>5 rows × 393 columns</p>\n",
       "</div>\n",
       "    <div class=\"colab-df-buttons\">\n",
       "\n",
       "  <div class=\"colab-df-container\">\n",
       "    <button class=\"colab-df-convert\" onclick=\"convertToInteractive('df-a6ea7162-424b-4ce7-b7a6-6d1f2ed6eccc')\"\n",
       "            title=\"Convert this dataframe to an interactive table.\"\n",
       "            style=\"display:none;\">\n",
       "\n",
       "  <svg xmlns=\"http://www.w3.org/2000/svg\" height=\"24px\" viewBox=\"0 -960 960 960\">\n",
       "    <path d=\"M120-120v-720h720v720H120Zm60-500h600v-160H180v160Zm220 220h160v-160H400v160Zm0 220h160v-160H400v160ZM180-400h160v-160H180v160Zm440 0h160v-160H620v160ZM180-180h160v-160H180v160Zm440 0h160v-160H620v160Z\"/>\n",
       "  </svg>\n",
       "    </button>\n",
       "\n",
       "  <style>\n",
       "    .colab-df-container {\n",
       "      display:flex;\n",
       "      gap: 12px;\n",
       "    }\n",
       "\n",
       "    .colab-df-convert {\n",
       "      background-color: #E8F0FE;\n",
       "      border: none;\n",
       "      border-radius: 50%;\n",
       "      cursor: pointer;\n",
       "      display: none;\n",
       "      fill: #1967D2;\n",
       "      height: 32px;\n",
       "      padding: 0 0 0 0;\n",
       "      width: 32px;\n",
       "    }\n",
       "\n",
       "    .colab-df-convert:hover {\n",
       "      background-color: #E2EBFA;\n",
       "      box-shadow: 0px 1px 2px rgba(60, 64, 67, 0.3), 0px 1px 3px 1px rgba(60, 64, 67, 0.15);\n",
       "      fill: #174EA6;\n",
       "    }\n",
       "\n",
       "    .colab-df-buttons div {\n",
       "      margin-bottom: 4px;\n",
       "    }\n",
       "\n",
       "    [theme=dark] .colab-df-convert {\n",
       "      background-color: #3B4455;\n",
       "      fill: #D2E3FC;\n",
       "    }\n",
       "\n",
       "    [theme=dark] .colab-df-convert:hover {\n",
       "      background-color: #434B5C;\n",
       "      box-shadow: 0px 1px 3px 1px rgba(0, 0, 0, 0.15);\n",
       "      filter: drop-shadow(0px 1px 2px rgba(0, 0, 0, 0.3));\n",
       "      fill: #FFFFFF;\n",
       "    }\n",
       "  </style>\n",
       "\n",
       "    <script>\n",
       "      const buttonEl =\n",
       "        document.querySelector('#df-a6ea7162-424b-4ce7-b7a6-6d1f2ed6eccc button.colab-df-convert');\n",
       "      buttonEl.style.display =\n",
       "        google.colab.kernel.accessAllowed ? 'block' : 'none';\n",
       "\n",
       "      async function convertToInteractive(key) {\n",
       "        const element = document.querySelector('#df-a6ea7162-424b-4ce7-b7a6-6d1f2ed6eccc');\n",
       "        const dataTable =\n",
       "          await google.colab.kernel.invokeFunction('convertToInteractive',\n",
       "                                                    [key], {});\n",
       "        if (!dataTable) return;\n",
       "\n",
       "        const docLinkHtml = 'Like what you see? Visit the ' +\n",
       "          '<a target=\"_blank\" href=https://colab.research.google.com/notebooks/data_table.ipynb>data table notebook</a>'\n",
       "          + ' to learn more about interactive tables.';\n",
       "        element.innerHTML = '';\n",
       "        dataTable['output_type'] = 'display_data';\n",
       "        await google.colab.output.renderOutput(dataTable, element);\n",
       "        const docLink = document.createElement('div');\n",
       "        docLink.innerHTML = docLinkHtml;\n",
       "        element.appendChild(docLink);\n",
       "      }\n",
       "    </script>\n",
       "  </div>\n",
       "\n",
       "\n",
       "    <div id=\"df-f144bf93-92d2-45a9-aceb-ba446da5fc86\">\n",
       "      <button class=\"colab-df-quickchart\" onclick=\"quickchart('df-f144bf93-92d2-45a9-aceb-ba446da5fc86')\"\n",
       "                title=\"Suggest charts\"\n",
       "                style=\"display:none;\">\n",
       "\n",
       "<svg xmlns=\"http://www.w3.org/2000/svg\" height=\"24px\"viewBox=\"0 0 24 24\"\n",
       "     width=\"24px\">\n",
       "    <g>\n",
       "        <path d=\"M19 3H5c-1.1 0-2 .9-2 2v14c0 1.1.9 2 2 2h14c1.1 0 2-.9 2-2V5c0-1.1-.9-2-2-2zM9 17H7v-7h2v7zm4 0h-2V7h2v10zm4 0h-2v-4h2v4z\"/>\n",
       "    </g>\n",
       "</svg>\n",
       "      </button>\n",
       "\n",
       "<style>\n",
       "  .colab-df-quickchart {\n",
       "      --bg-color: #E8F0FE;\n",
       "      --fill-color: #1967D2;\n",
       "      --hover-bg-color: #E2EBFA;\n",
       "      --hover-fill-color: #174EA6;\n",
       "      --disabled-fill-color: #AAA;\n",
       "      --disabled-bg-color: #DDD;\n",
       "  }\n",
       "\n",
       "  [theme=dark] .colab-df-quickchart {\n",
       "      --bg-color: #3B4455;\n",
       "      --fill-color: #D2E3FC;\n",
       "      --hover-bg-color: #434B5C;\n",
       "      --hover-fill-color: #FFFFFF;\n",
       "      --disabled-bg-color: #3B4455;\n",
       "      --disabled-fill-color: #666;\n",
       "  }\n",
       "\n",
       "  .colab-df-quickchart {\n",
       "    background-color: var(--bg-color);\n",
       "    border: none;\n",
       "    border-radius: 50%;\n",
       "    cursor: pointer;\n",
       "    display: none;\n",
       "    fill: var(--fill-color);\n",
       "    height: 32px;\n",
       "    padding: 0;\n",
       "    width: 32px;\n",
       "  }\n",
       "\n",
       "  .colab-df-quickchart:hover {\n",
       "    background-color: var(--hover-bg-color);\n",
       "    box-shadow: 0 1px 2px rgba(60, 64, 67, 0.3), 0 1px 3px 1px rgba(60, 64, 67, 0.15);\n",
       "    fill: var(--button-hover-fill-color);\n",
       "  }\n",
       "\n",
       "  .colab-df-quickchart-complete:disabled,\n",
       "  .colab-df-quickchart-complete:disabled:hover {\n",
       "    background-color: var(--disabled-bg-color);\n",
       "    fill: var(--disabled-fill-color);\n",
       "    box-shadow: none;\n",
       "  }\n",
       "\n",
       "  .colab-df-spinner {\n",
       "    border: 2px solid var(--fill-color);\n",
       "    border-color: transparent;\n",
       "    border-bottom-color: var(--fill-color);\n",
       "    animation:\n",
       "      spin 1s steps(1) infinite;\n",
       "  }\n",
       "\n",
       "  @keyframes spin {\n",
       "    0% {\n",
       "      border-color: transparent;\n",
       "      border-bottom-color: var(--fill-color);\n",
       "      border-left-color: var(--fill-color);\n",
       "    }\n",
       "    20% {\n",
       "      border-color: transparent;\n",
       "      border-left-color: var(--fill-color);\n",
       "      border-top-color: var(--fill-color);\n",
       "    }\n",
       "    30% {\n",
       "      border-color: transparent;\n",
       "      border-left-color: var(--fill-color);\n",
       "      border-top-color: var(--fill-color);\n",
       "      border-right-color: var(--fill-color);\n",
       "    }\n",
       "    40% {\n",
       "      border-color: transparent;\n",
       "      border-right-color: var(--fill-color);\n",
       "      border-top-color: var(--fill-color);\n",
       "    }\n",
       "    60% {\n",
       "      border-color: transparent;\n",
       "      border-right-color: var(--fill-color);\n",
       "    }\n",
       "    80% {\n",
       "      border-color: transparent;\n",
       "      border-right-color: var(--fill-color);\n",
       "      border-bottom-color: var(--fill-color);\n",
       "    }\n",
       "    90% {\n",
       "      border-color: transparent;\n",
       "      border-bottom-color: var(--fill-color);\n",
       "    }\n",
       "  }\n",
       "</style>\n",
       "\n",
       "      <script>\n",
       "        async function quickchart(key) {\n",
       "          const quickchartButtonEl =\n",
       "            document.querySelector('#' + key + ' button');\n",
       "          quickchartButtonEl.disabled = true;  // To prevent multiple clicks.\n",
       "          quickchartButtonEl.classList.add('colab-df-spinner');\n",
       "          try {\n",
       "            const charts = await google.colab.kernel.invokeFunction(\n",
       "                'suggestCharts', [key], {});\n",
       "          } catch (error) {\n",
       "            console.error('Error during call to suggestCharts:', error);\n",
       "          }\n",
       "          quickchartButtonEl.classList.remove('colab-df-spinner');\n",
       "          quickchartButtonEl.classList.add('colab-df-quickchart-complete');\n",
       "        }\n",
       "        (() => {\n",
       "          let quickchartButtonEl =\n",
       "            document.querySelector('#df-f144bf93-92d2-45a9-aceb-ba446da5fc86 button');\n",
       "          quickchartButtonEl.style.display =\n",
       "            google.colab.kernel.accessAllowed ? 'block' : 'none';\n",
       "        })();\n",
       "      </script>\n",
       "    </div>\n",
       "\n",
       "    </div>\n",
       "  </div>\n"
      ],
      "application/vnd.google.colaboratory.intrinsic+json": {
       "type": "dataframe",
       "variable_name": "df_test"
      }
     },
     "metadata": {},
     "execution_count": 6
    }
   ]
  },
  {
   "cell_type": "code",
   "source": [
    "df_val = pd.read_csv('/content/drive/MyDrive/Progetto_NLP/Dataset_label/validationWithFeaturesAndEmbeddings.csv')\n",
    "df_val.head()"
   ],
   "metadata": {
    "colab": {
     "base_uri": "https://localhost:8080/",
     "height": 0
    },
    "id": "N_L5OLSRxMWJ",
    "executionInfo": {
     "status": "ok",
     "timestamp": 1749482523520,
     "user_tz": -120,
     "elapsed": 16926,
     "user": {
      "displayName": "Annalaura Miglino",
      "userId": "03808724092990969006"
     }
    },
    "outputId": "86c6eca9-ed28-4de2-a95c-04cf7d2b8730"
   },
   "execution_count": 7,
   "outputs": [
    {
     "output_type": "execute_result",
     "data": {
      "text/plain": [
       "                                                text               topic  \\\n",
       "0  Quick plug on this new platform for some of my...        Social Media   \n",
       "1                                     ok whatthefuck              Gaming   \n",
       "2  Paketocas https://twitter.com/324cat/status/16...        Social Media   \n",
       "3  All that dreaming 😴 of food has exhausted her ...  General Activities   \n",
       "4  this is def the Mental Illness™ talking but i ...       Mental Health   \n",
       "\n",
       "  sentiment  length topicWords  topicWordsCount  positiveCount  negativeCount  \\\n",
       "0   Neutral      52         []                0              1              2   \n",
       "1   Neutral       2         []                0              0              0   \n",
       "2   Neutral       2         []                0              0              0   \n",
       "3  Positive      17         []                0              0              1   \n",
       "4   Neutral      20         []                0              2              1   \n",
       "\n",
       "   hasNo   embed_0  ...  embed_374  embed_375  embed_376  embed_377  \\\n",
       "0      0 -0.065827  ...  -0.004585  -0.058114   0.033320   0.102114   \n",
       "1      0  0.001517  ...   0.112817  -0.007861   0.016383   0.031305   \n",
       "2      0 -0.062472  ...   0.017665   0.009573  -0.017845  -0.084442   \n",
       "3      0  0.047092  ...   0.013538  -0.036066   0.028027  -0.020379   \n",
       "4      0 -0.024350  ...   0.058399   0.049774   0.031252   0.007518   \n",
       "\n",
       "   embed_378  embed_379  embed_380  embed_381  embed_382  embed_383  \n",
       "0  -0.053937   0.087153   0.105939  -0.026751  -0.048552   0.044566  \n",
       "1  -0.021063   0.024053  -0.002595   0.020050   0.092061  -0.033776  \n",
       "2   0.014240  -0.030893   0.067415   0.004409   0.036922  -0.007215  \n",
       "3  -0.030251   0.096698   0.068467   0.015141  -0.089595   0.007898  \n",
       "4  -0.061681   0.016520   0.101300   0.105141   0.010822  -0.024825  \n",
       "\n",
       "[5 rows x 393 columns]"
      ],
      "text/html": [
       "\n",
       "  <div id=\"df-faefa48c-ddbc-4c5d-96f7-d707309d6592\" class=\"colab-df-container\">\n",
       "    <div>\n",
       "<style scoped>\n",
       "    .dataframe tbody tr th:only-of-type {\n",
       "        vertical-align: middle;\n",
       "    }\n",
       "\n",
       "    .dataframe tbody tr th {\n",
       "        vertical-align: top;\n",
       "    }\n",
       "\n",
       "    .dataframe thead th {\n",
       "        text-align: right;\n",
       "    }\n",
       "</style>\n",
       "<table border=\"1\" class=\"dataframe\">\n",
       "  <thead>\n",
       "    <tr style=\"text-align: right;\">\n",
       "      <th></th>\n",
       "      <th>text</th>\n",
       "      <th>topic</th>\n",
       "      <th>sentiment</th>\n",
       "      <th>length</th>\n",
       "      <th>topicWords</th>\n",
       "      <th>topicWordsCount</th>\n",
       "      <th>positiveCount</th>\n",
       "      <th>negativeCount</th>\n",
       "      <th>hasNo</th>\n",
       "      <th>embed_0</th>\n",
       "      <th>...</th>\n",
       "      <th>embed_374</th>\n",
       "      <th>embed_375</th>\n",
       "      <th>embed_376</th>\n",
       "      <th>embed_377</th>\n",
       "      <th>embed_378</th>\n",
       "      <th>embed_379</th>\n",
       "      <th>embed_380</th>\n",
       "      <th>embed_381</th>\n",
       "      <th>embed_382</th>\n",
       "      <th>embed_383</th>\n",
       "    </tr>\n",
       "  </thead>\n",
       "  <tbody>\n",
       "    <tr>\n",
       "      <th>0</th>\n",
       "      <td>Quick plug on this new platform for some of my...</td>\n",
       "      <td>Social Media</td>\n",
       "      <td>Neutral</td>\n",
       "      <td>52</td>\n",
       "      <td>[]</td>\n",
       "      <td>0</td>\n",
       "      <td>1</td>\n",
       "      <td>2</td>\n",
       "      <td>0</td>\n",
       "      <td>-0.065827</td>\n",
       "      <td>...</td>\n",
       "      <td>-0.004585</td>\n",
       "      <td>-0.058114</td>\n",
       "      <td>0.033320</td>\n",
       "      <td>0.102114</td>\n",
       "      <td>-0.053937</td>\n",
       "      <td>0.087153</td>\n",
       "      <td>0.105939</td>\n",
       "      <td>-0.026751</td>\n",
       "      <td>-0.048552</td>\n",
       "      <td>0.044566</td>\n",
       "    </tr>\n",
       "    <tr>\n",
       "      <th>1</th>\n",
       "      <td>ok whatthefuck</td>\n",
       "      <td>Gaming</td>\n",
       "      <td>Neutral</td>\n",
       "      <td>2</td>\n",
       "      <td>[]</td>\n",
       "      <td>0</td>\n",
       "      <td>0</td>\n",
       "      <td>0</td>\n",
       "      <td>0</td>\n",
       "      <td>0.001517</td>\n",
       "      <td>...</td>\n",
       "      <td>0.112817</td>\n",
       "      <td>-0.007861</td>\n",
       "      <td>0.016383</td>\n",
       "      <td>0.031305</td>\n",
       "      <td>-0.021063</td>\n",
       "      <td>0.024053</td>\n",
       "      <td>-0.002595</td>\n",
       "      <td>0.020050</td>\n",
       "      <td>0.092061</td>\n",
       "      <td>-0.033776</td>\n",
       "    </tr>\n",
       "    <tr>\n",
       "      <th>2</th>\n",
       "      <td>Paketocas https://twitter.com/324cat/status/16...</td>\n",
       "      <td>Social Media</td>\n",
       "      <td>Neutral</td>\n",
       "      <td>2</td>\n",
       "      <td>[]</td>\n",
       "      <td>0</td>\n",
       "      <td>0</td>\n",
       "      <td>0</td>\n",
       "      <td>0</td>\n",
       "      <td>-0.062472</td>\n",
       "      <td>...</td>\n",
       "      <td>0.017665</td>\n",
       "      <td>0.009573</td>\n",
       "      <td>-0.017845</td>\n",
       "      <td>-0.084442</td>\n",
       "      <td>0.014240</td>\n",
       "      <td>-0.030893</td>\n",
       "      <td>0.067415</td>\n",
       "      <td>0.004409</td>\n",
       "      <td>0.036922</td>\n",
       "      <td>-0.007215</td>\n",
       "    </tr>\n",
       "    <tr>\n",
       "      <th>3</th>\n",
       "      <td>All that dreaming 😴 of food has exhausted her ...</td>\n",
       "      <td>General Activities</td>\n",
       "      <td>Positive</td>\n",
       "      <td>17</td>\n",
       "      <td>[]</td>\n",
       "      <td>0</td>\n",
       "      <td>0</td>\n",
       "      <td>1</td>\n",
       "      <td>0</td>\n",
       "      <td>0.047092</td>\n",
       "      <td>...</td>\n",
       "      <td>0.013538</td>\n",
       "      <td>-0.036066</td>\n",
       "      <td>0.028027</td>\n",
       "      <td>-0.020379</td>\n",
       "      <td>-0.030251</td>\n",
       "      <td>0.096698</td>\n",
       "      <td>0.068467</td>\n",
       "      <td>0.015141</td>\n",
       "      <td>-0.089595</td>\n",
       "      <td>0.007898</td>\n",
       "    </tr>\n",
       "    <tr>\n",
       "      <th>4</th>\n",
       "      <td>this is def the Mental Illness™ talking but i ...</td>\n",
       "      <td>Mental Health</td>\n",
       "      <td>Neutral</td>\n",
       "      <td>20</td>\n",
       "      <td>[]</td>\n",
       "      <td>0</td>\n",
       "      <td>2</td>\n",
       "      <td>1</td>\n",
       "      <td>0</td>\n",
       "      <td>-0.024350</td>\n",
       "      <td>...</td>\n",
       "      <td>0.058399</td>\n",
       "      <td>0.049774</td>\n",
       "      <td>0.031252</td>\n",
       "      <td>0.007518</td>\n",
       "      <td>-0.061681</td>\n",
       "      <td>0.016520</td>\n",
       "      <td>0.101300</td>\n",
       "      <td>0.105141</td>\n",
       "      <td>0.010822</td>\n",
       "      <td>-0.024825</td>\n",
       "    </tr>\n",
       "  </tbody>\n",
       "</table>\n",
       "<p>5 rows × 393 columns</p>\n",
       "</div>\n",
       "    <div class=\"colab-df-buttons\">\n",
       "\n",
       "  <div class=\"colab-df-container\">\n",
       "    <button class=\"colab-df-convert\" onclick=\"convertToInteractive('df-faefa48c-ddbc-4c5d-96f7-d707309d6592')\"\n",
       "            title=\"Convert this dataframe to an interactive table.\"\n",
       "            style=\"display:none;\">\n",
       "\n",
       "  <svg xmlns=\"http://www.w3.org/2000/svg\" height=\"24px\" viewBox=\"0 -960 960 960\">\n",
       "    <path d=\"M120-120v-720h720v720H120Zm60-500h600v-160H180v160Zm220 220h160v-160H400v160Zm0 220h160v-160H400v160ZM180-400h160v-160H180v160Zm440 0h160v-160H620v160ZM180-180h160v-160H180v160Zm440 0h160v-160H620v160Z\"/>\n",
       "  </svg>\n",
       "    </button>\n",
       "\n",
       "  <style>\n",
       "    .colab-df-container {\n",
       "      display:flex;\n",
       "      gap: 12px;\n",
       "    }\n",
       "\n",
       "    .colab-df-convert {\n",
       "      background-color: #E8F0FE;\n",
       "      border: none;\n",
       "      border-radius: 50%;\n",
       "      cursor: pointer;\n",
       "      display: none;\n",
       "      fill: #1967D2;\n",
       "      height: 32px;\n",
       "      padding: 0 0 0 0;\n",
       "      width: 32px;\n",
       "    }\n",
       "\n",
       "    .colab-df-convert:hover {\n",
       "      background-color: #E2EBFA;\n",
       "      box-shadow: 0px 1px 2px rgba(60, 64, 67, 0.3), 0px 1px 3px 1px rgba(60, 64, 67, 0.15);\n",
       "      fill: #174EA6;\n",
       "    }\n",
       "\n",
       "    .colab-df-buttons div {\n",
       "      margin-bottom: 4px;\n",
       "    }\n",
       "\n",
       "    [theme=dark] .colab-df-convert {\n",
       "      background-color: #3B4455;\n",
       "      fill: #D2E3FC;\n",
       "    }\n",
       "\n",
       "    [theme=dark] .colab-df-convert:hover {\n",
       "      background-color: #434B5C;\n",
       "      box-shadow: 0px 1px 3px 1px rgba(0, 0, 0, 0.15);\n",
       "      filter: drop-shadow(0px 1px 2px rgba(0, 0, 0, 0.3));\n",
       "      fill: #FFFFFF;\n",
       "    }\n",
       "  </style>\n",
       "\n",
       "    <script>\n",
       "      const buttonEl =\n",
       "        document.querySelector('#df-faefa48c-ddbc-4c5d-96f7-d707309d6592 button.colab-df-convert');\n",
       "      buttonEl.style.display =\n",
       "        google.colab.kernel.accessAllowed ? 'block' : 'none';\n",
       "\n",
       "      async function convertToInteractive(key) {\n",
       "        const element = document.querySelector('#df-faefa48c-ddbc-4c5d-96f7-d707309d6592');\n",
       "        const dataTable =\n",
       "          await google.colab.kernel.invokeFunction('convertToInteractive',\n",
       "                                                    [key], {});\n",
       "        if (!dataTable) return;\n",
       "\n",
       "        const docLinkHtml = 'Like what you see? Visit the ' +\n",
       "          '<a target=\"_blank\" href=https://colab.research.google.com/notebooks/data_table.ipynb>data table notebook</a>'\n",
       "          + ' to learn more about interactive tables.';\n",
       "        element.innerHTML = '';\n",
       "        dataTable['output_type'] = 'display_data';\n",
       "        await google.colab.output.renderOutput(dataTable, element);\n",
       "        const docLink = document.createElement('div');\n",
       "        docLink.innerHTML = docLinkHtml;\n",
       "        element.appendChild(docLink);\n",
       "      }\n",
       "    </script>\n",
       "  </div>\n",
       "\n",
       "\n",
       "    <div id=\"df-1e360979-7f93-4e30-bb0f-10a4bdb65853\">\n",
       "      <button class=\"colab-df-quickchart\" onclick=\"quickchart('df-1e360979-7f93-4e30-bb0f-10a4bdb65853')\"\n",
       "                title=\"Suggest charts\"\n",
       "                style=\"display:none;\">\n",
       "\n",
       "<svg xmlns=\"http://www.w3.org/2000/svg\" height=\"24px\"viewBox=\"0 0 24 24\"\n",
       "     width=\"24px\">\n",
       "    <g>\n",
       "        <path d=\"M19 3H5c-1.1 0-2 .9-2 2v14c0 1.1.9 2 2 2h14c1.1 0 2-.9 2-2V5c0-1.1-.9-2-2-2zM9 17H7v-7h2v7zm4 0h-2V7h2v10zm4 0h-2v-4h2v4z\"/>\n",
       "    </g>\n",
       "</svg>\n",
       "      </button>\n",
       "\n",
       "<style>\n",
       "  .colab-df-quickchart {\n",
       "      --bg-color: #E8F0FE;\n",
       "      --fill-color: #1967D2;\n",
       "      --hover-bg-color: #E2EBFA;\n",
       "      --hover-fill-color: #174EA6;\n",
       "      --disabled-fill-color: #AAA;\n",
       "      --disabled-bg-color: #DDD;\n",
       "  }\n",
       "\n",
       "  [theme=dark] .colab-df-quickchart {\n",
       "      --bg-color: #3B4455;\n",
       "      --fill-color: #D2E3FC;\n",
       "      --hover-bg-color: #434B5C;\n",
       "      --hover-fill-color: #FFFFFF;\n",
       "      --disabled-bg-color: #3B4455;\n",
       "      --disabled-fill-color: #666;\n",
       "  }\n",
       "\n",
       "  .colab-df-quickchart {\n",
       "    background-color: var(--bg-color);\n",
       "    border: none;\n",
       "    border-radius: 50%;\n",
       "    cursor: pointer;\n",
       "    display: none;\n",
       "    fill: var(--fill-color);\n",
       "    height: 32px;\n",
       "    padding: 0;\n",
       "    width: 32px;\n",
       "  }\n",
       "\n",
       "  .colab-df-quickchart:hover {\n",
       "    background-color: var(--hover-bg-color);\n",
       "    box-shadow: 0 1px 2px rgba(60, 64, 67, 0.3), 0 1px 3px 1px rgba(60, 64, 67, 0.15);\n",
       "    fill: var(--button-hover-fill-color);\n",
       "  }\n",
       "\n",
       "  .colab-df-quickchart-complete:disabled,\n",
       "  .colab-df-quickchart-complete:disabled:hover {\n",
       "    background-color: var(--disabled-bg-color);\n",
       "    fill: var(--disabled-fill-color);\n",
       "    box-shadow: none;\n",
       "  }\n",
       "\n",
       "  .colab-df-spinner {\n",
       "    border: 2px solid var(--fill-color);\n",
       "    border-color: transparent;\n",
       "    border-bottom-color: var(--fill-color);\n",
       "    animation:\n",
       "      spin 1s steps(1) infinite;\n",
       "  }\n",
       "\n",
       "  @keyframes spin {\n",
       "    0% {\n",
       "      border-color: transparent;\n",
       "      border-bottom-color: var(--fill-color);\n",
       "      border-left-color: var(--fill-color);\n",
       "    }\n",
       "    20% {\n",
       "      border-color: transparent;\n",
       "      border-left-color: var(--fill-color);\n",
       "      border-top-color: var(--fill-color);\n",
       "    }\n",
       "    30% {\n",
       "      border-color: transparent;\n",
       "      border-left-color: var(--fill-color);\n",
       "      border-top-color: var(--fill-color);\n",
       "      border-right-color: var(--fill-color);\n",
       "    }\n",
       "    40% {\n",
       "      border-color: transparent;\n",
       "      border-right-color: var(--fill-color);\n",
       "      border-top-color: var(--fill-color);\n",
       "    }\n",
       "    60% {\n",
       "      border-color: transparent;\n",
       "      border-right-color: var(--fill-color);\n",
       "    }\n",
       "    80% {\n",
       "      border-color: transparent;\n",
       "      border-right-color: var(--fill-color);\n",
       "      border-bottom-color: var(--fill-color);\n",
       "    }\n",
       "    90% {\n",
       "      border-color: transparent;\n",
       "      border-bottom-color: var(--fill-color);\n",
       "    }\n",
       "  }\n",
       "</style>\n",
       "\n",
       "      <script>\n",
       "        async function quickchart(key) {\n",
       "          const quickchartButtonEl =\n",
       "            document.querySelector('#' + key + ' button');\n",
       "          quickchartButtonEl.disabled = true;  // To prevent multiple clicks.\n",
       "          quickchartButtonEl.classList.add('colab-df-spinner');\n",
       "          try {\n",
       "            const charts = await google.colab.kernel.invokeFunction(\n",
       "                'suggestCharts', [key], {});\n",
       "          } catch (error) {\n",
       "            console.error('Error during call to suggestCharts:', error);\n",
       "          }\n",
       "          quickchartButtonEl.classList.remove('colab-df-spinner');\n",
       "          quickchartButtonEl.classList.add('colab-df-quickchart-complete');\n",
       "        }\n",
       "        (() => {\n",
       "          let quickchartButtonEl =\n",
       "            document.querySelector('#df-1e360979-7f93-4e30-bb0f-10a4bdb65853 button');\n",
       "          quickchartButtonEl.style.display =\n",
       "            google.colab.kernel.accessAllowed ? 'block' : 'none';\n",
       "        })();\n",
       "      </script>\n",
       "    </div>\n",
       "\n",
       "    </div>\n",
       "  </div>\n"
      ],
      "application/vnd.google.colaboratory.intrinsic+json": {
       "type": "dataframe",
       "variable_name": "df_val"
      }
     },
     "metadata": {},
     "execution_count": 7
    }
   ]
  },
  {
   "cell_type": "markdown",
   "source": [
    "##Preprocessing"
   ],
   "metadata": {
    "id": "YqgGIyN3aMJk"
   }
  },
  {
   "cell_type": "code",
   "source": [
    "df.info()"
   ],
   "metadata": {
    "colab": {
     "base_uri": "https://localhost:8080/"
    },
    "collapsed": true,
    "id": "SYDI4Jh4x3eV",
    "executionInfo": {
     "status": "ok",
     "timestamp": 1749482523590,
     "user_tz": -120,
     "elapsed": 66,
     "user": {
      "displayName": "Annalaura Miglino",
      "userId": "03808724092990969006"
     }
    },
    "outputId": "b989306e-3026-41c7-9d3b-c4cf10d3a91e"
   },
   "execution_count": 8,
   "outputs": [
    {
     "output_type": "stream",
     "name": "stdout",
     "text": [
      "<class 'pandas.core.frame.DataFrame'>\n",
      "RangeIndex: 854596 entries, 0 to 854595\n",
      "Columns: 393 entries, text to embed_383\n",
      "dtypes: float64(384), int64(5), object(4)\n",
      "memory usage: 2.5+ GB\n"
     ]
    }
   ]
  },
  {
   "cell_type": "code",
   "source": [
    "df.keys()"
   ],
   "metadata": {
    "id": "TKW3HB5TaObu",
    "colab": {
     "base_uri": "https://localhost:8080/"
    },
    "collapsed": true,
    "executionInfo": {
     "status": "ok",
     "timestamp": 1749482523602,
     "user_tz": -120,
     "elapsed": 10,
     "user": {
      "displayName": "Annalaura Miglino",
      "userId": "03808724092990969006"
     }
    },
    "outputId": "9a2be14b-aa3c-4772-dece-7c8b11d19287"
   },
   "execution_count": 9,
   "outputs": [
    {
     "output_type": "execute_result",
     "data": {
      "text/plain": [
       "Index(['text', 'topic', 'sentiment', 'length', 'topicWords', 'topicWordsCount',\n",
       "       'positiveCount', 'negativeCount', 'hasNo', 'embed_0',\n",
       "       ...\n",
       "       'embed_374', 'embed_375', 'embed_376', 'embed_377', 'embed_378',\n",
       "       'embed_379', 'embed_380', 'embed_381', 'embed_382', 'embed_383'],\n",
       "      dtype='object', length=393)"
      ]
     },
     "metadata": {},
     "execution_count": 9
    }
   ]
  },
  {
   "cell_type": "code",
   "source": [
    "df = df.dropna(subset=['text', 'topic', 'sentiment', 'length', 'topicWords', 'topicWordsCount', 'positiveCount', 'negativeCount', 'hasNo'])\n",
    "df.info()"
   ],
   "metadata": {
    "colab": {
     "base_uri": "https://localhost:8080/"
    },
    "collapsed": true,
    "id": "B2ajtoECyE_O",
    "executionInfo": {
     "status": "ok",
     "timestamp": 1749482524841,
     "user_tz": -120,
     "elapsed": 1229,
     "user": {
      "displayName": "Annalaura Miglino",
      "userId": "03808724092990969006"
     }
    },
    "outputId": "ff8d4a24-cb02-4e4a-cf7a-85c18930a25a"
   },
   "execution_count": 10,
   "outputs": [
    {
     "output_type": "stream",
     "name": "stdout",
     "text": [
      "<class 'pandas.core.frame.DataFrame'>\n",
      "Index: 854577 entries, 0 to 854595\n",
      "Columns: 393 entries, text to embed_383\n",
      "dtypes: float64(384), int64(5), object(4)\n",
      "memory usage: 2.5+ GB\n"
     ]
    }
   ]
  },
  {
   "cell_type": "code",
   "source": [
    "df_val = df_val.dropna(subset=['text', 'topic', 'sentiment', 'length', 'topicWords', 'topicWordsCount', 'positiveCount', 'negativeCount', 'hasNo'])\n",
    "df_test = df_test.dropna(subset=['text', 'topic', 'sentiment', 'length', 'topicWords', 'topicWordsCount', 'positiveCount', 'negativeCount', 'hasNo'])"
   ],
   "metadata": {
    "id": "vQ8NuD3P2Vac",
    "executionInfo": {
     "status": "ok",
     "timestamp": 1749482525349,
     "user_tz": -120,
     "elapsed": 506,
     "user": {
      "displayName": "Annalaura Miglino",
      "userId": "03808724092990969006"
     }
    }
   },
   "execution_count": 11,
   "outputs": []
  },
  {
   "cell_type": "code",
   "source": [
    "STOPWORDS_EN    = set(stopwords.words('english'))\n",
    "NEGATION_WORDS = {\"n't\", \"not\", \"no\", \"never\"}\n",
    "PUNCTUATION    = set(string.punctuation)\n",
    "LEMMATIZER     = WordNetLemmatizer()"
   ],
   "metadata": {
    "id": "CbwZ9GiF01sl",
    "executionInfo": {
     "status": "ok",
     "timestamp": 1749482525354,
     "user_tz": -120,
     "elapsed": 3,
     "user": {
      "displayName": "Annalaura Miglino",
      "userId": "03808724092990969006"
     }
    }
   },
   "execution_count": 12,
   "outputs": []
  },
  {
   "cell_type": "code",
   "source": [
    "def normalize_text(text, lemmatizer, lemmatizer_func=\"lemmatize\"):\n",
    "  text = text.lower()\n",
    "  tokens = word_tokenize(text)\n",
    "  lemmatize = getattr(lemmatizer, lemmatizer_func)\n",
    "  normalized = []\n",
    "\n",
    "  prefix_NOT = False\n",
    "  for token in tokens:\n",
    "    if token in NEGATION_WORDS:\n",
    "      prefix_NOT = True\n",
    "      normalized.append(token)\n",
    "      continue\n",
    "\n",
    "    if token in PUNCTUATION:\n",
    "      prefix_NOT = False\n",
    "      normalized.append(token)\n",
    "      continue\n",
    "\n",
    "    if token in STOPWORDS_EN:\n",
    "      continue\n",
    "\n",
    "    token = lemmatize(token)\n",
    "    if prefix_NOT:\n",
    "      token = f\"NOT_{token}\"\n",
    "    normalized.append(token)\n",
    "\n",
    "  return normalized"
   ],
   "metadata": {
    "id": "qUxrL_Dn069O",
    "executionInfo": {
     "status": "ok",
     "timestamp": 1749482525367,
     "user_tz": -120,
     "elapsed": 11,
     "user": {
      "displayName": "Annalaura Miglino",
      "userId": "03808724092990969006"
     }
    }
   },
   "execution_count": 13,
   "outputs": []
  },
  {
   "cell_type": "code",
   "source": [
    "df['text_tokens'] = df['text'].progress_apply(lambda x: normalize_text(x, LEMMATIZER, \"lemmatize\"))\n",
    "\n",
    "df = df[df['text_tokens'].apply(lambda tokens: len(tokens) > 0)].copy()\n",
    "df.reset_index(drop=True, inplace=True)"
   ],
   "metadata": {
    "colab": {
     "base_uri": "https://localhost:8080/"
    },
    "id": "aTWjz1iq1EP4",
    "outputId": "8c4b4fd9-b36f-428c-ffb5-cb15b9f9d17b",
    "executionInfo": {
     "status": "ok",
     "timestamp": 1749482717240,
     "user_tz": -120,
     "elapsed": 191871,
     "user": {
      "displayName": "Annalaura Miglino",
      "userId": "03808724092990969006"
     }
    }
   },
   "execution_count": 14,
   "outputs": [
    {
     "output_type": "stream",
     "name": "stderr",
     "text": [
      "100%|██████████| 854577/854577 [03:09<00:00, 4510.08it/s]\n"
     ]
    }
   ]
  },
  {
   "cell_type": "code",
   "source": [
    "df_val['text_tokens'] = df_val['text'].progress_apply(lambda x: normalize_text(x, LEMMATIZER, \"lemmatize\"))\n",
    "df_test['text_tokens']= df_test['text'].progress_apply(lambda x: normalize_text(x, LEMMATIZER, \"lemmatize\"))"
   ],
   "metadata": {
    "id": "Dlmy9dkA1oX3",
    "colab": {
     "base_uri": "https://localhost:8080/"
    },
    "executionInfo": {
     "status": "ok",
     "timestamp": 1749482798215,
     "user_tz": -120,
     "elapsed": 80972,
     "user": {
      "displayName": "Annalaura Miglino",
      "userId": "03808724092990969006"
     }
    },
    "outputId": "56f19678-52b1-46ac-e32a-69fe9172047b"
   },
   "execution_count": 15,
   "outputs": [
    {
     "output_type": "stream",
     "name": "stderr",
     "text": [
      "100%|██████████| 183124/183124 [00:40<00:00, 4577.66it/s]\n",
      "100%|██████████| 183123/183123 [00:40<00:00, 4472.29it/s]\n"
     ]
    }
   ]
  },
  {
   "cell_type": "code",
   "source": [
    "numeric_features = ['length', 'topicWordsCount', 'positiveCount', 'negativeCount', 'hasNo'] \\\n",
    "                 + [f'embed_{i}' for i in range(384)]\n",
    "numeric_transformer = StandardScaler()\n",
    "\n",
    "categorical_features = ['topic']\n",
    "categorical_transformer = OneHotEncoder(handle_unknown='ignore')\n",
    "\n",
    "text_features = 'text_tokens'\n",
    "text_transformer = CountVectorizer(\n",
    "  analyzer=lambda tokens: tokens,\n",
    "  lowercase=False,\n",
    "  token_pattern=None\n",
    ")\n",
    "\n",
    "preprocessor = ColumnTransformer(\n",
    "  transformers=[\n",
    "      ('num', numeric_transformer, numeric_features),\n",
    "      ('cat', categorical_transformer, categorical_features),\n",
    "      ('txt', text_transformer, text_features),\n",
    "  ],\n",
    "  remainder='drop'\n",
    ")"
   ],
   "metadata": {
    "id": "o3G5ACLD1XNa",
    "executionInfo": {
     "status": "ok",
     "timestamp": 1749482798263,
     "user_tz": -120,
     "elapsed": 45,
     "user": {
      "displayName": "Annalaura Miglino",
      "userId": "03808724092990969006"
     }
    }
   },
   "execution_count": 16,
   "outputs": []
  },
  {
   "cell_type": "markdown",
   "source": [
    "##Train/Validation/Test split\n",
    "\n"
   ],
   "metadata": {
    "id": "GgGFZ8p1aO15"
   }
  },
  {
   "cell_type": "code",
   "source": [
    "from sklearn.model_selection import train_test_split\n",
    "\n",
    "def sample_balanced_df(df, label_col, sample_size, random_state=42):\n",
    "    \"\"\"\n",
    "    Campiona un sottoinsieme stratificato da qualsiasi DataFrame (train, val o test).\n",
    "\n",
    "    Args:\n",
    "        df (pd.DataFrame): Il dataset di input (train, val o test).\n",
    "        label_col (str): Colonna target su cui fare stratificazione.\n",
    "        sample_size (int): Numero di istanze desiderate.\n",
    "        random_state (int): Seed per riproducibilità.\n",
    "\n",
    "    Returns:\n",
    "        pd.DataFrame: Campione stratificato del DataFrame.\n",
    "    \"\"\"\n",
    "    if sample_size >= len(df):\n",
    "        print(f\"Sample size ({sample_size}) >= dataset size ({len(df)}). Nessun campionamento.\")\n",
    "        return df.copy()\n",
    "\n",
    "    df_sampled, _ = train_test_split(\n",
    "        df,\n",
    "        train_size=sample_size,\n",
    "        stratify=df[label_col],\n",
    "        random_state=random_state\n",
    "    )\n",
    "    return df_sampled\n"
   ],
   "metadata": {
    "id": "eWBCiPb9-VaS",
    "executionInfo": {
     "status": "ok",
     "timestamp": 1749482798268,
     "user_tz": -120,
     "elapsed": 2,
     "user": {
      "displayName": "Annalaura Miglino",
      "userId": "03808724092990969006"
     }
    }
   },
   "execution_count": 17,
   "outputs": []
  },
  {
   "cell_type": "code",
   "source": [
    "df_train = sample_balanced_df(df, label_col='sentiment', sample_size=500000)"
   ],
   "metadata": {
    "id": "gRHqs4A1-T7B",
    "executionInfo": {
     "status": "ok",
     "timestamp": 1749482802312,
     "user_tz": -120,
     "elapsed": 4042,
     "user": {
      "displayName": "Annalaura Miglino",
      "userId": "03808724092990969006"
     }
    }
   },
   "execution_count": 18,
   "outputs": []
  },
  {
   "cell_type": "code",
   "source": [
    "df_val   = sample_balanced_df(df_val, label_col='sentiment', sample_size=10000)\n",
    "df_test  = sample_balanced_df(df_test, label_col='sentiment', sample_size=10000)"
   ],
   "metadata": {
    "id": "LBw1gg5F-zH4",
    "executionInfo": {
     "status": "ok",
     "timestamp": 1749482803756,
     "user_tz": -120,
     "elapsed": 1437,
     "user": {
      "displayName": "Annalaura Miglino",
      "userId": "03808724092990969006"
     }
    }
   },
   "execution_count": 19,
   "outputs": []
  },
  {
   "cell_type": "code",
   "source": [
    "X_train = df_train.drop(columns=\"sentiment\")\n",
    "y_train = df_train[\"sentiment\"]\n",
    "\n",
    "X_val = df_val.drop(columns=\"sentiment\")\n",
    "y_val = df_val[\"sentiment\"]\n",
    "\n",
    "X_test = df_test.drop(columns=\"sentiment\")\n",
    "y_test = df_test[\"sentiment\"]\n",
    "\n",
    "print(f\"Shape X_train: {X_train.shape}, Shape X_val: {X_val.shape}, Shape X_test: {X_test.shape}\")"
   ],
   "metadata": {
    "id": "4eZ-z3WeaU0Q",
    "colab": {
     "base_uri": "https://localhost:8080/"
    },
    "executionInfo": {
     "status": "ok",
     "timestamp": 1749482804394,
     "user_tz": -120,
     "elapsed": 641,
     "user": {
      "displayName": "Annalaura Miglino",
      "userId": "03808724092990969006"
     }
    },
    "outputId": "fa636248-c76b-4c8a-ec74-35a28fcc9184"
   },
   "execution_count": 20,
   "outputs": [
    {
     "output_type": "stream",
     "name": "stdout",
     "text": [
      "Shape X_train: (500000, 393), Shape X_val: (10000, 393), Shape X_test: (10000, 393)\n"
     ]
    }
   ]
  },
  {
   "cell_type": "code",
   "source": [
    "for X in [X_train, X_val, X_test]:\n",
    "    X.drop(columns=['text'], inplace=True)\n",
    "\n",
    "# One-Hot Encoding per la colonna 'topic'\n",
    "X_train = pd.get_dummies(X_train, columns=['topic'])\n",
    "X_val   = pd.get_dummies(X_val, columns=['topic'])\n",
    "X_test  = pd.get_dummies(X_test, columns=['topic'])\n",
    "\n",
    "X_val  = X_val.reindex(columns=X_train.columns, fill_value=0)\n",
    "X_test = X_test.reindex(columns=X_train.columns, fill_value=0)"
   ],
   "metadata": {
    "id": "Cme5Cus1znot",
    "executionInfo": {
     "status": "ok",
     "timestamp": 1749482806332,
     "user_tz": -120,
     "elapsed": 1935,
     "user": {
      "displayName": "Annalaura Miglino",
      "userId": "03808724092990969006"
     }
    }
   },
   "execution_count": 21,
   "outputs": []
  },
  {
   "cell_type": "code",
   "source": [
    "X_train.drop(columns=['topicWords'], inplace=True)\n",
    "X_val.drop(columns=['topicWords'], inplace=True)\n",
    "X_test.drop(columns=['topicWords'], inplace=True)"
   ],
   "metadata": {
    "id": "Z122YCm42zd7",
    "executionInfo": {
     "status": "ok",
     "timestamp": 1749482806959,
     "user_tz": -120,
     "elapsed": 624,
     "user": {
      "displayName": "Annalaura Miglino",
      "userId": "03808724092990969006"
     }
    }
   },
   "execution_count": 22,
   "outputs": []
  },
  {
   "cell_type": "code",
   "source": [
    "for col in X_train.columns:\n",
    "    if X_train[col].apply(lambda x: isinstance(x, (list, np.ndarray))).any():\n",
    "        print(f\"Colonna con liste: {col}\")"
   ],
   "metadata": {
    "colab": {
     "base_uri": "https://localhost:8080/"
    },
    "id": "WTbY5M8c3q8W",
    "executionInfo": {
     "status": "ok",
     "timestamp": 1749482871078,
     "user_tz": -120,
     "elapsed": 64116,
     "user": {
      "displayName": "Annalaura Miglino",
      "userId": "03808724092990969006"
     }
    },
    "outputId": "eb629d3f-e237-4217-b4ea-0318a490945b"
   },
   "execution_count": 23,
   "outputs": [
    {
     "output_type": "stream",
     "name": "stdout",
     "text": [
      "Colonna con liste: text_tokens\n"
     ]
    }
   ]
  },
  {
   "cell_type": "code",
   "source": [
    "X_train['text_tokens_len'] = X_train['text_tokens'].apply(len)\n",
    "X_val['text_tokens_len'] = X_val['text_tokens'].apply(len)\n",
    "X_test['text_tokens_len'] = X_test['text_tokens'].apply(len)\n",
    "\n",
    "X_train = X_train.drop(columns=['text_tokens'])\n",
    "X_val = X_val.drop(columns=['text_tokens'])\n",
    "X_test = X_test.drop(columns=['text_tokens'])"
   ],
   "metadata": {
    "id": "lIF5r6Ja4EYV",
    "executionInfo": {
     "status": "ok",
     "timestamp": 1749482871910,
     "user_tz": -120,
     "elapsed": 829,
     "user": {
      "displayName": "Annalaura Miglino",
      "userId": "03808724092990969006"
     }
    }
   },
   "execution_count": 24,
   "outputs": []
  },
  {
   "cell_type": "markdown",
   "source": [
    "## Definizione e addestramento Random Forest"
   ],
   "metadata": {
    "id": "IYO2jhuvaz6S"
   }
  },
  {
   "cell_type": "code",
   "source": [
    "skf = StratifiedKFold(n_splits=10, shuffle=True, random_state=42)\n",
    "\n",
    "accuracies = []\n",
    "precisions = []\n",
    "recalls = []\n",
    "f1_scores = []\n",
    "\n",
    "print(\"Training con cross-validation...\")\n",
    "\n",
    "for train_index, val_index in tqdm(skf.split(X_train, y_train), total=skf.get_n_splits()):\n",
    "    X_cv_train, X_cv_val = X_train.iloc[train_index], X_train.iloc[val_index]\n",
    "    y_cv_train, y_cv_val = y_train.iloc[train_index], y_train.iloc[val_index]\n",
    "\n",
    "    model = RandomForestClassifier(random_state=42)\n",
    "    model.fit(X_cv_train, y_cv_train)\n",
    "    y_pred = model.predict(X_cv_val)\n",
    "\n",
    "    accuracies.append(accuracy_score(y_cv_val, y_pred))\n",
    "    precisions.append(precision_score(y_cv_val, y_pred, average='weighted', zero_division=0))\n",
    "    recalls.append(recall_score(y_cv_val, y_pred, average='weighted'))\n",
    "    f1_scores.append(f1_score(y_cv_val, y_pred, average='weighted'))\n",
    "\n",
    "print(\"\\nCross-validation conclusa.\")\n",
    "print(f\"Accuracy media:  {np.mean(accuracies):.4f}\")\n",
    "print(f\"Precision media: {np.mean(precisions):.4f}\")\n",
    "print(f\"Recall media:    {np.mean(recalls):.4f}\")\n",
    "print(f\"F1-score media:  {np.mean(f1_scores):.4f}\")"
   ],
   "metadata": {
    "colab": {
     "base_uri": "https://localhost:8080/"
    },
    "id": "Pjg9upKAwoFP",
    "executionInfo": {
     "status": "ok",
     "timestamp": 1749501042064,
     "user_tz": -120,
     "elapsed": 18170138,
     "user": {
      "displayName": "Annalaura Miglino",
      "userId": "03808724092990969006"
     }
    },
    "outputId": "a8ff7373-c185-4e22-cda8-80b94b36b061"
   },
   "execution_count": 25,
   "outputs": [
    {
     "output_type": "stream",
     "name": "stdout",
     "text": [
      "Training con cross-validation...\n"
     ]
    },
    {
     "output_type": "stream",
     "name": "stderr",
     "text": [
      "100%|██████████| 10/10 [5:02:50<00:00, 1817.10s/it]"
     ]
    },
    {
     "output_type": "stream",
     "name": "stdout",
     "text": [
      "\n",
      "Cross-validation conclusa.\n",
      "Accuracy media:  0.6014\n",
      "Precision media: 0.6050\n",
      "Recall media:    0.6014\n",
      "F1-score media:  0.5965\n"
     ]
    },
    {
     "output_type": "stream",
     "name": "stderr",
     "text": [
      "\n"
     ]
    }
   ]
  },
  {
   "cell_type": "code",
   "source": [
    "# Valutazione sul validation set\n",
    "final_model = RandomForestClassifier(random_state=42)\n",
    "final_model.fit(X_train, y_train)\n",
    "val_preds = final_model.predict(X_val)\n",
    "\n",
    "print(\"\\n🎯 Risultati sul validation set:\")\n",
    "print(f\"Accuracy:  {accuracy_score(y_val, val_preds):.4f}\")\n",
    "print(f\"Precision: {precision_score(y_val, val_preds, average='weighted'):.4f}\")\n",
    "print(f\"Recall:    {recall_score(y_val, val_preds, average='weighted'):.4f}\")\n",
    "print(f\"F1 Score:  {f1_score(y_val, val_preds, average='weighted'):.4f}\")\n",
    "\n",
    "cm = confusion_matrix(y_val, val_preds)\n",
    "plt.figure(figsize=(8, 6))\n",
    "sns.heatmap(cm, annot=True, fmt='d', cmap='Blues')\n",
    "plt.title('Matrice di Confusione - Validation Set')\n",
    "plt.xlabel('Predicted')\n",
    "plt.ylabel('True')\n",
    "plt.show()"
   ],
   "metadata": {
    "colab": {
     "base_uri": "https://localhost:8080/",
     "height": 668
    },
    "id": "R2g4cwfGwzN9",
    "executionInfo": {
     "status": "ok",
     "timestamp": 1749503134024,
     "user_tz": -120,
     "elapsed": 2004068,
     "user": {
      "displayName": "Annalaura Miglino",
      "userId": "03808724092990969006"
     }
    },
    "outputId": "b1b32b11-6f41-4ba3-e950-492139e458ab"
   },
   "execution_count": 26,
   "outputs": [
    {
     "output_type": "stream",
     "name": "stdout",
     "text": [
      "\n",
      "🎯 Risultati sul validation set:\n",
      "Accuracy:  0.6028\n",
      "Precision: 0.6055\n",
      "Recall:    0.6028\n",
      "F1 Score:  0.5974\n"
     ]
    },
    {
     "output_type": "display_data",
     "data": {
      "text/plain": [
       "<Figure size 800x600 with 2 Axes>"
      ],
      "image/png": "[encoded data removed]"
     },
     "metadata": {}
    }
   ]
  },
  {
   "cell_type": "code",
   "source": [
    "# Valutazione finale sul test set\n",
    "test_preds = final_model.predict(X_test)\n",
    "\n",
    "print(\"\\n📊 Risultati sul test set:\")\n",
    "print(f\"Accuracy:  {accuracy_score(y_test, test_preds):.4f}\")\n",
    "print(f\"Precision: {precision_score(y_test, test_preds, average='weighted'):.4f}\")\n",
    "print(f\"Recall:    {recall_score(y_test, test_preds, average='weighted'):.4f}\")\n",
    "print(f\"F1 Score:  {f1_score(y_test, test_preds, average='weighted'):.4f}\")\n",
    "\n",
    "cm_test = confusion_matrix(y_test, test_preds)\n",
    "plt.figure(figsize=(8, 6))\n",
    "sns.heatmap(cm_test, annot=True, fmt='d', cmap='Purples')\n",
    "plt.title('Matrice di Confusione - Test Set')\n",
    "plt.xlabel('Predicted')\n",
    "plt.ylabel('True')\n",
    "plt.show()"
   ],
   "metadata": {
    "colab": {
     "base_uri": "https://localhost:8080/",
     "height": 668
    },
    "id": "nUsGlplLw8Ez",
    "executionInfo": {
     "status": "ok",
     "timestamp": 1749503135100,
     "user_tz": -120,
     "elapsed": 1072,
     "user": {
      "displayName": "Annalaura Miglino",
      "userId": "03808724092990969006"
     }
    },
    "outputId": "86b48d96-c3d7-45a4-b675-ed8e2b8e7bec"
   },
   "execution_count": 27,
   "outputs": [
    {
     "output_type": "stream",
     "name": "stdout",
     "text": [
      "\n",
      "📊 Risultati sul test set:\n",
      "Accuracy:  0.6041\n",
      "Precision: 0.6073\n",
      "Recall:    0.6041\n",
      "F1 Score:  0.5995\n"
     ]
    },
    {
     "output_type": "display_data",
     "data": {
      "text/plain": [
       "<Figure size 800x600 with 2 Axes>"
      ],
      "image/png": "[encoded data removed]"
     },
     "metadata": {}
    }
   ]
  },
  {
   "cell_type": "markdown",
   "source": [
    "## Salvataggio modello"
   ],
   "metadata": {
    "id": "vx_41XXMxIbj"
   }
  },
  {
   "cell_type": "code",
   "source": [
    "model_path = '/content/drive/MyDrive/Progetto_NLP/modelli/final_model_RandomForest.joblib'\n",
    "joblib.dump(final_model, model_path)\n",
    "\n",
    "print(f\"Modello salvato in: {model_path}\")"
   ],
   "metadata": {
    "colab": {
     "base_uri": "https://localhost:8080/"
    },
    "id": "mAHFn6t-xLQS",
    "executionInfo": {
     "status": "ok",
     "timestamp": 1749503137211,
     "user_tz": -120,
     "elapsed": 2108,
     "user": {
      "displayName": "Annalaura Miglino",
      "userId": "03808724092990969006"
     }
    },
    "outputId": "62398985-3cf5-455e-e0ef-e706a1ab8ed1"
   },
   "execution_count": 28,
   "outputs": [
    {
     "output_type": "stream",
     "name": "stdout",
     "text": [
      "Modello salvato in: /content/drive/MyDrive/Progetto_NLP/modelli/final_model_RandomForest.joblib\n"
     ]
    }
   ]
  }
 ]
}
