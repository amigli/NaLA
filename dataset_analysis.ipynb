{
 "cells": [
  {
   "metadata": {},
   "cell_type": "markdown",
   "source": "# Dataset Statistics",
   "id": "2cc44eb9970b9e8f"
  },
  {
   "metadata": {
    "ExecuteTime": {
     "end_time": "2025-06-11T08:38:08.661274Z",
     "start_time": "2025-06-11T08:38:06.891983Z"
    }
   },
   "cell_type": "code",
   "source": [
    "import pandas as pd\n",
    "from tqdm import tqdm\n",
    "\n",
    "tqdm.pandas()\n",
    "\n",
    "df = pd.read_csv(\"data/fullDataset.csv\", lineterminator=\"\\n\")\n",
    "df.head()"
   ],
   "id": "b1d3235533394185",
   "outputs": [
    {
     "data": {
      "text/plain": [
       "                                                text      sentiment  \\\n",
       "0                       I posted this 100 years ago!  Very Positive   \n",
       "1                                               Nope  Very Negative   \n",
       "2                   lmfao I can't believe this works  Very Negative   \n",
       "3  I had to beat an old lady with a stick to get ...  Very Negative   \n",
       "4  I had to beat an old lady with a stick to get ...  Very Negative   \n",
       "\n",
       "                topic  \n",
       "0        Social Media  \n",
       "1            Politics  \n",
       "2   Gadgets & Devices  \n",
       "3  General Activities  \n",
       "4  General Activities  "
      ],
      "text/html": [
       "<div>\n",
       "<style scoped>\n",
       "    .dataframe tbody tr th:only-of-type {\n",
       "        vertical-align: middle;\n",
       "    }\n",
       "\n",
       "    .dataframe tbody tr th {\n",
       "        vertical-align: top;\n",
       "    }\n",
       "\n",
       "    .dataframe thead th {\n",
       "        text-align: right;\n",
       "    }\n",
       "</style>\n",
       "<table border=\"1\" class=\"dataframe\">\n",
       "  <thead>\n",
       "    <tr style=\"text-align: right;\">\n",
       "      <th></th>\n",
       "      <th>text</th>\n",
       "      <th>sentiment</th>\n",
       "      <th>topic</th>\n",
       "    </tr>\n",
       "  </thead>\n",
       "  <tbody>\n",
       "    <tr>\n",
       "      <th>0</th>\n",
       "      <td>I posted this 100 years ago!</td>\n",
       "      <td>Very Positive</td>\n",
       "      <td>Social Media</td>\n",
       "    </tr>\n",
       "    <tr>\n",
       "      <th>1</th>\n",
       "      <td>Nope</td>\n",
       "      <td>Very Negative</td>\n",
       "      <td>Politics</td>\n",
       "    </tr>\n",
       "    <tr>\n",
       "      <th>2</th>\n",
       "      <td>lmfao I can't believe this works</td>\n",
       "      <td>Very Negative</td>\n",
       "      <td>Gadgets &amp; Devices</td>\n",
       "    </tr>\n",
       "    <tr>\n",
       "      <th>3</th>\n",
       "      <td>I had to beat an old lady with a stick to get ...</td>\n",
       "      <td>Very Negative</td>\n",
       "      <td>General Activities</td>\n",
       "    </tr>\n",
       "    <tr>\n",
       "      <th>4</th>\n",
       "      <td>I had to beat an old lady with a stick to get ...</td>\n",
       "      <td>Very Negative</td>\n",
       "      <td>General Activities</td>\n",
       "    </tr>\n",
       "  </tbody>\n",
       "</table>\n",
       "</div>"
      ]
     },
     "execution_count": 2,
     "metadata": {},
     "output_type": "execute_result"
    }
   ],
   "execution_count": 2
  },
  {
   "metadata": {
    "ExecuteTime": {
     "end_time": "2025-06-11T08:38:08.844048Z",
     "start_time": "2025-06-11T08:38:08.662062Z"
    }
   },
   "cell_type": "code",
   "source": "df.text.str.len().max()",
   "id": "b0cc12facc49b227",
   "outputs": [
    {
     "data": {
      "text/plain": [
       "np.int64(354)"
      ]
     },
     "execution_count": 3,
     "metadata": {},
     "output_type": "execute_result"
    }
   ],
   "execution_count": 3
  },
  {
   "metadata": {
    "ExecuteTime": {
     "end_time": "2025-06-11T08:38:08.887528Z",
     "start_time": "2025-06-11T08:38:08.844890Z"
    }
   },
   "cell_type": "code",
   "source": [
    "SENTIMENT_LABELS = list(df[\"sentiment\"].unique())\n",
    "SENTIMENT_LABELS"
   ],
   "id": "da2649c835b6d8e9",
   "outputs": [
    {
     "data": {
      "text/plain": [
       "['Very Positive', 'Very Negative', 'Neutral', 'Positive', 'Negative']"
      ]
     },
     "execution_count": 4,
     "metadata": {},
     "output_type": "execute_result"
    }
   ],
   "execution_count": 4
  },
  {
   "metadata": {
    "ExecuteTime": {
     "end_time": "2025-06-11T08:38:09.183903Z",
     "start_time": "2025-06-11T08:38:08.888312Z"
    }
   },
   "cell_type": "code",
   "source": [
    "from utils.pre_processing import get_sentiment_frequency, get_sentiment_distribution\n",
    "\n",
    "SENTIMENT_LABELS = [x.lower() for x in SENTIMENT_LABELS]\n",
    "\n",
    "pos_sentiment = get_sentiment_frequency(df, \"Positive\", sentiment_labels=SENTIMENT_LABELS)\n",
    "neg_sentiment = get_sentiment_frequency(df, \"Negative\", sentiment_labels=SENTIMENT_LABELS)\n",
    "very_pos_sentiment = get_sentiment_frequency(df, \"Very Positive\", sentiment_labels=SENTIMENT_LABELS)\n",
    "very_neg_sentiment = get_sentiment_frequency(df, \"Very Negative\", sentiment_labels=SENTIMENT_LABELS)\n",
    "neu_sentiment = get_sentiment_frequency(df, \"Neutral\", sentiment_labels=SENTIMENT_LABELS)\n",
    "\n",
    "total_posts = len(df)\n",
    "\n",
    "print(f\"{total_posts} total posts\")\n",
    "print(f\"Positive sentiment: {pos_sentiment} - {pos_sentiment * 100 / total_posts:.2f}%\")\n",
    "print(f\"Very positive sentiment: {very_pos_sentiment} - {very_pos_sentiment * 100 / total_posts:.2f}%\")\n",
    "print(f\"Negative sentiment: {very_neg_sentiment} - {neg_sentiment * 100 / total_posts:.2f}%\")\n",
    "print(f\"Very negative sentiment: {very_pos_sentiment} - {very_neg_sentiment * 100 / total_posts:.2f}%\")\n",
    "print(f\"Neural sentiment: {neu_sentiment} - {neu_sentiment * 100 / total_posts:.2f}%\")"
   ],
   "id": "1b943e8a3b20baf4",
   "outputs": [
    {
     "name": "stdout",
     "output_type": "stream",
     "text": [
      "1220825 total posts\n",
      "Positive sentiment: 120599 - 9.88%\n",
      "Very positive sentiment: 349487 - 28.63%\n",
      "Negative sentiment: 215956 - 7.34%\n",
      "Very negative sentiment: 349487 - 17.69%\n",
      "Neural sentiment: 445166 - 36.46%\n"
     ]
    }
   ],
   "execution_count": 5
  },
  {
   "metadata": {
    "ExecuteTime": {
     "end_time": "2025-06-11T08:38:09.280384Z",
     "start_time": "2025-06-11T08:38:09.184794Z"
    }
   },
   "cell_type": "code",
   "source": [
    "sentiment_counts = {\n",
    "    \"Positive\": pos_sentiment,\n",
    "    \"Negative\": neg_sentiment,\n",
    "    \"Very Positive\": very_pos_sentiment,\n",
    "    \"Very Negative\": very_neg_sentiment,\n",
    "    \"Neutral\": neu_sentiment\n",
    "}\n",
    "get_sentiment_distribution(df, sentiment_counts)"
   ],
   "id": "df63c3013701e78f",
   "outputs": [
    {
     "data": {
      "text/plain": [
       "<Figure size 1000x600 with 1 Axes>"
      ],
      "image/png": "[encoded data removed]"
     },
     "metadata": {},
     "output_type": "display_data"
    }
   ],
   "execution_count": 6
  },
  {
   "metadata": {
    "ExecuteTime": {
     "end_time": "2025-06-11T08:38:09.576255Z",
     "start_time": "2025-06-11T08:38:09.282748Z"
    }
   },
   "cell_type": "code",
   "source": [
    "# aggregate sentiments to deal with class imbalance\n",
    "df[\"sentiment\"] = df[\"sentiment\"].replace({\n",
    "    \"Very Positive\": \"Positive\",\n",
    "    \"Very Negative\": \"Negative\"\n",
    "})\n",
    "\n",
    "pos_sentiment = get_sentiment_frequency(df, \"Positive\")\n",
    "neg_sentiment = get_sentiment_frequency(df, \"Negative\")\n",
    "\n",
    "sentiment_counts = {\n",
    "    \"Positive\": pos_sentiment,\n",
    "    \"Negative\": neg_sentiment,\n",
    "    \"Neutral\": neu_sentiment\n",
    "}\n",
    "\n",
    "print(f\"Positive sentiment: {pos_sentiment} - {pos_sentiment * 100 / total_posts:.2f}%\")\n",
    "print(f\"Negative sentiment: {neg_sentiment} - {neg_sentiment * 100 / total_posts:.2f}%\")\n",
    "print(f\"Neutral sentiment: {neu_sentiment} - {neu_sentiment * 100 / total_posts:.2f}%\")\n",
    "\n",
    "get_sentiment_distribution(df, sentiment_counts)"
   ],
   "id": "5ef75348115f1d11",
   "outputs": [
    {
     "name": "stdout",
     "output_type": "stream",
     "text": [
      "Positive sentiment: 470086 - 38.51%\n",
      "Negative sentiment: 305573 - 25.03%\n",
      "Neutral sentiment: 445166 - 36.46%\n"
     ]
    },
    {
     "data": {
      "text/plain": [
       "<Figure size 1000x600 with 1 Axes>"
      ],
      "image/png": "[encoded data removed]"
     },
     "metadata": {},
     "output_type": "display_data"
    }
   ],
   "execution_count": 7
  },
  {
   "metadata": {
    "ExecuteTime": {
     "end_time": "2025-06-11T08:38:11.078326Z",
     "start_time": "2025-06-11T08:38:09.577031Z"
    }
   },
   "cell_type": "code",
   "source": [
    "# split datasets\n",
    "from sklearn.model_selection import train_test_split\n",
    "from utils.constants import SEED\n",
    "\n",
    "# First split: train (70%) and temp (30%)\n",
    "X_temp = df.drop(columns=\"sentiment\")\n",
    "y_temp = df[\"sentiment\"]\n",
    "\n",
    "X_train, X_temp, y_train, y_temp = train_test_split(\n",
    "    X_temp,\n",
    "    y_temp,\n",
    "    train_size=0.7,\n",
    "    random_state=SEED,\n",
    "    stratify=y_temp\n",
    ")\n",
    "\n",
    "# Second split: validation (15%) and test (15%) from temp\n",
    "X_val, X_test, y_val, y_test = train_test_split(\n",
    "    X_temp,\n",
    "    y_temp,\n",
    "    test_size=0.5,  # 50% of the remaining 30% = 15% of total\n",
    "    random_state=SEED,\n",
    "    stratify=y_temp\n",
    ")\n",
    "\n",
    "print(\"Original set distribution:\")\n",
    "print(df[\"sentiment\"].value_counts(normalize=True))\n",
    "print(\"=========================\")\n",
    "# Check label distributions\n",
    "print(\"Train set distribution:\")\n",
    "print(y_train.value_counts(normalize=True))\n",
    "print(\"=========================\")\n",
    "print(\"\\nValidation set distribution:\")\n",
    "print(y_val.value_counts(normalize=True))\n",
    "print(\"=========================\")\n",
    "print(\"\\nTest set distribution:\")\n",
    "print(y_test.value_counts(normalize=True))"
   ],
   "id": "fe0f4f9465e84aaa",
   "outputs": [
    {
     "name": "stdout",
     "output_type": "stream",
     "text": [
      "Original set distribution:\n",
      "sentiment\n",
      "Positive    0.385056\n",
      "Neutral     0.364644\n",
      "Negative    0.250300\n",
      "Name: proportion, dtype: float64\n",
      "=========================\n",
      "Train set distribution:\n",
      "sentiment\n",
      "Positive    0.385056\n",
      "Neutral     0.364644\n",
      "Negative    0.250300\n",
      "Name: proportion, dtype: float64\n",
      "=========================\n",
      "\n",
      "Validation set distribution:\n",
      "sentiment\n",
      "Positive    0.385056\n",
      "Neutral     0.364644\n",
      "Negative    0.250300\n",
      "Name: proportion, dtype: float64\n",
      "=========================\n",
      "\n",
      "Test set distribution:\n",
      "sentiment\n",
      "Positive    0.385056\n",
      "Neutral     0.364644\n",
      "Negative    0.250300\n",
      "Name: proportion, dtype: float64\n"
     ]
    }
   ],
   "execution_count": 8
  },
  {
   "metadata": {
    "ExecuteTime": {
     "end_time": "2025-06-11T08:38:13.340948Z",
     "start_time": "2025-06-11T08:38:11.079287Z"
    }
   },
   "cell_type": "code",
   "source": [
    "train_df = X_train.copy()\n",
    "train_df[\"sentiment\"] = y_train\n",
    "\n",
    "val_df = X_val.copy()\n",
    "val_df[\"sentiment\"] = y_val\n",
    "\n",
    "test_df = X_test.copy()\n",
    "test_df[\"sentiment\"] = y_test\n",
    "\n",
    "# Save to CSV\n",
    "train_df.to_csv(\"./data/train.csv\", index=False)\n",
    "val_df.to_csv(\"./data/validation.csv\", index=False)\n",
    "test_df.to_csv(\"./data/test.csv\", index=False)"
   ],
   "id": "664d30aada4fa563",
   "outputs": [],
   "execution_count": 9
  }
 ],
 "metadata": {
  "kernelspec": {
   "display_name": "Python 3",
   "language": "python",
   "name": "python3"
  },
  "language_info": {
   "codemirror_mode": {
    "name": "ipython",
    "version": 2
   },
   "file_extension": ".py",
   "mimetype": "text/x-python",
   "name": "python",
   "nbconvert_exporter": "python",
   "pygments_lexer": "ipython2",
   "version": "2.7.6"
  }
 },
 "nbformat": 4,
 "nbformat_minor": 5
}
